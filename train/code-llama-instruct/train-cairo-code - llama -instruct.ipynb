{
 "cells": [
  {
   "cell_type": "markdown",
   "metadata": {},
   "source": [
    "If in VSCODE:"
   ]
  },
  {
   "cell_type": "code",
   "execution_count": 1,
   "metadata": {},
   "outputs": [
    {
     "name": "stdout",
     "output_type": "stream",
     "text": [
      "2.1.0+cu121\n"
     ]
    },
    {
     "data": {
      "text/plain": [
       "True"
      ]
     },
     "execution_count": 1,
     "metadata": {},
     "output_type": "execute_result"
    }
   ],
   "source": [
    "# check if Torch supports CUDA\n",
    "import torch\n",
    "print(torch.__version__)\n",
    "torch.cuda.is_available()\n"
   ]
  },
  {
   "cell_type": "markdown",
   "metadata": {},
   "source": [
    "Hyper params"
   ]
  },
  {
   "cell_type": "code",
   "execution_count": 1,
   "metadata": {},
   "outputs": [],
   "source": [
    "# The model that you want to train from the Hugging Face hub\n",
    "model_name = \"codellama/CodeLlama-7b-Instruct-hf\"\n",
    "\n",
    "# The instruction dataset to use\n",
    "dataset_name = \"StarkWizard/cairo-instruct\"\n",
    "\n",
    "# Fine-tuned model name\n",
    "new_model = \"StarkWizard/llama-2-7b-cairo-trained-PEFT\"\n",
    "\n",
    "\n",
    "import os\n",
    "os.environ[\"TOKENIZERS_PARALLELISM\"] = \"false\"\n",
    "\n",
    "\n",
    "\n",
    "nb_epochs = 3"
   ]
  },
  {
   "cell_type": "code",
   "execution_count": 2,
   "metadata": {},
   "outputs": [
    {
     "name": "stderr",
     "output_type": "stream",
     "text": [
      "Failed to detect the name of this notebook, you can set it manually with the WANDB_NOTEBOOK_NAME environment variable to enable code saving.\n",
      "\u001b[34m\u001b[1mwandb\u001b[0m: Currently logged in as: \u001b[33mpierre-emmanuel-chaut\u001b[0m. Use \u001b[1m`wandb login --relogin`\u001b[0m to force relogin\n"
     ]
    },
    {
     "data": {
      "text/html": [
       "Tracking run with wandb version 0.15.12"
      ],
      "text/plain": [
       "<IPython.core.display.HTML object>"
      ]
     },
     "metadata": {},
     "output_type": "display_data"
    },
    {
     "data": {
      "text/html": [
       "Run data is saved locally in <code>/home/pechaut/prj/cairo-llm/train/code-llama-instruct/wandb/run-20231101_072959-a78gnjqe</code>"
      ],
      "text/plain": [
       "<IPython.core.display.HTML object>"
      ]
     },
     "metadata": {},
     "output_type": "display_data"
    },
    {
     "data": {
      "text/html": [
       "Syncing run <strong><a href='https://wandb.ai/pierre-emmanuel-chaut/codellama-cairo/runs/a78gnjqe' target=\"_blank\">pious-feather-16</a></strong> to <a href='https://wandb.ai/pierre-emmanuel-chaut/codellama-cairo' target=\"_blank\">Weights & Biases</a> (<a href='https://wandb.me/run' target=\"_blank\">docs</a>)<br/>"
      ],
      "text/plain": [
       "<IPython.core.display.HTML object>"
      ]
     },
     "metadata": {},
     "output_type": "display_data"
    },
    {
     "data": {
      "text/html": [
       " View project at <a href='https://wandb.ai/pierre-emmanuel-chaut/codellama-cairo' target=\"_blank\">https://wandb.ai/pierre-emmanuel-chaut/codellama-cairo</a>"
      ],
      "text/plain": [
       "<IPython.core.display.HTML object>"
      ]
     },
     "metadata": {},
     "output_type": "display_data"
    },
    {
     "data": {
      "text/html": [
       " View run at <a href='https://wandb.ai/pierre-emmanuel-chaut/codellama-cairo/runs/a78gnjqe' target=\"_blank\">https://wandb.ai/pierre-emmanuel-chaut/codellama-cairo/runs/a78gnjqe</a>"
      ],
      "text/plain": [
       "<IPython.core.display.HTML object>"
      ]
     },
     "metadata": {},
     "output_type": "display_data"
    },
    {
     "data": {
      "text/html": [
       "<button onClick=\"this.nextSibling.style.display='block';this.style.display='none';\">Display W&B run</button><iframe src='https://wandb.ai/pierre-emmanuel-chaut/codellama-cairo/runs/a78gnjqe?jupyter=true' style='border:none;width:100%;height:420px;display:none;'></iframe>"
      ],
      "text/plain": [
       "<wandb.sdk.wandb_run.Run at 0x7fe36383b850>"
      ]
     },
     "execution_count": 2,
     "metadata": {},
     "output_type": "execute_result"
    }
   ],
   "source": [
    "import wandb\n",
    "import random\n",
    "\n",
    "# start a new wandb run to track this script\n",
    "wandb.init(\n",
    "    # set the wandb project where this run will be logged\n",
    "    project=\"codellama-cairo\",\n",
    "    \n",
    "    # track hyperparameters and run metadata\n",
    "    config={\n",
    "\n",
    "    \"epochs\":nb_epochs,\n",
    "    }\n",
    ")"
   ]
  },
  {
   "cell_type": "markdown",
   "metadata": {},
   "source": [
    "Load Base Model and Tokenizer"
   ]
  },
  {
   "cell_type": "code",
   "execution_count": 3,
   "metadata": {},
   "outputs": [
    {
     "data": {
      "application/vnd.jupyter.widget-view+json": {
       "model_id": "bb27da95603a45deacebc82d4e061b72",
       "version_major": 2,
       "version_minor": 0
      },
      "text/plain": [
       "Loading checkpoint shards:   0%|          | 0/2 [00:00<?, ?it/s]"
      ]
     },
     "metadata": {},
     "output_type": "display_data"
    }
   ],
   "source": [
    "import torch\n",
    "from datasets import load_dataset, Dataset\n",
    "from peft import LoraConfig, AutoPeftModelForCausalLM,prepare_model_for_kbit_training\n",
    "from transformers import AutoModelForCausalLM, AutoTokenizer, BitsAndBytesConfig\n",
    "from trl import SFTTrainer\n",
    "import os\n",
    "\n",
    "# Load the tokenizer from the model (llama2)\n",
    "tokenizer = AutoTokenizer.from_pretrained(model_name)\n",
    "tokenizer.pad_token =tokenizer.eos_token\n",
    "tokenizer.padding_side='right'\n",
    "\n",
    "# load the quantized settings: 4 bit quantization\n",
    "bnb_config = BitsAndBytesConfig(\n",
    "    load_in_4bit=True,\n",
    "    bnb_4bit_quant_type=\"nf4\",\n",
    "    bnb_4bit_compute_dtype=torch.bfloat16,\n",
    "    bnb_4bit_use_double_quant=True,\n",
    ")\n",
    "\n",
    "# Load base model\n",
    "model = AutoModelForCausalLM.from_pretrained(\n",
    "    pretrained_model_name_or_path=model_name,\n",
    "    quantization_config=bnb_config,\n",
    "    max_memory= {i: '12000MB' for i in range(torch.cuda.device_count())},\n",
    "    device_map={\"\": 0}\n",
    ")\n",
    "\n",
    "\n",
    "# don't use the cache\n",
    "model.config.use_cache = False\n",
    "model.config.pretraining_tp=1\n",
    "model.config.window = 256 \n",
    "model.gradient_checkpointing_enable()\n",
    "model = prepare_model_for_kbit_training(model)\n",
    "peft_config = LoraConfig(\n",
    "        r=64, lora_alpha=16, lora_dropout=0.1, bias=\"none\", task_type=\"CAUSAL_LM\", target_modules=[\n",
    "        \"q_proj\",\n",
    "        \"k_proj\",\n",
    "        \"v_proj\",\n",
    "        \"o_proj\",\n",
    "        \"up_proj\",\n",
    "        \"down_proj\",\n",
    "        \"gate_proj\",\n",
    "        'lm_head',],\n",
    "\n",
    "        inference_mode = False\n",
    "    )\n",
    "\n"
   ]
  },
  {
   "cell_type": "markdown",
   "metadata": {},
   "source": [
    "Import Dataset from Hugging Face"
   ]
  },
  {
   "cell_type": "code",
   "execution_count": 4,
   "metadata": {},
   "outputs": [
    {
     "name": "stderr",
     "output_type": "stream",
     "text": [
      "/home/pechaut/miniconda3/envs/cairo-llm/lib/python3.9/site-packages/datasets/load.py:2097: FutureWarning: 'ignore_verifications' was deprecated in favor of 'verification_mode' in version 2.9.1 and will be removed in 3.0.0.\n",
      "You can remove this warning by passing 'verification_mode=no_checks' instead.\n",
      "  warnings.warn(\n"
     ]
    },
    {
     "data": {
      "application/vnd.jupyter.widget-view+json": {
       "model_id": "93126801355148afb4b6269867725949",
       "version_major": 2,
       "version_minor": 0
      },
      "text/plain": [
       "Downloading readme:   0%|          | 0.00/531 [00:00<?, ?B/s]"
      ]
     },
     "metadata": {},
     "output_type": "display_data"
    },
    {
     "data": {
      "application/vnd.jupyter.widget-view+json": {
       "model_id": "4e11341a53a94fa2bd007cd07057ebfe",
       "version_major": 2,
       "version_minor": 0
      },
      "text/plain": [
       "Downloading data files:   0%|          | 0/2 [00:00<?, ?it/s]"
      ]
     },
     "metadata": {},
     "output_type": "display_data"
    },
    {
     "data": {
      "application/vnd.jupyter.widget-view+json": {
       "model_id": "e7d8226de9f24e63bb1b1172a9e7f0ed",
       "version_major": 2,
       "version_minor": 0
      },
      "text/plain": [
       "Downloading data:   0%|          | 0.00/291k [00:00<?, ?B/s]"
      ]
     },
     "metadata": {},
     "output_type": "display_data"
    },
    {
     "data": {
      "application/vnd.jupyter.widget-view+json": {
       "model_id": "8999266aba3348cb8afb5099fbde0ea0",
       "version_major": 2,
       "version_minor": 0
      },
      "text/plain": [
       "Downloading data:   0%|          | 0.00/2.42k [00:00<?, ?B/s]"
      ]
     },
     "metadata": {},
     "output_type": "display_data"
    },
    {
     "data": {
      "application/vnd.jupyter.widget-view+json": {
       "model_id": "e42dd6de22064821bb3484416eb76ea0",
       "version_major": 2,
       "version_minor": 0
      },
      "text/plain": [
       "Extracting data files:   0%|          | 0/2 [00:00<?, ?it/s]"
      ]
     },
     "metadata": {},
     "output_type": "display_data"
    },
    {
     "data": {
      "application/vnd.jupyter.widget-view+json": {
       "model_id": "c855a2d421954c7ab8f5491b5f510412",
       "version_major": 2,
       "version_minor": 0
      },
      "text/plain": [
       "Generating train split:   0%|          | 0/3227 [00:00<?, ? examples/s]"
      ]
     },
     "metadata": {},
     "output_type": "display_data"
    },
    {
     "data": {
      "application/vnd.jupyter.widget-view+json": {
       "model_id": "a90b467f5b4c435292cea3b70e78b47f",
       "version_major": 2,
       "version_minor": 0
      },
      "text/plain": [
       "Generating eval split:   0%|          | 0/5 [00:00<?, ? examples/s]"
      ]
     },
     "metadata": {},
     "output_type": "display_data"
    },
    {
     "data": {
      "application/vnd.jupyter.widget-view+json": {
       "model_id": "7f2016015d2a4c0aab4f807b4e0a1281",
       "version_major": 2,
       "version_minor": 0
      },
      "text/plain": [
       "Downloading readme:   0%|          | 0.00/531 [00:00<?, ?B/s]"
      ]
     },
     "metadata": {},
     "output_type": "display_data"
    },
    {
     "data": {
      "application/vnd.jupyter.widget-view+json": {
       "model_id": "59f8b432af2d4f518af6ecec3a7ee22a",
       "version_major": 2,
       "version_minor": 0
      },
      "text/plain": [
       "Downloading data files:   0%|          | 0/2 [00:00<?, ?it/s]"
      ]
     },
     "metadata": {},
     "output_type": "display_data"
    },
    {
     "data": {
      "application/vnd.jupyter.widget-view+json": {
       "model_id": "684e206db6b141f3bb32b1f96afa5822",
       "version_major": 2,
       "version_minor": 0
      },
      "text/plain": [
       "Downloading data:   0%|          | 0.00/291k [00:00<?, ?B/s]"
      ]
     },
     "metadata": {},
     "output_type": "display_data"
    },
    {
     "data": {
      "application/vnd.jupyter.widget-view+json": {
       "model_id": "b3c937bd52904892bcb2a6aa2ef54b3b",
       "version_major": 2,
       "version_minor": 0
      },
      "text/plain": [
       "Downloading data:   0%|          | 0.00/2.42k [00:00<?, ?B/s]"
      ]
     },
     "metadata": {},
     "output_type": "display_data"
    },
    {
     "data": {
      "application/vnd.jupyter.widget-view+json": {
       "model_id": "c78bb2d99f514aae81a1e8ec23b047ca",
       "version_major": 2,
       "version_minor": 0
      },
      "text/plain": [
       "Extracting data files:   0%|          | 0/2 [00:00<?, ?it/s]"
      ]
     },
     "metadata": {},
     "output_type": "display_data"
    },
    {
     "data": {
      "application/vnd.jupyter.widget-view+json": {
       "model_id": "626a59fceb58480a84393b716060bfae",
       "version_major": 2,
       "version_minor": 0
      },
      "text/plain": [
       "Generating train split:   0%|          | 0/3227 [00:00<?, ? examples/s]"
      ]
     },
     "metadata": {},
     "output_type": "display_data"
    },
    {
     "data": {
      "application/vnd.jupyter.widget-view+json": {
       "model_id": "8522e4d52f744c2386de7450f8327864",
       "version_major": 2,
       "version_minor": 0
      },
      "text/plain": [
       "Generating eval split:   0%|          | 0/5 [00:00<?, ? examples/s]"
      ]
     },
     "metadata": {},
     "output_type": "display_data"
    }
   ],
   "source": [
    "from datasets import load_dataset\n",
    "\n",
    "# Load the dataset\n",
    "dataset_train = load_dataset(dataset_name, split=\"train\", download_mode='force_redownload',ignore_verifications=True)\n",
    "dataset_test = load_dataset(dataset_name, split=\"eval\", download_mode='force_redownload',ignore_verifications=True)\n",
    "dataset_train = dataset_train.shuffle(seed=42)"
   ]
  },
  {
   "cell_type": "markdown",
   "metadata": {},
   "source": [
    "Check to see if everything is fine before launching training"
   ]
  },
  {
   "cell_type": "markdown",
   "metadata": {},
   "source": [
    "Load Model"
   ]
  },
  {
   "cell_type": "code",
   "execution_count": 6,
   "metadata": {},
   "outputs": [
    {
     "data": {
      "application/vnd.jupyter.widget-view+json": {
       "model_id": "bcf8561bac094918919ce27b53b4caa0",
       "version_major": 2,
       "version_minor": 0
      },
      "text/plain": [
       "VBox(children=(HTML(value='<center> <img\\nsrc=https://huggingface.co/front/assets/huggingface_logo-noborder.sv…"
      ]
     },
     "metadata": {},
     "output_type": "display_data"
    }
   ],
   "source": [
    "from huggingface_hub import notebook_login\n",
    "notebook_login()"
   ]
  },
  {
   "cell_type": "code",
   "execution_count": 5,
   "metadata": {},
   "outputs": [
    {
     "data": {
      "application/vnd.jupyter.widget-view+json": {
       "model_id": "95793c534e5a45bb90029675e4f062a8",
       "version_major": 2,
       "version_minor": 0
      },
      "text/plain": [
       "Map:   0%|          | 0/3227 [00:00<?, ? examples/s]"
      ]
     },
     "metadata": {},
     "output_type": "display_data"
    },
    {
     "data": {
      "application/vnd.jupyter.widget-view+json": {
       "model_id": "82200db1efaa4065bc8947a10c61ed82",
       "version_major": 2,
       "version_minor": 0
      },
      "text/plain": [
       "Map:   0%|          | 0/5 [00:00<?, ? examples/s]"
      ]
     },
     "metadata": {},
     "output_type": "display_data"
    }
   ],
   "source": [
    "from trl import SFTTrainer\n",
    "import transformers\n",
    "\n",
    "\n",
    "\n",
    "supervised_finetuning_trainer = SFTTrainer(\n",
    "    model=model,\n",
    "    train_dataset=dataset_train,\n",
    "    eval_dataset=dataset_test,\n",
    "    peft_config=peft_config,\n",
    "    dataset_text_field=\"text\",\n",
    "    tokenizer=tokenizer,\n",
    "    packing=False,\n",
    "    max_seq_length=1024,\n",
    "    args=transformers.TrainingArguments(\n",
    "        per_device_train_batch_size=2,\n",
    "        gradient_accumulation_steps=1,\n",
    "         gradient_checkpointing = True,\n",
    "         evaluation_strategy=\"steps\",\n",
    "         max_grad_norm=0.3,\n",
    "        warmup_ratio=0.03,\n",
    "        optim=\"paged_adamw_32bit\",\n",
    "        learning_rate=2e-4,\n",
    "        lr_scheduler_type=\"constant\",\n",
    "        save_strategy=\"epoch\",\n",
    "        logging_steps=50,\n",
    "        num_train_epochs=nb_epochs,\n",
    "        output_dir=new_model,\n",
    "        fp16=False,\n",
    "        push_to_hub=True,\n",
    "        group_by_length=True,\n",
    "         report_to=\"wandb\",\n",
    "         adam_beta2=0.999,\n",
    "         do_train=True,\n",
    "    ),\n",
    ")\n"
   ]
  },
  {
   "cell_type": "code",
   "execution_count": 6,
   "metadata": {},
   "outputs": [
    {
     "data": {
      "application/vnd.jupyter.widget-view+json": {
       "model_id": "96696f0d0b0447dc9cf6e02f35f4c9e1",
       "version_major": 2,
       "version_minor": 0
      },
      "text/plain": [
       "  0%|          | 0/4842 [00:00<?, ?it/s]"
      ]
     },
     "metadata": {},
     "output_type": "display_data"
    },
    {
     "name": "stderr",
     "output_type": "stream",
     "text": [
      "You're using a CodeLlamaTokenizerFast tokenizer. Please note that with a fast tokenizer, using the `__call__` method is faster than using a method to encode the text followed by a call to the `pad` method to get a padded encoding.\n",
      "/home/pechaut/miniconda3/envs/cairo-llm/lib/python3.9/site-packages/torch/utils/checkpoint.py:429: UserWarning: torch.utils.checkpoint: please pass in use_reentrant=True or use_reentrant=False explicitly. The default value of use_reentrant will be updated to be False in the future. To maintain current behavior, pass use_reentrant=True. It is recommended that you use use_reentrant=False. Refer to docs for more details on the differences between the two variants.\n",
      "  warnings.warn(\n"
     ]
    },
    {
     "name": "stdout",
     "output_type": "stream",
     "text": [
      "{'loss': 1.8923, 'learning_rate': 0.0002, 'epoch': 0.03}\n"
     ]
    },
    {
     "data": {
      "application/vnd.jupyter.widget-view+json": {
       "model_id": "449267d2d6384358b96c95d4bda5af53",
       "version_major": 2,
       "version_minor": 0
      },
      "text/plain": [
       "  0%|          | 0/1 [00:00<?, ?it/s]"
      ]
     },
     "metadata": {},
     "output_type": "display_data"
    },
    {
     "name": "stdout",
     "output_type": "stream",
     "text": [
      "{'eval_loss': 1.9317615032196045, 'eval_runtime': 1.0567, 'eval_samples_per_second': 4.732, 'eval_steps_per_second': 0.946, 'epoch': 0.03}\n",
      "{'loss': 1.4188, 'learning_rate': 0.0002, 'epoch': 0.06}\n"
     ]
    },
    {
     "data": {
      "application/vnd.jupyter.widget-view+json": {
       "model_id": "24c9fb77768247308a042e374e4b0b52",
       "version_major": 2,
       "version_minor": 0
      },
      "text/plain": [
       "  0%|          | 0/1 [00:00<?, ?it/s]"
      ]
     },
     "metadata": {},
     "output_type": "display_data"
    },
    {
     "name": "stdout",
     "output_type": "stream",
     "text": [
      "{'eval_loss': 1.7546970844268799, 'eval_runtime': 1.1081, 'eval_samples_per_second': 4.512, 'eval_steps_per_second': 0.902, 'epoch': 0.06}\n",
      "{'loss': 1.3854, 'learning_rate': 0.0002, 'epoch': 0.09}\n"
     ]
    },
    {
     "data": {
      "application/vnd.jupyter.widget-view+json": {
       "model_id": "9e68586b4bbe4dc28e8b7398481f3bfc",
       "version_major": 2,
       "version_minor": 0
      },
      "text/plain": [
       "  0%|          | 0/1 [00:00<?, ?it/s]"
      ]
     },
     "metadata": {},
     "output_type": "display_data"
    },
    {
     "name": "stdout",
     "output_type": "stream",
     "text": [
      "{'eval_loss': 1.7306404113769531, 'eval_runtime': 0.9786, 'eval_samples_per_second': 5.109, 'eval_steps_per_second': 1.022, 'epoch': 0.09}\n",
      "{'loss': 1.341, 'learning_rate': 0.0002, 'epoch': 0.12}\n"
     ]
    },
    {
     "data": {
      "application/vnd.jupyter.widget-view+json": {
       "model_id": "8968c71ab01741e8a9717c63708b5033",
       "version_major": 2,
       "version_minor": 0
      },
      "text/plain": [
       "  0%|          | 0/1 [00:00<?, ?it/s]"
      ]
     },
     "metadata": {},
     "output_type": "display_data"
    },
    {
     "name": "stdout",
     "output_type": "stream",
     "text": [
      "{'eval_loss': 1.6703271865844727, 'eval_runtime': 1.0065, 'eval_samples_per_second': 4.968, 'eval_steps_per_second': 0.994, 'epoch': 0.12}\n",
      "{'loss': 1.31, 'learning_rate': 0.0002, 'epoch': 0.15}\n"
     ]
    },
    {
     "data": {
      "application/vnd.jupyter.widget-view+json": {
       "model_id": "1a4cbdf944a94806912a14fdb4d5dcb9",
       "version_major": 2,
       "version_minor": 0
      },
      "text/plain": [
       "  0%|          | 0/1 [00:00<?, ?it/s]"
      ]
     },
     "metadata": {},
     "output_type": "display_data"
    },
    {
     "name": "stdout",
     "output_type": "stream",
     "text": [
      "{'eval_loss': 1.6916195154190063, 'eval_runtime': 0.9665, 'eval_samples_per_second': 5.173, 'eval_steps_per_second': 1.035, 'epoch': 0.15}\n",
      "{'loss': 1.267, 'learning_rate': 0.0002, 'epoch': 0.19}\n"
     ]
    },
    {
     "data": {
      "application/vnd.jupyter.widget-view+json": {
       "model_id": "dfebccae019c4935b9e5662ab17c2609",
       "version_major": 2,
       "version_minor": 0
      },
      "text/plain": [
       "  0%|          | 0/1 [00:00<?, ?it/s]"
      ]
     },
     "metadata": {},
     "output_type": "display_data"
    },
    {
     "name": "stdout",
     "output_type": "stream",
     "text": [
      "{'eval_loss': 1.6236965656280518, 'eval_runtime': 1.1098, 'eval_samples_per_second': 4.505, 'eval_steps_per_second': 0.901, 'epoch': 0.19}\n",
      "{'loss': 1.253, 'learning_rate': 0.0002, 'epoch': 0.22}\n"
     ]
    },
    {
     "data": {
      "application/vnd.jupyter.widget-view+json": {
       "model_id": "39992e32352e4e8fb0226a88c7dd6314",
       "version_major": 2,
       "version_minor": 0
      },
      "text/plain": [
       "  0%|          | 0/1 [00:00<?, ?it/s]"
      ]
     },
     "metadata": {},
     "output_type": "display_data"
    },
    {
     "name": "stdout",
     "output_type": "stream",
     "text": [
      "{'eval_loss': 1.5650757551193237, 'eval_runtime': 1.07, 'eval_samples_per_second': 4.673, 'eval_steps_per_second': 0.935, 'epoch': 0.22}\n",
      "{'loss': 1.2285, 'learning_rate': 0.0002, 'epoch': 0.25}\n"
     ]
    },
    {
     "data": {
      "application/vnd.jupyter.widget-view+json": {
       "model_id": "4fbd488c47a64adbae503799404d696f",
       "version_major": 2,
       "version_minor": 0
      },
      "text/plain": [
       "  0%|          | 0/1 [00:00<?, ?it/s]"
      ]
     },
     "metadata": {},
     "output_type": "display_data"
    },
    {
     "name": "stdout",
     "output_type": "stream",
     "text": [
      "{'eval_loss': 1.5145595073699951, 'eval_runtime': 0.9782, 'eval_samples_per_second': 5.111, 'eval_steps_per_second': 1.022, 'epoch': 0.25}\n",
      "{'loss': 1.2287, 'learning_rate': 0.0002, 'epoch': 0.28}\n"
     ]
    },
    {
     "data": {
      "application/vnd.jupyter.widget-view+json": {
       "model_id": "afd6cf90aaf84beeb8324a360e2470c9",
       "version_major": 2,
       "version_minor": 0
      },
      "text/plain": [
       "  0%|          | 0/1 [00:00<?, ?it/s]"
      ]
     },
     "metadata": {},
     "output_type": "display_data"
    },
    {
     "name": "stdout",
     "output_type": "stream",
     "text": [
      "{'eval_loss': 1.4672508239746094, 'eval_runtime': 0.9772, 'eval_samples_per_second': 5.117, 'eval_steps_per_second': 1.023, 'epoch': 0.28}\n",
      "{'loss': 1.1796, 'learning_rate': 0.0002, 'epoch': 0.31}\n"
     ]
    },
    {
     "data": {
      "application/vnd.jupyter.widget-view+json": {
       "model_id": "0ea404187c874d598e5c3512eaab3ba6",
       "version_major": 2,
       "version_minor": 0
      },
      "text/plain": [
       "  0%|          | 0/1 [00:00<?, ?it/s]"
      ]
     },
     "metadata": {},
     "output_type": "display_data"
    },
    {
     "name": "stdout",
     "output_type": "stream",
     "text": [
      "{'eval_loss': 1.4606481790542603, 'eval_runtime': 0.9594, 'eval_samples_per_second': 5.212, 'eval_steps_per_second': 1.042, 'epoch': 0.31}\n",
      "{'loss': 1.2178, 'learning_rate': 0.0002, 'epoch': 0.34}\n"
     ]
    },
    {
     "data": {
      "application/vnd.jupyter.widget-view+json": {
       "model_id": "d680a110fdb247d1be0e688e99295ddc",
       "version_major": 2,
       "version_minor": 0
      },
      "text/plain": [
       "  0%|          | 0/1 [00:00<?, ?it/s]"
      ]
     },
     "metadata": {},
     "output_type": "display_data"
    },
    {
     "name": "stdout",
     "output_type": "stream",
     "text": [
      "{'eval_loss': 1.466499924659729, 'eval_runtime': 0.9523, 'eval_samples_per_second': 5.25, 'eval_steps_per_second': 1.05, 'epoch': 0.34}\n",
      "{'loss': 1.1981, 'learning_rate': 0.0002, 'epoch': 0.37}\n"
     ]
    },
    {
     "data": {
      "application/vnd.jupyter.widget-view+json": {
       "model_id": "8fe35acb523242a0b45748aef4810beb",
       "version_major": 2,
       "version_minor": 0
      },
      "text/plain": [
       "  0%|          | 0/1 [00:00<?, ?it/s]"
      ]
     },
     "metadata": {},
     "output_type": "display_data"
    },
    {
     "name": "stdout",
     "output_type": "stream",
     "text": [
      "{'eval_loss': 1.4288405179977417, 'eval_runtime': 1.0793, 'eval_samples_per_second': 4.633, 'eval_steps_per_second': 0.927, 'epoch': 0.37}\n",
      "{'loss': 1.1664, 'learning_rate': 0.0002, 'epoch': 0.4}\n"
     ]
    },
    {
     "data": {
      "application/vnd.jupyter.widget-view+json": {
       "model_id": "cbedf2dd806b41778da60481c318575c",
       "version_major": 2,
       "version_minor": 0
      },
      "text/plain": [
       "  0%|          | 0/1 [00:00<?, ?it/s]"
      ]
     },
     "metadata": {},
     "output_type": "display_data"
    },
    {
     "name": "stdout",
     "output_type": "stream",
     "text": [
      "{'eval_loss': 1.487181544303894, 'eval_runtime': 1.0542, 'eval_samples_per_second': 4.743, 'eval_steps_per_second': 0.949, 'epoch': 0.4}\n",
      "{'loss': 1.1481, 'learning_rate': 0.0002, 'epoch': 0.43}\n"
     ]
    },
    {
     "data": {
      "application/vnd.jupyter.widget-view+json": {
       "model_id": "7b12d870cf054a199e6d3e99f71fc6f9",
       "version_major": 2,
       "version_minor": 0
      },
      "text/plain": [
       "  0%|          | 0/1 [00:00<?, ?it/s]"
      ]
     },
     "metadata": {},
     "output_type": "display_data"
    },
    {
     "name": "stdout",
     "output_type": "stream",
     "text": [
      "{'eval_loss': 1.475587248802185, 'eval_runtime': 1.0892, 'eval_samples_per_second': 4.59, 'eval_steps_per_second': 0.918, 'epoch': 0.43}\n",
      "{'loss': 1.1645, 'learning_rate': 0.0002, 'epoch': 0.46}\n"
     ]
    },
    {
     "data": {
      "application/vnd.jupyter.widget-view+json": {
       "model_id": "52c4c34eb4954e1fbba75d15e5f1b7f2",
       "version_major": 2,
       "version_minor": 0
      },
      "text/plain": [
       "  0%|          | 0/1 [00:00<?, ?it/s]"
      ]
     },
     "metadata": {},
     "output_type": "display_data"
    },
    {
     "name": "stdout",
     "output_type": "stream",
     "text": [
      "{'eval_loss': 1.3418247699737549, 'eval_runtime': 1.0795, 'eval_samples_per_second': 4.632, 'eval_steps_per_second': 0.926, 'epoch': 0.46}\n",
      "{'loss': 1.0582, 'learning_rate': 0.0002, 'epoch': 0.5}\n"
     ]
    },
    {
     "data": {
      "application/vnd.jupyter.widget-view+json": {
       "model_id": "7b9443de593c4bad96683e5034c5ca4d",
       "version_major": 2,
       "version_minor": 0
      },
      "text/plain": [
       "  0%|          | 0/1 [00:00<?, ?it/s]"
      ]
     },
     "metadata": {},
     "output_type": "display_data"
    },
    {
     "name": "stdout",
     "output_type": "stream",
     "text": [
      "{'eval_loss': 1.2936854362487793, 'eval_runtime': 0.9869, 'eval_samples_per_second': 5.066, 'eval_steps_per_second': 1.013, 'epoch': 0.5}\n",
      "{'loss': 1.1714, 'learning_rate': 0.0002, 'epoch': 0.53}\n"
     ]
    },
    {
     "data": {
      "application/vnd.jupyter.widget-view+json": {
       "model_id": "5f6c2b86abae4c70b3696a28b760e655",
       "version_major": 2,
       "version_minor": 0
      },
      "text/plain": [
       "  0%|          | 0/1 [00:00<?, ?it/s]"
      ]
     },
     "metadata": {},
     "output_type": "display_data"
    },
    {
     "name": "stdout",
     "output_type": "stream",
     "text": [
      "{'eval_loss': 1.3264977931976318, 'eval_runtime': 1.0869, 'eval_samples_per_second': 4.6, 'eval_steps_per_second': 0.92, 'epoch': 0.53}\n",
      "{'loss': 1.2136, 'learning_rate': 0.0002, 'epoch': 0.56}\n"
     ]
    },
    {
     "data": {
      "application/vnd.jupyter.widget-view+json": {
       "model_id": "d60929c4550640a4bf028a513818e26d",
       "version_major": 2,
       "version_minor": 0
      },
      "text/plain": [
       "  0%|          | 0/1 [00:00<?, ?it/s]"
      ]
     },
     "metadata": {},
     "output_type": "display_data"
    },
    {
     "name": "stdout",
     "output_type": "stream",
     "text": [
      "{'eval_loss': 1.3247637748718262, 'eval_runtime': 0.9512, 'eval_samples_per_second': 5.257, 'eval_steps_per_second': 1.051, 'epoch': 0.56}\n",
      "{'loss': 1.1267, 'learning_rate': 0.0002, 'epoch': 0.59}\n"
     ]
    },
    {
     "data": {
      "application/vnd.jupyter.widget-view+json": {
       "model_id": "8e788c1034044ce79b57218845c4fdfd",
       "version_major": 2,
       "version_minor": 0
      },
      "text/plain": [
       "  0%|          | 0/1 [00:00<?, ?it/s]"
      ]
     },
     "metadata": {},
     "output_type": "display_data"
    },
    {
     "name": "stdout",
     "output_type": "stream",
     "text": [
      "{'eval_loss': 1.2930856943130493, 'eval_runtime': 0.9758, 'eval_samples_per_second': 5.124, 'eval_steps_per_second': 1.025, 'epoch': 0.59}\n",
      "{'loss': 1.1326, 'learning_rate': 0.0002, 'epoch': 0.62}\n"
     ]
    },
    {
     "data": {
      "application/vnd.jupyter.widget-view+json": {
       "model_id": "1822e118680d46a181303df38e29af21",
       "version_major": 2,
       "version_minor": 0
      },
      "text/plain": [
       "  0%|          | 0/1 [00:00<?, ?it/s]"
      ]
     },
     "metadata": {},
     "output_type": "display_data"
    },
    {
     "name": "stdout",
     "output_type": "stream",
     "text": [
      "{'eval_loss': 1.3220163583755493, 'eval_runtime': 0.9556, 'eval_samples_per_second': 5.233, 'eval_steps_per_second': 1.047, 'epoch': 0.62}\n",
      "{'loss': 1.0726, 'learning_rate': 0.0002, 'epoch': 0.65}\n"
     ]
    },
    {
     "data": {
      "application/vnd.jupyter.widget-view+json": {
       "model_id": "d9b8ffcb33b847ce997f6fa857e3e63e",
       "version_major": 2,
       "version_minor": 0
      },
      "text/plain": [
       "  0%|          | 0/1 [00:00<?, ?it/s]"
      ]
     },
     "metadata": {},
     "output_type": "display_data"
    },
    {
     "name": "stdout",
     "output_type": "stream",
     "text": [
      "{'eval_loss': 1.2747933864593506, 'eval_runtime': 1.017, 'eval_samples_per_second': 4.916, 'eval_steps_per_second': 0.983, 'epoch': 0.65}\n",
      "{'loss': 1.1039, 'learning_rate': 0.0002, 'epoch': 0.68}\n"
     ]
    },
    {
     "data": {
      "application/vnd.jupyter.widget-view+json": {
       "model_id": "f8cf8e006118418cb80e82eded6a1d6e",
       "version_major": 2,
       "version_minor": 0
      },
      "text/plain": [
       "  0%|          | 0/1 [00:00<?, ?it/s]"
      ]
     },
     "metadata": {},
     "output_type": "display_data"
    },
    {
     "name": "stdout",
     "output_type": "stream",
     "text": [
      "{'eval_loss': 1.3220411539077759, 'eval_runtime': 1.0919, 'eval_samples_per_second': 4.579, 'eval_steps_per_second': 0.916, 'epoch': 0.68}\n",
      "{'loss': 1.0873, 'learning_rate': 0.0002, 'epoch': 0.71}\n"
     ]
    },
    {
     "data": {
      "application/vnd.jupyter.widget-view+json": {
       "model_id": "e62c7771807d47d1b3ee1edac6f41524",
       "version_major": 2,
       "version_minor": 0
      },
      "text/plain": [
       "  0%|          | 0/1 [00:00<?, ?it/s]"
      ]
     },
     "metadata": {},
     "output_type": "display_data"
    },
    {
     "name": "stdout",
     "output_type": "stream",
     "text": [
      "{'eval_loss': 1.243342399597168, 'eval_runtime': 1.0825, 'eval_samples_per_second': 4.619, 'eval_steps_per_second': 0.924, 'epoch': 0.71}\n",
      "{'loss': 1.0863, 'learning_rate': 0.0002, 'epoch': 0.74}\n"
     ]
    },
    {
     "data": {
      "application/vnd.jupyter.widget-view+json": {
       "model_id": "ed18ab7b2c6a4bf0b608ec85cf9481f9",
       "version_major": 2,
       "version_minor": 0
      },
      "text/plain": [
       "  0%|          | 0/1 [00:00<?, ?it/s]"
      ]
     },
     "metadata": {},
     "output_type": "display_data"
    },
    {
     "name": "stdout",
     "output_type": "stream",
     "text": [
      "{'eval_loss': 1.2705516815185547, 'eval_runtime': 1.0868, 'eval_samples_per_second': 4.6, 'eval_steps_per_second': 0.92, 'epoch': 0.74}\n",
      "{'loss': 1.092, 'learning_rate': 0.0002, 'epoch': 0.77}\n"
     ]
    },
    {
     "data": {
      "application/vnd.jupyter.widget-view+json": {
       "model_id": "de603ece619b482783964df2764b0848",
       "version_major": 2,
       "version_minor": 0
      },
      "text/plain": [
       "  0%|          | 0/1 [00:00<?, ?it/s]"
      ]
     },
     "metadata": {},
     "output_type": "display_data"
    },
    {
     "name": "stdout",
     "output_type": "stream",
     "text": [
      "{'eval_loss': 1.2725377082824707, 'eval_runtime': 1.02, 'eval_samples_per_second': 4.902, 'eval_steps_per_second': 0.98, 'epoch': 0.77}\n",
      "{'loss': 1.0957, 'learning_rate': 0.0002, 'epoch': 0.81}\n"
     ]
    },
    {
     "data": {
      "application/vnd.jupyter.widget-view+json": {
       "model_id": "89384a6c470a4cc5bfb60d8c9ee309c1",
       "version_major": 2,
       "version_minor": 0
      },
      "text/plain": [
       "  0%|          | 0/1 [00:00<?, ?it/s]"
      ]
     },
     "metadata": {},
     "output_type": "display_data"
    },
    {
     "name": "stdout",
     "output_type": "stream",
     "text": [
      "{'eval_loss': 1.2946048974990845, 'eval_runtime': 1.0749, 'eval_samples_per_second': 4.652, 'eval_steps_per_second': 0.93, 'epoch': 0.81}\n",
      "{'loss': 1.111, 'learning_rate': 0.0002, 'epoch': 0.84}\n"
     ]
    },
    {
     "data": {
      "application/vnd.jupyter.widget-view+json": {
       "model_id": "6418d3bd254c4fb0875f92a7277e4269",
       "version_major": 2,
       "version_minor": 0
      },
      "text/plain": [
       "  0%|          | 0/1 [00:00<?, ?it/s]"
      ]
     },
     "metadata": {},
     "output_type": "display_data"
    },
    {
     "name": "stdout",
     "output_type": "stream",
     "text": [
      "{'eval_loss': 1.2900722026824951, 'eval_runtime': 1.0171, 'eval_samples_per_second': 4.916, 'eval_steps_per_second': 0.983, 'epoch': 0.84}\n",
      "{'loss': 1.129, 'learning_rate': 0.0002, 'epoch': 0.87}\n"
     ]
    },
    {
     "data": {
      "application/vnd.jupyter.widget-view+json": {
       "model_id": "5bd74a1e51ca44bb9662e298382a4695",
       "version_major": 2,
       "version_minor": 0
      },
      "text/plain": [
       "  0%|          | 0/1 [00:00<?, ?it/s]"
      ]
     },
     "metadata": {},
     "output_type": "display_data"
    },
    {
     "name": "stdout",
     "output_type": "stream",
     "text": [
      "{'eval_loss': 1.2602028846740723, 'eval_runtime': 1.0891, 'eval_samples_per_second': 4.591, 'eval_steps_per_second': 0.918, 'epoch': 0.87}\n",
      "{'loss': 1.1092, 'learning_rate': 0.0002, 'epoch': 0.9}\n"
     ]
    },
    {
     "data": {
      "application/vnd.jupyter.widget-view+json": {
       "model_id": "9bca0046d07a4d7489ec87bdc0994190",
       "version_major": 2,
       "version_minor": 0
      },
      "text/plain": [
       "  0%|          | 0/1 [00:00<?, ?it/s]"
      ]
     },
     "metadata": {},
     "output_type": "display_data"
    },
    {
     "name": "stdout",
     "output_type": "stream",
     "text": [
      "{'eval_loss': 1.3073066473007202, 'eval_runtime': 0.9886, 'eval_samples_per_second': 5.058, 'eval_steps_per_second': 1.012, 'epoch': 0.9}\n",
      "{'loss': 1.0478, 'learning_rate': 0.0002, 'epoch': 0.93}\n"
     ]
    },
    {
     "data": {
      "application/vnd.jupyter.widget-view+json": {
       "model_id": "2840c375776e4e7d8f1755624b6e16a7",
       "version_major": 2,
       "version_minor": 0
      },
      "text/plain": [
       "  0%|          | 0/1 [00:00<?, ?it/s]"
      ]
     },
     "metadata": {},
     "output_type": "display_data"
    },
    {
     "name": "stdout",
     "output_type": "stream",
     "text": [
      "{'eval_loss': 1.3094760179519653, 'eval_runtime': 1.0576, 'eval_samples_per_second': 4.727, 'eval_steps_per_second': 0.945, 'epoch': 0.93}\n",
      "{'loss': 1.0193, 'learning_rate': 0.0002, 'epoch': 0.96}\n"
     ]
    },
    {
     "data": {
      "application/vnd.jupyter.widget-view+json": {
       "model_id": "0f282a3784ac4580b60c45f588eaaae1",
       "version_major": 2,
       "version_minor": 0
      },
      "text/plain": [
       "  0%|          | 0/1 [00:00<?, ?it/s]"
      ]
     },
     "metadata": {},
     "output_type": "display_data"
    },
    {
     "name": "stdout",
     "output_type": "stream",
     "text": [
      "{'eval_loss': 1.2855920791625977, 'eval_runtime': 1.0238, 'eval_samples_per_second': 4.884, 'eval_steps_per_second': 0.977, 'epoch': 0.96}\n",
      "{'loss': 1.0481, 'learning_rate': 0.0002, 'epoch': 0.99}\n"
     ]
    },
    {
     "data": {
      "application/vnd.jupyter.widget-view+json": {
       "model_id": "be6cc5be326d4be7b43907a579eb16f1",
       "version_major": 2,
       "version_minor": 0
      },
      "text/plain": [
       "  0%|          | 0/1 [00:00<?, ?it/s]"
      ]
     },
     "metadata": {},
     "output_type": "display_data"
    },
    {
     "name": "stdout",
     "output_type": "stream",
     "text": [
      "{'eval_loss': 1.2921808958053589, 'eval_runtime': 1.0342, 'eval_samples_per_second': 4.835, 'eval_steps_per_second': 0.967, 'epoch': 0.99}\n"
     ]
    },
    {
     "name": "stderr",
     "output_type": "stream",
     "text": [
      "/home/pechaut/miniconda3/envs/cairo-llm/lib/python3.9/site-packages/torch/utils/checkpoint.py:429: UserWarning: torch.utils.checkpoint: please pass in use_reentrant=True or use_reentrant=False explicitly. The default value of use_reentrant will be updated to be False in the future. To maintain current behavior, pass use_reentrant=True. It is recommended that you use use_reentrant=False. Refer to docs for more details on the differences between the two variants.\n",
      "  warnings.warn(\n"
     ]
    },
    {
     "name": "stdout",
     "output_type": "stream",
     "text": [
      "{'loss': 0.8993, 'learning_rate': 0.0002, 'epoch': 1.02}\n"
     ]
    },
    {
     "data": {
      "application/vnd.jupyter.widget-view+json": {
       "model_id": "7d7977be960f4d3a82d1382c5a93c595",
       "version_major": 2,
       "version_minor": 0
      },
      "text/plain": [
       "  0%|          | 0/1 [00:00<?, ?it/s]"
      ]
     },
     "metadata": {},
     "output_type": "display_data"
    },
    {
     "name": "stdout",
     "output_type": "stream",
     "text": [
      "{'eval_loss': 1.285754919052124, 'eval_runtime': 1.0394, 'eval_samples_per_second': 4.81, 'eval_steps_per_second': 0.962, 'epoch': 1.02}\n",
      "{'loss': 0.7885, 'learning_rate': 0.0002, 'epoch': 1.05}\n"
     ]
    },
    {
     "data": {
      "application/vnd.jupyter.widget-view+json": {
       "model_id": "cc10d4a8b37a46a68ec5ab13919c92b9",
       "version_major": 2,
       "version_minor": 0
      },
      "text/plain": [
       "  0%|          | 0/1 [00:00<?, ?it/s]"
      ]
     },
     "metadata": {},
     "output_type": "display_data"
    },
    {
     "name": "stdout",
     "output_type": "stream",
     "text": [
      "{'eval_loss': 1.2804418802261353, 'eval_runtime': 1.014, 'eval_samples_per_second': 4.931, 'eval_steps_per_second': 0.986, 'epoch': 1.05}\n",
      "{'loss': 0.7321, 'learning_rate': 0.0002, 'epoch': 1.08}\n"
     ]
    },
    {
     "data": {
      "application/vnd.jupyter.widget-view+json": {
       "model_id": "d7c657e55dd9434a89c91fdee62aff43",
       "version_major": 2,
       "version_minor": 0
      },
      "text/plain": [
       "  0%|          | 0/1 [00:00<?, ?it/s]"
      ]
     },
     "metadata": {},
     "output_type": "display_data"
    },
    {
     "name": "stdout",
     "output_type": "stream",
     "text": [
      "{'eval_loss': 1.3038221597671509, 'eval_runtime': 0.9983, 'eval_samples_per_second': 5.008, 'eval_steps_per_second': 1.002, 'epoch': 1.08}\n",
      "{'loss': 0.7764, 'learning_rate': 0.0002, 'epoch': 1.12}\n"
     ]
    },
    {
     "data": {
      "application/vnd.jupyter.widget-view+json": {
       "model_id": "3c576143039e4f59b3cc98b31e901161",
       "version_major": 2,
       "version_minor": 0
      },
      "text/plain": [
       "  0%|          | 0/1 [00:00<?, ?it/s]"
      ]
     },
     "metadata": {},
     "output_type": "display_data"
    },
    {
     "name": "stdout",
     "output_type": "stream",
     "text": [
      "{'eval_loss': 1.2741140127182007, 'eval_runtime': 0.966, 'eval_samples_per_second': 5.176, 'eval_steps_per_second': 1.035, 'epoch': 1.12}\n",
      "{'loss': 0.7746, 'learning_rate': 0.0002, 'epoch': 1.15}\n"
     ]
    },
    {
     "data": {
      "application/vnd.jupyter.widget-view+json": {
       "model_id": "4cda04b8b1ff47aeb0f05a9c3a2944e0",
       "version_major": 2,
       "version_minor": 0
      },
      "text/plain": [
       "  0%|          | 0/1 [00:00<?, ?it/s]"
      ]
     },
     "metadata": {},
     "output_type": "display_data"
    },
    {
     "name": "stdout",
     "output_type": "stream",
     "text": [
      "{'eval_loss': 1.307206392288208, 'eval_runtime': 1.0392, 'eval_samples_per_second': 4.811, 'eval_steps_per_second': 0.962, 'epoch': 1.15}\n",
      "{'loss': 0.7949, 'learning_rate': 0.0002, 'epoch': 1.18}\n"
     ]
    },
    {
     "data": {
      "application/vnd.jupyter.widget-view+json": {
       "model_id": "9800b3df32ba44a69c0e6924d2c25cfb",
       "version_major": 2,
       "version_minor": 0
      },
      "text/plain": [
       "  0%|          | 0/1 [00:00<?, ?it/s]"
      ]
     },
     "metadata": {},
     "output_type": "display_data"
    },
    {
     "name": "stdout",
     "output_type": "stream",
     "text": [
      "{'eval_loss': 1.3042300939559937, 'eval_runtime': 1.0088, 'eval_samples_per_second': 4.956, 'eval_steps_per_second': 0.991, 'epoch': 1.18}\n",
      "{'loss': 0.7318, 'learning_rate': 0.0002, 'epoch': 1.21}\n"
     ]
    },
    {
     "data": {
      "application/vnd.jupyter.widget-view+json": {
       "model_id": "d84dc4db07b040ba81648e3d5997aa67",
       "version_major": 2,
       "version_minor": 0
      },
      "text/plain": [
       "  0%|          | 0/1 [00:00<?, ?it/s]"
      ]
     },
     "metadata": {},
     "output_type": "display_data"
    },
    {
     "name": "stdout",
     "output_type": "stream",
     "text": [
      "{'eval_loss': 1.3181337118148804, 'eval_runtime': 1.0085, 'eval_samples_per_second': 4.958, 'eval_steps_per_second': 0.992, 'epoch': 1.21}\n",
      "{'loss': 0.844, 'learning_rate': 0.0002, 'epoch': 1.24}\n"
     ]
    },
    {
     "data": {
      "application/vnd.jupyter.widget-view+json": {
       "model_id": "96c8bdbc072d4faea97b3878afcc7f40",
       "version_major": 2,
       "version_minor": 0
      },
      "text/plain": [
       "  0%|          | 0/1 [00:00<?, ?it/s]"
      ]
     },
     "metadata": {},
     "output_type": "display_data"
    },
    {
     "name": "stdout",
     "output_type": "stream",
     "text": [
      "{'eval_loss': 1.2575995922088623, 'eval_runtime': 1.0032, 'eval_samples_per_second': 4.984, 'eval_steps_per_second': 0.997, 'epoch': 1.24}\n",
      "{'loss': 0.7667, 'learning_rate': 0.0002, 'epoch': 1.27}\n"
     ]
    },
    {
     "data": {
      "application/vnd.jupyter.widget-view+json": {
       "model_id": "cd7e7630bb2b4adf8aeef5459b5cbbfb",
       "version_major": 2,
       "version_minor": 0
      },
      "text/plain": [
       "  0%|          | 0/1 [00:00<?, ?it/s]"
      ]
     },
     "metadata": {},
     "output_type": "display_data"
    },
    {
     "name": "stdout",
     "output_type": "stream",
     "text": [
      "{'eval_loss': 1.2535169124603271, 'eval_runtime': 1.0835, 'eval_samples_per_second': 4.615, 'eval_steps_per_second': 0.923, 'epoch': 1.27}\n",
      "{'loss': 0.7589, 'learning_rate': 0.0002, 'epoch': 1.3}\n"
     ]
    },
    {
     "data": {
      "application/vnd.jupyter.widget-view+json": {
       "model_id": "8f9da434642b4daa9796d37f5e7b8cb5",
       "version_major": 2,
       "version_minor": 0
      },
      "text/plain": [
       "  0%|          | 0/1 [00:00<?, ?it/s]"
      ]
     },
     "metadata": {},
     "output_type": "display_data"
    },
    {
     "name": "stdout",
     "output_type": "stream",
     "text": [
      "{'eval_loss': 1.260069727897644, 'eval_runtime': 0.9524, 'eval_samples_per_second': 5.25, 'eval_steps_per_second': 1.05, 'epoch': 1.3}\n",
      "{'loss': 0.7614, 'learning_rate': 0.0002, 'epoch': 1.33}\n"
     ]
    },
    {
     "data": {
      "application/vnd.jupyter.widget-view+json": {
       "model_id": "b31c511bd5a14ac3b6396184166ccf2f",
       "version_major": 2,
       "version_minor": 0
      },
      "text/plain": [
       "  0%|          | 0/1 [00:00<?, ?it/s]"
      ]
     },
     "metadata": {},
     "output_type": "display_data"
    },
    {
     "name": "stdout",
     "output_type": "stream",
     "text": [
      "{'eval_loss': 1.329371452331543, 'eval_runtime': 1.0218, 'eval_samples_per_second': 4.893, 'eval_steps_per_second': 0.979, 'epoch': 1.33}\n",
      "{'loss': 0.7458, 'learning_rate': 0.0002, 'epoch': 1.36}\n"
     ]
    },
    {
     "data": {
      "application/vnd.jupyter.widget-view+json": {
       "model_id": "a84220bf5b264f4684251db0cb051753",
       "version_major": 2,
       "version_minor": 0
      },
      "text/plain": [
       "  0%|          | 0/1 [00:00<?, ?it/s]"
      ]
     },
     "metadata": {},
     "output_type": "display_data"
    },
    {
     "name": "stdout",
     "output_type": "stream",
     "text": [
      "{'eval_loss': 1.2421594858169556, 'eval_runtime': 0.9842, 'eval_samples_per_second': 5.08, 'eval_steps_per_second': 1.016, 'epoch': 1.36}\n",
      "{'loss': 0.7497, 'learning_rate': 0.0002, 'epoch': 1.39}\n"
     ]
    },
    {
     "data": {
      "application/vnd.jupyter.widget-view+json": {
       "model_id": "55d9479a2df24963b22e40dbfd1b56fe",
       "version_major": 2,
       "version_minor": 0
      },
      "text/plain": [
       "  0%|          | 0/1 [00:00<?, ?it/s]"
      ]
     },
     "metadata": {},
     "output_type": "display_data"
    },
    {
     "name": "stdout",
     "output_type": "stream",
     "text": [
      "{'eval_loss': 1.229878306388855, 'eval_runtime': 0.9479, 'eval_samples_per_second': 5.275, 'eval_steps_per_second': 1.055, 'epoch': 1.39}\n",
      "{'loss': 0.748, 'learning_rate': 0.0002, 'epoch': 1.43}\n"
     ]
    },
    {
     "data": {
      "application/vnd.jupyter.widget-view+json": {
       "model_id": "215445ddb8a74de8b065c0262de3bcf2",
       "version_major": 2,
       "version_minor": 0
      },
      "text/plain": [
       "  0%|          | 0/1 [00:00<?, ?it/s]"
      ]
     },
     "metadata": {},
     "output_type": "display_data"
    },
    {
     "name": "stdout",
     "output_type": "stream",
     "text": [
      "{'eval_loss': 1.2219041585922241, 'eval_runtime': 1.0327, 'eval_samples_per_second': 4.842, 'eval_steps_per_second': 0.968, 'epoch': 1.43}\n",
      "{'loss': 0.784, 'learning_rate': 0.0002, 'epoch': 1.46}\n"
     ]
    },
    {
     "data": {
      "application/vnd.jupyter.widget-view+json": {
       "model_id": "a2ff8c4276404597bbbd55abee2851a3",
       "version_major": 2,
       "version_minor": 0
      },
      "text/plain": [
       "  0%|          | 0/1 [00:00<?, ?it/s]"
      ]
     },
     "metadata": {},
     "output_type": "display_data"
    },
    {
     "name": "stdout",
     "output_type": "stream",
     "text": [
      "{'eval_loss': 1.2324960231781006, 'eval_runtime': 1.0118, 'eval_samples_per_second': 4.941, 'eval_steps_per_second': 0.988, 'epoch': 1.46}\n",
      "{'loss': 0.7954, 'learning_rate': 0.0002, 'epoch': 1.49}\n"
     ]
    },
    {
     "data": {
      "application/vnd.jupyter.widget-view+json": {
       "model_id": "e8cb68c69fbd4935888fb5e68f19c04a",
       "version_major": 2,
       "version_minor": 0
      },
      "text/plain": [
       "  0%|          | 0/1 [00:00<?, ?it/s]"
      ]
     },
     "metadata": {},
     "output_type": "display_data"
    },
    {
     "name": "stdout",
     "output_type": "stream",
     "text": [
      "{'eval_loss': 1.2548999786376953, 'eval_runtime': 1.0517, 'eval_samples_per_second': 4.754, 'eval_steps_per_second': 0.951, 'epoch': 1.49}\n",
      "{'loss': 0.7886, 'learning_rate': 0.0002, 'epoch': 1.52}\n"
     ]
    },
    {
     "data": {
      "application/vnd.jupyter.widget-view+json": {
       "model_id": "f6b0c3adf5e8410c8b749d413527a748",
       "version_major": 2,
       "version_minor": 0
      },
      "text/plain": [
       "  0%|          | 0/1 [00:00<?, ?it/s]"
      ]
     },
     "metadata": {},
     "output_type": "display_data"
    },
    {
     "name": "stdout",
     "output_type": "stream",
     "text": [
      "{'eval_loss': 1.2498292922973633, 'eval_runtime': 1.0385, 'eval_samples_per_second': 4.814, 'eval_steps_per_second': 0.963, 'epoch': 1.52}\n",
      "{'loss': 0.7426, 'learning_rate': 0.0002, 'epoch': 1.55}\n"
     ]
    },
    {
     "data": {
      "application/vnd.jupyter.widget-view+json": {
       "model_id": "601cfc9cf29e4b25860781fe7527d775",
       "version_major": 2,
       "version_minor": 0
      },
      "text/plain": [
       "  0%|          | 0/1 [00:00<?, ?it/s]"
      ]
     },
     "metadata": {},
     "output_type": "display_data"
    },
    {
     "name": "stdout",
     "output_type": "stream",
     "text": [
      "{'eval_loss': 1.1241346597671509, 'eval_runtime': 1.0774, 'eval_samples_per_second': 4.641, 'eval_steps_per_second': 0.928, 'epoch': 1.55}\n",
      "{'loss': 0.7395, 'learning_rate': 0.0002, 'epoch': 1.58}\n"
     ]
    },
    {
     "data": {
      "application/vnd.jupyter.widget-view+json": {
       "model_id": "071cd2ef6b674f4da07379cd26eabed2",
       "version_major": 2,
       "version_minor": 0
      },
      "text/plain": [
       "  0%|          | 0/1 [00:00<?, ?it/s]"
      ]
     },
     "metadata": {},
     "output_type": "display_data"
    },
    {
     "name": "stdout",
     "output_type": "stream",
     "text": [
      "{'eval_loss': 1.1553950309753418, 'eval_runtime': 0.9649, 'eval_samples_per_second': 5.182, 'eval_steps_per_second': 1.036, 'epoch': 1.58}\n",
      "{'loss': 0.7773, 'learning_rate': 0.0002, 'epoch': 1.61}\n"
     ]
    },
    {
     "data": {
      "application/vnd.jupyter.widget-view+json": {
       "model_id": "d383dc6832dd47b3a0ab0c68a45315a8",
       "version_major": 2,
       "version_minor": 0
      },
      "text/plain": [
       "  0%|          | 0/1 [00:00<?, ?it/s]"
      ]
     },
     "metadata": {},
     "output_type": "display_data"
    },
    {
     "name": "stdout",
     "output_type": "stream",
     "text": [
      "{'eval_loss': 1.1128106117248535, 'eval_runtime': 1.0391, 'eval_samples_per_second': 4.812, 'eval_steps_per_second': 0.962, 'epoch': 1.61}\n",
      "{'loss': 0.7474, 'learning_rate': 0.0002, 'epoch': 1.64}\n"
     ]
    },
    {
     "data": {
      "application/vnd.jupyter.widget-view+json": {
       "model_id": "6ca59f963dde4571be05ca7413d1e999",
       "version_major": 2,
       "version_minor": 0
      },
      "text/plain": [
       "  0%|          | 0/1 [00:00<?, ?it/s]"
      ]
     },
     "metadata": {},
     "output_type": "display_data"
    },
    {
     "name": "stdout",
     "output_type": "stream",
     "text": [
      "{'eval_loss': 1.1231670379638672, 'eval_runtime': 1.0055, 'eval_samples_per_second': 4.972, 'eval_steps_per_second': 0.994, 'epoch': 1.64}\n",
      "{'loss': 0.7461, 'learning_rate': 0.0002, 'epoch': 1.67}\n"
     ]
    },
    {
     "data": {
      "application/vnd.jupyter.widget-view+json": {
       "model_id": "db729b89e68b4340b6227ad94605faa9",
       "version_major": 2,
       "version_minor": 0
      },
      "text/plain": [
       "  0%|          | 0/1 [00:00<?, ?it/s]"
      ]
     },
     "metadata": {},
     "output_type": "display_data"
    },
    {
     "name": "stdout",
     "output_type": "stream",
     "text": [
      "{'eval_loss': 1.1857953071594238, 'eval_runtime': 1.0064, 'eval_samples_per_second': 4.968, 'eval_steps_per_second': 0.994, 'epoch': 1.67}\n",
      "{'loss': 0.7645, 'learning_rate': 0.0002, 'epoch': 1.7}\n"
     ]
    },
    {
     "data": {
      "application/vnd.jupyter.widget-view+json": {
       "model_id": "aa7beb8440894925b1dd95d24e157e3a",
       "version_major": 2,
       "version_minor": 0
      },
      "text/plain": [
       "  0%|          | 0/1 [00:00<?, ?it/s]"
      ]
     },
     "metadata": {},
     "output_type": "display_data"
    },
    {
     "name": "stdout",
     "output_type": "stream",
     "text": [
      "{'eval_loss': 1.2336755990982056, 'eval_runtime': 1.023, 'eval_samples_per_second': 4.888, 'eval_steps_per_second': 0.978, 'epoch': 1.7}\n",
      "{'loss': 0.7491, 'learning_rate': 0.0002, 'epoch': 1.73}\n"
     ]
    },
    {
     "data": {
      "application/vnd.jupyter.widget-view+json": {
       "model_id": "709dbfdc940b4f36a269396b57854678",
       "version_major": 2,
       "version_minor": 0
      },
      "text/plain": [
       "  0%|          | 0/1 [00:00<?, ?it/s]"
      ]
     },
     "metadata": {},
     "output_type": "display_data"
    },
    {
     "name": "stdout",
     "output_type": "stream",
     "text": [
      "{'eval_loss': 1.2110189199447632, 'eval_runtime': 1.0789, 'eval_samples_per_second': 4.634, 'eval_steps_per_second': 0.927, 'epoch': 1.73}\n",
      "{'loss': 0.7686, 'learning_rate': 0.0002, 'epoch': 1.77}\n"
     ]
    },
    {
     "data": {
      "application/vnd.jupyter.widget-view+json": {
       "model_id": "955defd8e4944f05987543fbe2dec047",
       "version_major": 2,
       "version_minor": 0
      },
      "text/plain": [
       "  0%|          | 0/1 [00:00<?, ?it/s]"
      ]
     },
     "metadata": {},
     "output_type": "display_data"
    },
    {
     "name": "stdout",
     "output_type": "stream",
     "text": [
      "{'eval_loss': 1.1813677549362183, 'eval_runtime': 0.958, 'eval_samples_per_second': 5.219, 'eval_steps_per_second': 1.044, 'epoch': 1.77}\n",
      "{'loss': 0.7408, 'learning_rate': 0.0002, 'epoch': 1.8}\n"
     ]
    },
    {
     "data": {
      "application/vnd.jupyter.widget-view+json": {
       "model_id": "b0f53b6de2804797b8b8cd8349fc47a5",
       "version_major": 2,
       "version_minor": 0
      },
      "text/plain": [
       "  0%|          | 0/1 [00:00<?, ?it/s]"
      ]
     },
     "metadata": {},
     "output_type": "display_data"
    },
    {
     "name": "stdout",
     "output_type": "stream",
     "text": [
      "{'eval_loss': 1.1834380626678467, 'eval_runtime': 1.0624, 'eval_samples_per_second': 4.706, 'eval_steps_per_second': 0.941, 'epoch': 1.8}\n",
      "{'loss': 0.7617, 'learning_rate': 0.0002, 'epoch': 1.83}\n"
     ]
    },
    {
     "data": {
      "application/vnd.jupyter.widget-view+json": {
       "model_id": "29c573b8691b4e4383d1df37c531faf0",
       "version_major": 2,
       "version_minor": 0
      },
      "text/plain": [
       "  0%|          | 0/1 [00:00<?, ?it/s]"
      ]
     },
     "metadata": {},
     "output_type": "display_data"
    },
    {
     "name": "stdout",
     "output_type": "stream",
     "text": [
      "{'eval_loss': 1.1837197542190552, 'eval_runtime': 1.0385, 'eval_samples_per_second': 4.814, 'eval_steps_per_second': 0.963, 'epoch': 1.83}\n",
      "{'loss': 0.8033, 'learning_rate': 0.0002, 'epoch': 1.86}\n"
     ]
    },
    {
     "data": {
      "application/vnd.jupyter.widget-view+json": {
       "model_id": "910b5f6451fc4bdda316d228a98316fb",
       "version_major": 2,
       "version_minor": 0
      },
      "text/plain": [
       "  0%|          | 0/1 [00:00<?, ?it/s]"
      ]
     },
     "metadata": {},
     "output_type": "display_data"
    },
    {
     "name": "stdout",
     "output_type": "stream",
     "text": [
      "{'eval_loss': 1.1130905151367188, 'eval_runtime': 0.9925, 'eval_samples_per_second': 5.038, 'eval_steps_per_second': 1.008, 'epoch': 1.86}\n",
      "{'loss': 0.7675, 'learning_rate': 0.0002, 'epoch': 1.89}\n"
     ]
    },
    {
     "data": {
      "application/vnd.jupyter.widget-view+json": {
       "model_id": "00eb1cce39ae474282862d440083ff61",
       "version_major": 2,
       "version_minor": 0
      },
      "text/plain": [
       "  0%|          | 0/1 [00:00<?, ?it/s]"
      ]
     },
     "metadata": {},
     "output_type": "display_data"
    },
    {
     "name": "stdout",
     "output_type": "stream",
     "text": [
      "{'eval_loss': 1.127026915550232, 'eval_runtime': 1.0052, 'eval_samples_per_second': 4.974, 'eval_steps_per_second': 0.995, 'epoch': 1.89}\n",
      "{'loss': 0.7864, 'learning_rate': 0.0002, 'epoch': 1.92}\n"
     ]
    },
    {
     "data": {
      "application/vnd.jupyter.widget-view+json": {
       "model_id": "37ed32e719684a02a474cbc8c357333c",
       "version_major": 2,
       "version_minor": 0
      },
      "text/plain": [
       "  0%|          | 0/1 [00:00<?, ?it/s]"
      ]
     },
     "metadata": {},
     "output_type": "display_data"
    },
    {
     "name": "stdout",
     "output_type": "stream",
     "text": [
      "{'eval_loss': 1.1649160385131836, 'eval_runtime': 1.0327, 'eval_samples_per_second': 4.842, 'eval_steps_per_second': 0.968, 'epoch': 1.92}\n",
      "{'loss': 0.7616, 'learning_rate': 0.0002, 'epoch': 1.95}\n"
     ]
    },
    {
     "data": {
      "application/vnd.jupyter.widget-view+json": {
       "model_id": "a4c3ad961fba499d882e1bc312edf72c",
       "version_major": 2,
       "version_minor": 0
      },
      "text/plain": [
       "  0%|          | 0/1 [00:00<?, ?it/s]"
      ]
     },
     "metadata": {},
     "output_type": "display_data"
    },
    {
     "name": "stdout",
     "output_type": "stream",
     "text": [
      "{'eval_loss': 1.1546752452850342, 'eval_runtime': 0.9463, 'eval_samples_per_second': 5.284, 'eval_steps_per_second': 1.057, 'epoch': 1.95}\n",
      "{'loss': 0.8045, 'learning_rate': 0.0002, 'epoch': 1.98}\n"
     ]
    },
    {
     "data": {
      "application/vnd.jupyter.widget-view+json": {
       "model_id": "5e06e9cd0ebc40dcbc6334dff0effac2",
       "version_major": 2,
       "version_minor": 0
      },
      "text/plain": [
       "  0%|          | 0/1 [00:00<?, ?it/s]"
      ]
     },
     "metadata": {},
     "output_type": "display_data"
    },
    {
     "name": "stdout",
     "output_type": "stream",
     "text": [
      "{'eval_loss': 1.1463888883590698, 'eval_runtime': 0.9964, 'eval_samples_per_second': 5.018, 'eval_steps_per_second': 1.004, 'epoch': 1.98}\n"
     ]
    },
    {
     "name": "stderr",
     "output_type": "stream",
     "text": [
      "/home/pechaut/miniconda3/envs/cairo-llm/lib/python3.9/site-packages/torch/utils/checkpoint.py:429: UserWarning: torch.utils.checkpoint: please pass in use_reentrant=True or use_reentrant=False explicitly. The default value of use_reentrant will be updated to be False in the future. To maintain current behavior, pass use_reentrant=True. It is recommended that you use use_reentrant=False. Refer to docs for more details on the differences between the two variants.\n",
      "  warnings.warn(\n"
     ]
    },
    {
     "name": "stdout",
     "output_type": "stream",
     "text": [
      "{'loss': 0.602, 'learning_rate': 0.0002, 'epoch': 2.01}\n"
     ]
    },
    {
     "data": {
      "application/vnd.jupyter.widget-view+json": {
       "model_id": "5d6cf2bd432c483695b71983d6a7a5bb",
       "version_major": 2,
       "version_minor": 0
      },
      "text/plain": [
       "  0%|          | 0/1 [00:00<?, ?it/s]"
      ]
     },
     "metadata": {},
     "output_type": "display_data"
    },
    {
     "name": "stdout",
     "output_type": "stream",
     "text": [
      "{'eval_loss': 1.2243998050689697, 'eval_runtime': 1.027, 'eval_samples_per_second': 4.869, 'eval_steps_per_second': 0.974, 'epoch': 2.01}\n",
      "{'loss': 0.4527, 'learning_rate': 0.0002, 'epoch': 2.04}\n"
     ]
    },
    {
     "data": {
      "application/vnd.jupyter.widget-view+json": {
       "model_id": "abd912818b2a46668af98b66456a5e97",
       "version_major": 2,
       "version_minor": 0
      },
      "text/plain": [
       "  0%|          | 0/1 [00:00<?, ?it/s]"
      ]
     },
     "metadata": {},
     "output_type": "display_data"
    },
    {
     "name": "stdout",
     "output_type": "stream",
     "text": [
      "{'eval_loss': 1.2077549695968628, 'eval_runtime': 1.0114, 'eval_samples_per_second': 4.944, 'eval_steps_per_second': 0.989, 'epoch': 2.04}\n",
      "{'loss': 0.4753, 'learning_rate': 0.0002, 'epoch': 2.08}\n"
     ]
    },
    {
     "data": {
      "application/vnd.jupyter.widget-view+json": {
       "model_id": "aef5a954c7e74c19a8b91dc4ed7a9831",
       "version_major": 2,
       "version_minor": 0
      },
      "text/plain": [
       "  0%|          | 0/1 [00:00<?, ?it/s]"
      ]
     },
     "metadata": {},
     "output_type": "display_data"
    },
    {
     "name": "stdout",
     "output_type": "stream",
     "text": [
      "{'eval_loss': 1.1556636095046997, 'eval_runtime': 0.9525, 'eval_samples_per_second': 5.25, 'eval_steps_per_second': 1.05, 'epoch': 2.08}\n",
      "{'loss': 0.4633, 'learning_rate': 0.0002, 'epoch': 2.11}\n"
     ]
    },
    {
     "data": {
      "application/vnd.jupyter.widget-view+json": {
       "model_id": "9430cefbac5d4524a0ee8ff6c4d0bd8e",
       "version_major": 2,
       "version_minor": 0
      },
      "text/plain": [
       "  0%|          | 0/1 [00:00<?, ?it/s]"
      ]
     },
     "metadata": {},
     "output_type": "display_data"
    },
    {
     "name": "stdout",
     "output_type": "stream",
     "text": [
      "{'eval_loss': 1.1407361030578613, 'eval_runtime': 0.9541, 'eval_samples_per_second': 5.241, 'eval_steps_per_second': 1.048, 'epoch': 2.11}\n",
      "{'loss': 0.4556, 'learning_rate': 0.0002, 'epoch': 2.14}\n"
     ]
    },
    {
     "data": {
      "application/vnd.jupyter.widget-view+json": {
       "model_id": "3a3fe2a54ec04b53989e517d8ee71094",
       "version_major": 2,
       "version_minor": 0
      },
      "text/plain": [
       "  0%|          | 0/1 [00:00<?, ?it/s]"
      ]
     },
     "metadata": {},
     "output_type": "display_data"
    },
    {
     "name": "stdout",
     "output_type": "stream",
     "text": [
      "{'eval_loss': 1.1873482465744019, 'eval_runtime': 0.9985, 'eval_samples_per_second': 5.008, 'eval_steps_per_second': 1.002, 'epoch': 2.14}\n",
      "{'loss': 0.4842, 'learning_rate': 0.0002, 'epoch': 2.17}\n"
     ]
    },
    {
     "data": {
      "application/vnd.jupyter.widget-view+json": {
       "model_id": "b4ee61eb12984bdd8d9f05fa2574517d",
       "version_major": 2,
       "version_minor": 0
      },
      "text/plain": [
       "  0%|          | 0/1 [00:00<?, ?it/s]"
      ]
     },
     "metadata": {},
     "output_type": "display_data"
    },
    {
     "name": "stdout",
     "output_type": "stream",
     "text": [
      "{'eval_loss': 1.163818359375, 'eval_runtime': 1.0772, 'eval_samples_per_second': 4.642, 'eval_steps_per_second': 0.928, 'epoch': 2.17}\n",
      "{'loss': 0.4636, 'learning_rate': 0.0002, 'epoch': 2.2}\n"
     ]
    },
    {
     "data": {
      "application/vnd.jupyter.widget-view+json": {
       "model_id": "d95809d14e13468ebd46372e4cbcdb5b",
       "version_major": 2,
       "version_minor": 0
      },
      "text/plain": [
       "  0%|          | 0/1 [00:00<?, ?it/s]"
      ]
     },
     "metadata": {},
     "output_type": "display_data"
    },
    {
     "name": "stdout",
     "output_type": "stream",
     "text": [
      "{'eval_loss': 1.1650742292404175, 'eval_runtime': 1.0495, 'eval_samples_per_second': 4.764, 'eval_steps_per_second': 0.953, 'epoch': 2.2}\n",
      "{'loss': 0.4963, 'learning_rate': 0.0002, 'epoch': 2.23}\n"
     ]
    },
    {
     "data": {
      "application/vnd.jupyter.widget-view+json": {
       "model_id": "fe05e2ed4c8d450c897490b541712fa6",
       "version_major": 2,
       "version_minor": 0
      },
      "text/plain": [
       "  0%|          | 0/1 [00:00<?, ?it/s]"
      ]
     },
     "metadata": {},
     "output_type": "display_data"
    },
    {
     "name": "stdout",
     "output_type": "stream",
     "text": [
      "{'eval_loss': 1.1432819366455078, 'eval_runtime': 1.0026, 'eval_samples_per_second': 4.987, 'eval_steps_per_second': 0.997, 'epoch': 2.23}\n",
      "{'loss': 0.5096, 'learning_rate': 0.0002, 'epoch': 2.26}\n"
     ]
    },
    {
     "data": {
      "application/vnd.jupyter.widget-view+json": {
       "model_id": "c7b3e536b8db42eeb1318adcdcdeeb35",
       "version_major": 2,
       "version_minor": 0
      },
      "text/plain": [
       "  0%|          | 0/1 [00:00<?, ?it/s]"
      ]
     },
     "metadata": {},
     "output_type": "display_data"
    },
    {
     "name": "stdout",
     "output_type": "stream",
     "text": [
      "{'eval_loss': 1.1400748491287231, 'eval_runtime': 0.9893, 'eval_samples_per_second': 5.054, 'eval_steps_per_second': 1.011, 'epoch': 2.26}\n",
      "{'loss': 0.4676, 'learning_rate': 0.0002, 'epoch': 2.29}\n"
     ]
    },
    {
     "data": {
      "application/vnd.jupyter.widget-view+json": {
       "model_id": "9c52153e65884e7c8277cb3a50fdb20a",
       "version_major": 2,
       "version_minor": 0
      },
      "text/plain": [
       "  0%|          | 0/1 [00:00<?, ?it/s]"
      ]
     },
     "metadata": {},
     "output_type": "display_data"
    },
    {
     "name": "stdout",
     "output_type": "stream",
     "text": [
      "{'eval_loss': 1.1565922498703003, 'eval_runtime': 1.0768, 'eval_samples_per_second': 4.644, 'eval_steps_per_second': 0.929, 'epoch': 2.29}\n",
      "{'loss': 0.4549, 'learning_rate': 0.0002, 'epoch': 2.32}\n"
     ]
    },
    {
     "data": {
      "application/vnd.jupyter.widget-view+json": {
       "model_id": "b403f958df0249c0bf6e87b71d49ed99",
       "version_major": 2,
       "version_minor": 0
      },
      "text/plain": [
       "  0%|          | 0/1 [00:00<?, ?it/s]"
      ]
     },
     "metadata": {},
     "output_type": "display_data"
    },
    {
     "name": "stdout",
     "output_type": "stream",
     "text": [
      "{'eval_loss': 1.1641991138458252, 'eval_runtime': 1.0885, 'eval_samples_per_second': 4.594, 'eval_steps_per_second': 0.919, 'epoch': 2.32}\n",
      "{'loss': 0.4681, 'learning_rate': 0.0002, 'epoch': 2.35}\n"
     ]
    },
    {
     "data": {
      "application/vnd.jupyter.widget-view+json": {
       "model_id": "6a6de74b9aaa4c90b484b319b5693ad5",
       "version_major": 2,
       "version_minor": 0
      },
      "text/plain": [
       "  0%|          | 0/1 [00:00<?, ?it/s]"
      ]
     },
     "metadata": {},
     "output_type": "display_data"
    },
    {
     "name": "stdout",
     "output_type": "stream",
     "text": [
      "{'eval_loss': 1.1931366920471191, 'eval_runtime': 1.065, 'eval_samples_per_second': 4.695, 'eval_steps_per_second': 0.939, 'epoch': 2.35}\n",
      "{'loss': 0.4387, 'learning_rate': 0.0002, 'epoch': 2.39}\n"
     ]
    },
    {
     "data": {
      "application/vnd.jupyter.widget-view+json": {
       "model_id": "a174ad1199e74bd0b1aac31b91e23349",
       "version_major": 2,
       "version_minor": 0
      },
      "text/plain": [
       "  0%|          | 0/1 [00:00<?, ?it/s]"
      ]
     },
     "metadata": {},
     "output_type": "display_data"
    },
    {
     "name": "stdout",
     "output_type": "stream",
     "text": [
      "{'eval_loss': 1.178044319152832, 'eval_runtime': 0.9745, 'eval_samples_per_second': 5.131, 'eval_steps_per_second': 1.026, 'epoch': 2.39}\n",
      "{'loss': 0.49, 'learning_rate': 0.0002, 'epoch': 2.42}\n"
     ]
    },
    {
     "data": {
      "application/vnd.jupyter.widget-view+json": {
       "model_id": "4b0185666dea4df586b95b3bd2e43e74",
       "version_major": 2,
       "version_minor": 0
      },
      "text/plain": [
       "  0%|          | 0/1 [00:00<?, ?it/s]"
      ]
     },
     "metadata": {},
     "output_type": "display_data"
    },
    {
     "name": "stdout",
     "output_type": "stream",
     "text": [
      "{'eval_loss': 1.1493473052978516, 'eval_runtime': 1.0086, 'eval_samples_per_second': 4.957, 'eval_steps_per_second': 0.991, 'epoch': 2.42}\n",
      "{'loss': 0.4801, 'learning_rate': 0.0002, 'epoch': 2.45}\n"
     ]
    },
    {
     "data": {
      "application/vnd.jupyter.widget-view+json": {
       "model_id": "0dff2a878e124a87a154c03444d4964b",
       "version_major": 2,
       "version_minor": 0
      },
      "text/plain": [
       "  0%|          | 0/1 [00:00<?, ?it/s]"
      ]
     },
     "metadata": {},
     "output_type": "display_data"
    },
    {
     "name": "stdout",
     "output_type": "stream",
     "text": [
      "{'eval_loss': 1.1739344596862793, 'eval_runtime': 1.0404, 'eval_samples_per_second': 4.806, 'eval_steps_per_second': 0.961, 'epoch': 2.45}\n",
      "{'loss': 0.5001, 'learning_rate': 0.0002, 'epoch': 2.48}\n"
     ]
    },
    {
     "data": {
      "application/vnd.jupyter.widget-view+json": {
       "model_id": "870323fcfb4c489d81094b61e314bac9",
       "version_major": 2,
       "version_minor": 0
      },
      "text/plain": [
       "  0%|          | 0/1 [00:00<?, ?it/s]"
      ]
     },
     "metadata": {},
     "output_type": "display_data"
    },
    {
     "name": "stdout",
     "output_type": "stream",
     "text": [
      "{'eval_loss': 1.1341816186904907, 'eval_runtime': 1.0505, 'eval_samples_per_second': 4.76, 'eval_steps_per_second': 0.952, 'epoch': 2.48}\n",
      "{'loss': 0.4858, 'learning_rate': 0.0002, 'epoch': 2.51}\n"
     ]
    },
    {
     "data": {
      "application/vnd.jupyter.widget-view+json": {
       "model_id": "c2c2a7de1cab4142a6b72650ce808063",
       "version_major": 2,
       "version_minor": 0
      },
      "text/plain": [
       "  0%|          | 0/1 [00:00<?, ?it/s]"
      ]
     },
     "metadata": {},
     "output_type": "display_data"
    },
    {
     "name": "stdout",
     "output_type": "stream",
     "text": [
      "{'eval_loss': 1.149137258529663, 'eval_runtime': 1.0129, 'eval_samples_per_second': 4.936, 'eval_steps_per_second': 0.987, 'epoch': 2.51}\n",
      "{'loss': 0.4904, 'learning_rate': 0.0002, 'epoch': 2.54}\n"
     ]
    },
    {
     "data": {
      "application/vnd.jupyter.widget-view+json": {
       "model_id": "b3d583cafdb04f69a5e2e65e3d26f1a8",
       "version_major": 2,
       "version_minor": 0
      },
      "text/plain": [
       "  0%|          | 0/1 [00:00<?, ?it/s]"
      ]
     },
     "metadata": {},
     "output_type": "display_data"
    },
    {
     "name": "stdout",
     "output_type": "stream",
     "text": [
      "{'eval_loss': 1.1740516424179077, 'eval_runtime': 1.0768, 'eval_samples_per_second': 4.644, 'eval_steps_per_second': 0.929, 'epoch': 2.54}\n",
      "{'loss': 0.4994, 'learning_rate': 0.0002, 'epoch': 2.57}\n"
     ]
    },
    {
     "data": {
      "application/vnd.jupyter.widget-view+json": {
       "model_id": "2c22fac6bf694872aba2899a0b492caf",
       "version_major": 2,
       "version_minor": 0
      },
      "text/plain": [
       "  0%|          | 0/1 [00:00<?, ?it/s]"
      ]
     },
     "metadata": {},
     "output_type": "display_data"
    },
    {
     "name": "stdout",
     "output_type": "stream",
     "text": [
      "{'eval_loss': 1.1955397129058838, 'eval_runtime': 0.9839, 'eval_samples_per_second': 5.082, 'eval_steps_per_second': 1.016, 'epoch': 2.57}\n",
      "{'loss': 0.4874, 'learning_rate': 0.0002, 'epoch': 2.6}\n"
     ]
    },
    {
     "data": {
      "application/vnd.jupyter.widget-view+json": {
       "model_id": "88ee0e87e3e04c4cba2074aab79c64fd",
       "version_major": 2,
       "version_minor": 0
      },
      "text/plain": [
       "  0%|          | 0/1 [00:00<?, ?it/s]"
      ]
     },
     "metadata": {},
     "output_type": "display_data"
    },
    {
     "name": "stdout",
     "output_type": "stream",
     "text": [
      "{'eval_loss': 1.1853171586990356, 'eval_runtime': 1.0313, 'eval_samples_per_second': 4.848, 'eval_steps_per_second': 0.97, 'epoch': 2.6}\n",
      "{'loss': 0.5104, 'learning_rate': 0.0002, 'epoch': 2.63}\n"
     ]
    },
    {
     "data": {
      "application/vnd.jupyter.widget-view+json": {
       "model_id": "014214b8d16a415f9109c8337fa6a4fd",
       "version_major": 2,
       "version_minor": 0
      },
      "text/plain": [
       "  0%|          | 0/1 [00:00<?, ?it/s]"
      ]
     },
     "metadata": {},
     "output_type": "display_data"
    },
    {
     "name": "stdout",
     "output_type": "stream",
     "text": [
      "{'eval_loss': 1.2046198844909668, 'eval_runtime': 1.1086, 'eval_samples_per_second': 4.51, 'eval_steps_per_second': 0.902, 'epoch': 2.63}\n",
      "{'loss': 0.5124, 'learning_rate': 0.0002, 'epoch': 2.66}\n"
     ]
    },
    {
     "data": {
      "application/vnd.jupyter.widget-view+json": {
       "model_id": "6b0348bb7d244966b8ef2f66b9654151",
       "version_major": 2,
       "version_minor": 0
      },
      "text/plain": [
       "  0%|          | 0/1 [00:00<?, ?it/s]"
      ]
     },
     "metadata": {},
     "output_type": "display_data"
    },
    {
     "name": "stdout",
     "output_type": "stream",
     "text": [
      "{'eval_loss': 1.186078429222107, 'eval_runtime': 1.0752, 'eval_samples_per_second': 4.65, 'eval_steps_per_second': 0.93, 'epoch': 2.66}\n",
      "{'loss': 0.5142, 'learning_rate': 0.0002, 'epoch': 2.7}\n"
     ]
    },
    {
     "data": {
      "application/vnd.jupyter.widget-view+json": {
       "model_id": "f2817e229626441d83411e1ec3048cc9",
       "version_major": 2,
       "version_minor": 0
      },
      "text/plain": [
       "  0%|          | 0/1 [00:00<?, ?it/s]"
      ]
     },
     "metadata": {},
     "output_type": "display_data"
    },
    {
     "name": "stdout",
     "output_type": "stream",
     "text": [
      "{'eval_loss': 1.198472261428833, 'eval_runtime': 1.0786, 'eval_samples_per_second': 4.636, 'eval_steps_per_second': 0.927, 'epoch': 2.7}\n",
      "{'loss': 0.5045, 'learning_rate': 0.0002, 'epoch': 2.73}\n"
     ]
    },
    {
     "data": {
      "application/vnd.jupyter.widget-view+json": {
       "model_id": "1d4462e4ad1648b79b16fd0ff5f9384d",
       "version_major": 2,
       "version_minor": 0
      },
      "text/plain": [
       "  0%|          | 0/1 [00:00<?, ?it/s]"
      ]
     },
     "metadata": {},
     "output_type": "display_data"
    },
    {
     "name": "stdout",
     "output_type": "stream",
     "text": [
      "{'eval_loss': 1.2013713121414185, 'eval_runtime': 0.9655, 'eval_samples_per_second': 5.178, 'eval_steps_per_second': 1.036, 'epoch': 2.73}\n",
      "{'loss': 0.4935, 'learning_rate': 0.0002, 'epoch': 2.76}\n"
     ]
    },
    {
     "data": {
      "application/vnd.jupyter.widget-view+json": {
       "model_id": "a40dcdc7d3114dcf9284cf483dd4a1db",
       "version_major": 2,
       "version_minor": 0
      },
      "text/plain": [
       "  0%|          | 0/1 [00:00<?, ?it/s]"
      ]
     },
     "metadata": {},
     "output_type": "display_data"
    },
    {
     "name": "stdout",
     "output_type": "stream",
     "text": [
      "{'eval_loss': 1.1764320135116577, 'eval_runtime': 1.0104, 'eval_samples_per_second': 4.948, 'eval_steps_per_second': 0.99, 'epoch': 2.76}\n",
      "{'loss': 0.495, 'learning_rate': 0.0002, 'epoch': 2.79}\n"
     ]
    },
    {
     "data": {
      "application/vnd.jupyter.widget-view+json": {
       "model_id": "ccbcf68613274177a20d60afc81a492e",
       "version_major": 2,
       "version_minor": 0
      },
      "text/plain": [
       "  0%|          | 0/1 [00:00<?, ?it/s]"
      ]
     },
     "metadata": {},
     "output_type": "display_data"
    },
    {
     "name": "stdout",
     "output_type": "stream",
     "text": [
      "{'eval_loss': 1.146445631980896, 'eval_runtime': 0.9884, 'eval_samples_per_second': 5.059, 'eval_steps_per_second': 1.012, 'epoch': 2.79}\n",
      "{'loss': 0.5261, 'learning_rate': 0.0002, 'epoch': 2.82}\n"
     ]
    },
    {
     "data": {
      "application/vnd.jupyter.widget-view+json": {
       "model_id": "24e07cc932a944018af30dcf0a607f1e",
       "version_major": 2,
       "version_minor": 0
      },
      "text/plain": [
       "  0%|          | 0/1 [00:00<?, ?it/s]"
      ]
     },
     "metadata": {},
     "output_type": "display_data"
    },
    {
     "name": "stdout",
     "output_type": "stream",
     "text": [
      "{'eval_loss': 1.1476136445999146, 'eval_runtime': 0.9867, 'eval_samples_per_second': 5.067, 'eval_steps_per_second': 1.013, 'epoch': 2.82}\n",
      "{'loss': 0.5084, 'learning_rate': 0.0002, 'epoch': 2.85}\n"
     ]
    },
    {
     "data": {
      "application/vnd.jupyter.widget-view+json": {
       "model_id": "bf1dd28486f245f58987f92425599f25",
       "version_major": 2,
       "version_minor": 0
      },
      "text/plain": [
       "  0%|          | 0/1 [00:00<?, ?it/s]"
      ]
     },
     "metadata": {},
     "output_type": "display_data"
    },
    {
     "name": "stdout",
     "output_type": "stream",
     "text": [
      "{'eval_loss': 1.1449997425079346, 'eval_runtime': 1.0577, 'eval_samples_per_second': 4.727, 'eval_steps_per_second': 0.945, 'epoch': 2.85}\n",
      "{'loss': 0.5012, 'learning_rate': 0.0002, 'epoch': 2.88}\n"
     ]
    },
    {
     "data": {
      "application/vnd.jupyter.widget-view+json": {
       "model_id": "55cd0c86136649eba81c7fdf36ab203a",
       "version_major": 2,
       "version_minor": 0
      },
      "text/plain": [
       "  0%|          | 0/1 [00:00<?, ?it/s]"
      ]
     },
     "metadata": {},
     "output_type": "display_data"
    },
    {
     "name": "stdout",
     "output_type": "stream",
     "text": [
      "{'eval_loss': 1.1112326383590698, 'eval_runtime': 1.0831, 'eval_samples_per_second': 4.616, 'eval_steps_per_second': 0.923, 'epoch': 2.88}\n",
      "{'loss': 0.5161, 'learning_rate': 0.0002, 'epoch': 2.91}\n"
     ]
    },
    {
     "data": {
      "application/vnd.jupyter.widget-view+json": {
       "model_id": "a0a7d9ed09564d50a9905d47a21af435",
       "version_major": 2,
       "version_minor": 0
      },
      "text/plain": [
       "  0%|          | 0/1 [00:00<?, ?it/s]"
      ]
     },
     "metadata": {},
     "output_type": "display_data"
    },
    {
     "name": "stdout",
     "output_type": "stream",
     "text": [
      "{'eval_loss': 1.1540724039077759, 'eval_runtime': 1.0227, 'eval_samples_per_second': 4.889, 'eval_steps_per_second': 0.978, 'epoch': 2.91}\n",
      "{'loss': 0.5228, 'learning_rate': 0.0002, 'epoch': 2.94}\n"
     ]
    },
    {
     "data": {
      "application/vnd.jupyter.widget-view+json": {
       "model_id": "763b5971a45944c7b7a485aa79ed3049",
       "version_major": 2,
       "version_minor": 0
      },
      "text/plain": [
       "  0%|          | 0/1 [00:00<?, ?it/s]"
      ]
     },
     "metadata": {},
     "output_type": "display_data"
    },
    {
     "name": "stdout",
     "output_type": "stream",
     "text": [
      "{'eval_loss': 1.1492201089859009, 'eval_runtime': 0.9914, 'eval_samples_per_second': 5.043, 'eval_steps_per_second': 1.009, 'epoch': 2.94}\n",
      "{'loss': 0.481, 'learning_rate': 0.0002, 'epoch': 2.97}\n"
     ]
    },
    {
     "data": {
      "application/vnd.jupyter.widget-view+json": {
       "model_id": "6c00ded6e7ae46529268625ca2d90dee",
       "version_major": 2,
       "version_minor": 0
      },
      "text/plain": [
       "  0%|          | 0/1 [00:00<?, ?it/s]"
      ]
     },
     "metadata": {},
     "output_type": "display_data"
    },
    {
     "name": "stdout",
     "output_type": "stream",
     "text": [
      "{'eval_loss': 1.0871368646621704, 'eval_runtime': 0.9503, 'eval_samples_per_second': 5.262, 'eval_steps_per_second': 1.052, 'epoch': 2.97}\n",
      "{'train_runtime': 11434.3858, 'train_samples_per_second': 0.847, 'train_steps_per_second': 0.423, 'train_loss': 0.8158592860691807, 'epoch': 3.0}\n"
     ]
    },
    {
     "data": {
      "application/vnd.jupyter.widget-view+json": {
       "model_id": "29fd2c6ee7cd49d48b14646df7493437",
       "version_major": 2,
       "version_minor": 0
      },
      "text/plain": [
       "adapter_model.bin:   0%|          | 0.00/649M [00:00<?, ?B/s]"
      ]
     },
     "metadata": {},
     "output_type": "display_data"
    },
    {
     "data": {
      "text/plain": [
       "CommitInfo(commit_url='https://huggingface.co/StarkWizard/llama-2-7b-cairo-trained-PEFT/commit/e233f22ba1e69f1b356912a20b4df2ddff4e677a', commit_message='Upload tokenizer', commit_description='', oid='e233f22ba1e69f1b356912a20b4df2ddff4e677a', pr_url=None, pr_revision=None, pr_num=None)"
      ]
     },
     "execution_count": 6,
     "metadata": {},
     "output_type": "execute_result"
    }
   ],
   "source": [
    "torch.cuda.empty_cache()\n",
    "supervised_finetuning_trainer.train()\n",
    "supervised_finetuning_trainer.model.push_to_hub(new_model)\n",
    "tokenizer.push_to_hub(new_model)"
   ]
  },
  {
   "cell_type": "markdown",
   "metadata": {},
   "source": [
    "If you are on a colab, push to hub or save to drive"
   ]
  }
 ],
 "metadata": {
  "kernelspec": {
   "display_name": "trch",
   "language": "python",
   "name": "python3"
  },
  "language_info": {
   "codemirror_mode": {
    "name": "ipython",
    "version": 3
   },
   "file_extension": ".py",
   "mimetype": "text/x-python",
   "name": "python",
   "nbconvert_exporter": "python",
   "pygments_lexer": "ipython3",
   "version": "3.9.18"
  },
  "orig_nbformat": 4
 },
 "nbformat": 4,
 "nbformat_minor": 2
}
