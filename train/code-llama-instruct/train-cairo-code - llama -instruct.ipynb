{
 "cells": [
  {
   "cell_type": "markdown",
   "metadata": {},
   "source": [
    "If in VSCODE:"
   ]
  },
  {
   "cell_type": "code",
   "execution_count": 1,
   "metadata": {},
   "outputs": [
    {
     "name": "stdout",
     "output_type": "stream",
     "text": [
      "2.1.0+cu121\n"
     ]
    },
    {
     "data": {
      "text/plain": [
       "True"
      ]
     },
     "execution_count": 1,
     "metadata": {},
     "output_type": "execute_result"
    }
   ],
   "source": [
    "# check if Torch supports CUDA\n",
    "import torch\n",
    "print(torch.__version__)\n",
    "torch.cuda.is_available()\n"
   ]
  },
  {
   "cell_type": "markdown",
   "metadata": {},
   "source": [
    "Hyper params"
   ]
  },
  {
   "cell_type": "code",
   "execution_count": 1,
   "metadata": {},
   "outputs": [],
   "source": [
    "# The model that you want to train from the Hugging Face hub\n",
    "model_name = \"codellama/CodeLlama-7b-Instruct-hf\"\n",
    "\n",
    "# The instruction dataset to use\n",
    "dataset_name = \"StarkWizard/cairo-instruct\"\n",
    "\n",
    "# Fine-tuned model name\n",
    "new_model = \"StarkWizard/llama-2-7b-cairo-trained-PEFT\"\n",
    "\n",
    "\n",
    "import os\n",
    "os.environ[\"TOKENIZERS_PARALLELISM\"] = \"false\"\n",
    "\n",
    "\n",
    "\n",
    "nb_epochs = 3"
   ]
  },
  {
   "cell_type": "code",
   "execution_count": 2,
   "metadata": {},
   "outputs": [
    {
     "name": "stderr",
     "output_type": "stream",
     "text": [
      "Failed to detect the name of this notebook, you can set it manually with the WANDB_NOTEBOOK_NAME environment variable to enable code saving.\n",
      "\u001b[34m\u001b[1mwandb\u001b[0m: Currently logged in as: \u001b[33mpierre-emmanuel-chaut\u001b[0m. Use \u001b[1m`wandb login --relogin`\u001b[0m to force relogin\n"
     ]
    },
    {
     "data": {
      "text/html": [
       "Tracking run with wandb version 0.15.12"
      ],
      "text/plain": [
       "<IPython.core.display.HTML object>"
      ]
     },
     "metadata": {},
     "output_type": "display_data"
    },
    {
     "data": {
      "text/html": [
       "Run data is saved locally in <code>/home/pechaut/prj/cairo-llm/train/code-llama-instruct/wandb/run-20231101_195219-7rkj1oe0</code>"
      ],
      "text/plain": [
       "<IPython.core.display.HTML object>"
      ]
     },
     "metadata": {},
     "output_type": "display_data"
    },
    {
     "data": {
      "text/html": [
       "Syncing run <strong><a href='https://wandb.ai/pierre-emmanuel-chaut/codellama-cairo/runs/7rkj1oe0' target=\"_blank\">vibrant-water-19</a></strong> to <a href='https://wandb.ai/pierre-emmanuel-chaut/codellama-cairo' target=\"_blank\">Weights & Biases</a> (<a href='https://wandb.me/run' target=\"_blank\">docs</a>)<br/>"
      ],
      "text/plain": [
       "<IPython.core.display.HTML object>"
      ]
     },
     "metadata": {},
     "output_type": "display_data"
    },
    {
     "data": {
      "text/html": [
       " View project at <a href='https://wandb.ai/pierre-emmanuel-chaut/codellama-cairo' target=\"_blank\">https://wandb.ai/pierre-emmanuel-chaut/codellama-cairo</a>"
      ],
      "text/plain": [
       "<IPython.core.display.HTML object>"
      ]
     },
     "metadata": {},
     "output_type": "display_data"
    },
    {
     "data": {
      "text/html": [
       " View run at <a href='https://wandb.ai/pierre-emmanuel-chaut/codellama-cairo/runs/7rkj1oe0' target=\"_blank\">https://wandb.ai/pierre-emmanuel-chaut/codellama-cairo/runs/7rkj1oe0</a>"
      ],
      "text/plain": [
       "<IPython.core.display.HTML object>"
      ]
     },
     "metadata": {},
     "output_type": "display_data"
    },
    {
     "data": {
      "text/html": [
       "<button onClick=\"this.nextSibling.style.display='block';this.style.display='none';\">Display W&B run</button><iframe src='https://wandb.ai/pierre-emmanuel-chaut/codellama-cairo/runs/7rkj1oe0?jupyter=true' style='border:none;width:100%;height:420px;display:none;'></iframe>"
      ],
      "text/plain": [
       "<wandb.sdk.wandb_run.Run at 0x7f22e5810850>"
      ]
     },
     "execution_count": 2,
     "metadata": {},
     "output_type": "execute_result"
    }
   ],
   "source": [
    "import wandb\n",
    "import random\n",
    "\n",
    "# start a new wandb run to track this script\n",
    "wandb.init(\n",
    "    # set the wandb project where this run will be logged\n",
    "    project=\"codellama-cairo\",\n",
    "    \n",
    "    # track hyperparameters and run metadata\n",
    "    config={\n",
    "\n",
    "    \"epochs\":nb_epochs,\n",
    "    }\n",
    ")"
   ]
  },
  {
   "cell_type": "markdown",
   "metadata": {},
   "source": [
    "Load Base Model and Tokenizer"
   ]
  },
  {
   "cell_type": "code",
   "execution_count": 3,
   "metadata": {},
   "outputs": [
    {
     "data": {
      "application/vnd.jupyter.widget-view+json": {
       "model_id": "b3f34f53e99f4089951e9d972f07f671",
       "version_major": 2,
       "version_minor": 0
      },
      "text/plain": [
       "Loading checkpoint shards:   0%|          | 0/2 [00:00<?, ?it/s]"
      ]
     },
     "metadata": {},
     "output_type": "display_data"
    }
   ],
   "source": [
    "import torch\n",
    "from datasets import load_dataset, Dataset\n",
    "from peft import LoraConfig, AutoPeftModelForCausalLM,prepare_model_for_kbit_training\n",
    "from transformers import AutoModelForCausalLM, AutoTokenizer, BitsAndBytesConfig\n",
    "from trl import SFTTrainer\n",
    "import os\n",
    "\n",
    "# Load the tokenizer from the model (llama2)\n",
    "tokenizer = AutoTokenizer.from_pretrained(model_name)\n",
    "tokenizer.pad_token =tokenizer.eos_token\n",
    "tokenizer.padding_side='right'\n",
    "\n",
    "# load the quantized settings: 4 bit quantization\n",
    "bnb_config = BitsAndBytesConfig(\n",
    "    load_in_4bit=True,\n",
    "    bnb_4bit_quant_type=\"nf4\",\n",
    "    bnb_4bit_compute_dtype=torch.bfloat16,\n",
    "    bnb_4bit_use_double_quant=True,\n",
    ")\n",
    "\n",
    "# Load base model\n",
    "model = AutoModelForCausalLM.from_pretrained(\n",
    "    pretrained_model_name_or_path=model_name,\n",
    "    quantization_config=bnb_config,\n",
    "    max_memory= {i: '12000MB' for i in range(torch.cuda.device_count())},\n",
    "    device_map={\"\": 0}\n",
    ")\n",
    "\n",
    "\n",
    "# don't use the cache\n",
    "model.config.use_cache = False\n",
    "model.config.pretraining_tp=1\n",
    "model.config.window = 256 \n",
    "model.gradient_checkpointing_enable()\n",
    "model = prepare_model_for_kbit_training(model)\n",
    "peft_config = LoraConfig(\n",
    "        r=64, lora_alpha=16, lora_dropout=0.1, bias=\"none\", task_type=\"CAUSAL_LM\", target_modules=[\n",
    "        \"q_proj\",\n",
    "        \"k_proj\",\n",
    "        \"v_proj\",\n",
    "        \"o_proj\",\n",
    "        \"up_proj\",\n",
    "        \"down_proj\",\n",
    "        \"gate_proj\",\n",
    "        'lm_head',],\n",
    "\n",
    "        inference_mode = False\n",
    "    )\n",
    "\n"
   ]
  },
  {
   "cell_type": "markdown",
   "metadata": {},
   "source": [
    "Import Dataset from Hugging Face"
   ]
  },
  {
   "cell_type": "code",
   "execution_count": 4,
   "metadata": {},
   "outputs": [
    {
     "name": "stderr",
     "output_type": "stream",
     "text": [
      "/home/pechaut/miniconda3/envs/cairo-llm/lib/python3.9/site-packages/datasets/load.py:2097: FutureWarning: 'ignore_verifications' was deprecated in favor of 'verification_mode' in version 2.9.1 and will be removed in 3.0.0.\n",
      "You can remove this warning by passing 'verification_mode=no_checks' instead.\n",
      "  warnings.warn(\n"
     ]
    },
    {
     "data": {
      "application/vnd.jupyter.widget-view+json": {
       "model_id": "6fd1fc88723844a3afb983275c7a6a86",
       "version_major": 2,
       "version_minor": 0
      },
      "text/plain": [
       "Downloading readme:   0%|          | 0.00/531 [00:00<?, ?B/s]"
      ]
     },
     "metadata": {},
     "output_type": "display_data"
    },
    {
     "data": {
      "application/vnd.jupyter.widget-view+json": {
       "model_id": "c38950f8acfb4446bd65decbdf280517",
       "version_major": 2,
       "version_minor": 0
      },
      "text/plain": [
       "Downloading data files:   0%|          | 0/2 [00:00<?, ?it/s]"
      ]
     },
     "metadata": {},
     "output_type": "display_data"
    },
    {
     "data": {
      "application/vnd.jupyter.widget-view+json": {
       "model_id": "389b565cea0144368deac73b2603998e",
       "version_major": 2,
       "version_minor": 0
      },
      "text/plain": [
       "Downloading data:   0%|          | 0.00/287k [00:00<?, ?B/s]"
      ]
     },
     "metadata": {},
     "output_type": "display_data"
    },
    {
     "data": {
      "application/vnd.jupyter.widget-view+json": {
       "model_id": "1096990de8ac422992d80ef26f4a6436",
       "version_major": 2,
       "version_minor": 0
      },
      "text/plain": [
       "Downloading data:   0%|          | 0.00/2.42k [00:00<?, ?B/s]"
      ]
     },
     "metadata": {},
     "output_type": "display_data"
    },
    {
     "data": {
      "application/vnd.jupyter.widget-view+json": {
       "model_id": "7823da8eba534674805ff6cbec4630a2",
       "version_major": 2,
       "version_minor": 0
      },
      "text/plain": [
       "Extracting data files:   0%|          | 0/2 [00:00<?, ?it/s]"
      ]
     },
     "metadata": {},
     "output_type": "display_data"
    },
    {
     "data": {
      "application/vnd.jupyter.widget-view+json": {
       "model_id": "b97c895d87af43c4ad7694acaaef631e",
       "version_major": 2,
       "version_minor": 0
      },
      "text/plain": [
       "Generating train split:   0%|          | 0/3098 [00:00<?, ? examples/s]"
      ]
     },
     "metadata": {},
     "output_type": "display_data"
    },
    {
     "data": {
      "application/vnd.jupyter.widget-view+json": {
       "model_id": "d769f824c8d94030ba4ef8726786ab1f",
       "version_major": 2,
       "version_minor": 0
      },
      "text/plain": [
       "Generating eval split:   0%|          | 0/5 [00:00<?, ? examples/s]"
      ]
     },
     "metadata": {},
     "output_type": "display_data"
    },
    {
     "data": {
      "application/vnd.jupyter.widget-view+json": {
       "model_id": "f10839d84ad3447885e4e48f02f87357",
       "version_major": 2,
       "version_minor": 0
      },
      "text/plain": [
       "Downloading readme:   0%|          | 0.00/531 [00:00<?, ?B/s]"
      ]
     },
     "metadata": {},
     "output_type": "display_data"
    },
    {
     "data": {
      "application/vnd.jupyter.widget-view+json": {
       "model_id": "577db9c8dec444be8a6568c3865f5270",
       "version_major": 2,
       "version_minor": 0
      },
      "text/plain": [
       "Downloading data files:   0%|          | 0/2 [00:00<?, ?it/s]"
      ]
     },
     "metadata": {},
     "output_type": "display_data"
    },
    {
     "data": {
      "application/vnd.jupyter.widget-view+json": {
       "model_id": "f4228b3ab2d64b47ab3f5673b03a2c7f",
       "version_major": 2,
       "version_minor": 0
      },
      "text/plain": [
       "Downloading data:   0%|          | 0.00/287k [00:00<?, ?B/s]"
      ]
     },
     "metadata": {},
     "output_type": "display_data"
    },
    {
     "data": {
      "application/vnd.jupyter.widget-view+json": {
       "model_id": "b288afd8b1054f70ad32ef04a2201870",
       "version_major": 2,
       "version_minor": 0
      },
      "text/plain": [
       "Downloading data:   0%|          | 0.00/2.42k [00:00<?, ?B/s]"
      ]
     },
     "metadata": {},
     "output_type": "display_data"
    },
    {
     "data": {
      "application/vnd.jupyter.widget-view+json": {
       "model_id": "10278ecd26744fa4b01171fb77b06d16",
       "version_major": 2,
       "version_minor": 0
      },
      "text/plain": [
       "Extracting data files:   0%|          | 0/2 [00:00<?, ?it/s]"
      ]
     },
     "metadata": {},
     "output_type": "display_data"
    },
    {
     "data": {
      "application/vnd.jupyter.widget-view+json": {
       "model_id": "25f1919714e848a49be70c118569b6c1",
       "version_major": 2,
       "version_minor": 0
      },
      "text/plain": [
       "Generating train split:   0%|          | 0/3098 [00:00<?, ? examples/s]"
      ]
     },
     "metadata": {},
     "output_type": "display_data"
    },
    {
     "data": {
      "application/vnd.jupyter.widget-view+json": {
       "model_id": "12a90196fb85459d875f60015a869dde",
       "version_major": 2,
       "version_minor": 0
      },
      "text/plain": [
       "Generating eval split:   0%|          | 0/5 [00:00<?, ? examples/s]"
      ]
     },
     "metadata": {},
     "output_type": "display_data"
    }
   ],
   "source": [
    "from datasets import load_dataset\n",
    "\n",
    "# Load the dataset\n",
    "dataset_train = load_dataset(dataset_name, split=\"train\", download_mode='force_redownload',ignore_verifications=True)\n",
    "dataset_test = load_dataset(dataset_name, split=\"eval\", download_mode='force_redownload',ignore_verifications=True)\n",
    "dataset_train = dataset_train.shuffle(seed=42)"
   ]
  },
  {
   "cell_type": "markdown",
   "metadata": {},
   "source": [
    "Check to see if everything is fine before launching training"
   ]
  },
  {
   "cell_type": "markdown",
   "metadata": {},
   "source": [
    "Load Model"
   ]
  },
  {
   "cell_type": "code",
   "execution_count": 6,
   "metadata": {},
   "outputs": [
    {
     "data": {
      "application/vnd.jupyter.widget-view+json": {
       "model_id": "bcf8561bac094918919ce27b53b4caa0",
       "version_major": 2,
       "version_minor": 0
      },
      "text/plain": [
       "VBox(children=(HTML(value='<center> <img\\nsrc=https://huggingface.co/front/assets/huggingface_logo-noborder.sv…"
      ]
     },
     "metadata": {},
     "output_type": "display_data"
    }
   ],
   "source": [
    "from huggingface_hub import notebook_login\n",
    "notebook_login()"
   ]
  },
  {
   "cell_type": "code",
   "execution_count": 5,
   "metadata": {},
   "outputs": [
    {
     "data": {
      "application/vnd.jupyter.widget-view+json": {
       "model_id": "58ecb2160d2e463588b4ca9d34afb0ae",
       "version_major": 2,
       "version_minor": 0
      },
      "text/plain": [
       "Map:   0%|          | 0/3098 [00:00<?, ? examples/s]"
      ]
     },
     "metadata": {},
     "output_type": "display_data"
    },
    {
     "data": {
      "application/vnd.jupyter.widget-view+json": {
       "model_id": "27e4c87842ea45da9880928b4cb3d501",
       "version_major": 2,
       "version_minor": 0
      },
      "text/plain": [
       "Map:   0%|          | 0/5 [00:00<?, ? examples/s]"
      ]
     },
     "metadata": {},
     "output_type": "display_data"
    }
   ],
   "source": [
    "from trl import SFTTrainer\n",
    "import transformers\n",
    "\n",
    "\n",
    "\n",
    "supervised_finetuning_trainer = SFTTrainer(\n",
    "    model=model,\n",
    "    train_dataset=dataset_train,\n",
    "    eval_dataset=dataset_test,\n",
    "    peft_config=peft_config,\n",
    "    dataset_text_field=\"text\",\n",
    "    tokenizer=tokenizer,\n",
    "    packing=False,\n",
    "    max_seq_length=1024,\n",
    "    args=transformers.TrainingArguments(\n",
    "        per_device_train_batch_size=2,\n",
    "        gradient_accumulation_steps=1,\n",
    "         gradient_checkpointing = True,\n",
    "         evaluation_strategy=\"steps\",\n",
    "         max_grad_norm=0.3,\n",
    "        warmup_ratio=0.03,\n",
    "        optim=\"paged_adamw_32bit\",\n",
    "        learning_rate=2e-4,\n",
    "        lr_scheduler_type=\"constant\",\n",
    "        save_strategy=\"epoch\",\n",
    "        logging_steps=50,\n",
    "        num_train_epochs=nb_epochs,\n",
    "        output_dir=new_model,\n",
    "        fp16=False,\n",
    "        push_to_hub=True,\n",
    "        group_by_length=True,\n",
    "         report_to=\"wandb\",\n",
    "         adam_beta2=0.999,\n",
    "         do_train=True,\n",
    "    ),\n",
    ")\n"
   ]
  },
  {
   "cell_type": "code",
   "execution_count": 6,
   "metadata": {},
   "outputs": [
    {
     "data": {
      "application/vnd.jupyter.widget-view+json": {
       "model_id": "0f78fad729a34c83ad104ce664e27385",
       "version_major": 2,
       "version_minor": 0
      },
      "text/plain": [
       "  0%|          | 0/4647 [00:00<?, ?it/s]"
      ]
     },
     "metadata": {},
     "output_type": "display_data"
    },
    {
     "name": "stderr",
     "output_type": "stream",
     "text": [
      "You're using a CodeLlamaTokenizerFast tokenizer. Please note that with a fast tokenizer, using the `__call__` method is faster than using a method to encode the text followed by a call to the `pad` method to get a padded encoding.\n",
      "/home/pechaut/miniconda3/envs/cairo-llm/lib/python3.9/site-packages/torch/utils/checkpoint.py:429: UserWarning: torch.utils.checkpoint: please pass in use_reentrant=True or use_reentrant=False explicitly. The default value of use_reentrant will be updated to be False in the future. To maintain current behavior, pass use_reentrant=True. It is recommended that you use use_reentrant=False. Refer to docs for more details on the differences between the two variants.\n",
      "  warnings.warn(\n"
     ]
    },
    {
     "name": "stdout",
     "output_type": "stream",
     "text": [
      "{'loss': 1.7928, 'learning_rate': 0.0002, 'epoch': 0.03}\n"
     ]
    },
    {
     "data": {
      "application/vnd.jupyter.widget-view+json": {
       "model_id": "fb634c7812694fd3b5c34a8516ea2815",
       "version_major": 2,
       "version_minor": 0
      },
      "text/plain": [
       "  0%|          | 0/1 [00:00<?, ?it/s]"
      ]
     },
     "metadata": {},
     "output_type": "display_data"
    },
    {
     "name": "stdout",
     "output_type": "stream",
     "text": [
      "{'eval_loss': 1.751805305480957, 'eval_runtime': 0.9977, 'eval_samples_per_second': 5.011, 'eval_steps_per_second': 1.002, 'epoch': 0.03}\n",
      "{'loss': 1.374, 'learning_rate': 0.0002, 'epoch': 0.06}\n"
     ]
    },
    {
     "data": {
      "application/vnd.jupyter.widget-view+json": {
       "model_id": "527d3584ad4346b29feb77fd6beba498",
       "version_major": 2,
       "version_minor": 0
      },
      "text/plain": [
       "  0%|          | 0/1 [00:00<?, ?it/s]"
      ]
     },
     "metadata": {},
     "output_type": "display_data"
    },
    {
     "name": "stdout",
     "output_type": "stream",
     "text": [
      "{'eval_loss': 1.6665284633636475, 'eval_runtime': 1.0269, 'eval_samples_per_second': 4.869, 'eval_steps_per_second': 0.974, 'epoch': 0.06}\n",
      "{'loss': 1.3746, 'learning_rate': 0.0002, 'epoch': 0.1}\n"
     ]
    },
    {
     "data": {
      "application/vnd.jupyter.widget-view+json": {
       "model_id": "2e29d6309c1344c184dc4bd7ffdb631d",
       "version_major": 2,
       "version_minor": 0
      },
      "text/plain": [
       "  0%|          | 0/1 [00:00<?, ?it/s]"
      ]
     },
     "metadata": {},
     "output_type": "display_data"
    },
    {
     "name": "stdout",
     "output_type": "stream",
     "text": [
      "{'eval_loss': 1.6084439754486084, 'eval_runtime': 1.1187, 'eval_samples_per_second': 4.469, 'eval_steps_per_second': 0.894, 'epoch': 0.1}\n",
      "{'loss': 1.3371, 'learning_rate': 0.0002, 'epoch': 0.13}\n"
     ]
    },
    {
     "data": {
      "application/vnd.jupyter.widget-view+json": {
       "model_id": "045fa03d9db5417b8d0cfcce93ce7222",
       "version_major": 2,
       "version_minor": 0
      },
      "text/plain": [
       "  0%|          | 0/1 [00:00<?, ?it/s]"
      ]
     },
     "metadata": {},
     "output_type": "display_data"
    },
    {
     "name": "stdout",
     "output_type": "stream",
     "text": [
      "{'eval_loss': 1.5551466941833496, 'eval_runtime': 0.9652, 'eval_samples_per_second': 5.18, 'eval_steps_per_second': 1.036, 'epoch': 0.13}\n",
      "{'loss': 1.2589, 'learning_rate': 0.0002, 'epoch': 0.16}\n"
     ]
    },
    {
     "data": {
      "application/vnd.jupyter.widget-view+json": {
       "model_id": "3bfea21f528548118aff5a7b1ffa3828",
       "version_major": 2,
       "version_minor": 0
      },
      "text/plain": [
       "  0%|          | 0/1 [00:00<?, ?it/s]"
      ]
     },
     "metadata": {},
     "output_type": "display_data"
    },
    {
     "name": "stdout",
     "output_type": "stream",
     "text": [
      "{'eval_loss': 1.5594829320907593, 'eval_runtime': 1.0552, 'eval_samples_per_second': 4.739, 'eval_steps_per_second': 0.948, 'epoch': 0.16}\n",
      "{'loss': 1.3297, 'learning_rate': 0.0002, 'epoch': 0.19}\n"
     ]
    },
    {
     "data": {
      "application/vnd.jupyter.widget-view+json": {
       "model_id": "2c8e3261b66a4048b95b1fc6f7c1359f",
       "version_major": 2,
       "version_minor": 0
      },
      "text/plain": [
       "  0%|          | 0/1 [00:00<?, ?it/s]"
      ]
     },
     "metadata": {},
     "output_type": "display_data"
    },
    {
     "name": "stdout",
     "output_type": "stream",
     "text": [
      "{'eval_loss': 1.4583946466445923, 'eval_runtime': 1.0358, 'eval_samples_per_second': 4.827, 'eval_steps_per_second': 0.965, 'epoch': 0.19}\n",
      "{'loss': 1.2542, 'learning_rate': 0.0002, 'epoch': 0.23}\n"
     ]
    },
    {
     "data": {
      "application/vnd.jupyter.widget-view+json": {
       "model_id": "aea9a339f7054e93945d6cb5e5fa7cc6",
       "version_major": 2,
       "version_minor": 0
      },
      "text/plain": [
       "  0%|          | 0/1 [00:00<?, ?it/s]"
      ]
     },
     "metadata": {},
     "output_type": "display_data"
    },
    {
     "name": "stdout",
     "output_type": "stream",
     "text": [
      "{'eval_loss': 1.4896982908248901, 'eval_runtime': 1.0354, 'eval_samples_per_second': 4.829, 'eval_steps_per_second': 0.966, 'epoch': 0.23}\n",
      "{'loss': 1.2552, 'learning_rate': 0.0002, 'epoch': 0.26}\n"
     ]
    },
    {
     "data": {
      "application/vnd.jupyter.widget-view+json": {
       "model_id": "c2a28861c0144fbbb594486a72d4cf84",
       "version_major": 2,
       "version_minor": 0
      },
      "text/plain": [
       "  0%|          | 0/1 [00:00<?, ?it/s]"
      ]
     },
     "metadata": {},
     "output_type": "display_data"
    },
    {
     "name": "stdout",
     "output_type": "stream",
     "text": [
      "{'eval_loss': 1.4413139820098877, 'eval_runtime': 1.097, 'eval_samples_per_second': 4.558, 'eval_steps_per_second': 0.912, 'epoch': 0.26}\n",
      "{'loss': 1.2109, 'learning_rate': 0.0002, 'epoch': 0.29}\n"
     ]
    },
    {
     "data": {
      "application/vnd.jupyter.widget-view+json": {
       "model_id": "dcc7c79f46cd471985d17afba088a672",
       "version_major": 2,
       "version_minor": 0
      },
      "text/plain": [
       "  0%|          | 0/1 [00:00<?, ?it/s]"
      ]
     },
     "metadata": {},
     "output_type": "display_data"
    },
    {
     "name": "stdout",
     "output_type": "stream",
     "text": [
      "{'eval_loss': 1.484762191772461, 'eval_runtime': 1.0435, 'eval_samples_per_second': 4.792, 'eval_steps_per_second': 0.958, 'epoch': 0.29}\n",
      "{'loss': 1.2565, 'learning_rate': 0.0002, 'epoch': 0.32}\n"
     ]
    },
    {
     "data": {
      "application/vnd.jupyter.widget-view+json": {
       "model_id": "f02b167ff3474782bd5af76793e99b47",
       "version_major": 2,
       "version_minor": 0
      },
      "text/plain": [
       "  0%|          | 0/1 [00:00<?, ?it/s]"
      ]
     },
     "metadata": {},
     "output_type": "display_data"
    },
    {
     "name": "stdout",
     "output_type": "stream",
     "text": [
      "{'eval_loss': 1.4078571796417236, 'eval_runtime': 1.1106, 'eval_samples_per_second': 4.502, 'eval_steps_per_second': 0.9, 'epoch': 0.32}\n",
      "{'loss': 1.1347, 'learning_rate': 0.0002, 'epoch': 0.36}\n"
     ]
    },
    {
     "data": {
      "application/vnd.jupyter.widget-view+json": {
       "model_id": "36eba1bb026541dfbedb19c9b5402d41",
       "version_major": 2,
       "version_minor": 0
      },
      "text/plain": [
       "  0%|          | 0/1 [00:00<?, ?it/s]"
      ]
     },
     "metadata": {},
     "output_type": "display_data"
    },
    {
     "name": "stdout",
     "output_type": "stream",
     "text": [
      "{'eval_loss': 1.4506256580352783, 'eval_runtime': 1.0096, 'eval_samples_per_second': 4.952, 'eval_steps_per_second': 0.99, 'epoch': 0.36}\n",
      "{'loss': 1.2243, 'learning_rate': 0.0002, 'epoch': 0.39}\n"
     ]
    },
    {
     "data": {
      "application/vnd.jupyter.widget-view+json": {
       "model_id": "2e91c5540ae749dcbb70c59494341bae",
       "version_major": 2,
       "version_minor": 0
      },
      "text/plain": [
       "  0%|          | 0/1 [00:00<?, ?it/s]"
      ]
     },
     "metadata": {},
     "output_type": "display_data"
    },
    {
     "name": "stdout",
     "output_type": "stream",
     "text": [
      "{'eval_loss': 1.441019058227539, 'eval_runtime': 1.0404, 'eval_samples_per_second': 4.806, 'eval_steps_per_second': 0.961, 'epoch': 0.39}\n",
      "{'loss': 1.113, 'learning_rate': 0.0002, 'epoch': 0.42}\n"
     ]
    },
    {
     "data": {
      "application/vnd.jupyter.widget-view+json": {
       "model_id": "1079515456134bad925b55ec6779b6cc",
       "version_major": 2,
       "version_minor": 0
      },
      "text/plain": [
       "  0%|          | 0/1 [00:00<?, ?it/s]"
      ]
     },
     "metadata": {},
     "output_type": "display_data"
    },
    {
     "name": "stdout",
     "output_type": "stream",
     "text": [
      "{'eval_loss': 1.4427286386489868, 'eval_runtime': 1.0665, 'eval_samples_per_second': 4.688, 'eval_steps_per_second': 0.938, 'epoch': 0.42}\n",
      "{'loss': 1.2125, 'learning_rate': 0.0002, 'epoch': 0.45}\n"
     ]
    },
    {
     "data": {
      "application/vnd.jupyter.widget-view+json": {
       "model_id": "5f2e57ceff3343a59aacc43288af847f",
       "version_major": 2,
       "version_minor": 0
      },
      "text/plain": [
       "  0%|          | 0/1 [00:00<?, ?it/s]"
      ]
     },
     "metadata": {},
     "output_type": "display_data"
    },
    {
     "name": "stdout",
     "output_type": "stream",
     "text": [
      "{'eval_loss': 1.3795690536499023, 'eval_runtime': 1.0593, 'eval_samples_per_second': 4.72, 'eval_steps_per_second': 0.944, 'epoch': 0.45}\n",
      "{'loss': 1.1992, 'learning_rate': 0.0002, 'epoch': 0.48}\n"
     ]
    },
    {
     "data": {
      "application/vnd.jupyter.widget-view+json": {
       "model_id": "355940bb8d584cad9abbce8ef4714f6d",
       "version_major": 2,
       "version_minor": 0
      },
      "text/plain": [
       "  0%|          | 0/1 [00:00<?, ?it/s]"
      ]
     },
     "metadata": {},
     "output_type": "display_data"
    },
    {
     "name": "stdout",
     "output_type": "stream",
     "text": [
      "{'eval_loss': 1.4236949682235718, 'eval_runtime': 1.0798, 'eval_samples_per_second': 4.631, 'eval_steps_per_second': 0.926, 'epoch': 0.48}\n",
      "{'loss': 1.1307, 'learning_rate': 0.0002, 'epoch': 0.52}\n"
     ]
    },
    {
     "data": {
      "application/vnd.jupyter.widget-view+json": {
       "model_id": "6ffe0f860d384700ac63c53932e409d5",
       "version_major": 2,
       "version_minor": 0
      },
      "text/plain": [
       "  0%|          | 0/1 [00:00<?, ?it/s]"
      ]
     },
     "metadata": {},
     "output_type": "display_data"
    },
    {
     "name": "stdout",
     "output_type": "stream",
     "text": [
      "{'eval_loss': 1.444097638130188, 'eval_runtime': 0.9966, 'eval_samples_per_second': 5.017, 'eval_steps_per_second': 1.003, 'epoch': 0.52}\n",
      "{'loss': 1.1111, 'learning_rate': 0.0002, 'epoch': 0.55}\n"
     ]
    },
    {
     "data": {
      "application/vnd.jupyter.widget-view+json": {
       "model_id": "5355d956e6134530a811add9a729c2bf",
       "version_major": 2,
       "version_minor": 0
      },
      "text/plain": [
       "  0%|          | 0/1 [00:00<?, ?it/s]"
      ]
     },
     "metadata": {},
     "output_type": "display_data"
    },
    {
     "name": "stdout",
     "output_type": "stream",
     "text": [
      "{'eval_loss': 1.4618232250213623, 'eval_runtime': 1.0233, 'eval_samples_per_second': 4.886, 'eval_steps_per_second': 0.977, 'epoch': 0.55}\n",
      "{'loss': 1.1566, 'learning_rate': 0.0002, 'epoch': 0.58}\n"
     ]
    },
    {
     "data": {
      "application/vnd.jupyter.widget-view+json": {
       "model_id": "a26246b0413d4c3ea0b413b6c359f14d",
       "version_major": 2,
       "version_minor": 0
      },
      "text/plain": [
       "  0%|          | 0/1 [00:00<?, ?it/s]"
      ]
     },
     "metadata": {},
     "output_type": "display_data"
    },
    {
     "name": "stdout",
     "output_type": "stream",
     "text": [
      "{'eval_loss': 1.454189419746399, 'eval_runtime': 1.0825, 'eval_samples_per_second': 4.619, 'eval_steps_per_second': 0.924, 'epoch': 0.58}\n",
      "{'loss': 1.2194, 'learning_rate': 0.0002, 'epoch': 0.61}\n"
     ]
    },
    {
     "data": {
      "application/vnd.jupyter.widget-view+json": {
       "model_id": "b02664de16fc4383a2eada2d25aa510c",
       "version_major": 2,
       "version_minor": 0
      },
      "text/plain": [
       "  0%|          | 0/1 [00:00<?, ?it/s]"
      ]
     },
     "metadata": {},
     "output_type": "display_data"
    },
    {
     "name": "stdout",
     "output_type": "stream",
     "text": [
      "{'eval_loss': 1.4481364488601685, 'eval_runtime': 1.0088, 'eval_samples_per_second': 4.956, 'eval_steps_per_second': 0.991, 'epoch': 0.61}\n",
      "{'loss': 1.0512, 'learning_rate': 0.0002, 'epoch': 0.65}\n"
     ]
    },
    {
     "data": {
      "application/vnd.jupyter.widget-view+json": {
       "model_id": "3b461493734344109336162eef853351",
       "version_major": 2,
       "version_minor": 0
      },
      "text/plain": [
       "  0%|          | 0/1 [00:00<?, ?it/s]"
      ]
     },
     "metadata": {},
     "output_type": "display_data"
    },
    {
     "name": "stdout",
     "output_type": "stream",
     "text": [
      "{'eval_loss': 1.3941881656646729, 'eval_runtime': 1.0335, 'eval_samples_per_second': 4.838, 'eval_steps_per_second': 0.968, 'epoch': 0.65}\n",
      "{'loss': 1.1394, 'learning_rate': 0.0002, 'epoch': 0.68}\n"
     ]
    },
    {
     "data": {
      "application/vnd.jupyter.widget-view+json": {
       "model_id": "f888c98325f84f28b67b72a03a058a29",
       "version_major": 2,
       "version_minor": 0
      },
      "text/plain": [
       "  0%|          | 0/1 [00:00<?, ?it/s]"
      ]
     },
     "metadata": {},
     "output_type": "display_data"
    },
    {
     "name": "stdout",
     "output_type": "stream",
     "text": [
      "{'eval_loss': 1.4018315076828003, 'eval_runtime': 0.9985, 'eval_samples_per_second': 5.007, 'eval_steps_per_second': 1.001, 'epoch': 0.68}\n",
      "{'loss': 1.1058, 'learning_rate': 0.0002, 'epoch': 0.71}\n"
     ]
    },
    {
     "data": {
      "application/vnd.jupyter.widget-view+json": {
       "model_id": "b7c2af89e4584ebd96fe42786b19c1fd",
       "version_major": 2,
       "version_minor": 0
      },
      "text/plain": [
       "  0%|          | 0/1 [00:00<?, ?it/s]"
      ]
     },
     "metadata": {},
     "output_type": "display_data"
    },
    {
     "name": "stdout",
     "output_type": "stream",
     "text": [
      "{'eval_loss': 1.4378776550292969, 'eval_runtime': 1.0828, 'eval_samples_per_second': 4.618, 'eval_steps_per_second': 0.924, 'epoch': 0.71}\n",
      "{'loss': 1.1063, 'learning_rate': 0.0002, 'epoch': 0.74}\n"
     ]
    },
    {
     "data": {
      "application/vnd.jupyter.widget-view+json": {
       "model_id": "f711c6e1a8eb48e6bfa7fef77ebe8819",
       "version_major": 2,
       "version_minor": 0
      },
      "text/plain": [
       "  0%|          | 0/1 [00:00<?, ?it/s]"
      ]
     },
     "metadata": {},
     "output_type": "display_data"
    },
    {
     "name": "stdout",
     "output_type": "stream",
     "text": [
      "{'eval_loss': 1.4148465394973755, 'eval_runtime': 1.0602, 'eval_samples_per_second': 4.716, 'eval_steps_per_second': 0.943, 'epoch': 0.74}\n",
      "{'loss': 1.0676, 'learning_rate': 0.0002, 'epoch': 0.77}\n"
     ]
    },
    {
     "data": {
      "application/vnd.jupyter.widget-view+json": {
       "model_id": "e2ef0f7123d14f19baa351a7bf41194a",
       "version_major": 2,
       "version_minor": 0
      },
      "text/plain": [
       "  0%|          | 0/1 [00:00<?, ?it/s]"
      ]
     },
     "metadata": {},
     "output_type": "display_data"
    },
    {
     "name": "stdout",
     "output_type": "stream",
     "text": [
      "{'eval_loss': 1.418550729751587, 'eval_runtime': 1.0765, 'eval_samples_per_second': 4.645, 'eval_steps_per_second': 0.929, 'epoch': 0.77}\n",
      "{'loss': 1.1186, 'learning_rate': 0.0002, 'epoch': 0.81}\n"
     ]
    },
    {
     "data": {
      "application/vnd.jupyter.widget-view+json": {
       "model_id": "ead9d34aef794673a91c0b1a74afa4f1",
       "version_major": 2,
       "version_minor": 0
      },
      "text/plain": [
       "  0%|          | 0/1 [00:00<?, ?it/s]"
      ]
     },
     "metadata": {},
     "output_type": "display_data"
    },
    {
     "name": "stdout",
     "output_type": "stream",
     "text": [
      "{'eval_loss': 1.4167691469192505, 'eval_runtime': 1.083, 'eval_samples_per_second': 4.617, 'eval_steps_per_second': 0.923, 'epoch': 0.81}\n",
      "{'loss': 1.0809, 'learning_rate': 0.0002, 'epoch': 0.84}\n"
     ]
    },
    {
     "data": {
      "application/vnd.jupyter.widget-view+json": {
       "model_id": "499a3a01f5dc407d9c2c97374f7e38c2",
       "version_major": 2,
       "version_minor": 0
      },
      "text/plain": [
       "  0%|          | 0/1 [00:00<?, ?it/s]"
      ]
     },
     "metadata": {},
     "output_type": "display_data"
    },
    {
     "name": "stdout",
     "output_type": "stream",
     "text": [
      "{'eval_loss': 1.4433698654174805, 'eval_runtime': 1.051, 'eval_samples_per_second': 4.758, 'eval_steps_per_second': 0.952, 'epoch': 0.84}\n",
      "{'loss': 1.1061, 'learning_rate': 0.0002, 'epoch': 0.87}\n"
     ]
    },
    {
     "data": {
      "application/vnd.jupyter.widget-view+json": {
       "model_id": "4ce7e8ad84e849bc90b573ba13f190a3",
       "version_major": 2,
       "version_minor": 0
      },
      "text/plain": [
       "  0%|          | 0/1 [00:00<?, ?it/s]"
      ]
     },
     "metadata": {},
     "output_type": "display_data"
    },
    {
     "name": "stdout",
     "output_type": "stream",
     "text": [
      "{'eval_loss': 1.3786821365356445, 'eval_runtime': 1.0817, 'eval_samples_per_second': 4.622, 'eval_steps_per_second': 0.924, 'epoch': 0.87}\n",
      "{'loss': 1.0886, 'learning_rate': 0.0002, 'epoch': 0.9}\n"
     ]
    },
    {
     "data": {
      "application/vnd.jupyter.widget-view+json": {
       "model_id": "f408108f8e5b4ba1bdbc2e91bc1bd055",
       "version_major": 2,
       "version_minor": 0
      },
      "text/plain": [
       "  0%|          | 0/1 [00:00<?, ?it/s]"
      ]
     },
     "metadata": {},
     "output_type": "display_data"
    },
    {
     "name": "stdout",
     "output_type": "stream",
     "text": [
      "{'eval_loss': 1.3604226112365723, 'eval_runtime': 1.0519, 'eval_samples_per_second': 4.753, 'eval_steps_per_second': 0.951, 'epoch': 0.9}\n",
      "{'loss': 1.1136, 'learning_rate': 0.0002, 'epoch': 0.94}\n"
     ]
    },
    {
     "data": {
      "application/vnd.jupyter.widget-view+json": {
       "model_id": "4486b3e3ae8242918b71373653f5f667",
       "version_major": 2,
       "version_minor": 0
      },
      "text/plain": [
       "  0%|          | 0/1 [00:00<?, ?it/s]"
      ]
     },
     "metadata": {},
     "output_type": "display_data"
    },
    {
     "name": "stdout",
     "output_type": "stream",
     "text": [
      "{'eval_loss': 1.2817264795303345, 'eval_runtime': 0.9796, 'eval_samples_per_second': 5.104, 'eval_steps_per_second': 1.021, 'epoch': 0.94}\n",
      "{'loss': 1.1029, 'learning_rate': 0.0002, 'epoch': 0.97}\n"
     ]
    },
    {
     "data": {
      "application/vnd.jupyter.widget-view+json": {
       "model_id": "0207676bc2204c84b4c56088ce4b5c88",
       "version_major": 2,
       "version_minor": 0
      },
      "text/plain": [
       "  0%|          | 0/1 [00:00<?, ?it/s]"
      ]
     },
     "metadata": {},
     "output_type": "display_data"
    },
    {
     "name": "stdout",
     "output_type": "stream",
     "text": [
      "{'eval_loss': 1.2555086612701416, 'eval_runtime': 1.083, 'eval_samples_per_second': 4.617, 'eval_steps_per_second': 0.923, 'epoch': 0.97}\n"
     ]
    },
    {
     "name": "stderr",
     "output_type": "stream",
     "text": [
      "/home/pechaut/miniconda3/envs/cairo-llm/lib/python3.9/site-packages/torch/utils/checkpoint.py:429: UserWarning: torch.utils.checkpoint: please pass in use_reentrant=True or use_reentrant=False explicitly. The default value of use_reentrant will be updated to be False in the future. To maintain current behavior, pass use_reentrant=True. It is recommended that you use use_reentrant=False. Refer to docs for more details on the differences between the two variants.\n",
      "  warnings.warn(\n"
     ]
    },
    {
     "name": "stdout",
     "output_type": "stream",
     "text": [
      "{'loss': 1.0294, 'learning_rate': 0.0002, 'epoch': 1.0}\n"
     ]
    },
    {
     "data": {
      "application/vnd.jupyter.widget-view+json": {
       "model_id": "74e3ba4d2c624efdbd25280f90e4e0c7",
       "version_major": 2,
       "version_minor": 0
      },
      "text/plain": [
       "  0%|          | 0/1 [00:00<?, ?it/s]"
      ]
     },
     "metadata": {},
     "output_type": "display_data"
    },
    {
     "name": "stdout",
     "output_type": "stream",
     "text": [
      "{'eval_loss': 1.2638098001480103, 'eval_runtime': 1.085, 'eval_samples_per_second': 4.608, 'eval_steps_per_second': 0.922, 'epoch': 1.0}\n",
      "{'loss': 0.8565, 'learning_rate': 0.0002, 'epoch': 1.03}\n"
     ]
    },
    {
     "data": {
      "application/vnd.jupyter.widget-view+json": {
       "model_id": "866b230de1644659ae7dc296d242bd0f",
       "version_major": 2,
       "version_minor": 0
      },
      "text/plain": [
       "  0%|          | 0/1 [00:00<?, ?it/s]"
      ]
     },
     "metadata": {},
     "output_type": "display_data"
    },
    {
     "name": "stdout",
     "output_type": "stream",
     "text": [
      "{'eval_loss': 1.3214924335479736, 'eval_runtime': 1.0896, 'eval_samples_per_second': 4.589, 'eval_steps_per_second': 0.918, 'epoch': 1.03}\n",
      "{'loss': 0.7755, 'learning_rate': 0.0002, 'epoch': 1.07}\n"
     ]
    },
    {
     "data": {
      "application/vnd.jupyter.widget-view+json": {
       "model_id": "90c4d6e99b084859892f4f2ec292f5b5",
       "version_major": 2,
       "version_minor": 0
      },
      "text/plain": [
       "  0%|          | 0/1 [00:00<?, ?it/s]"
      ]
     },
     "metadata": {},
     "output_type": "display_data"
    },
    {
     "name": "stdout",
     "output_type": "stream",
     "text": [
      "{'eval_loss': 1.3242384195327759, 'eval_runtime': 1.0509, 'eval_samples_per_second': 4.758, 'eval_steps_per_second': 0.952, 'epoch': 1.07}\n",
      "{'loss': 0.7944, 'learning_rate': 0.0002, 'epoch': 1.1}\n"
     ]
    },
    {
     "data": {
      "application/vnd.jupyter.widget-view+json": {
       "model_id": "33a69c9027cc47de9218d6b7ad339d24",
       "version_major": 2,
       "version_minor": 0
      },
      "text/plain": [
       "  0%|          | 0/1 [00:00<?, ?it/s]"
      ]
     },
     "metadata": {},
     "output_type": "display_data"
    },
    {
     "name": "stdout",
     "output_type": "stream",
     "text": [
      "{'eval_loss': 1.3184218406677246, 'eval_runtime': 1.118, 'eval_samples_per_second': 4.472, 'eval_steps_per_second': 0.894, 'epoch': 1.1}\n",
      "{'loss': 0.7327, 'learning_rate': 0.0002, 'epoch': 1.13}\n"
     ]
    },
    {
     "data": {
      "application/vnd.jupyter.widget-view+json": {
       "model_id": "5f6858bcc63e4d8d8b347dd018a4442f",
       "version_major": 2,
       "version_minor": 0
      },
      "text/plain": [
       "  0%|          | 0/1 [00:00<?, ?it/s]"
      ]
     },
     "metadata": {},
     "output_type": "display_data"
    },
    {
     "name": "stdout",
     "output_type": "stream",
     "text": [
      "{'eval_loss': 1.3880282640457153, 'eval_runtime': 1.1007, 'eval_samples_per_second': 4.543, 'eval_steps_per_second': 0.909, 'epoch': 1.13}\n",
      "{'loss': 0.7142, 'learning_rate': 0.0002, 'epoch': 1.16}\n"
     ]
    },
    {
     "data": {
      "application/vnd.jupyter.widget-view+json": {
       "model_id": "1b6571e10b664bbfb46583b2d24f61ee",
       "version_major": 2,
       "version_minor": 0
      },
      "text/plain": [
       "  0%|          | 0/1 [00:00<?, ?it/s]"
      ]
     },
     "metadata": {},
     "output_type": "display_data"
    },
    {
     "name": "stdout",
     "output_type": "stream",
     "text": [
      "{'eval_loss': 1.3043408393859863, 'eval_runtime': 1.0849, 'eval_samples_per_second': 4.609, 'eval_steps_per_second': 0.922, 'epoch': 1.16}\n",
      "{'loss': 0.7542, 'learning_rate': 0.0002, 'epoch': 1.19}\n"
     ]
    },
    {
     "data": {
      "application/vnd.jupyter.widget-view+json": {
       "model_id": "0141dab4a48c49b9afc0c0959b570564",
       "version_major": 2,
       "version_minor": 0
      },
      "text/plain": [
       "  0%|          | 0/1 [00:00<?, ?it/s]"
      ]
     },
     "metadata": {},
     "output_type": "display_data"
    },
    {
     "name": "stdout",
     "output_type": "stream",
     "text": [
      "{'eval_loss': 1.3231381177902222, 'eval_runtime': 1.03, 'eval_samples_per_second': 4.854, 'eval_steps_per_second': 0.971, 'epoch': 1.19}\n",
      "{'loss': 0.7916, 'learning_rate': 0.0002, 'epoch': 1.23}\n"
     ]
    },
    {
     "data": {
      "application/vnd.jupyter.widget-view+json": {
       "model_id": "e8ca39587f484b14965b3a5f82323f0a",
       "version_major": 2,
       "version_minor": 0
      },
      "text/plain": [
       "  0%|          | 0/1 [00:00<?, ?it/s]"
      ]
     },
     "metadata": {},
     "output_type": "display_data"
    },
    {
     "name": "stdout",
     "output_type": "stream",
     "text": [
      "{'eval_loss': 1.3092024326324463, 'eval_runtime': 1.0832, 'eval_samples_per_second': 4.616, 'eval_steps_per_second': 0.923, 'epoch': 1.23}\n",
      "{'loss': 0.7637, 'learning_rate': 0.0002, 'epoch': 1.26}\n"
     ]
    },
    {
     "data": {
      "application/vnd.jupyter.widget-view+json": {
       "model_id": "ad84c44bed2348b4901f6051c6bc86ca",
       "version_major": 2,
       "version_minor": 0
      },
      "text/plain": [
       "  0%|          | 0/1 [00:00<?, ?it/s]"
      ]
     },
     "metadata": {},
     "output_type": "display_data"
    },
    {
     "name": "stdout",
     "output_type": "stream",
     "text": [
      "{'eval_loss': 1.3267351388931274, 'eval_runtime': 1.0225, 'eval_samples_per_second': 4.89, 'eval_steps_per_second': 0.978, 'epoch': 1.26}\n",
      "{'loss': 0.7851, 'learning_rate': 0.0002, 'epoch': 1.29}\n"
     ]
    },
    {
     "data": {
      "application/vnd.jupyter.widget-view+json": {
       "model_id": "558ff113b6934a0e84580bb5c944d19e",
       "version_major": 2,
       "version_minor": 0
      },
      "text/plain": [
       "  0%|          | 0/1 [00:00<?, ?it/s]"
      ]
     },
     "metadata": {},
     "output_type": "display_data"
    },
    {
     "name": "stdout",
     "output_type": "stream",
     "text": [
      "{'eval_loss': 1.3388983011245728, 'eval_runtime': 1.0865, 'eval_samples_per_second': 4.602, 'eval_steps_per_second': 0.92, 'epoch': 1.29}\n",
      "{'loss': 0.7345, 'learning_rate': 0.0002, 'epoch': 1.32}\n"
     ]
    },
    {
     "data": {
      "application/vnd.jupyter.widget-view+json": {
       "model_id": "a44163cd8b894c0bbd0998e920d84fc8",
       "version_major": 2,
       "version_minor": 0
      },
      "text/plain": [
       "  0%|          | 0/1 [00:00<?, ?it/s]"
      ]
     },
     "metadata": {},
     "output_type": "display_data"
    },
    {
     "name": "stdout",
     "output_type": "stream",
     "text": [
      "{'eval_loss': 1.3171805143356323, 'eval_runtime': 1.0931, 'eval_samples_per_second': 4.574, 'eval_steps_per_second': 0.915, 'epoch': 1.32}\n",
      "{'loss': 0.7663, 'learning_rate': 0.0002, 'epoch': 1.36}\n"
     ]
    },
    {
     "data": {
      "application/vnd.jupyter.widget-view+json": {
       "model_id": "00089be2ae3f4c4fb227434332026934",
       "version_major": 2,
       "version_minor": 0
      },
      "text/plain": [
       "  0%|          | 0/1 [00:00<?, ?it/s]"
      ]
     },
     "metadata": {},
     "output_type": "display_data"
    },
    {
     "name": "stdout",
     "output_type": "stream",
     "text": [
      "{'eval_loss': 1.2936022281646729, 'eval_runtime': 1.0193, 'eval_samples_per_second': 4.905, 'eval_steps_per_second': 0.981, 'epoch': 1.36}\n",
      "{'loss': 0.8308, 'learning_rate': 0.0002, 'epoch': 1.39}\n"
     ]
    },
    {
     "data": {
      "application/vnd.jupyter.widget-view+json": {
       "model_id": "c9e1144fbcae42f694bf0a0516efad9f",
       "version_major": 2,
       "version_minor": 0
      },
      "text/plain": [
       "  0%|          | 0/1 [00:00<?, ?it/s]"
      ]
     },
     "metadata": {},
     "output_type": "display_data"
    },
    {
     "name": "stdout",
     "output_type": "stream",
     "text": [
      "{'eval_loss': 1.2629172801971436, 'eval_runtime': 1.0335, 'eval_samples_per_second': 4.838, 'eval_steps_per_second': 0.968, 'epoch': 1.39}\n",
      "{'loss': 0.8065, 'learning_rate': 0.0002, 'epoch': 1.42}\n"
     ]
    },
    {
     "data": {
      "application/vnd.jupyter.widget-view+json": {
       "model_id": "3d561fec88ba4744b5e2cbbfa025d116",
       "version_major": 2,
       "version_minor": 0
      },
      "text/plain": [
       "  0%|          | 0/1 [00:00<?, ?it/s]"
      ]
     },
     "metadata": {},
     "output_type": "display_data"
    },
    {
     "name": "stdout",
     "output_type": "stream",
     "text": [
      "{'eval_loss': 1.2976363897323608, 'eval_runtime': 0.9922, 'eval_samples_per_second': 5.039, 'eval_steps_per_second': 1.008, 'epoch': 1.42}\n",
      "{'loss': 0.8018, 'learning_rate': 0.0002, 'epoch': 1.45}\n"
     ]
    },
    {
     "data": {
      "application/vnd.jupyter.widget-view+json": {
       "model_id": "46b1817e937d490bb572dd5cbf509f09",
       "version_major": 2,
       "version_minor": 0
      },
      "text/plain": [
       "  0%|          | 0/1 [00:00<?, ?it/s]"
      ]
     },
     "metadata": {},
     "output_type": "display_data"
    },
    {
     "name": "stdout",
     "output_type": "stream",
     "text": [
      "{'eval_loss': 1.29605233669281, 'eval_runtime': 0.9922, 'eval_samples_per_second': 5.039, 'eval_steps_per_second': 1.008, 'epoch': 1.45}\n",
      "{'loss': 0.7663, 'learning_rate': 0.0002, 'epoch': 1.48}\n"
     ]
    },
    {
     "data": {
      "application/vnd.jupyter.widget-view+json": {
       "model_id": "2ec5ab023c0d435aa14023a4cfb2a4d4",
       "version_major": 2,
       "version_minor": 0
      },
      "text/plain": [
       "  0%|          | 0/1 [00:00<?, ?it/s]"
      ]
     },
     "metadata": {},
     "output_type": "display_data"
    },
    {
     "name": "stdout",
     "output_type": "stream",
     "text": [
      "{'eval_loss': 1.2784119844436646, 'eval_runtime': 1.093, 'eval_samples_per_second': 4.574, 'eval_steps_per_second': 0.915, 'epoch': 1.48}\n",
      "{'loss': 0.7805, 'learning_rate': 0.0002, 'epoch': 1.52}\n"
     ]
    },
    {
     "data": {
      "application/vnd.jupyter.widget-view+json": {
       "model_id": "57a4b1cab58d46bbaff0c410cff70795",
       "version_major": 2,
       "version_minor": 0
      },
      "text/plain": [
       "  0%|          | 0/1 [00:00<?, ?it/s]"
      ]
     },
     "metadata": {},
     "output_type": "display_data"
    },
    {
     "name": "stdout",
     "output_type": "stream",
     "text": [
      "{'eval_loss': 1.242705225944519, 'eval_runtime': 1.0852, 'eval_samples_per_second': 4.607, 'eval_steps_per_second': 0.921, 'epoch': 1.52}\n",
      "{'loss': 0.7624, 'learning_rate': 0.0002, 'epoch': 1.55}\n"
     ]
    },
    {
     "data": {
      "application/vnd.jupyter.widget-view+json": {
       "model_id": "99344989dee14dc1801d19d8aac1a574",
       "version_major": 2,
       "version_minor": 0
      },
      "text/plain": [
       "  0%|          | 0/1 [00:00<?, ?it/s]"
      ]
     },
     "metadata": {},
     "output_type": "display_data"
    },
    {
     "name": "stdout",
     "output_type": "stream",
     "text": [
      "{'eval_loss': 1.2314867973327637, 'eval_runtime': 0.9807, 'eval_samples_per_second': 5.098, 'eval_steps_per_second': 1.02, 'epoch': 1.55}\n",
      "{'loss': 0.7902, 'learning_rate': 0.0002, 'epoch': 1.58}\n"
     ]
    },
    {
     "data": {
      "application/vnd.jupyter.widget-view+json": {
       "model_id": "645a2375e4094899905671479edd4621",
       "version_major": 2,
       "version_minor": 0
      },
      "text/plain": [
       "  0%|          | 0/1 [00:00<?, ?it/s]"
      ]
     },
     "metadata": {},
     "output_type": "display_data"
    },
    {
     "name": "stdout",
     "output_type": "stream",
     "text": [
      "{'eval_loss': 1.2342816591262817, 'eval_runtime': 0.993, 'eval_samples_per_second': 5.035, 'eval_steps_per_second': 1.007, 'epoch': 1.58}\n",
      "{'loss': 0.7929, 'learning_rate': 0.0002, 'epoch': 1.61}\n"
     ]
    },
    {
     "data": {
      "application/vnd.jupyter.widget-view+json": {
       "model_id": "ebea2537e07a4c778341689f87338604",
       "version_major": 2,
       "version_minor": 0
      },
      "text/plain": [
       "  0%|          | 0/1 [00:00<?, ?it/s]"
      ]
     },
     "metadata": {},
     "output_type": "display_data"
    },
    {
     "name": "stdout",
     "output_type": "stream",
     "text": [
      "{'eval_loss': 1.2274799346923828, 'eval_runtime': 1.0868, 'eval_samples_per_second': 4.601, 'eval_steps_per_second': 0.92, 'epoch': 1.61}\n",
      "{'loss': 0.7583, 'learning_rate': 0.0002, 'epoch': 1.65}\n"
     ]
    },
    {
     "data": {
      "application/vnd.jupyter.widget-view+json": {
       "model_id": "d7bd6b049e63477ba5c99fc0cb4da1c0",
       "version_major": 2,
       "version_minor": 0
      },
      "text/plain": [
       "  0%|          | 0/1 [00:00<?, ?it/s]"
      ]
     },
     "metadata": {},
     "output_type": "display_data"
    },
    {
     "name": "stdout",
     "output_type": "stream",
     "text": [
      "{'eval_loss': 1.2447692155838013, 'eval_runtime': 1.089, 'eval_samples_per_second': 4.591, 'eval_steps_per_second': 0.918, 'epoch': 1.65}\n",
      "{'loss': 0.7694, 'learning_rate': 0.0002, 'epoch': 1.68}\n"
     ]
    },
    {
     "data": {
      "application/vnd.jupyter.widget-view+json": {
       "model_id": "fbe11ffd0cc64144b4eaaae583c3801f",
       "version_major": 2,
       "version_minor": 0
      },
      "text/plain": [
       "  0%|          | 0/1 [00:00<?, ?it/s]"
      ]
     },
     "metadata": {},
     "output_type": "display_data"
    },
    {
     "name": "stdout",
     "output_type": "stream",
     "text": [
      "{'eval_loss': 1.2487540245056152, 'eval_runtime': 1.0876, 'eval_samples_per_second': 4.597, 'eval_steps_per_second': 0.919, 'epoch': 1.68}\n",
      "{'loss': 0.8278, 'learning_rate': 0.0002, 'epoch': 1.71}\n"
     ]
    },
    {
     "data": {
      "application/vnd.jupyter.widget-view+json": {
       "model_id": "8b7a6d98d71a4b3aa560f12cad974b55",
       "version_major": 2,
       "version_minor": 0
      },
      "text/plain": [
       "  0%|          | 0/1 [00:00<?, ?it/s]"
      ]
     },
     "metadata": {},
     "output_type": "display_data"
    },
    {
     "name": "stdout",
     "output_type": "stream",
     "text": [
      "{'eval_loss': 1.1578967571258545, 'eval_runtime': 1.0946, 'eval_samples_per_second': 4.568, 'eval_steps_per_second': 0.914, 'epoch': 1.71}\n",
      "{'loss': 0.7728, 'learning_rate': 0.0002, 'epoch': 1.74}\n"
     ]
    },
    {
     "data": {
      "application/vnd.jupyter.widget-view+json": {
       "model_id": "8afa33a3b9ca460f809738117b3f4e18",
       "version_major": 2,
       "version_minor": 0
      },
      "text/plain": [
       "  0%|          | 0/1 [00:00<?, ?it/s]"
      ]
     },
     "metadata": {},
     "output_type": "display_data"
    },
    {
     "name": "stdout",
     "output_type": "stream",
     "text": [
      "{'eval_loss': 1.1484034061431885, 'eval_runtime': 1.0338, 'eval_samples_per_second': 4.837, 'eval_steps_per_second': 0.967, 'epoch': 1.74}\n",
      "{'loss': 0.7529, 'learning_rate': 0.0002, 'epoch': 1.78}\n"
     ]
    },
    {
     "data": {
      "application/vnd.jupyter.widget-view+json": {
       "model_id": "5339be4c8ece4f8aadaf12b65f832433",
       "version_major": 2,
       "version_minor": 0
      },
      "text/plain": [
       "  0%|          | 0/1 [00:00<?, ?it/s]"
      ]
     },
     "metadata": {},
     "output_type": "display_data"
    },
    {
     "name": "stdout",
     "output_type": "stream",
     "text": [
      "{'eval_loss': 1.1478101015090942, 'eval_runtime': 1.0193, 'eval_samples_per_second': 4.905, 'eval_steps_per_second': 0.981, 'epoch': 1.78}\n",
      "{'loss': 0.8151, 'learning_rate': 0.0002, 'epoch': 1.81}\n"
     ]
    },
    {
     "data": {
      "application/vnd.jupyter.widget-view+json": {
       "model_id": "15b15e9357bd4dc2b6201dc2f6085a66",
       "version_major": 2,
       "version_minor": 0
      },
      "text/plain": [
       "  0%|          | 0/1 [00:00<?, ?it/s]"
      ]
     },
     "metadata": {},
     "output_type": "display_data"
    },
    {
     "name": "stdout",
     "output_type": "stream",
     "text": [
      "{'eval_loss': 1.1674635410308838, 'eval_runtime': 0.9973, 'eval_samples_per_second': 5.013, 'eval_steps_per_second': 1.003, 'epoch': 1.81}\n",
      "{'loss': 0.74, 'learning_rate': 0.0002, 'epoch': 1.84}\n"
     ]
    },
    {
     "data": {
      "application/vnd.jupyter.widget-view+json": {
       "model_id": "e63f24be6bb8483a94818279fd92960b",
       "version_major": 2,
       "version_minor": 0
      },
      "text/plain": [
       "  0%|          | 0/1 [00:00<?, ?it/s]"
      ]
     },
     "metadata": {},
     "output_type": "display_data"
    },
    {
     "name": "stdout",
     "output_type": "stream",
     "text": [
      "{'eval_loss': 1.1705304384231567, 'eval_runtime': 1.1102, 'eval_samples_per_second': 4.504, 'eval_steps_per_second': 0.901, 'epoch': 1.84}\n",
      "{'loss': 0.7819, 'learning_rate': 0.0002, 'epoch': 1.87}\n"
     ]
    },
    {
     "data": {
      "application/vnd.jupyter.widget-view+json": {
       "model_id": "4979a4d26c9346ca9408d8e1fc079da6",
       "version_major": 2,
       "version_minor": 0
      },
      "text/plain": [
       "  0%|          | 0/1 [00:00<?, ?it/s]"
      ]
     },
     "metadata": {},
     "output_type": "display_data"
    },
    {
     "name": "stdout",
     "output_type": "stream",
     "text": [
      "{'eval_loss': 1.2000452280044556, 'eval_runtime': 0.9966, 'eval_samples_per_second': 5.017, 'eval_steps_per_second': 1.003, 'epoch': 1.87}\n",
      "{'loss': 0.7854, 'learning_rate': 0.0002, 'epoch': 1.9}\n"
     ]
    },
    {
     "data": {
      "application/vnd.jupyter.widget-view+json": {
       "model_id": "0467bfaedbcf43238e77454de6597ad9",
       "version_major": 2,
       "version_minor": 0
      },
      "text/plain": [
       "  0%|          | 0/1 [00:00<?, ?it/s]"
      ]
     },
     "metadata": {},
     "output_type": "display_data"
    },
    {
     "name": "stdout",
     "output_type": "stream",
     "text": [
      "{'eval_loss': 1.1345692873001099, 'eval_runtime': 1.1072, 'eval_samples_per_second': 4.516, 'eval_steps_per_second': 0.903, 'epoch': 1.9}\n",
      "{'loss': 0.7577, 'learning_rate': 0.0002, 'epoch': 1.94}\n"
     ]
    },
    {
     "data": {
      "application/vnd.jupyter.widget-view+json": {
       "model_id": "a019c144f3084e1abcb2b356b17fe956",
       "version_major": 2,
       "version_minor": 0
      },
      "text/plain": [
       "  0%|          | 0/1 [00:00<?, ?it/s]"
      ]
     },
     "metadata": {},
     "output_type": "display_data"
    },
    {
     "name": "stdout",
     "output_type": "stream",
     "text": [
      "{'eval_loss': 1.1604207754135132, 'eval_runtime': 1.0949, 'eval_samples_per_second': 4.566, 'eval_steps_per_second': 0.913, 'epoch': 1.94}\n",
      "{'loss': 0.773, 'learning_rate': 0.0002, 'epoch': 1.97}\n"
     ]
    },
    {
     "data": {
      "application/vnd.jupyter.widget-view+json": {
       "model_id": "efd8a3127e2f45dda010147db59fb65f",
       "version_major": 2,
       "version_minor": 0
      },
      "text/plain": [
       "  0%|          | 0/1 [00:00<?, ?it/s]"
      ]
     },
     "metadata": {},
     "output_type": "display_data"
    },
    {
     "name": "stdout",
     "output_type": "stream",
     "text": [
      "{'eval_loss': 1.1900739669799805, 'eval_runtime': 0.9986, 'eval_samples_per_second': 5.007, 'eval_steps_per_second': 1.001, 'epoch': 1.97}\n"
     ]
    },
    {
     "name": "stderr",
     "output_type": "stream",
     "text": [
      "/home/pechaut/miniconda3/envs/cairo-llm/lib/python3.9/site-packages/torch/utils/checkpoint.py:429: UserWarning: torch.utils.checkpoint: please pass in use_reentrant=True or use_reentrant=False explicitly. The default value of use_reentrant will be updated to be False in the future. To maintain current behavior, pass use_reentrant=True. It is recommended that you use use_reentrant=False. Refer to docs for more details on the differences between the two variants.\n",
      "  warnings.warn(\n"
     ]
    },
    {
     "name": "stdout",
     "output_type": "stream",
     "text": [
      "{'loss': 0.7652, 'learning_rate': 0.0002, 'epoch': 2.0}\n"
     ]
    },
    {
     "data": {
      "application/vnd.jupyter.widget-view+json": {
       "model_id": "735205f4693845cfbaf9ab0a65681d12",
       "version_major": 2,
       "version_minor": 0
      },
      "text/plain": [
       "  0%|          | 0/1 [00:00<?, ?it/s]"
      ]
     },
     "metadata": {},
     "output_type": "display_data"
    },
    {
     "name": "stdout",
     "output_type": "stream",
     "text": [
      "{'eval_loss': 1.2011539936065674, 'eval_runtime': 1.0943, 'eval_samples_per_second': 4.569, 'eval_steps_per_second': 0.914, 'epoch': 2.0}\n",
      "{'loss': 0.485, 'learning_rate': 0.0002, 'epoch': 2.03}\n"
     ]
    },
    {
     "data": {
      "application/vnd.jupyter.widget-view+json": {
       "model_id": "06264162552c4348856ba27e6eb36900",
       "version_major": 2,
       "version_minor": 0
      },
      "text/plain": [
       "  0%|          | 0/1 [00:00<?, ?it/s]"
      ]
     },
     "metadata": {},
     "output_type": "display_data"
    },
    {
     "name": "stdout",
     "output_type": "stream",
     "text": [
      "{'eval_loss': 1.3609539270401, 'eval_runtime': 1.0387, 'eval_samples_per_second': 4.814, 'eval_steps_per_second': 0.963, 'epoch': 2.03}\n",
      "{'loss': 0.4382, 'learning_rate': 0.0002, 'epoch': 2.07}\n"
     ]
    },
    {
     "data": {
      "application/vnd.jupyter.widget-view+json": {
       "model_id": "24b6e21299824f66877f4196696eca17",
       "version_major": 2,
       "version_minor": 0
      },
      "text/plain": [
       "  0%|          | 0/1 [00:00<?, ?it/s]"
      ]
     },
     "metadata": {},
     "output_type": "display_data"
    },
    {
     "name": "stdout",
     "output_type": "stream",
     "text": [
      "{'eval_loss': 1.3279728889465332, 'eval_runtime': 1.0009, 'eval_samples_per_second': 4.996, 'eval_steps_per_second': 0.999, 'epoch': 2.07}\n",
      "{'loss': 0.4564, 'learning_rate': 0.0002, 'epoch': 2.1}\n"
     ]
    },
    {
     "data": {
      "application/vnd.jupyter.widget-view+json": {
       "model_id": "e4b05edce8104a0ab2f89fa201bb6a35",
       "version_major": 2,
       "version_minor": 0
      },
      "text/plain": [
       "  0%|          | 0/1 [00:00<?, ?it/s]"
      ]
     },
     "metadata": {},
     "output_type": "display_data"
    },
    {
     "name": "stdout",
     "output_type": "stream",
     "text": [
      "{'eval_loss': 1.263144850730896, 'eval_runtime': 1.0846, 'eval_samples_per_second': 4.61, 'eval_steps_per_second': 0.922, 'epoch': 2.1}\n",
      "{'loss': 0.4897, 'learning_rate': 0.0002, 'epoch': 2.13}\n"
     ]
    },
    {
     "data": {
      "application/vnd.jupyter.widget-view+json": {
       "model_id": "b9ba0c83194346b29a4771828a817b0a",
       "version_major": 2,
       "version_minor": 0
      },
      "text/plain": [
       "  0%|          | 0/1 [00:00<?, ?it/s]"
      ]
     },
     "metadata": {},
     "output_type": "display_data"
    },
    {
     "name": "stdout",
     "output_type": "stream",
     "text": [
      "{'eval_loss': 1.3064616918563843, 'eval_runtime': 1.0043, 'eval_samples_per_second': 4.979, 'eval_steps_per_second': 0.996, 'epoch': 2.13}\n",
      "{'loss': 0.4721, 'learning_rate': 0.0002, 'epoch': 2.16}\n"
     ]
    },
    {
     "data": {
      "application/vnd.jupyter.widget-view+json": {
       "model_id": "6b1612a3d77f44f8bc1b34d9a9073eee",
       "version_major": 2,
       "version_minor": 0
      },
      "text/plain": [
       "  0%|          | 0/1 [00:00<?, ?it/s]"
      ]
     },
     "metadata": {},
     "output_type": "display_data"
    },
    {
     "name": "stdout",
     "output_type": "stream",
     "text": [
      "{'eval_loss': 1.2731748819351196, 'eval_runtime': 1.0903, 'eval_samples_per_second': 4.586, 'eval_steps_per_second': 0.917, 'epoch': 2.16}\n",
      "{'loss': 0.4858, 'learning_rate': 0.0002, 'epoch': 2.19}\n"
     ]
    },
    {
     "data": {
      "application/vnd.jupyter.widget-view+json": {
       "model_id": "ca3f4358b9f74e87ab0d06916bc93675",
       "version_major": 2,
       "version_minor": 0
      },
      "text/plain": [
       "  0%|          | 0/1 [00:00<?, ?it/s]"
      ]
     },
     "metadata": {},
     "output_type": "display_data"
    },
    {
     "name": "stdout",
     "output_type": "stream",
     "text": [
      "{'eval_loss': 1.2759695053100586, 'eval_runtime': 0.9975, 'eval_samples_per_second': 5.012, 'eval_steps_per_second': 1.002, 'epoch': 2.19}\n",
      "{'loss': 0.4666, 'learning_rate': 0.0002, 'epoch': 2.23}\n"
     ]
    },
    {
     "data": {
      "application/vnd.jupyter.widget-view+json": {
       "model_id": "9b8136ee6b7b491cb6e5d95340615806",
       "version_major": 2,
       "version_minor": 0
      },
      "text/plain": [
       "  0%|          | 0/1 [00:00<?, ?it/s]"
      ]
     },
     "metadata": {},
     "output_type": "display_data"
    },
    {
     "name": "stdout",
     "output_type": "stream",
     "text": [
      "{'eval_loss': 1.2599204778671265, 'eval_runtime': 1.0263, 'eval_samples_per_second': 4.872, 'eval_steps_per_second': 0.974, 'epoch': 2.23}\n",
      "{'loss': 0.4701, 'learning_rate': 0.0002, 'epoch': 2.26}\n"
     ]
    },
    {
     "data": {
      "application/vnd.jupyter.widget-view+json": {
       "model_id": "6e24dfd1ab73497fa2249bfce34cfee2",
       "version_major": 2,
       "version_minor": 0
      },
      "text/plain": [
       "  0%|          | 0/1 [00:00<?, ?it/s]"
      ]
     },
     "metadata": {},
     "output_type": "display_data"
    },
    {
     "name": "stdout",
     "output_type": "stream",
     "text": [
      "{'eval_loss': 1.2648464441299438, 'eval_runtime': 1.0907, 'eval_samples_per_second': 4.584, 'eval_steps_per_second': 0.917, 'epoch': 2.26}\n",
      "{'loss': 0.4674, 'learning_rate': 0.0002, 'epoch': 2.29}\n"
     ]
    },
    {
     "data": {
      "application/vnd.jupyter.widget-view+json": {
       "model_id": "673481587c7b41faa11542c7c9a2f7f9",
       "version_major": 2,
       "version_minor": 0
      },
      "text/plain": [
       "  0%|          | 0/1 [00:00<?, ?it/s]"
      ]
     },
     "metadata": {},
     "output_type": "display_data"
    },
    {
     "name": "stdout",
     "output_type": "stream",
     "text": [
      "{'eval_loss': 1.2928024530410767, 'eval_runtime': 1.1162, 'eval_samples_per_second': 4.479, 'eval_steps_per_second': 0.896, 'epoch': 2.29}\n",
      "{'loss': 0.49, 'learning_rate': 0.0002, 'epoch': 2.32}\n"
     ]
    },
    {
     "data": {
      "application/vnd.jupyter.widget-view+json": {
       "model_id": "c11edac7dc54409a9972163fa251291c",
       "version_major": 2,
       "version_minor": 0
      },
      "text/plain": [
       "  0%|          | 0/1 [00:00<?, ?it/s]"
      ]
     },
     "metadata": {},
     "output_type": "display_data"
    },
    {
     "name": "stdout",
     "output_type": "stream",
     "text": [
      "{'eval_loss': 1.2916932106018066, 'eval_runtime': 1.1176, 'eval_samples_per_second': 4.474, 'eval_steps_per_second': 0.895, 'epoch': 2.32}\n",
      "{'loss': 0.4991, 'learning_rate': 0.0002, 'epoch': 2.36}\n"
     ]
    },
    {
     "data": {
      "application/vnd.jupyter.widget-view+json": {
       "model_id": "df6686e74a3d49759bba3dd81e03eed9",
       "version_major": 2,
       "version_minor": 0
      },
      "text/plain": [
       "  0%|          | 0/1 [00:00<?, ?it/s]"
      ]
     },
     "metadata": {},
     "output_type": "display_data"
    },
    {
     "name": "stdout",
     "output_type": "stream",
     "text": [
      "{'eval_loss': 1.2505699396133423, 'eval_runtime': 1.0233, 'eval_samples_per_second': 4.886, 'eval_steps_per_second': 0.977, 'epoch': 2.36}\n",
      "{'loss': 0.4817, 'learning_rate': 0.0002, 'epoch': 2.39}\n"
     ]
    },
    {
     "data": {
      "application/vnd.jupyter.widget-view+json": {
       "model_id": "471ae74b94df47a9a861b8681b1ceb57",
       "version_major": 2,
       "version_minor": 0
      },
      "text/plain": [
       "  0%|          | 0/1 [00:00<?, ?it/s]"
      ]
     },
     "metadata": {},
     "output_type": "display_data"
    },
    {
     "name": "stdout",
     "output_type": "stream",
     "text": [
      "{'eval_loss': 1.2886608839035034, 'eval_runtime': 0.9867, 'eval_samples_per_second': 5.068, 'eval_steps_per_second': 1.014, 'epoch': 2.39}\n",
      "{'loss': 0.4939, 'learning_rate': 0.0002, 'epoch': 2.42}\n"
     ]
    },
    {
     "data": {
      "application/vnd.jupyter.widget-view+json": {
       "model_id": "57a32fc808234bd29135f4181ef776b7",
       "version_major": 2,
       "version_minor": 0
      },
      "text/plain": [
       "  0%|          | 0/1 [00:00<?, ?it/s]"
      ]
     },
     "metadata": {},
     "output_type": "display_data"
    },
    {
     "name": "stdout",
     "output_type": "stream",
     "text": [
      "{'eval_loss': 1.3400676250457764, 'eval_runtime': 1.1127, 'eval_samples_per_second': 4.493, 'eval_steps_per_second': 0.899, 'epoch': 2.42}\n",
      "{'loss': 0.4715, 'learning_rate': 0.0002, 'epoch': 2.45}\n"
     ]
    },
    {
     "data": {
      "application/vnd.jupyter.widget-view+json": {
       "model_id": "40399af8046849aea35b801a423aae4f",
       "version_major": 2,
       "version_minor": 0
      },
      "text/plain": [
       "  0%|          | 0/1 [00:00<?, ?it/s]"
      ]
     },
     "metadata": {},
     "output_type": "display_data"
    },
    {
     "name": "stdout",
     "output_type": "stream",
     "text": [
      "{'eval_loss': 1.3195828199386597, 'eval_runtime': 0.9808, 'eval_samples_per_second': 5.098, 'eval_steps_per_second': 1.02, 'epoch': 2.45}\n",
      "{'loss': 0.4886, 'learning_rate': 0.0002, 'epoch': 2.49}\n"
     ]
    },
    {
     "data": {
      "application/vnd.jupyter.widget-view+json": {
       "model_id": "f33a9e86ba7543f0a27618e2c5ee3fb8",
       "version_major": 2,
       "version_minor": 0
      },
      "text/plain": [
       "  0%|          | 0/1 [00:00<?, ?it/s]"
      ]
     },
     "metadata": {},
     "output_type": "display_data"
    },
    {
     "name": "stdout",
     "output_type": "stream",
     "text": [
      "{'eval_loss': 1.3235682249069214, 'eval_runtime': 1.094, 'eval_samples_per_second': 4.57, 'eval_steps_per_second': 0.914, 'epoch': 2.49}\n",
      "{'loss': 0.4985, 'learning_rate': 0.0002, 'epoch': 2.52}\n"
     ]
    },
    {
     "data": {
      "application/vnd.jupyter.widget-view+json": {
       "model_id": "70a63503b58944c49a23336877145538",
       "version_major": 2,
       "version_minor": 0
      },
      "text/plain": [
       "  0%|          | 0/1 [00:00<?, ?it/s]"
      ]
     },
     "metadata": {},
     "output_type": "display_data"
    },
    {
     "name": "stdout",
     "output_type": "stream",
     "text": [
      "{'eval_loss': 1.2477328777313232, 'eval_runtime': 1.0903, 'eval_samples_per_second': 4.586, 'eval_steps_per_second': 0.917, 'epoch': 2.52}\n",
      "{'loss': 0.4852, 'learning_rate': 0.0002, 'epoch': 2.55}\n"
     ]
    },
    {
     "data": {
      "application/vnd.jupyter.widget-view+json": {
       "model_id": "9bf53663e7704c7aa18ee03365de503f",
       "version_major": 2,
       "version_minor": 0
      },
      "text/plain": [
       "  0%|          | 0/1 [00:00<?, ?it/s]"
      ]
     },
     "metadata": {},
     "output_type": "display_data"
    },
    {
     "name": "stdout",
     "output_type": "stream",
     "text": [
      "{'eval_loss': 1.281939148902893, 'eval_runtime': 1.0075, 'eval_samples_per_second': 4.963, 'eval_steps_per_second': 0.993, 'epoch': 2.55}\n",
      "{'loss': 0.4963, 'learning_rate': 0.0002, 'epoch': 2.58}\n"
     ]
    },
    {
     "data": {
      "application/vnd.jupyter.widget-view+json": {
       "model_id": "77d42d1dd5964a2ba25d84d91af53364",
       "version_major": 2,
       "version_minor": 0
      },
      "text/plain": [
       "  0%|          | 0/1 [00:00<?, ?it/s]"
      ]
     },
     "metadata": {},
     "output_type": "display_data"
    },
    {
     "name": "stdout",
     "output_type": "stream",
     "text": [
      "{'eval_loss': 1.2652819156646729, 'eval_runtime': 1.0894, 'eval_samples_per_second': 4.589, 'eval_steps_per_second': 0.918, 'epoch': 2.58}\n",
      "{'loss': 0.5119, 'learning_rate': 0.0002, 'epoch': 2.61}\n"
     ]
    },
    {
     "data": {
      "application/vnd.jupyter.widget-view+json": {
       "model_id": "dcf1329f86394682ad1496848885a3bb",
       "version_major": 2,
       "version_minor": 0
      },
      "text/plain": [
       "  0%|          | 0/1 [00:00<?, ?it/s]"
      ]
     },
     "metadata": {},
     "output_type": "display_data"
    },
    {
     "name": "stdout",
     "output_type": "stream",
     "text": [
      "{'eval_loss': 1.1003855466842651, 'eval_runtime': 1.004, 'eval_samples_per_second': 4.98, 'eval_steps_per_second': 0.996, 'epoch': 2.61}\n",
      "{'loss': 0.495, 'learning_rate': 0.0002, 'epoch': 2.65}\n"
     ]
    },
    {
     "data": {
      "application/vnd.jupyter.widget-view+json": {
       "model_id": "8eaa846d841249e89b713049ecf2ba94",
       "version_major": 2,
       "version_minor": 0
      },
      "text/plain": [
       "  0%|          | 0/1 [00:00<?, ?it/s]"
      ]
     },
     "metadata": {},
     "output_type": "display_data"
    },
    {
     "name": "stdout",
     "output_type": "stream",
     "text": [
      "{'eval_loss': 1.1776515245437622, 'eval_runtime': 1.0059, 'eval_samples_per_second': 4.971, 'eval_steps_per_second': 0.994, 'epoch': 2.65}\n",
      "{'loss': 0.5322, 'learning_rate': 0.0002, 'epoch': 2.68}\n"
     ]
    },
    {
     "data": {
      "application/vnd.jupyter.widget-view+json": {
       "model_id": "52971ca131354a15bcc727cbb19f5331",
       "version_major": 2,
       "version_minor": 0
      },
      "text/plain": [
       "  0%|          | 0/1 [00:00<?, ?it/s]"
      ]
     },
     "metadata": {},
     "output_type": "display_data"
    },
    {
     "name": "stdout",
     "output_type": "stream",
     "text": [
      "{'eval_loss': 1.1150667667388916, 'eval_runtime': 1.016, 'eval_samples_per_second': 4.921, 'eval_steps_per_second': 0.984, 'epoch': 2.68}\n",
      "{'loss': 0.5021, 'learning_rate': 0.0002, 'epoch': 2.71}\n"
     ]
    },
    {
     "data": {
      "application/vnd.jupyter.widget-view+json": {
       "model_id": "cffdd6d5554a47249d9978f4a633a492",
       "version_major": 2,
       "version_minor": 0
      },
      "text/plain": [
       "  0%|          | 0/1 [00:00<?, ?it/s]"
      ]
     },
     "metadata": {},
     "output_type": "display_data"
    },
    {
     "name": "stdout",
     "output_type": "stream",
     "text": [
      "{'eval_loss': 1.1588776111602783, 'eval_runtime': 1.0852, 'eval_samples_per_second': 4.607, 'eval_steps_per_second': 0.921, 'epoch': 2.71}\n",
      "{'loss': 0.5112, 'learning_rate': 0.0002, 'epoch': 2.74}\n"
     ]
    },
    {
     "data": {
      "application/vnd.jupyter.widget-view+json": {
       "model_id": "b31ae0a727d1460b9866008dc3fbd4da",
       "version_major": 2,
       "version_minor": 0
      },
      "text/plain": [
       "  0%|          | 0/1 [00:00<?, ?it/s]"
      ]
     },
     "metadata": {},
     "output_type": "display_data"
    },
    {
     "name": "stdout",
     "output_type": "stream",
     "text": [
      "{'eval_loss': 1.0652042627334595, 'eval_runtime': 1.0884, 'eval_samples_per_second': 4.594, 'eval_steps_per_second': 0.919, 'epoch': 2.74}\n",
      "{'loss': 0.5019, 'learning_rate': 0.0002, 'epoch': 2.78}\n"
     ]
    },
    {
     "data": {
      "application/vnd.jupyter.widget-view+json": {
       "model_id": "457d8c413a954674adbb2551aef09281",
       "version_major": 2,
       "version_minor": 0
      },
      "text/plain": [
       "  0%|          | 0/1 [00:00<?, ?it/s]"
      ]
     },
     "metadata": {},
     "output_type": "display_data"
    },
    {
     "name": "stdout",
     "output_type": "stream",
     "text": [
      "{'eval_loss': 1.1020817756652832, 'eval_runtime': 0.9994, 'eval_samples_per_second': 5.003, 'eval_steps_per_second': 1.001, 'epoch': 2.78}\n",
      "{'loss': 0.5144, 'learning_rate': 0.0002, 'epoch': 2.81}\n"
     ]
    },
    {
     "data": {
      "application/vnd.jupyter.widget-view+json": {
       "model_id": "d45a03a676c24f98a66b5c260df81c99",
       "version_major": 2,
       "version_minor": 0
      },
      "text/plain": [
       "  0%|          | 0/1 [00:00<?, ?it/s]"
      ]
     },
     "metadata": {},
     "output_type": "display_data"
    },
    {
     "name": "stdout",
     "output_type": "stream",
     "text": [
      "{'eval_loss': 1.0968836545944214, 'eval_runtime': 1.0387, 'eval_samples_per_second': 4.814, 'eval_steps_per_second': 0.963, 'epoch': 2.81}\n",
      "{'loss': 0.5024, 'learning_rate': 0.0002, 'epoch': 2.84}\n"
     ]
    },
    {
     "data": {
      "application/vnd.jupyter.widget-view+json": {
       "model_id": "defe5b80b5004da6a31bd0703e9f9de1",
       "version_major": 2,
       "version_minor": 0
      },
      "text/plain": [
       "  0%|          | 0/1 [00:00<?, ?it/s]"
      ]
     },
     "metadata": {},
     "output_type": "display_data"
    },
    {
     "name": "stdout",
     "output_type": "stream",
     "text": [
      "{'eval_loss': 1.1280081272125244, 'eval_runtime': 1.1102, 'eval_samples_per_second': 4.504, 'eval_steps_per_second': 0.901, 'epoch': 2.84}\n",
      "{'loss': 0.5032, 'learning_rate': 0.0002, 'epoch': 2.87}\n"
     ]
    },
    {
     "data": {
      "application/vnd.jupyter.widget-view+json": {
       "model_id": "72f87758707749f38b89856aa52fbb58",
       "version_major": 2,
       "version_minor": 0
      },
      "text/plain": [
       "  0%|          | 0/1 [00:00<?, ?it/s]"
      ]
     },
     "metadata": {},
     "output_type": "display_data"
    },
    {
     "name": "stdout",
     "output_type": "stream",
     "text": [
      "{'eval_loss': 1.1608099937438965, 'eval_runtime': 1.0117, 'eval_samples_per_second': 4.942, 'eval_steps_per_second': 0.988, 'epoch': 2.87}\n",
      "{'loss': 0.5106, 'learning_rate': 0.0002, 'epoch': 2.91}\n"
     ]
    },
    {
     "data": {
      "application/vnd.jupyter.widget-view+json": {
       "model_id": "36b463dec01e40e1a7985a44966e7685",
       "version_major": 2,
       "version_minor": 0
      },
      "text/plain": [
       "  0%|          | 0/1 [00:00<?, ?it/s]"
      ]
     },
     "metadata": {},
     "output_type": "display_data"
    },
    {
     "name": "stdout",
     "output_type": "stream",
     "text": [
      "{'eval_loss': 1.1552889347076416, 'eval_runtime': 1.094, 'eval_samples_per_second': 4.571, 'eval_steps_per_second': 0.914, 'epoch': 2.91}\n",
      "{'loss': 0.4841, 'learning_rate': 0.0002, 'epoch': 2.94}\n"
     ]
    },
    {
     "data": {
      "application/vnd.jupyter.widget-view+json": {
       "model_id": "0d8b8ae3e7c4438da4ca9c2f631b8bbd",
       "version_major": 2,
       "version_minor": 0
      },
      "text/plain": [
       "  0%|          | 0/1 [00:00<?, ?it/s]"
      ]
     },
     "metadata": {},
     "output_type": "display_data"
    },
    {
     "name": "stdout",
     "output_type": "stream",
     "text": [
      "{'eval_loss': 1.1951420307159424, 'eval_runtime': 1.1086, 'eval_samples_per_second': 4.51, 'eval_steps_per_second': 0.902, 'epoch': 2.94}\n",
      "{'loss': 0.5497, 'learning_rate': 0.0002, 'epoch': 2.97}\n"
     ]
    },
    {
     "data": {
      "application/vnd.jupyter.widget-view+json": {
       "model_id": "331274ca8caa43d89be3bd3ba4d4f70e",
       "version_major": 2,
       "version_minor": 0
      },
      "text/plain": [
       "  0%|          | 0/1 [00:00<?, ?it/s]"
      ]
     },
     "metadata": {},
     "output_type": "display_data"
    },
    {
     "name": "stdout",
     "output_type": "stream",
     "text": [
      "{'eval_loss': 1.147646188735962, 'eval_runtime': 1.007, 'eval_samples_per_second': 4.965, 'eval_steps_per_second': 0.993, 'epoch': 2.97}\n",
      "{'train_runtime': 11192.171, 'train_samples_per_second': 0.83, 'train_steps_per_second': 0.415, 'train_loss': 0.8217758435650951, 'epoch': 3.0}\n"
     ]
    },
    {
     "data": {
      "application/vnd.jupyter.widget-view+json": {
       "model_id": "873e5919dc4b4ed2b5bd2e6781875fa7",
       "version_major": 2,
       "version_minor": 0
      },
      "text/plain": [
       "adapter_model.bin:   0%|          | 0.00/649M [00:00<?, ?B/s]"
      ]
     },
     "metadata": {},
     "output_type": "display_data"
    },
    {
     "data": {
      "text/plain": [
       "CommitInfo(commit_url='https://huggingface.co/StarkWizard/llama-2-7b-cairo-trained-PEFT/commit/b7e3189a3faa7cd6ecb08cf964f09f3d7f606324', commit_message='Upload tokenizer', commit_description='', oid='b7e3189a3faa7cd6ecb08cf964f09f3d7f606324', pr_url=None, pr_revision=None, pr_num=None)"
      ]
     },
     "execution_count": 6,
     "metadata": {},
     "output_type": "execute_result"
    }
   ],
   "source": [
    "torch.cuda.empty_cache()\n",
    "supervised_finetuning_trainer.train()\n",
    "supervised_finetuning_trainer.model.push_to_hub(new_model)\n",
    "tokenizer.push_to_hub(new_model)"
   ]
  },
  {
   "cell_type": "markdown",
   "metadata": {},
   "source": [
    "If you are on a colab, push to hub or save to drive"
   ]
  }
 ],
 "metadata": {
  "kernelspec": {
   "display_name": "trch",
   "language": "python",
   "name": "python3"
  },
  "language_info": {
   "codemirror_mode": {
    "name": "ipython",
    "version": 3
   },
   "file_extension": ".py",
   "mimetype": "text/x-python",
   "name": "python",
   "nbconvert_exporter": "python",
   "pygments_lexer": "ipython3",
   "version": "3.9.18"
  },
  "orig_nbformat": 4
 },
 "nbformat": 4,
 "nbformat_minor": 2
}
