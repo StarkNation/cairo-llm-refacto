{
 "cells": [
  {
   "cell_type": "markdown",
   "metadata": {},
   "source": [
    "\n"
   ]
  },
  {
   "cell_type": "markdown",
   "metadata": {},
   "source": [
    "pip install -q git+https://github.com/huggingface/trl"
   ]
  },
  {
   "cell_type": "code",
   "execution_count": 1,
   "metadata": {},
   "outputs": [],
   "source": [
    "# The model that you want to train from the Hugging Face hub\n",
    "model_name = \"mistralai/Mistral-7B-Instruct-v0.1\"\n",
    "\n",
    "# The instruction dataset to use\n",
    "dataset_name = \"StarkWizard/cairo-instruct\"\n",
    "\n",
    "# Fine-tuned model name\n",
    "new_model = \"StarkWizard/Mistral-7b-instruct-cairo-PEFT\"\n",
    "\n",
    "\n",
    "\n",
    "import os\n",
    "os.environ[\"TOKENIZERS_PARALLELISM\"] = \"false\"\n",
    "\n",
    "hub_name = \"StarkWizard/Mistral-7b-instruct-cairo-instruct\"\n",
    "\n",
    "max_steps = 1000 # to tweak to get the best out of the model \n",
    "nb_epochs = 3"
   ]
  },
  {
   "cell_type": "code",
   "execution_count": 2,
   "metadata": {},
   "outputs": [
    {
     "name": "stderr",
     "output_type": "stream",
     "text": [
      "Special tokens have been added in the vocabulary, make sure the associated word embeddings are fine-tuned or trained.\n",
      "/home/pechaut/miniconda3/envs/cairo-llm/lib/python3.9/site-packages/transformers/models/auto/auto_factory.py:472: FutureWarning: The `use_auth_token` argument is deprecated and will be removed in v5 of Transformers.\n",
      "  warnings.warn(\n"
     ]
    },
    {
     "data": {
      "application/vnd.jupyter.widget-view+json": {
       "model_id": "7e6e0a13d6044530993ef0a040f08fa1",
       "version_major": 2,
       "version_minor": 0
      },
      "text/plain": [
       "Loading checkpoint shards:   0%|          | 0/2 [00:00<?, ?it/s]"
      ]
     },
     "metadata": {},
     "output_type": "display_data"
    },
    {
     "name": "stderr",
     "output_type": "stream",
     "text": [
      "/home/pechaut/miniconda3/envs/cairo-llm/lib/python3.9/site-packages/transformers/utils/hub.py:374: FutureWarning: The `use_auth_token` argument is deprecated and will be removed in v5 of Transformers.\n",
      "  warnings.warn(\n"
     ]
    }
   ],
   "source": [
    "import torch\n",
    "from datasets import load_dataset, Dataset\n",
    "from peft import LoraConfig, AutoPeftModelForCausalLM\n",
    "from transformers import AutoModelForCausalLM, AutoTokenizer, BitsAndBytesConfig\n",
    "from trl import SFTTrainer\n",
    "import os\n",
    " \n",
    "tokenizer = AutoTokenizer.from_pretrained(model_name, use_fast=True)\n",
    "tokenizer.pad_token = tokenizer.eos_token\n",
    "\n",
    "bnb_config = BitsAndBytesConfig(\n",
    "    load_in_4bit=True,\n",
    "    bnb_4bit_quant_type=\"nf4\",\n",
    "    bnb_4bit_compute_dtype=\"float16\",\n",
    "    bnb_4bit_use_double_quant=True,\n",
    ")\n",
    "\n",
    "model = AutoModelForCausalLM.from_pretrained(pretrained_model_name_or_path=model_name,\n",
    "                                             trust_remote_code=True,\n",
    "                                             quantization_config=bnb_config,\n",
    "                                             use_auth_token=True,\n",
    "                                             device_map={\"\": 0}\n",
    "                                             )"
   ]
  },
  {
   "cell_type": "code",
   "execution_count": 3,
   "metadata": {},
   "outputs": [],
   "source": [
    "from datasets import load_dataset, Dataset\n",
    "from peft import LoraConfig, AutoPeftModelForCausalLM, prepare_model_for_kbit_training, get_peft_model\n",
    "from transformers import AutoModelForCausalLM, AutoTokenizer, TrainingArguments\n",
    "from trl import SFTTrainer\n",
    "import os\n",
    "\n",
    "model.config.use_cache=False\n",
    "model.config.pretraining_tp=1\n",
    "model.config.window = 256 \n",
    "model.gradient_checkpointing_enable()\n",
    "model = prepare_model_for_kbit_training(model)\n"
   ]
  },
  {
   "cell_type": "markdown",
   "metadata": {},
   "source": [
    "Loading Dataset"
   ]
  },
  {
   "cell_type": "code",
   "execution_count": 4,
   "metadata": {},
   "outputs": [
    {
     "name": "stderr",
     "output_type": "stream",
     "text": [
      "/home/pechaut/miniconda3/envs/cairo-llm/lib/python3.9/site-packages/datasets/load.py:2097: FutureWarning: 'ignore_verifications' was deprecated in favor of 'verification_mode' in version 2.9.1 and will be removed in 3.0.0.\n",
      "You can remove this warning by passing 'verification_mode=no_checks' instead.\n",
      "  warnings.warn(\n"
     ]
    },
    {
     "data": {
      "application/vnd.jupyter.widget-view+json": {
       "model_id": "898ff85ecfc04fc298a5339d7d3c6199",
       "version_major": 2,
       "version_minor": 0
      },
      "text/plain": [
       "Downloading readme:   0%|          | 0.00/381 [00:00<?, ?B/s]"
      ]
     },
     "metadata": {},
     "output_type": "display_data"
    },
    {
     "data": {
      "application/vnd.jupyter.widget-view+json": {
       "model_id": "78afbfa8b4564f29bf4c5a5f1973cfae",
       "version_major": 2,
       "version_minor": 0
      },
      "text/plain": [
       "Downloading data files:   0%|          | 0/2 [00:00<?, ?it/s]"
      ]
     },
     "metadata": {},
     "output_type": "display_data"
    },
    {
     "data": {
      "application/vnd.jupyter.widget-view+json": {
       "model_id": "c687f573dd2d4d16b81a5d0786bd7065",
       "version_major": 2,
       "version_minor": 0
      },
      "text/plain": [
       "Downloading data:   0%|          | 0.00/79.6k [00:00<?, ?B/s]"
      ]
     },
     "metadata": {},
     "output_type": "display_data"
    },
    {
     "data": {
      "application/vnd.jupyter.widget-view+json": {
       "model_id": "53b5e04ab591458d812632751417cc95",
       "version_major": 2,
       "version_minor": 0
      },
      "text/plain": [
       "Downloading data:   0%|          | 0.00/2.42k [00:00<?, ?B/s]"
      ]
     },
     "metadata": {},
     "output_type": "display_data"
    },
    {
     "data": {
      "application/vnd.jupyter.widget-view+json": {
       "model_id": "8fc2da4ec6ab44aba8c102ce6c769c23",
       "version_major": 2,
       "version_minor": 0
      },
      "text/plain": [
       "Extracting data files:   0%|          | 0/2 [00:00<?, ?it/s]"
      ]
     },
     "metadata": {},
     "output_type": "display_data"
    },
    {
     "data": {
      "application/vnd.jupyter.widget-view+json": {
       "model_id": "bad2054f199b440ba3992696d9947596",
       "version_major": 2,
       "version_minor": 0
      },
      "text/plain": [
       "Generating train split:   0%|          | 0/805 [00:00<?, ? examples/s]"
      ]
     },
     "metadata": {},
     "output_type": "display_data"
    },
    {
     "data": {
      "application/vnd.jupyter.widget-view+json": {
       "model_id": "280178fd05a944beaef6d8dba0b0e409",
       "version_major": 2,
       "version_minor": 0
      },
      "text/plain": [
       "Generating eval split:   0%|          | 0/5 [00:00<?, ? examples/s]"
      ]
     },
     "metadata": {},
     "output_type": "display_data"
    },
    {
     "data": {
      "application/vnd.jupyter.widget-view+json": {
       "model_id": "5ab8bd605fc14c63b2d2c2e23b2c3d0b",
       "version_major": 2,
       "version_minor": 0
      },
      "text/plain": [
       "Downloading readme:   0%|          | 0.00/381 [00:00<?, ?B/s]"
      ]
     },
     "metadata": {},
     "output_type": "display_data"
    },
    {
     "data": {
      "application/vnd.jupyter.widget-view+json": {
       "model_id": "f98b3da9ce234c7b8c69bc2e0a816007",
       "version_major": 2,
       "version_minor": 0
      },
      "text/plain": [
       "Downloading data files:   0%|          | 0/2 [00:00<?, ?it/s]"
      ]
     },
     "metadata": {},
     "output_type": "display_data"
    },
    {
     "data": {
      "application/vnd.jupyter.widget-view+json": {
       "model_id": "feefc99a2f6f4396ba349d0951790e0b",
       "version_major": 2,
       "version_minor": 0
      },
      "text/plain": [
       "Downloading data:   0%|          | 0.00/79.6k [00:00<?, ?B/s]"
      ]
     },
     "metadata": {},
     "output_type": "display_data"
    },
    {
     "data": {
      "application/vnd.jupyter.widget-view+json": {
       "model_id": "4f9738466c2745d9a17a3e9a76b38dd5",
       "version_major": 2,
       "version_minor": 0
      },
      "text/plain": [
       "Downloading data:   0%|          | 0.00/2.42k [00:00<?, ?B/s]"
      ]
     },
     "metadata": {},
     "output_type": "display_data"
    },
    {
     "data": {
      "application/vnd.jupyter.widget-view+json": {
       "model_id": "c04e64ba6e3340f99253a4d1219df6ae",
       "version_major": 2,
       "version_minor": 0
      },
      "text/plain": [
       "Extracting data files:   0%|          | 0/2 [00:00<?, ?it/s]"
      ]
     },
     "metadata": {},
     "output_type": "display_data"
    },
    {
     "data": {
      "application/vnd.jupyter.widget-view+json": {
       "model_id": "62f9fb910613449fb50c7969cb16dc15",
       "version_major": 2,
       "version_minor": 0
      },
      "text/plain": [
       "Generating train split:   0%|          | 0/805 [00:00<?, ? examples/s]"
      ]
     },
     "metadata": {},
     "output_type": "display_data"
    },
    {
     "data": {
      "application/vnd.jupyter.widget-view+json": {
       "model_id": "84e30adf50034d1fbeb15d981aac898b",
       "version_major": 2,
       "version_minor": 0
      },
      "text/plain": [
       "Generating eval split:   0%|          | 0/5 [00:00<?, ? examples/s]"
      ]
     },
     "metadata": {},
     "output_type": "display_data"
    }
   ],
   "source": [
    "from datasets import load_dataset\n",
    "\n",
    "# Load the dataset\n",
    "dataset_train = load_dataset(dataset_name, split=\"train\", download_mode='force_redownload',ignore_verifications=True)\n",
    "dataset_test = load_dataset(dataset_name, split=\"eval\", download_mode='force_redownload',ignore_verifications=True)"
   ]
  },
  {
   "cell_type": "code",
   "execution_count": 5,
   "metadata": {},
   "outputs": [
    {
     "data": {
      "application/vnd.jupyter.widget-view+json": {
       "model_id": "ca24c1fd68984a7aacfae73f336dce72",
       "version_major": 2,
       "version_minor": 0
      },
      "text/plain": [
       "Map:   0%|          | 0/805 [00:00<?, ? examples/s]"
      ]
     },
     "metadata": {},
     "output_type": "display_data"
    },
    {
     "data": {
      "application/vnd.jupyter.widget-view+json": {
       "model_id": "ecbd788088084305b51084c9bf6d7877",
       "version_major": 2,
       "version_minor": 0
      },
      "text/plain": [
       "Map:   0%|          | 0/5 [00:00<?, ? examples/s]"
      ]
     },
     "metadata": {},
     "output_type": "display_data"
    },
    {
     "name": "stderr",
     "output_type": "stream",
     "text": [
      "/home/pechaut/miniconda3/envs/cairo-llm/lib/python3.9/site-packages/trl/trainer/sft_trainer.py:221: UserWarning: You passed a tokenizer with `padding_side` not equal to `right` to the SFTTrainer. This might lead to some unexpected behaviour due to overflow issues when training a model in half-precision. You might consider adding `tokenizer.padding_side = 'right'` to your code.\n",
      "  warnings.warn(\n"
     ]
    }
   ],
   "source": [
    "\n",
    "\n",
    "\n",
    "peft_config = LoraConfig(\n",
    "    r=16, lora_alpha=16, lora_dropout=0.05, bias=\"none\", task_type=\"CAUSAL_LM\", target_modules=[\n",
    "        \"q_proj\",\n",
    "        \"k_proj\",\n",
    "        \"v_proj\",\n",
    "        \"o_proj\",\n",
    "        \"gate_proj\",\n",
    "        \"up_proj\",\n",
    "        \"down_proj\",\n",
    "        \"lm_head\"\n",
    "    ],inference_mode = False\n",
    ")\n",
    "\n",
    "model = get_peft_model(model, peft_config)\n",
    "training_arguments = TrainingArguments(\n",
    "    output_dir=new_model,\n",
    "    per_device_train_batch_size=1,\n",
    "    gradient_accumulation_steps=1,\n",
    "    gradient_checkpointing = True,\n",
    "    optim=\"paged_adamw_32bit\",\n",
    "    evaluation_strategy=\"steps\",\n",
    "    learning_rate=2e-5,\n",
    "    lr_scheduler_type=\"cosine\",\n",
    "    warmup_ratio=0.03,\n",
    "    save_strategy=\"epoch\",\n",
    "    logging_dir=\"./logs\", \n",
    "    logging_steps=5,\n",
    "    num_train_epochs=nb_epochs,\n",
    "    fp16=False,\n",
    "    push_to_hub=True\n",
    ")\n",
    "\n",
    "trainer = SFTTrainer(\n",
    "    model=model,\n",
    "    train_dataset=dataset_train,\n",
    "    eval_dataset=dataset_test,\n",
    "    peft_config=peft_config,\n",
    "    dataset_text_field=\"text\",\n",
    "    args=training_arguments,\n",
    "    tokenizer=tokenizer,\n",
    "    packing=False,\n",
    "    max_seq_length=512,\n",
    "    neftune_noise_alpha=5\n",
    ")\n"
   ]
  },
  {
   "cell_type": "code",
   "execution_count": 6,
   "metadata": {},
   "outputs": [
    {
     "data": {
      "application/vnd.jupyter.widget-view+json": {
       "model_id": "4cbd6df3abad4ebd8625e1176522bdfe",
       "version_major": 2,
       "version_minor": 0
      },
      "text/plain": [
       "  0%|          | 0/2415 [00:00<?, ?it/s]"
      ]
     },
     "metadata": {},
     "output_type": "display_data"
    },
    {
     "name": "stderr",
     "output_type": "stream",
     "text": [
      "You're using a LlamaTokenizerFast tokenizer. Please note that with a fast tokenizer, using the `__call__` method is faster than using a method to encode the text followed by a call to the `pad` method to get a padded encoding.\n",
      "/home/pechaut/miniconda3/envs/cairo-llm/lib/python3.9/site-packages/torch/utils/checkpoint.py:429: UserWarning: torch.utils.checkpoint: please pass in use_reentrant=True or use_reentrant=False explicitly. The default value of use_reentrant will be updated to be False in the future. To maintain current behavior, pass use_reentrant=True. It is recommended that you use use_reentrant=False. Refer to docs for more details on the differences between the two variants.\n",
      "  warnings.warn(\n"
     ]
    },
    {
     "name": "stdout",
     "output_type": "stream",
     "text": [
      "{'loss': 4.3051, 'learning_rate': 1.3698630136986302e-06, 'epoch': 0.01}\n"
     ]
    },
    {
     "data": {
      "application/vnd.jupyter.widget-view+json": {
       "model_id": "589179413fbb47be8b92709e785c2062",
       "version_major": 2,
       "version_minor": 0
      },
      "text/plain": [
       "  0%|          | 0/1 [00:00<?, ?it/s]"
      ]
     },
     "metadata": {},
     "output_type": "display_data"
    },
    {
     "name": "stdout",
     "output_type": "stream",
     "text": [
      "{'eval_loss': 4.651289463043213, 'eval_runtime': 0.973, 'eval_samples_per_second': 5.139, 'eval_steps_per_second': 1.028, 'epoch': 0.01}\n",
      "{'loss': 6.0984, 'learning_rate': 2.7397260273972604e-06, 'epoch': 0.01}\n"
     ]
    },
    {
     "data": {
      "application/vnd.jupyter.widget-view+json": {
       "model_id": "d9cae7ceda374b3eb6686b5beb4a8e9c",
       "version_major": 2,
       "version_minor": 0
      },
      "text/plain": [
       "  0%|          | 0/1 [00:00<?, ?it/s]"
      ]
     },
     "metadata": {},
     "output_type": "display_data"
    },
    {
     "name": "stdout",
     "output_type": "stream",
     "text": [
      "{'eval_loss': 4.645524024963379, 'eval_runtime': 0.9662, 'eval_samples_per_second': 5.175, 'eval_steps_per_second': 1.035, 'epoch': 0.01}\n",
      "{'loss': 4.5181, 'learning_rate': 4.109589041095891e-06, 'epoch': 0.02}\n"
     ]
    },
    {
     "data": {
      "application/vnd.jupyter.widget-view+json": {
       "model_id": "13829a6b77ff442da6c7a5b24c092fa1",
       "version_major": 2,
       "version_minor": 0
      },
      "text/plain": [
       "  0%|          | 0/1 [00:00<?, ?it/s]"
      ]
     },
     "metadata": {},
     "output_type": "display_data"
    },
    {
     "name": "stdout",
     "output_type": "stream",
     "text": [
      "{'eval_loss': 4.63462495803833, 'eval_runtime': 0.9752, 'eval_samples_per_second': 5.127, 'eval_steps_per_second': 1.025, 'epoch': 0.02}\n",
      "{'loss': 5.0098, 'learning_rate': 5.479452054794521e-06, 'epoch': 0.02}\n"
     ]
    },
    {
     "data": {
      "application/vnd.jupyter.widget-view+json": {
       "model_id": "24d18ab5561d4213b69e7845e974982e",
       "version_major": 2,
       "version_minor": 0
      },
      "text/plain": [
       "  0%|          | 0/1 [00:00<?, ?it/s]"
      ]
     },
     "metadata": {},
     "output_type": "display_data"
    },
    {
     "name": "stdout",
     "output_type": "stream",
     "text": [
      "{'eval_loss': 4.619684219360352, 'eval_runtime': 1.0001, 'eval_samples_per_second': 4.999, 'eval_steps_per_second': 1.0, 'epoch': 0.02}\n",
      "{'loss': 4.8269, 'learning_rate': 6.849315068493151e-06, 'epoch': 0.03}\n"
     ]
    },
    {
     "data": {
      "application/vnd.jupyter.widget-view+json": {
       "model_id": "3191ac968643412687a4c5209d8cf56d",
       "version_major": 2,
       "version_minor": 0
      },
      "text/plain": [
       "  0%|          | 0/1 [00:00<?, ?it/s]"
      ]
     },
     "metadata": {},
     "output_type": "display_data"
    },
    {
     "name": "stdout",
     "output_type": "stream",
     "text": [
      "{'eval_loss': 4.5942702293396, 'eval_runtime': 0.9782, 'eval_samples_per_second': 5.111, 'eval_steps_per_second': 1.022, 'epoch': 0.03}\n",
      "{'loss': 4.3197, 'learning_rate': 8.219178082191782e-06, 'epoch': 0.04}\n"
     ]
    },
    {
     "data": {
      "application/vnd.jupyter.widget-view+json": {
       "model_id": "a7887f012d674422a1508c254217bc18",
       "version_major": 2,
       "version_minor": 0
      },
      "text/plain": [
       "  0%|          | 0/1 [00:00<?, ?it/s]"
      ]
     },
     "metadata": {},
     "output_type": "display_data"
    },
    {
     "name": "stdout",
     "output_type": "stream",
     "text": [
      "{'eval_loss': 4.550282001495361, 'eval_runtime': 1.0956, 'eval_samples_per_second': 4.564, 'eval_steps_per_second': 0.913, 'epoch': 0.04}\n",
      "{'loss': 4.3894, 'learning_rate': 9.589041095890411e-06, 'epoch': 0.04}\n"
     ]
    },
    {
     "data": {
      "application/vnd.jupyter.widget-view+json": {
       "model_id": "c251c5ff99f447d183e7159c61087a5b",
       "version_major": 2,
       "version_minor": 0
      },
      "text/plain": [
       "  0%|          | 0/1 [00:00<?, ?it/s]"
      ]
     },
     "metadata": {},
     "output_type": "display_data"
    },
    {
     "name": "stdout",
     "output_type": "stream",
     "text": [
      "{'eval_loss': 4.47790002822876, 'eval_runtime': 1.0404, 'eval_samples_per_second': 4.806, 'eval_steps_per_second': 0.961, 'epoch': 0.04}\n",
      "{'loss': 3.8205, 'learning_rate': 1.0958904109589042e-05, 'epoch': 0.05}\n"
     ]
    },
    {
     "data": {
      "application/vnd.jupyter.widget-view+json": {
       "model_id": "4dac9796ed2a4a0db59760cf9412a10b",
       "version_major": 2,
       "version_minor": 0
      },
      "text/plain": [
       "  0%|          | 0/1 [00:00<?, ?it/s]"
      ]
     },
     "metadata": {},
     "output_type": "display_data"
    },
    {
     "name": "stdout",
     "output_type": "stream",
     "text": [
      "{'eval_loss': 4.369492530822754, 'eval_runtime': 0.9832, 'eval_samples_per_second': 5.086, 'eval_steps_per_second': 1.017, 'epoch': 0.05}\n",
      "{'loss': 3.8474, 'learning_rate': 1.2328767123287673e-05, 'epoch': 0.06}\n"
     ]
    },
    {
     "data": {
      "application/vnd.jupyter.widget-view+json": {
       "model_id": "e74112eee91344c99375ec0e59330235",
       "version_major": 2,
       "version_minor": 0
      },
      "text/plain": [
       "  0%|          | 0/1 [00:00<?, ?it/s]"
      ]
     },
     "metadata": {},
     "output_type": "display_data"
    },
    {
     "name": "stdout",
     "output_type": "stream",
     "text": [
      "{'eval_loss': 4.217759609222412, 'eval_runtime': 1.0958, 'eval_samples_per_second': 4.563, 'eval_steps_per_second': 0.913, 'epoch': 0.06}\n",
      "{'loss': 4.5352, 'learning_rate': 1.3698630136986302e-05, 'epoch': 0.06}\n"
     ]
    },
    {
     "data": {
      "application/vnd.jupyter.widget-view+json": {
       "model_id": "cf6f87748a384ceba829d6bf4a2e2351",
       "version_major": 2,
       "version_minor": 0
      },
      "text/plain": [
       "  0%|          | 0/1 [00:00<?, ?it/s]"
      ]
     },
     "metadata": {},
     "output_type": "display_data"
    },
    {
     "name": "stdout",
     "output_type": "stream",
     "text": [
      "{'eval_loss': 4.059573650360107, 'eval_runtime': 1.023, 'eval_samples_per_second': 4.888, 'eval_steps_per_second': 0.978, 'epoch': 0.06}\n",
      "{'loss': 3.7626, 'learning_rate': 1.5068493150684933e-05, 'epoch': 0.07}\n"
     ]
    },
    {
     "data": {
      "application/vnd.jupyter.widget-view+json": {
       "model_id": "32174d001e564f72979e9b2b6ed73c46",
       "version_major": 2,
       "version_minor": 0
      },
      "text/plain": [
       "  0%|          | 0/1 [00:00<?, ?it/s]"
      ]
     },
     "metadata": {},
     "output_type": "display_data"
    },
    {
     "name": "stdout",
     "output_type": "stream",
     "text": [
      "{'eval_loss': 3.8719234466552734, 'eval_runtime': 1.0847, 'eval_samples_per_second': 4.61, 'eval_steps_per_second': 0.922, 'epoch': 0.07}\n",
      "{'loss': 3.0298, 'learning_rate': 1.6438356164383563e-05, 'epoch': 0.07}\n"
     ]
    },
    {
     "data": {
      "application/vnd.jupyter.widget-view+json": {
       "model_id": "66aa22a3378a439b9bb03169a019e81b",
       "version_major": 2,
       "version_minor": 0
      },
      "text/plain": [
       "  0%|          | 0/1 [00:00<?, ?it/s]"
      ]
     },
     "metadata": {},
     "output_type": "display_data"
    },
    {
     "name": "stdout",
     "output_type": "stream",
     "text": [
      "{'eval_loss': 3.681899309158325, 'eval_runtime': 1.0931, 'eval_samples_per_second': 4.574, 'eval_steps_per_second': 0.915, 'epoch': 0.07}\n",
      "{'loss': 3.3875, 'learning_rate': 1.7808219178082194e-05, 'epoch': 0.08}\n"
     ]
    },
    {
     "data": {
      "application/vnd.jupyter.widget-view+json": {
       "model_id": "90ae04ffb0b34094b74c0b9ee420da08",
       "version_major": 2,
       "version_minor": 0
      },
      "text/plain": [
       "  0%|          | 0/1 [00:00<?, ?it/s]"
      ]
     },
     "metadata": {},
     "output_type": "display_data"
    },
    {
     "name": "stdout",
     "output_type": "stream",
     "text": [
      "{'eval_loss': 3.5443577766418457, 'eval_runtime': 1.0146, 'eval_samples_per_second': 4.928, 'eval_steps_per_second': 0.986, 'epoch': 0.08}\n",
      "{'loss': 2.8085, 'learning_rate': 1.9178082191780822e-05, 'epoch': 0.09}\n"
     ]
    },
    {
     "data": {
      "application/vnd.jupyter.widget-view+json": {
       "model_id": "66002c86ab064ed3ad58847a1f07555f",
       "version_major": 2,
       "version_minor": 0
      },
      "text/plain": [
       "  0%|          | 0/1 [00:00<?, ?it/s]"
      ]
     },
     "metadata": {},
     "output_type": "display_data"
    },
    {
     "name": "stdout",
     "output_type": "stream",
     "text": [
      "{'eval_loss': 3.470305919647217, 'eval_runtime': 0.9877, 'eval_samples_per_second': 5.062, 'eval_steps_per_second': 1.012, 'epoch': 0.09}\n",
      "{'loss': 2.8103, 'learning_rate': 1.9999964012166784e-05, 'epoch': 0.09}\n"
     ]
    },
    {
     "data": {
      "application/vnd.jupyter.widget-view+json": {
       "model_id": "4fc1eae1a6cf4ecd8b628c0ec12f7833",
       "version_major": 2,
       "version_minor": 0
      },
      "text/plain": [
       "  0%|          | 0/1 [00:00<?, ?it/s]"
      ]
     },
     "metadata": {},
     "output_type": "display_data"
    },
    {
     "name": "stdout",
     "output_type": "stream",
     "text": [
      "{'eval_loss': 3.4166626930236816, 'eval_runtime': 0.974, 'eval_samples_per_second': 5.133, 'eval_steps_per_second': 1.027, 'epoch': 0.09}\n",
      "{'loss': 2.8745, 'learning_rate': 1.9999559152017842e-05, 'epoch': 0.1}\n"
     ]
    },
    {
     "data": {
      "application/vnd.jupyter.widget-view+json": {
       "model_id": "23dab634f07144808e38d92190bbc41c",
       "version_major": 2,
       "version_minor": 0
      },
      "text/plain": [
       "  0%|          | 0/1 [00:00<?, ?it/s]"
      ]
     },
     "metadata": {},
     "output_type": "display_data"
    },
    {
     "name": "stdout",
     "output_type": "stream",
     "text": [
      "{'eval_loss': 3.339308500289917, 'eval_runtime': 0.9905, 'eval_samples_per_second': 5.048, 'eval_steps_per_second': 1.01, 'epoch': 0.1}\n",
      "{'loss': 2.6028, 'learning_rate': 1.999870446520163e-05, 'epoch': 0.11}\n"
     ]
    },
    {
     "data": {
      "application/vnd.jupyter.widget-view+json": {
       "model_id": "d2fc1805fbd44b3aa2f8bd817f493738",
       "version_major": 2,
       "version_minor": 0
      },
      "text/plain": [
       "  0%|          | 0/1 [00:00<?, ?it/s]"
      ]
     },
     "metadata": {},
     "output_type": "display_data"
    },
    {
     "name": "stdout",
     "output_type": "stream",
     "text": [
      "{'eval_loss': 3.28226900100708, 'eval_runtime': 1.0981, 'eval_samples_per_second': 4.553, 'eval_steps_per_second': 0.911, 'epoch': 0.11}\n",
      "{'loss': 2.7059, 'learning_rate': 1.9997399990165947e-05, 'epoch': 0.11}\n"
     ]
    },
    {
     "data": {
      "application/vnd.jupyter.widget-view+json": {
       "model_id": "da5eab696d074bb996495372ccd12ff4",
       "version_major": 2,
       "version_minor": 0
      },
      "text/plain": [
       "  0%|          | 0/1 [00:00<?, ?it/s]"
      ]
     },
     "metadata": {},
     "output_type": "display_data"
    },
    {
     "name": "stdout",
     "output_type": "stream",
     "text": [
      "{'eval_loss': 3.202972412109375, 'eval_runtime': 1.0907, 'eval_samples_per_second': 4.584, 'eval_steps_per_second': 0.917, 'epoch': 0.11}\n",
      "{'loss': 2.7878, 'learning_rate': 1.9995645785592137e-05, 'epoch': 0.12}\n"
     ]
    },
    {
     "data": {
      "application/vnd.jupyter.widget-view+json": {
       "model_id": "a930ea57a35740768791d710c1d0cc31",
       "version_major": 2,
       "version_minor": 0
      },
      "text/plain": [
       "  0%|          | 0/1 [00:00<?, ?it/s]"
      ]
     },
     "metadata": {},
     "output_type": "display_data"
    },
    {
     "name": "stdout",
     "output_type": "stream",
     "text": [
      "{'eval_loss': 2.864076614379883, 'eval_runtime': 1.0899, 'eval_samples_per_second': 4.587, 'eval_steps_per_second': 0.917, 'epoch': 0.12}\n",
      "{'loss': 2.7932, 'learning_rate': 1.999344193039248e-05, 'epoch': 0.12}\n"
     ]
    },
    {
     "data": {
      "application/vnd.jupyter.widget-view+json": {
       "model_id": "63924fbf075740f3b85678a723b6bb03",
       "version_major": 2,
       "version_minor": 0
      },
      "text/plain": [
       "  0%|          | 0/1 [00:00<?, ?it/s]"
      ]
     },
     "metadata": {},
     "output_type": "display_data"
    },
    {
     "name": "stdout",
     "output_type": "stream",
     "text": [
      "{'eval_loss': 2.819537401199341, 'eval_runtime': 0.9873, 'eval_samples_per_second': 5.064, 'eval_steps_per_second': 1.013, 'epoch': 0.12}\n",
      "{'loss': 2.4089, 'learning_rate': 1.9990788523706636e-05, 'epoch': 0.13}\n"
     ]
    },
    {
     "data": {
      "application/vnd.jupyter.widget-view+json": {
       "model_id": "30cfeb7ad6d549b5babace27dfa5b413",
       "version_major": 2,
       "version_minor": 0
      },
      "text/plain": [
       "  0%|          | 0/1 [00:00<?, ?it/s]"
      ]
     },
     "metadata": {},
     "output_type": "display_data"
    },
    {
     "name": "stdout",
     "output_type": "stream",
     "text": [
      "{'eval_loss': 2.770174264907837, 'eval_runtime': 1.0332, 'eval_samples_per_second': 4.839, 'eval_steps_per_second': 0.968, 'epoch': 0.13}\n",
      "{'loss': 2.3262, 'learning_rate': 1.998768568489717e-05, 'epoch': 0.14}\n"
     ]
    },
    {
     "data": {
      "application/vnd.jupyter.widget-view+json": {
       "model_id": "3df87a50075d422eb54eff545149fc6f",
       "version_major": 2,
       "version_minor": 0
      },
      "text/plain": [
       "  0%|          | 0/1 [00:00<?, ?it/s]"
      ]
     },
     "metadata": {},
     "output_type": "display_data"
    },
    {
     "name": "stdout",
     "output_type": "stream",
     "text": [
      "{'eval_loss': 2.7181313037872314, 'eval_runtime': 0.9905, 'eval_samples_per_second': 5.048, 'eval_steps_per_second': 1.01, 'epoch': 0.14}\n",
      "{'loss': 2.3868, 'learning_rate': 1.9984133553544204e-05, 'epoch': 0.14}\n"
     ]
    },
    {
     "data": {
      "application/vnd.jupyter.widget-view+json": {
       "model_id": "f000fdfc72de4991916abbe3ceaa39e1",
       "version_major": 2,
       "version_minor": 0
      },
      "text/plain": [
       "  0%|          | 0/1 [00:00<?, ?it/s]"
      ]
     },
     "metadata": {},
     "output_type": "display_data"
    },
    {
     "name": "stdout",
     "output_type": "stream",
     "text": [
      "{'eval_loss': 2.651160717010498, 'eval_runtime': 1.0625, 'eval_samples_per_second': 4.706, 'eval_steps_per_second': 0.941, 'epoch': 0.14}\n",
      "{'loss': 2.1462, 'learning_rate': 1.998013228943912e-05, 'epoch': 0.15}\n"
     ]
    },
    {
     "data": {
      "application/vnd.jupyter.widget-view+json": {
       "model_id": "709b9f616aa846d080933446b3da1d1a",
       "version_major": 2,
       "version_minor": 0
      },
      "text/plain": [
       "  0%|          | 0/1 [00:00<?, ?it/s]"
      ]
     },
     "metadata": {},
     "output_type": "display_data"
    },
    {
     "name": "stdout",
     "output_type": "stream",
     "text": [
      "{'eval_loss': 2.5865116119384766, 'eval_runtime': 1.0867, 'eval_samples_per_second': 4.601, 'eval_steps_per_second': 0.92, 'epoch': 0.15}\n",
      "{'loss': 2.0003, 'learning_rate': 1.997568207257738e-05, 'epoch': 0.16}\n"
     ]
    },
    {
     "data": {
      "application/vnd.jupyter.widget-view+json": {
       "model_id": "4088c5232d54496781d1728cac9703c4",
       "version_major": 2,
       "version_minor": 0
      },
      "text/plain": [
       "  0%|          | 0/1 [00:00<?, ?it/s]"
      ]
     },
     "metadata": {},
     "output_type": "display_data"
    },
    {
     "name": "stdout",
     "output_type": "stream",
     "text": [
      "{'eval_loss': 2.5381879806518555, 'eval_runtime': 1.1052, 'eval_samples_per_second': 4.524, 'eval_steps_per_second': 0.905, 'epoch': 0.16}\n",
      "{'loss': 1.9509, 'learning_rate': 1.9970783103150434e-05, 'epoch': 0.16}\n"
     ]
    },
    {
     "data": {
      "application/vnd.jupyter.widget-view+json": {
       "model_id": "0735a31edc7d4c908e1aa0cc40163f85",
       "version_major": 2,
       "version_minor": 0
      },
      "text/plain": [
       "  0%|          | 0/1 [00:00<?, ?it/s]"
      ]
     },
     "metadata": {},
     "output_type": "display_data"
    },
    {
     "name": "stdout",
     "output_type": "stream",
     "text": [
      "{'eval_loss': 2.469899892807007, 'eval_runtime': 1.0258, 'eval_samples_per_second': 4.874, 'eval_steps_per_second': 0.975, 'epoch': 0.16}\n",
      "{'loss': 1.949, 'learning_rate': 1.996543560153671e-05, 'epoch': 0.17}\n"
     ]
    },
    {
     "data": {
      "application/vnd.jupyter.widget-view+json": {
       "model_id": "8e2ea9a1ee724a17a2b59055acb919e5",
       "version_major": 2,
       "version_minor": 0
      },
      "text/plain": [
       "  0%|          | 0/1 [00:00<?, ?it/s]"
      ]
     },
     "metadata": {},
     "output_type": "display_data"
    },
    {
     "name": "stdout",
     "output_type": "stream",
     "text": [
      "{'eval_loss': 2.41989803314209, 'eval_runtime': 1.0763, 'eval_samples_per_second': 4.646, 'eval_steps_per_second': 0.929, 'epoch': 0.17}\n",
      "{'loss': 1.8966, 'learning_rate': 1.9959639808291694e-05, 'epoch': 0.17}\n"
     ]
    },
    {
     "data": {
      "application/vnd.jupyter.widget-view+json": {
       "model_id": "d7e7e7f6e26e4b46acee260d5923567d",
       "version_major": 2,
       "version_minor": 0
      },
      "text/plain": [
       "  0%|          | 0/1 [00:00<?, ?it/s]"
      ]
     },
     "metadata": {},
     "output_type": "display_data"
    },
    {
     "name": "stdout",
     "output_type": "stream",
     "text": [
      "{'eval_loss': 2.367833375930786, 'eval_runtime': 1.0802, 'eval_samples_per_second': 4.629, 'eval_steps_per_second': 0.926, 'epoch': 0.17}\n",
      "{'loss': 2.799, 'learning_rate': 1.9953395984137113e-05, 'epoch': 0.18}\n"
     ]
    },
    {
     "data": {
      "application/vnd.jupyter.widget-view+json": {
       "model_id": "6d2faf1d5b9b4e7fb3c2b6b62cbee59a",
       "version_major": 2,
       "version_minor": 0
      },
      "text/plain": [
       "  0%|          | 0/1 [00:00<?, ?it/s]"
      ]
     },
     "metadata": {},
     "output_type": "display_data"
    },
    {
     "name": "stdout",
     "output_type": "stream",
     "text": [
      "{'eval_loss': 2.3347058296203613, 'eval_runtime': 1.0211, 'eval_samples_per_second': 4.897, 'eval_steps_per_second': 0.979, 'epoch': 0.18}\n",
      "{'loss': 2.2398, 'learning_rate': 1.994670440994921e-05, 'epoch': 0.19}\n"
     ]
    },
    {
     "data": {
      "application/vnd.jupyter.widget-view+json": {
       "model_id": "e411ff9650e64645b649c085cf029da9",
       "version_major": 2,
       "version_minor": 0
      },
      "text/plain": [
       "  0%|          | 0/1 [00:00<?, ?it/s]"
      ]
     },
     "metadata": {},
     "output_type": "display_data"
    },
    {
     "name": "stdout",
     "output_type": "stream",
     "text": [
      "{'eval_loss': 2.3252034187316895, 'eval_runtime': 1.0401, 'eval_samples_per_second': 4.807, 'eval_steps_per_second': 0.961, 'epoch': 0.19}\n",
      "{'loss': 1.941, 'learning_rate': 1.993956538674611e-05, 'epoch': 0.19}\n"
     ]
    },
    {
     "data": {
      "application/vnd.jupyter.widget-view+json": {
       "model_id": "667fb1412f9740a99a00bc3bceebb346",
       "version_major": 2,
       "version_minor": 0
      },
      "text/plain": [
       "  0%|          | 0/1 [00:00<?, ?it/s]"
      ]
     },
     "metadata": {},
     "output_type": "display_data"
    },
    {
     "name": "stdout",
     "output_type": "stream",
     "text": [
      "{'eval_loss': 2.3223793506622314, 'eval_runtime': 1.0136, 'eval_samples_per_second': 4.933, 'eval_steps_per_second': 0.987, 'epoch': 0.19}\n",
      "{'loss': 2.013, 'learning_rate': 1.9931979235674274e-05, 'epoch': 0.2}\n"
     ]
    },
    {
     "data": {
      "application/vnd.jupyter.widget-view+json": {
       "model_id": "0d3f0689cb7247c9bc91f895e366cfb7",
       "version_major": 2,
       "version_minor": 0
      },
      "text/plain": [
       "  0%|          | 0/1 [00:00<?, ?it/s]"
      ]
     },
     "metadata": {},
     "output_type": "display_data"
    },
    {
     "name": "stdout",
     "output_type": "stream",
     "text": [
      "{'eval_loss': 2.314272880554199, 'eval_runtime': 1.0866, 'eval_samples_per_second': 4.602, 'eval_steps_per_second': 0.92, 'epoch': 0.2}\n",
      "{'loss': 2.0168, 'learning_rate': 1.9923946297994044e-05, 'epoch': 0.2}\n"
     ]
    },
    {
     "data": {
      "application/vnd.jupyter.widget-view+json": {
       "model_id": "6fe341743cf742158b78a6c1b99b9f2c",
       "version_major": 2,
       "version_minor": 0
      },
      "text/plain": [
       "  0%|          | 0/1 [00:00<?, ?it/s]"
      ]
     },
     "metadata": {},
     "output_type": "display_data"
    },
    {
     "name": "stdout",
     "output_type": "stream",
     "text": [
      "{'eval_loss': 2.297389268875122, 'eval_runtime': 0.9759, 'eval_samples_per_second': 5.123, 'eval_steps_per_second': 1.025, 'epoch': 0.2}\n",
      "{'loss': 1.8037, 'learning_rate': 1.991546693506432e-05, 'epoch': 0.21}\n"
     ]
    },
    {
     "data": {
      "application/vnd.jupyter.widget-view+json": {
       "model_id": "8b8b434a5fd7486684fc2ef1b44ffa9f",
       "version_major": 2,
       "version_minor": 0
      },
      "text/plain": [
       "  0%|          | 0/1 [00:00<?, ?it/s]"
      ]
     },
     "metadata": {},
     "output_type": "display_data"
    },
    {
     "name": "stdout",
     "output_type": "stream",
     "text": [
      "{'eval_loss': 2.269404411315918, 'eval_runtime': 0.9768, 'eval_samples_per_second': 5.119, 'eval_steps_per_second': 1.024, 'epoch': 0.21}\n",
      "{'loss': 2.4074, 'learning_rate': 1.9906541528326266e-05, 'epoch': 0.22}\n"
     ]
    },
    {
     "data": {
      "application/vnd.jupyter.widget-view+json": {
       "model_id": "c9db95ee20274f1b88edb0ff0daa88fa",
       "version_major": 2,
       "version_minor": 0
      },
      "text/plain": [
       "  0%|          | 0/1 [00:00<?, ?it/s]"
      ]
     },
     "metadata": {},
     "output_type": "display_data"
    },
    {
     "name": "stdout",
     "output_type": "stream",
     "text": [
      "{'eval_loss': 2.230644941329956, 'eval_runtime': 0.9996, 'eval_samples_per_second': 5.002, 'eval_steps_per_second': 1.0, 'epoch': 0.22}\n",
      "{'loss': 1.9955, 'learning_rate': 1.9897170479286178e-05, 'epoch': 0.22}\n"
     ]
    },
    {
     "data": {
      "application/vnd.jupyter.widget-view+json": {
       "model_id": "f9ecbf8166214e4bb9371329061e4035",
       "version_major": 2,
       "version_minor": 0
      },
      "text/plain": [
       "  0%|          | 0/1 [00:00<?, ?it/s]"
      ]
     },
     "metadata": {},
     "output_type": "display_data"
    },
    {
     "name": "stdout",
     "output_type": "stream",
     "text": [
      "{'eval_loss': 2.1970455646514893, 'eval_runtime': 1.0922, 'eval_samples_per_second': 4.578, 'eval_steps_per_second': 0.916, 'epoch': 0.22}\n",
      "{'loss': 1.6786, 'learning_rate': 1.988735420949742e-05, 'epoch': 0.23}\n"
     ]
    },
    {
     "data": {
      "application/vnd.jupyter.widget-view+json": {
       "model_id": "328cf5d386d8407f8daebaa144162c23",
       "version_major": 2,
       "version_minor": 0
      },
      "text/plain": [
       "  0%|          | 0/1 [00:00<?, ?it/s]"
      ]
     },
     "metadata": {},
     "output_type": "display_data"
    },
    {
     "name": "stdout",
     "output_type": "stream",
     "text": [
      "{'eval_loss': 2.174060344696045, 'eval_runtime': 1.0586, 'eval_samples_per_second': 4.723, 'eval_steps_per_second': 0.945, 'epoch': 0.23}\n",
      "{'loss': 2.2734, 'learning_rate': 1.9877093160541452e-05, 'epoch': 0.24}\n"
     ]
    },
    {
     "data": {
      "application/vnd.jupyter.widget-view+json": {
       "model_id": "2be8a356581f4753b21c6fb4ec48af1b",
       "version_major": 2,
       "version_minor": 0
      },
      "text/plain": [
       "  0%|          | 0/1 [00:00<?, ?it/s]"
      ]
     },
     "metadata": {},
     "output_type": "display_data"
    },
    {
     "name": "stdout",
     "output_type": "stream",
     "text": [
      "{'eval_loss': 2.1545302867889404, 'eval_runtime': 0.9957, 'eval_samples_per_second': 5.022, 'eval_steps_per_second': 1.004, 'epoch': 0.24}\n",
      "{'loss': 1.7815, 'learning_rate': 1.9866387794007968e-05, 'epoch': 0.24}\n"
     ]
    },
    {
     "data": {
      "application/vnd.jupyter.widget-view+json": {
       "model_id": "d4aa6b7f999a4c47b582190119bbfadc",
       "version_major": 2,
       "version_minor": 0
      },
      "text/plain": [
       "  0%|          | 0/1 [00:00<?, ?it/s]"
      ]
     },
     "metadata": {},
     "output_type": "display_data"
    },
    {
     "name": "stdout",
     "output_type": "stream",
     "text": [
      "{'eval_loss': 2.1268558502197266, 'eval_runtime': 1.0686, 'eval_samples_per_second': 4.679, 'eval_steps_per_second': 0.936, 'epoch': 0.24}\n",
      "{'loss': 1.8702, 'learning_rate': 1.9855238591474132e-05, 'epoch': 0.25}\n"
     ]
    },
    {
     "data": {
      "application/vnd.jupyter.widget-view+json": {
       "model_id": "0c8787e5f77e4b4982043121b2d52bc1",
       "version_major": 2,
       "version_minor": 0
      },
      "text/plain": [
       "  0%|          | 0/1 [00:00<?, ?it/s]"
      ]
     },
     "metadata": {},
     "output_type": "display_data"
    },
    {
     "name": "stdout",
     "output_type": "stream",
     "text": [
      "{'eval_loss': 2.107708215713501, 'eval_runtime': 1.0888, 'eval_samples_per_second': 4.592, 'eval_steps_per_second': 0.918, 'epoch': 0.25}\n",
      "{'loss': 1.679, 'learning_rate': 1.9843646054482914e-05, 'epoch': 0.25}\n"
     ]
    },
    {
     "data": {
      "application/vnd.jupyter.widget-view+json": {
       "model_id": "fadfffaf5533439ba348005d3c1ea9d1",
       "version_major": 2,
       "version_minor": 0
      },
      "text/plain": [
       "  0%|          | 0/1 [00:00<?, ?it/s]"
      ]
     },
     "metadata": {},
     "output_type": "display_data"
    },
    {
     "name": "stdout",
     "output_type": "stream",
     "text": [
      "{'eval_loss': 2.0930638313293457, 'eval_runtime': 0.9792, 'eval_samples_per_second': 5.106, 'eval_steps_per_second': 1.021, 'epoch': 0.25}\n",
      "{'loss': 1.764, 'learning_rate': 1.9831610704520537e-05, 'epoch': 0.26}\n"
     ]
    },
    {
     "data": {
      "application/vnd.jupyter.widget-view+json": {
       "model_id": "54b86d77e7fd426ba5fcdef188636e32",
       "version_major": 2,
       "version_minor": 0
      },
      "text/plain": [
       "  0%|          | 0/1 [00:00<?, ?it/s]"
      ]
     },
     "metadata": {},
     "output_type": "display_data"
    },
    {
     "name": "stdout",
     "output_type": "stream",
     "text": [
      "{'eval_loss': 2.068228006362915, 'eval_runtime': 1.008, 'eval_samples_per_second': 4.961, 'eval_steps_per_second': 0.992, 'epoch': 0.26}\n",
      "{'loss': 1.8928, 'learning_rate': 1.9819133082993e-05, 'epoch': 0.27}\n"
     ]
    },
    {
     "data": {
      "application/vnd.jupyter.widget-view+json": {
       "model_id": "44c84804458b4529a6a99f4de4ba58c5",
       "version_major": 2,
       "version_minor": 0
      },
      "text/plain": [
       "  0%|          | 0/1 [00:00<?, ?it/s]"
      ]
     },
     "metadata": {},
     "output_type": "display_data"
    },
    {
     "name": "stdout",
     "output_type": "stream",
     "text": [
      "{'eval_loss': 2.046252489089966, 'eval_runtime': 1.0836, 'eval_samples_per_second': 4.614, 'eval_steps_per_second': 0.923, 'epoch': 0.27}\n",
      "{'loss': 1.6704, 'learning_rate': 1.9806213751201746e-05, 'epoch': 0.27}\n"
     ]
    },
    {
     "data": {
      "application/vnd.jupyter.widget-view+json": {
       "model_id": "b5320b00258a45abab0e8932427c6f58",
       "version_major": 2,
       "version_minor": 0
      },
      "text/plain": [
       "  0%|          | 0/1 [00:00<?, ?it/s]"
      ]
     },
     "metadata": {},
     "output_type": "display_data"
    },
    {
     "name": "stdout",
     "output_type": "stream",
     "text": [
      "{'eval_loss': 2.0148766040802, 'eval_runtime': 1.089, 'eval_samples_per_second': 4.592, 'eval_steps_per_second': 0.918, 'epoch': 0.27}\n",
      "{'loss': 1.6566, 'learning_rate': 1.9792853290318384e-05, 'epoch': 0.28}\n"
     ]
    },
    {
     "data": {
      "application/vnd.jupyter.widget-view+json": {
       "model_id": "b292b6aedd9940e19ea27435d87554c9",
       "version_major": 2,
       "version_minor": 0
      },
      "text/plain": [
       "  0%|          | 0/1 [00:00<?, ?it/s]"
      ]
     },
     "metadata": {},
     "output_type": "display_data"
    },
    {
     "name": "stdout",
     "output_type": "stream",
     "text": [
      "{'eval_loss': 1.9985826015472412, 'eval_runtime': 0.9911, 'eval_samples_per_second': 5.045, 'eval_steps_per_second': 1.009, 'epoch': 0.28}\n",
      "{'loss': 1.6265, 'learning_rate': 1.977905230135857e-05, 'epoch': 0.29}\n"
     ]
    },
    {
     "data": {
      "application/vnd.jupyter.widget-view+json": {
       "model_id": "59030c8316d140b68a8df2460d9fba9a",
       "version_major": 2,
       "version_minor": 0
      },
      "text/plain": [
       "  0%|          | 0/1 [00:00<?, ?it/s]"
      ]
     },
     "metadata": {},
     "output_type": "display_data"
    },
    {
     "name": "stdout",
     "output_type": "stream",
     "text": [
      "{'eval_loss': 1.9878942966461182, 'eval_runtime': 1.0812, 'eval_samples_per_second': 4.624, 'eval_steps_per_second': 0.925, 'epoch': 0.29}\n",
      "{'loss': 1.619, 'learning_rate': 1.9764811405154965e-05, 'epoch': 0.29}\n"
     ]
    },
    {
     "data": {
      "application/vnd.jupyter.widget-view+json": {
       "model_id": "1264b852023746a6a985f53d854da2cd",
       "version_major": 2,
       "version_minor": 0
      },
      "text/plain": [
       "  0%|          | 0/1 [00:00<?, ?it/s]"
      ]
     },
     "metadata": {},
     "output_type": "display_data"
    },
    {
     "name": "stdout",
     "output_type": "stream",
     "text": [
      "{'eval_loss': 1.9748655557632446, 'eval_runtime': 1.0875, 'eval_samples_per_second': 4.598, 'eval_steps_per_second': 0.92, 'epoch': 0.29}\n",
      "{'loss': 1.9639, 'learning_rate': 1.9750131242329296e-05, 'epoch': 0.3}\n"
     ]
    },
    {
     "data": {
      "application/vnd.jupyter.widget-view+json": {
       "model_id": "0b947359a8964dff8a6afe6093fe2d11",
       "version_major": 2,
       "version_minor": 0
      },
      "text/plain": [
       "  0%|          | 0/1 [00:00<?, ?it/s]"
      ]
     },
     "metadata": {},
     "output_type": "display_data"
    },
    {
     "name": "stdout",
     "output_type": "stream",
     "text": [
      "{'eval_loss': 1.9534509181976318, 'eval_runtime': 1.0096, 'eval_samples_per_second': 4.953, 'eval_steps_per_second': 0.991, 'epoch': 0.3}\n",
      "{'loss': 1.9363, 'learning_rate': 1.9735012473263545e-05, 'epoch': 0.3}\n"
     ]
    },
    {
     "data": {
      "application/vnd.jupyter.widget-view+json": {
       "model_id": "ff0e6e09af8142f29cc695c35da4f74b",
       "version_major": 2,
       "version_minor": 0
      },
      "text/plain": [
       "  0%|          | 0/1 [00:00<?, ?it/s]"
      ]
     },
     "metadata": {},
     "output_type": "display_data"
    },
    {
     "name": "stdout",
     "output_type": "stream",
     "text": [
      "{'eval_loss': 1.9344098567962646, 'eval_runtime': 0.9877, 'eval_samples_per_second': 5.062, 'eval_steps_per_second': 1.012, 'epoch': 0.3}\n",
      "{'loss': 1.1618, 'learning_rate': 1.971945577807025e-05, 'epoch': 0.31}\n"
     ]
    },
    {
     "data": {
      "application/vnd.jupyter.widget-view+json": {
       "model_id": "2d1e6b37d31f492ab183f2dcbc0e00d2",
       "version_major": 2,
       "version_minor": 0
      },
      "text/plain": [
       "  0%|          | 0/1 [00:00<?, ?it/s]"
      ]
     },
     "metadata": {},
     "output_type": "display_data"
    },
    {
     "name": "stdout",
     "output_type": "stream",
     "text": [
      "{'eval_loss': 1.9247429370880127, 'eval_runtime': 1.0426, 'eval_samples_per_second': 4.796, 'eval_steps_per_second': 0.959, 'epoch': 0.31}\n",
      "{'loss': 1.8425, 'learning_rate': 1.970346185656189e-05, 'epoch': 0.32}\n"
     ]
    },
    {
     "data": {
      "application/vnd.jupyter.widget-view+json": {
       "model_id": "192ee3f916804e6fa3baaf6e737469bb",
       "version_major": 2,
       "version_minor": 0
      },
      "text/plain": [
       "  0%|          | 0/1 [00:00<?, ?it/s]"
      ]
     },
     "metadata": {},
     "output_type": "display_data"
    },
    {
     "name": "stdout",
     "output_type": "stream",
     "text": [
      "{'eval_loss': 1.91989004611969, 'eval_runtime': 1.0962, 'eval_samples_per_second': 4.561, 'eval_steps_per_second': 0.912, 'epoch': 0.32}\n",
      "{'loss': 1.5395, 'learning_rate': 1.9687031428219432e-05, 'epoch': 0.32}\n"
     ]
    },
    {
     "data": {
      "application/vnd.jupyter.widget-view+json": {
       "model_id": "89eebfef9f3644e4917f49886e1693d1",
       "version_major": 2,
       "version_minor": 0
      },
      "text/plain": [
       "  0%|          | 0/1 [00:00<?, ?it/s]"
      ]
     },
     "metadata": {},
     "output_type": "display_data"
    },
    {
     "name": "stdout",
     "output_type": "stream",
     "text": [
      "{'eval_loss': 1.9240295886993408, 'eval_runtime': 1.0893, 'eval_samples_per_second': 4.59, 'eval_steps_per_second': 0.918, 'epoch': 0.32}\n",
      "{'loss': 1.6621, 'learning_rate': 1.9670165232159938e-05, 'epoch': 0.33}\n"
     ]
    },
    {
     "data": {
      "application/vnd.jupyter.widget-view+json": {
       "model_id": "a335d2c7faf84fdf86d454de85f713fe",
       "version_major": 2,
       "version_minor": 0
      },
      "text/plain": [
       "  0%|          | 0/1 [00:00<?, ?it/s]"
      ]
     },
     "metadata": {},
     "output_type": "display_data"
    },
    {
     "name": "stdout",
     "output_type": "stream",
     "text": [
      "{'eval_loss': 1.9276336431503296, 'eval_runtime': 1.0312, 'eval_samples_per_second': 4.849, 'eval_steps_per_second': 0.97, 'epoch': 0.33}\n",
      "{'loss': 1.7791, 'learning_rate': 1.965286402710333e-05, 'epoch': 0.34}\n"
     ]
    },
    {
     "data": {
      "application/vnd.jupyter.widget-view+json": {
       "model_id": "4bf43b37fcd54dc0ac6b1684673980a0",
       "version_major": 2,
       "version_minor": 0
      },
      "text/plain": [
       "  0%|          | 0/1 [00:00<?, ?it/s]"
      ]
     },
     "metadata": {},
     "output_type": "display_data"
    },
    {
     "name": "stdout",
     "output_type": "stream",
     "text": [
      "{'eval_loss': 1.928799033164978, 'eval_runtime': 1.0423, 'eval_samples_per_second': 4.797, 'eval_steps_per_second': 0.959, 'epoch': 0.34}\n",
      "{'loss': 1.8282, 'learning_rate': 1.9635128591338265e-05, 'epoch': 0.34}\n"
     ]
    },
    {
     "data": {
      "application/vnd.jupyter.widget-view+json": {
       "model_id": "01be91a0495e4d4791f5a5f78501c4eb",
       "version_major": 2,
       "version_minor": 0
      },
      "text/plain": [
       "  0%|          | 0/1 [00:00<?, ?it/s]"
      ]
     },
     "metadata": {},
     "output_type": "display_data"
    },
    {
     "name": "stdout",
     "output_type": "stream",
     "text": [
      "{'eval_loss': 1.929003119468689, 'eval_runtime': 1.1012, 'eval_samples_per_second': 4.541, 'eval_steps_per_second': 0.908, 'epoch': 0.34}\n",
      "{'loss': 1.4037, 'learning_rate': 1.961695972268711e-05, 'epoch': 0.35}\n"
     ]
    },
    {
     "data": {
      "application/vnd.jupyter.widget-view+json": {
       "model_id": "71d0f888aff14045bae5595157133061",
       "version_major": 2,
       "version_minor": 0
      },
      "text/plain": [
       "  0%|          | 0/1 [00:00<?, ?it/s]"
      ]
     },
     "metadata": {},
     "output_type": "display_data"
    },
    {
     "name": "stdout",
     "output_type": "stream",
     "text": [
      "{'eval_loss': 1.9306358098983765, 'eval_runtime': 0.9807, 'eval_samples_per_second': 5.098, 'eval_steps_per_second': 1.02, 'epoch': 0.35}\n",
      "{'loss': 1.4468, 'learning_rate': 1.9598358238470058e-05, 'epoch': 0.35}\n"
     ]
    },
    {
     "data": {
      "application/vnd.jupyter.widget-view+json": {
       "model_id": "9e0281cc677c4186add583b6f282f8c5",
       "version_major": 2,
       "version_minor": 0
      },
      "text/plain": [
       "  0%|          | 0/1 [00:00<?, ?it/s]"
      ]
     },
     "metadata": {},
     "output_type": "display_data"
    },
    {
     "name": "stdout",
     "output_type": "stream",
     "text": [
      "{'eval_loss': 1.9216468334197998, 'eval_runtime': 1.0526, 'eval_samples_per_second': 4.75, 'eval_steps_per_second': 0.95, 'epoch': 0.35}\n",
      "{'loss': 1.5645, 'learning_rate': 1.9579324975468363e-05, 'epoch': 0.36}\n"
     ]
    },
    {
     "data": {
      "application/vnd.jupyter.widget-view+json": {
       "model_id": "c22a7243a7b4490e9450fa85c999f879",
       "version_major": 2,
       "version_minor": 0
      },
      "text/plain": [
       "  0%|          | 0/1 [00:00<?, ?it/s]"
      ]
     },
     "metadata": {},
     "output_type": "display_data"
    },
    {
     "name": "stdout",
     "output_type": "stream",
     "text": [
      "{'eval_loss': 1.9026925563812256, 'eval_runtime': 1.064, 'eval_samples_per_second': 4.699, 'eval_steps_per_second': 0.94, 'epoch': 0.36}\n",
      "{'loss': 1.3587, 'learning_rate': 1.9559860789886697e-05, 'epoch': 0.37}\n"
     ]
    },
    {
     "data": {
      "application/vnd.jupyter.widget-view+json": {
       "model_id": "6a41c3ddd53b41a481b14f42f6738a97",
       "version_major": 2,
       "version_minor": 0
      },
      "text/plain": [
       "  0%|          | 0/1 [00:00<?, ?it/s]"
      ]
     },
     "metadata": {},
     "output_type": "display_data"
    },
    {
     "name": "stdout",
     "output_type": "stream",
     "text": [
      "{'eval_loss': 1.8776752948760986, 'eval_runtime': 0.9915, 'eval_samples_per_second': 5.043, 'eval_steps_per_second': 1.009, 'epoch': 0.37}\n",
      "{'loss': 1.5783, 'learning_rate': 1.9539966557314634e-05, 'epoch': 0.37}\n"
     ]
    },
    {
     "data": {
      "application/vnd.jupyter.widget-view+json": {
       "model_id": "03e4990d759342288533779cba96ea92",
       "version_major": 2,
       "version_minor": 0
      },
      "text/plain": [
       "  0%|          | 0/1 [00:00<?, ?it/s]"
      ]
     },
     "metadata": {},
     "output_type": "display_data"
    },
    {
     "name": "stdout",
     "output_type": "stream",
     "text": [
      "{'eval_loss': 1.8569786548614502, 'eval_runtime': 0.9872, 'eval_samples_per_second': 5.065, 'eval_steps_per_second': 1.013, 'epoch': 0.37}\n",
      "{'loss': 1.3736, 'learning_rate': 1.9519643172687263e-05, 'epoch': 0.38}\n"
     ]
    },
    {
     "data": {
      "application/vnd.jupyter.widget-view+json": {
       "model_id": "fd0fb8bdc2e44e43ae6d49ab934ddaf5",
       "version_major": 2,
       "version_minor": 0
      },
      "text/plain": [
       "  0%|          | 0/1 [00:00<?, ?it/s]"
      ]
     },
     "metadata": {},
     "output_type": "display_data"
    },
    {
     "name": "stdout",
     "output_type": "stream",
     "text": [
      "{'eval_loss': 1.8367040157318115, 'eval_runtime': 1.0892, 'eval_samples_per_second': 4.59, 'eval_steps_per_second': 0.918, 'epoch': 0.38}\n",
      "{'loss': 1.3657, 'learning_rate': 1.949889155024492e-05, 'epoch': 0.39}\n"
     ]
    },
    {
     "data": {
      "application/vnd.jupyter.widget-view+json": {
       "model_id": "ad0198e916de44939fa48b73844964e7",
       "version_major": 2,
       "version_minor": 0
      },
      "text/plain": [
       "  0%|          | 0/1 [00:00<?, ?it/s]"
      ]
     },
     "metadata": {},
     "output_type": "display_data"
    },
    {
     "name": "stdout",
     "output_type": "stream",
     "text": [
      "{'eval_loss': 1.8224834203720093, 'eval_runtime': 1.0464, 'eval_samples_per_second': 4.778, 'eval_steps_per_second': 0.956, 'epoch': 0.39}\n",
      "{'loss': 1.6, 'learning_rate': 1.9477712623492083e-05, 'epoch': 0.39}\n"
     ]
    },
    {
     "data": {
      "application/vnd.jupyter.widget-view+json": {
       "model_id": "c63ad430a3e6448cb07ac609c59dd81b",
       "version_major": 2,
       "version_minor": 0
      },
      "text/plain": [
       "  0%|          | 0/1 [00:00<?, ?it/s]"
      ]
     },
     "metadata": {},
     "output_type": "display_data"
    },
    {
     "name": "stdout",
     "output_type": "stream",
     "text": [
      "{'eval_loss': 1.8208906650543213, 'eval_runtime': 1.0642, 'eval_samples_per_second': 4.698, 'eval_steps_per_second': 0.94, 'epoch': 0.39}\n",
      "{'loss': 1.3556, 'learning_rate': 1.9456107345155346e-05, 'epoch': 0.4}\n"
     ]
    },
    {
     "data": {
      "application/vnd.jupyter.widget-view+json": {
       "model_id": "77acbdceae704a3ab586db243ba9d0ba",
       "version_major": 2,
       "version_minor": 0
      },
      "text/plain": [
       "  0%|          | 0/1 [00:00<?, ?it/s]"
      ]
     },
     "metadata": {},
     "output_type": "display_data"
    },
    {
     "name": "stdout",
     "output_type": "stream",
     "text": [
      "{'eval_loss': 1.8269269466400146, 'eval_runtime': 1.045, 'eval_samples_per_second': 4.785, 'eval_steps_per_second': 0.957, 'epoch': 0.4}\n",
      "{'loss': 1.3053, 'learning_rate': 1.94340766871406e-05, 'epoch': 0.4}\n"
     ]
    },
    {
     "data": {
      "application/vnd.jupyter.widget-view+json": {
       "model_id": "5ba87ddb84d340f1824519ecc8717490",
       "version_major": 2,
       "version_minor": 0
      },
      "text/plain": [
       "  0%|          | 0/1 [00:00<?, ?it/s]"
      ]
     },
     "metadata": {},
     "output_type": "display_data"
    },
    {
     "name": "stdout",
     "output_type": "stream",
     "text": [
      "{'eval_loss': 1.8399032354354858, 'eval_runtime': 1.001, 'eval_samples_per_second': 4.995, 'eval_steps_per_second': 0.999, 'epoch': 0.4}\n",
      "{'loss': 1.3685, 'learning_rate': 1.941162164048928e-05, 'epoch': 0.41}\n"
     ]
    },
    {
     "data": {
      "application/vnd.jupyter.widget-view+json": {
       "model_id": "33c84588be8e49c48c5b25fe093a1022",
       "version_major": 2,
       "version_minor": 0
      },
      "text/plain": [
       "  0%|          | 0/1 [00:00<?, ?it/s]"
      ]
     },
     "metadata": {},
     "output_type": "display_data"
    },
    {
     "name": "stdout",
     "output_type": "stream",
     "text": [
      "{'eval_loss': 1.858776330947876, 'eval_runtime': 1.076, 'eval_samples_per_second': 4.647, 'eval_steps_per_second': 0.929, 'epoch': 0.41}\n",
      "{'loss': 1.5458, 'learning_rate': 1.9388743215333787e-05, 'epoch': 0.42}\n"
     ]
    },
    {
     "data": {
      "application/vnd.jupyter.widget-view+json": {
       "model_id": "9800705673394c23ac3b9659d8b966ea",
       "version_major": 2,
       "version_minor": 0
      },
      "text/plain": [
       "  0%|          | 0/1 [00:00<?, ?it/s]"
      ]
     },
     "metadata": {},
     "output_type": "display_data"
    },
    {
     "name": "stdout",
     "output_type": "stream",
     "text": [
      "{'eval_loss': 1.8713802099227905, 'eval_runtime': 1.0591, 'eval_samples_per_second': 4.721, 'eval_steps_per_second': 0.944, 'epoch': 0.42}\n",
      "{'loss': 1.2776, 'learning_rate': 1.9365442440852078e-05, 'epoch': 0.42}\n"
     ]
    },
    {
     "data": {
      "application/vnd.jupyter.widget-view+json": {
       "model_id": "96b49c1bc36f4d7787625f400ada1364",
       "version_major": 2,
       "version_minor": 0
      },
      "text/plain": [
       "  0%|          | 0/1 [00:00<?, ?it/s]"
      ]
     },
     "metadata": {},
     "output_type": "display_data"
    },
    {
     "name": "stdout",
     "output_type": "stream",
     "text": [
      "{'eval_loss': 1.8865792751312256, 'eval_runtime': 1.0057, 'eval_samples_per_second': 4.972, 'eval_steps_per_second': 0.994, 'epoch': 0.42}\n",
      "{'loss': 1.9151, 'learning_rate': 1.934172036522133e-05, 'epoch': 0.43}\n"
     ]
    },
    {
     "data": {
      "application/vnd.jupyter.widget-view+json": {
       "model_id": "e386d92b2713422cb59cdbee3f1dcd72",
       "version_major": 2,
       "version_minor": 0
      },
      "text/plain": [
       "  0%|          | 0/1 [00:00<?, ?it/s]"
      ]
     },
     "metadata": {},
     "output_type": "display_data"
    },
    {
     "name": "stdout",
     "output_type": "stream",
     "text": [
      "{'eval_loss': 1.8839794397354126, 'eval_runtime': 1.0538, 'eval_samples_per_second': 4.745, 'eval_steps_per_second': 0.949, 'epoch': 0.43}\n",
      "{'loss': 1.3067, 'learning_rate': 1.9317578055570812e-05, 'epoch': 0.43}\n"
     ]
    },
    {
     "data": {
      "application/vnd.jupyter.widget-view+json": {
       "model_id": "4f20a8eb75594d31806411f29dad871d",
       "version_major": 2,
       "version_minor": 0
      },
      "text/plain": [
       "  0%|          | 0/1 [00:00<?, ?it/s]"
      ]
     },
     "metadata": {},
     "output_type": "display_data"
    },
    {
     "name": "stdout",
     "output_type": "stream",
     "text": [
      "{'eval_loss': 1.8786346912384033, 'eval_runtime': 1.103, 'eval_samples_per_second': 4.533, 'eval_steps_per_second': 0.907, 'epoch': 0.43}\n",
      "{'loss': 1.4648, 'learning_rate': 1.929301659793387e-05, 'epoch': 0.44}\n"
     ]
    },
    {
     "data": {
      "application/vnd.jupyter.widget-view+json": {
       "model_id": "237e1d05945842d1b02729392398a37e",
       "version_major": 2,
       "version_minor": 0
      },
      "text/plain": [
       "  0%|          | 0/1 [00:00<?, ?it/s]"
      ]
     },
     "metadata": {},
     "output_type": "display_data"
    },
    {
     "name": "stdout",
     "output_type": "stream",
     "text": [
      "{'eval_loss': 1.8800042867660522, 'eval_runtime': 0.9893, 'eval_samples_per_second': 5.054, 'eval_steps_per_second': 1.011, 'epoch': 0.44}\n",
      "{'loss': 1.3578, 'learning_rate': 1.9268037097199074e-05, 'epoch': 0.45}\n"
     ]
    },
    {
     "data": {
      "application/vnd.jupyter.widget-view+json": {
       "model_id": "4118b599965043dca2450107e1f350f7",
       "version_major": 2,
       "version_minor": 0
      },
      "text/plain": [
       "  0%|          | 0/1 [00:00<?, ?it/s]"
      ]
     },
     "metadata": {},
     "output_type": "display_data"
    },
    {
     "name": "stdout",
     "output_type": "stream",
     "text": [
      "{'eval_loss': 1.8745524883270264, 'eval_runtime': 1.0911, 'eval_samples_per_second': 4.582, 'eval_steps_per_second': 0.916, 'epoch': 0.45}\n",
      "{'loss': 1.8549, 'learning_rate': 1.924264067706052e-05, 'epoch': 0.45}\n"
     ]
    },
    {
     "data": {
      "application/vnd.jupyter.widget-view+json": {
       "model_id": "4f638b81536546b79b9017f41c9e7c21",
       "version_major": 2,
       "version_minor": 0
      },
      "text/plain": [
       "  0%|          | 0/1 [00:00<?, ?it/s]"
      ]
     },
     "metadata": {},
     "output_type": "display_data"
    },
    {
     "name": "stdout",
     "output_type": "stream",
     "text": [
      "{'eval_loss': 1.8681930303573608, 'eval_runtime': 1.091, 'eval_samples_per_second': 4.583, 'eval_steps_per_second': 0.917, 'epoch': 0.45}\n",
      "{'loss': 1.3957, 'learning_rate': 1.9216828479967274e-05, 'epoch': 0.46}\n"
     ]
    },
    {
     "data": {
      "application/vnd.jupyter.widget-view+json": {
       "model_id": "a9e73ac239704f5b8858d997500e9a80",
       "version_major": 2,
       "version_minor": 0
      },
      "text/plain": [
       "  0%|          | 0/1 [00:00<?, ?it/s]"
      ]
     },
     "metadata": {},
     "output_type": "display_data"
    },
    {
     "name": "stdout",
     "output_type": "stream",
     "text": [
      "{'eval_loss': 1.8491700887680054, 'eval_runtime': 1.0126, 'eval_samples_per_second': 4.938, 'eval_steps_per_second': 0.988, 'epoch': 0.46}\n",
      "{'loss': 1.4982, 'learning_rate': 1.9190601667071983e-05, 'epoch': 0.47}\n"
     ]
    },
    {
     "data": {
      "application/vnd.jupyter.widget-view+json": {
       "model_id": "42bd3cd4f558422fb3caad977b55b3f7",
       "version_major": 2,
       "version_minor": 0
      },
      "text/plain": [
       "  0%|          | 0/1 [00:00<?, ?it/s]"
      ]
     },
     "metadata": {},
     "output_type": "display_data"
    },
    {
     "name": "stdout",
     "output_type": "stream",
     "text": [
      "{'eval_loss': 1.8256248235702515, 'eval_runtime': 1.0199, 'eval_samples_per_second': 4.903, 'eval_steps_per_second': 0.981, 'epoch': 0.47}\n",
      "{'loss': 1.384, 'learning_rate': 1.916396141817865e-05, 'epoch': 0.47}\n"
     ]
    },
    {
     "data": {
      "application/vnd.jupyter.widget-view+json": {
       "model_id": "bfe17cc95d3741acb5df0c4127534167",
       "version_major": 2,
       "version_minor": 0
      },
      "text/plain": [
       "  0%|          | 0/1 [00:00<?, ?it/s]"
      ]
     },
     "metadata": {},
     "output_type": "display_data"
    },
    {
     "name": "stdout",
     "output_type": "stream",
     "text": [
      "{'eval_loss': 1.8096163272857666, 'eval_runtime': 1.0952, 'eval_samples_per_second': 4.566, 'eval_steps_per_second': 0.913, 'epoch': 0.47}\n",
      "{'loss': 1.3536, 'learning_rate': 1.9136908931689535e-05, 'epoch': 0.48}\n"
     ]
    },
    {
     "data": {
      "application/vnd.jupyter.widget-view+json": {
       "model_id": "8c0fc435bf5f4ae5a11b4f999fd85ace",
       "version_major": 2,
       "version_minor": 0
      },
      "text/plain": [
       "  0%|          | 0/1 [00:00<?, ?it/s]"
      ]
     },
     "metadata": {},
     "output_type": "display_data"
    },
    {
     "name": "stdout",
     "output_type": "stream",
     "text": [
      "{'eval_loss': 1.7986438274383545, 'eval_runtime': 1.0754, 'eval_samples_per_second': 4.65, 'eval_steps_per_second': 0.93, 'epoch': 0.48}\n",
      "{'loss': 1.2109, 'learning_rate': 1.9109445424551274e-05, 'epoch': 0.48}\n"
     ]
    },
    {
     "data": {
      "application/vnd.jupyter.widget-view+json": {
       "model_id": "e632768ce63444c4ae3a5ed188521eca",
       "version_major": 2,
       "version_minor": 0
      },
      "text/plain": [
       "  0%|          | 0/1 [00:00<?, ?it/s]"
      ]
     },
     "metadata": {},
     "output_type": "display_data"
    },
    {
     "name": "stdout",
     "output_type": "stream",
     "text": [
      "{'eval_loss': 1.7756812572479248, 'eval_runtime': 1.091, 'eval_samples_per_second': 4.583, 'eval_steps_per_second': 0.917, 'epoch': 0.48}\n",
      "{'loss': 1.46, 'learning_rate': 1.9081572132200122e-05, 'epoch': 0.49}\n"
     ]
    },
    {
     "data": {
      "application/vnd.jupyter.widget-view+json": {
       "model_id": "09b41723516c435cbcf44933547686be",
       "version_major": 2,
       "version_minor": 0
      },
      "text/plain": [
       "  0%|          | 0/1 [00:00<?, ?it/s]"
      ]
     },
     "metadata": {},
     "output_type": "display_data"
    },
    {
     "name": "stdout",
     "output_type": "stream",
     "text": [
      "{'eval_loss': 1.7699886560440063, 'eval_runtime': 1.0314, 'eval_samples_per_second': 4.848, 'eval_steps_per_second': 0.97, 'epoch': 0.49}\n",
      "{'loss': 1.6749, 'learning_rate': 1.905329030850637e-05, 'epoch': 0.5}\n"
     ]
    },
    {
     "data": {
      "application/vnd.jupyter.widget-view+json": {
       "model_id": "e419a59f688b4be48bfdd53e3f47ec77",
       "version_major": 2,
       "version_minor": 0
      },
      "text/plain": [
       "  0%|          | 0/1 [00:00<?, ?it/s]"
      ]
     },
     "metadata": {},
     "output_type": "display_data"
    },
    {
     "name": "stdout",
     "output_type": "stream",
     "text": [
      "{'eval_loss': 1.7528040409088135, 'eval_runtime': 0.9925, 'eval_samples_per_second': 5.038, 'eval_steps_per_second': 1.008, 'epoch': 0.5}\n",
      "{'loss': 1.7566, 'learning_rate': 1.902460122571796e-05, 'epoch': 0.5}\n"
     ]
    },
    {
     "data": {
      "application/vnd.jupyter.widget-view+json": {
       "model_id": "1989cb7b3340446484aa8f320a89392f",
       "version_major": 2,
       "version_minor": 0
      },
      "text/plain": [
       "  0%|          | 0/1 [00:00<?, ?it/s]"
      ]
     },
     "metadata": {},
     "output_type": "display_data"
    },
    {
     "name": "stdout",
     "output_type": "stream",
     "text": [
      "{'eval_loss': 1.7424724102020264, 'eval_runtime': 1.0867, 'eval_samples_per_second': 4.601, 'eval_steps_per_second': 0.92, 'epoch': 0.5}\n",
      "{'loss': 1.6968, 'learning_rate': 1.8995506174403235e-05, 'epoch': 0.51}\n"
     ]
    },
    {
     "data": {
      "application/vnd.jupyter.widget-view+json": {
       "model_id": "67c41adfdd774dc9a938faefa4732dd5",
       "version_major": 2,
       "version_minor": 0
      },
      "text/plain": [
       "  0%|          | 0/1 [00:00<?, ?it/s]"
      ]
     },
     "metadata": {},
     "output_type": "display_data"
    },
    {
     "name": "stdout",
     "output_type": "stream",
     "text": [
      "{'eval_loss': 1.7398145198822021, 'eval_runtime': 1.0709, 'eval_samples_per_second': 4.669, 'eval_steps_per_second': 0.934, 'epoch': 0.51}\n",
      "{'loss': 1.7462, 'learning_rate': 1.896600646339289e-05, 'epoch': 0.52}\n"
     ]
    },
    {
     "data": {
      "application/vnd.jupyter.widget-view+json": {
       "model_id": "27555ee1f17c4d4ea472c9b87540139c",
       "version_major": 2,
       "version_minor": 0
      },
      "text/plain": [
       "  0%|          | 0/1 [00:00<?, ?it/s]"
      ]
     },
     "metadata": {},
     "output_type": "display_data"
    },
    {
     "name": "stdout",
     "output_type": "stream",
     "text": [
      "{'eval_loss': 1.7415310144424438, 'eval_runtime': 1.0893, 'eval_samples_per_second': 4.59, 'eval_steps_per_second': 0.918, 'epoch': 0.52}\n",
      "{'loss': 1.2093, 'learning_rate': 1.89361034197211e-05, 'epoch': 0.52}\n"
     ]
    },
    {
     "data": {
      "application/vnd.jupyter.widget-view+json": {
       "model_id": "6770f8af58a548acb13f9ba3b5a23c1b",
       "version_major": 2,
       "version_minor": 0
      },
      "text/plain": [
       "  0%|          | 0/1 [00:00<?, ?it/s]"
      ]
     },
     "metadata": {},
     "output_type": "display_data"
    },
    {
     "name": "stdout",
     "output_type": "stream",
     "text": [
      "{'eval_loss': 1.7434028387069702, 'eval_runtime': 1.0907, 'eval_samples_per_second': 4.584, 'eval_steps_per_second': 0.917, 'epoch': 0.52}\n",
      "{'loss': 1.4057, 'learning_rate': 1.890579838856581e-05, 'epoch': 0.53}\n"
     ]
    },
    {
     "data": {
      "application/vnd.jupyter.widget-view+json": {
       "model_id": "0467ffa757ea402ca82415a58ad4561d",
       "version_major": 2,
       "version_minor": 0
      },
      "text/plain": [
       "  0%|          | 0/1 [00:00<?, ?it/s]"
      ]
     },
     "metadata": {},
     "output_type": "display_data"
    },
    {
     "name": "stdout",
     "output_type": "stream",
     "text": [
      "{'eval_loss': 1.7503207921981812, 'eval_runtime': 0.9797, 'eval_samples_per_second': 5.103, 'eval_steps_per_second': 1.021, 'epoch': 0.53}\n",
      "{'loss': 1.3066, 'learning_rate': 1.8875092733188232e-05, 'epoch': 0.53}\n"
     ]
    },
    {
     "data": {
      "application/vnd.jupyter.widget-view+json": {
       "model_id": "80d4c5daf9fa458da9efb95302577dfb",
       "version_major": 2,
       "version_minor": 0
      },
      "text/plain": [
       "  0%|          | 0/1 [00:00<?, ?it/s]"
      ]
     },
     "metadata": {},
     "output_type": "display_data"
    },
    {
     "name": "stdout",
     "output_type": "stream",
     "text": [
      "{'eval_loss': 1.7555660009384155, 'eval_runtime': 1.0158, 'eval_samples_per_second': 4.922, 'eval_steps_per_second': 0.984, 'epoch': 0.53}\n",
      "{'loss': 1.3021, 'learning_rate': 1.8843987834871532e-05, 'epoch': 0.54}\n"
     ]
    },
    {
     "data": {
      "application/vnd.jupyter.widget-view+json": {
       "model_id": "abb2ccafafcd45caa0c9a6ebd845cbc1",
       "version_major": 2,
       "version_minor": 0
      },
      "text/plain": [
       "  0%|          | 0/1 [00:00<?, ?it/s]"
      ]
     },
     "metadata": {},
     "output_type": "display_data"
    },
    {
     "name": "stdout",
     "output_type": "stream",
     "text": [
      "{'eval_loss': 1.7512025833129883, 'eval_runtime': 0.9815, 'eval_samples_per_second': 5.094, 'eval_steps_per_second': 1.019, 'epoch': 0.54}\n",
      "{'loss': 1.3985, 'learning_rate': 1.8812485092858662e-05, 'epoch': 0.55}\n"
     ]
    },
    {
     "data": {
      "application/vnd.jupyter.widget-view+json": {
       "model_id": "61a4f9501d344dbf97c9b6793c4c41d9",
       "version_major": 2,
       "version_minor": 0
      },
      "text/plain": [
       "  0%|          | 0/1 [00:00<?, ?it/s]"
      ]
     },
     "metadata": {},
     "output_type": "display_data"
    },
    {
     "name": "stdout",
     "output_type": "stream",
     "text": [
      "{'eval_loss': 1.7461583614349365, 'eval_runtime': 1.0926, 'eval_samples_per_second': 4.576, 'eval_steps_per_second': 0.915, 'epoch': 0.55}\n",
      "{'loss': 1.3506, 'learning_rate': 1.8780585924289443e-05, 'epoch': 0.55}\n"
     ]
    },
    {
     "data": {
      "application/vnd.jupyter.widget-view+json": {
       "model_id": "7a9661ca539a4c1aaf8ade506353d585",
       "version_major": 2,
       "version_minor": 0
      },
      "text/plain": [
       "  0%|          | 0/1 [00:00<?, ?it/s]"
      ]
     },
     "metadata": {},
     "output_type": "display_data"
    },
    {
     "name": "stdout",
     "output_type": "stream",
     "text": [
      "{'eval_loss': 1.7455589771270752, 'eval_runtime': 0.9794, 'eval_samples_per_second': 5.105, 'eval_steps_per_second': 1.021, 'epoch': 0.55}\n",
      "{'loss': 1.3965, 'learning_rate': 1.874829176413681e-05, 'epoch': 0.56}\n"
     ]
    },
    {
     "data": {
      "application/vnd.jupyter.widget-view+json": {
       "model_id": "faf5fd85704c4a75a8244042541a9789",
       "version_major": 2,
       "version_minor": 0
      },
      "text/plain": [
       "  0%|          | 0/1 [00:00<?, ?it/s]"
      ]
     },
     "metadata": {},
     "output_type": "display_data"
    },
    {
     "name": "stdout",
     "output_type": "stream",
     "text": [
      "{'eval_loss': 1.7457339763641357, 'eval_runtime': 1.0131, 'eval_samples_per_second': 4.935, 'eval_steps_per_second': 0.987, 'epoch': 0.56}\n",
      "{'loss': 1.1251, 'learning_rate': 1.8715604065142243e-05, 'epoch': 0.57}\n"
     ]
    },
    {
     "data": {
      "application/vnd.jupyter.widget-view+json": {
       "model_id": "42f62bdcc514422c8ac1f84fff19b26b",
       "version_major": 2,
       "version_minor": 0
      },
      "text/plain": [
       "  0%|          | 0/1 [00:00<?, ?it/s]"
      ]
     },
     "metadata": {},
     "output_type": "display_data"
    },
    {
     "name": "stdout",
     "output_type": "stream",
     "text": [
      "{'eval_loss': 1.7519242763519287, 'eval_runtime': 1.079, 'eval_samples_per_second': 4.634, 'eval_steps_per_second': 0.927, 'epoch': 0.57}\n",
      "{'loss': 1.2288, 'learning_rate': 1.8682524297750436e-05, 'epoch': 0.57}\n"
     ]
    },
    {
     "data": {
      "application/vnd.jupyter.widget-view+json": {
       "model_id": "1796dd62177744cd976d8e8695c4eef0",
       "version_major": 2,
       "version_minor": 0
      },
      "text/plain": [
       "  0%|          | 0/1 [00:00<?, ?it/s]"
      ]
     },
     "metadata": {},
     "output_type": "display_data"
    },
    {
     "name": "stdout",
     "output_type": "stream",
     "text": [
      "{'eval_loss': 1.7622143030166626, 'eval_runtime': 0.9917, 'eval_samples_per_second': 5.042, 'eval_steps_per_second': 1.008, 'epoch': 0.57}\n",
      "{'loss': 0.9003, 'learning_rate': 1.864905395004315e-05, 'epoch': 0.58}\n"
     ]
    },
    {
     "data": {
      "application/vnd.jupyter.widget-view+json": {
       "model_id": "7e40165cfb4440808ce8ccc31064d14b",
       "version_major": 2,
       "version_minor": 0
      },
      "text/plain": [
       "  0%|          | 0/1 [00:00<?, ?it/s]"
      ]
     },
     "metadata": {},
     "output_type": "display_data"
    },
    {
     "name": "stdout",
     "output_type": "stream",
     "text": [
      "{'eval_loss': 1.7738120555877686, 'eval_runtime': 1.0137, 'eval_samples_per_second': 4.932, 'eval_steps_per_second': 0.986, 'epoch': 0.58}\n",
      "{'loss': 1.4472, 'learning_rate': 1.8615194527672247e-05, 'epoch': 0.58}\n"
     ]
    },
    {
     "data": {
      "application/vnd.jupyter.widget-view+json": {
       "model_id": "91299e840945470a8d33a08179bdfa72",
       "version_major": 2,
       "version_minor": 0
      },
      "text/plain": [
       "  0%|          | 0/1 [00:00<?, ?it/s]"
      ]
     },
     "metadata": {},
     "output_type": "display_data"
    },
    {
     "name": "stdout",
     "output_type": "stream",
     "text": [
      "{'eval_loss': 1.7770884037017822, 'eval_runtime': 1.0185, 'eval_samples_per_second': 4.909, 'eval_steps_per_second': 0.982, 'epoch': 0.58}\n",
      "{'loss': 1.4742, 'learning_rate': 1.8580947553791996e-05, 'epoch': 0.59}\n"
     ]
    },
    {
     "data": {
      "application/vnd.jupyter.widget-view+json": {
       "model_id": "5cab1680894745798ea4eec7556d6756",
       "version_major": 2,
       "version_minor": 0
      },
      "text/plain": [
       "  0%|          | 0/1 [00:00<?, ?it/s]"
      ]
     },
     "metadata": {},
     "output_type": "display_data"
    },
    {
     "name": "stdout",
     "output_type": "stream",
     "text": [
      "{'eval_loss': 1.7725193500518799, 'eval_runtime': 1.0489, 'eval_samples_per_second': 4.767, 'eval_steps_per_second': 0.953, 'epoch': 0.59}\n",
      "{'loss': 1.2695, 'learning_rate': 1.8546314568990524e-05, 'epoch': 0.6}\n"
     ]
    },
    {
     "data": {
      "application/vnd.jupyter.widget-view+json": {
       "model_id": "efb8939eac4d405f930e1bf3a8f9790d",
       "version_major": 2,
       "version_minor": 0
      },
      "text/plain": [
       "  0%|          | 0/1 [00:00<?, ?it/s]"
      ]
     },
     "metadata": {},
     "output_type": "display_data"
    },
    {
     "name": "stdout",
     "output_type": "stream",
     "text": [
      "{'eval_loss': 1.7587652206420898, 'eval_runtime': 1.0787, 'eval_samples_per_second': 4.635, 'eval_steps_per_second': 0.927, 'epoch': 0.6}\n",
      "{'loss': 1.3834, 'learning_rate': 1.8511297131220523e-05, 'epoch': 0.6}\n"
     ]
    },
    {
     "data": {
      "application/vnd.jupyter.widget-view+json": {
       "model_id": "038284d3c96e4356ab0c9fe24f5bbd04",
       "version_major": 2,
       "version_minor": 0
      },
      "text/plain": [
       "  0%|          | 0/1 [00:00<?, ?it/s]"
      ]
     },
     "metadata": {},
     "output_type": "display_data"
    },
    {
     "name": "stdout",
     "output_type": "stream",
     "text": [
      "{'eval_loss': 1.7411916255950928, 'eval_runtime': 1.0889, 'eval_samples_per_second': 4.592, 'eval_steps_per_second': 0.918, 'epoch': 0.6}\n",
      "{'loss': 1.0527, 'learning_rate': 1.847589681572917e-05, 'epoch': 0.61}\n"
     ]
    },
    {
     "data": {
      "application/vnd.jupyter.widget-view+json": {
       "model_id": "c738d0d323a14c4a930befb855ee7a2f",
       "version_major": 2,
       "version_minor": 0
      },
      "text/plain": [
       "  0%|          | 0/1 [00:00<?, ?it/s]"
      ]
     },
     "metadata": {},
     "output_type": "display_data"
    },
    {
     "name": "stdout",
     "output_type": "stream",
     "text": [
      "{'eval_loss': 1.7208983898162842, 'eval_runtime': 1.0949, 'eval_samples_per_second': 4.567, 'eval_steps_per_second': 0.913, 'epoch': 0.61}\n",
      "{'loss': 1.2608, 'learning_rate': 1.8440115214987266e-05, 'epoch': 0.61}\n"
     ]
    },
    {
     "data": {
      "application/vnd.jupyter.widget-view+json": {
       "model_id": "f2c4cf5a8e634d8a8f5cf32643c90bf4",
       "version_major": 2,
       "version_minor": 0
      },
      "text/plain": [
       "  0%|          | 0/1 [00:00<?, ?it/s]"
      ]
     },
     "metadata": {},
     "output_type": "display_data"
    },
    {
     "name": "stdout",
     "output_type": "stream",
     "text": [
      "{'eval_loss': 1.6998379230499268, 'eval_runtime': 1.0234, 'eval_samples_per_second': 4.886, 'eval_steps_per_second': 0.977, 'epoch': 0.61}\n",
      "{'loss': 1.2654, 'learning_rate': 1.8403953938617592e-05, 'epoch': 0.62}\n"
     ]
    },
    {
     "data": {
      "application/vnd.jupyter.widget-view+json": {
       "model_id": "ad34fc4f17944a529d7c1e69ad7fc173",
       "version_major": 2,
       "version_minor": 0
      },
      "text/plain": [
       "  0%|          | 0/1 [00:00<?, ?it/s]"
      ]
     },
     "metadata": {},
     "output_type": "display_data"
    },
    {
     "name": "stdout",
     "output_type": "stream",
     "text": [
      "{'eval_loss': 1.6884139776229858, 'eval_runtime': 0.9792, 'eval_samples_per_second': 5.106, 'eval_steps_per_second': 1.021, 'epoch': 0.62}\n",
      "{'loss': 1.6226, 'learning_rate': 1.8367414613322504e-05, 'epoch': 0.63}\n"
     ]
    },
    {
     "data": {
      "application/vnd.jupyter.widget-view+json": {
       "model_id": "f9eaf9e8f7824855ab99d2bd6e47e3be",
       "version_major": 2,
       "version_minor": 0
      },
      "text/plain": [
       "  0%|          | 0/1 [00:00<?, ?it/s]"
      ]
     },
     "metadata": {},
     "output_type": "display_data"
    },
    {
     "name": "stdout",
     "output_type": "stream",
     "text": [
      "{'eval_loss': 1.6855242252349854, 'eval_runtime': 1.0426, 'eval_samples_per_second': 4.796, 'eval_steps_per_second': 0.959, 'epoch': 0.63}\n",
      "{'loss': 1.6562, 'learning_rate': 1.8330498882810753e-05, 'epoch': 0.63}\n"
     ]
    },
    {
     "data": {
      "application/vnd.jupyter.widget-view+json": {
       "model_id": "0ef46304f2e6418a90bd5e24da18c5d4",
       "version_major": 2,
       "version_minor": 0
      },
      "text/plain": [
       "  0%|          | 0/1 [00:00<?, ?it/s]"
      ]
     },
     "metadata": {},
     "output_type": "display_data"
    },
    {
     "name": "stdout",
     "output_type": "stream",
     "text": [
      "{'eval_loss': 1.675217628479004, 'eval_runtime': 1.0913, 'eval_samples_per_second': 4.582, 'eval_steps_per_second': 0.916, 'epoch': 0.63}\n",
      "{'loss': 1.2738, 'learning_rate': 1.8293208407723556e-05, 'epoch': 0.64}\n"
     ]
    },
    {
     "data": {
      "application/vnd.jupyter.widget-view+json": {
       "model_id": "d47d8e5222bd41f2ae178fe66ed2a7b1",
       "version_major": 2,
       "version_minor": 0
      },
      "text/plain": [
       "  0%|          | 0/1 [00:00<?, ?it/s]"
      ]
     },
     "metadata": {},
     "output_type": "display_data"
    },
    {
     "name": "stdout",
     "output_type": "stream",
     "text": [
      "{'eval_loss': 1.666461706161499, 'eval_runtime': 0.9869, 'eval_samples_per_second': 5.066, 'eval_steps_per_second': 1.013, 'epoch': 0.64}\n",
      "{'loss': 1.2114, 'learning_rate': 1.825554486555987e-05, 'epoch': 0.65}\n"
     ]
    },
    {
     "data": {
      "application/vnd.jupyter.widget-view+json": {
       "model_id": "ce4a3d24240a4e96a823e18a93dbec4f",
       "version_major": 2,
       "version_minor": 0
      },
      "text/plain": [
       "  0%|          | 0/1 [00:00<?, ?it/s]"
      ]
     },
     "metadata": {},
     "output_type": "display_data"
    },
    {
     "name": "stdout",
     "output_type": "stream",
     "text": [
      "{'eval_loss': 1.6647484302520752, 'eval_runtime': 1.0837, 'eval_samples_per_second': 4.614, 'eval_steps_per_second': 0.923, 'epoch': 0.65}\n",
      "{'loss': 1.6291, 'learning_rate': 1.821750995060096e-05, 'epoch': 0.65}\n"
     ]
    },
    {
     "data": {
      "application/vnd.jupyter.widget-view+json": {
       "model_id": "bc53ef75c28b40e5ae89011900520b8b",
       "version_major": 2,
       "version_minor": 0
      },
      "text/plain": [
       "  0%|          | 0/1 [00:00<?, ?it/s]"
      ]
     },
     "metadata": {},
     "output_type": "display_data"
    },
    {
     "name": "stdout",
     "output_type": "stream",
     "text": [
      "{'eval_loss': 1.667297124862671, 'eval_runtime': 1.0022, 'eval_samples_per_second': 4.989, 'eval_steps_per_second': 0.998, 'epoch': 0.65}\n",
      "{'loss': 1.4349, 'learning_rate': 1.8179105373834156e-05, 'epoch': 0.66}\n"
     ]
    },
    {
     "data": {
      "application/vnd.jupyter.widget-view+json": {
       "model_id": "a8491d14d57a47e5858f7c751216428a",
       "version_major": 2,
       "version_minor": 0
      },
      "text/plain": [
       "  0%|          | 0/1 [00:00<?, ?it/s]"
      ]
     },
     "metadata": {},
     "output_type": "display_data"
    },
    {
     "name": "stdout",
     "output_type": "stream",
     "text": [
      "{'eval_loss': 1.6655232906341553, 'eval_runtime': 1.0764, 'eval_samples_per_second': 4.645, 'eval_steps_per_second': 0.929, 'epoch': 0.66}\n",
      "{'loss': 1.347, 'learning_rate': 1.8140332862875896e-05, 'epoch': 0.66}\n"
     ]
    },
    {
     "data": {
      "application/vnd.jupyter.widget-view+json": {
       "model_id": "9c9c40edd98b41fbae2fde1ffbd89c87",
       "version_major": 2,
       "version_minor": 0
      },
      "text/plain": [
       "  0%|          | 0/1 [00:00<?, ?it/s]"
      ]
     },
     "metadata": {},
     "output_type": "display_data"
    },
    {
     "name": "stdout",
     "output_type": "stream",
     "text": [
      "{'eval_loss': 1.6618177890777588, 'eval_runtime': 1.0877, 'eval_samples_per_second': 4.597, 'eval_steps_per_second': 0.919, 'epoch': 0.66}\n",
      "{'loss': 1.6406, 'learning_rate': 1.8101194161894006e-05, 'epoch': 0.67}\n"
     ]
    },
    {
     "data": {
      "application/vnd.jupyter.widget-view+json": {
       "model_id": "97df2bd83ba145dcb457cbd520ef2f22",
       "version_major": 2,
       "version_minor": 0
      },
      "text/plain": [
       "  0%|          | 0/1 [00:00<?, ?it/s]"
      ]
     },
     "metadata": {},
     "output_type": "display_data"
    },
    {
     "name": "stdout",
     "output_type": "stream",
     "text": [
      "{'eval_loss': 1.6557680368423462, 'eval_runtime': 0.9782, 'eval_samples_per_second': 5.111, 'eval_steps_per_second': 1.022, 'epoch': 0.67}\n",
      "{'loss': 1.3534, 'learning_rate': 1.8061691031529255e-05, 'epoch': 0.68}\n"
     ]
    },
    {
     "data": {
      "application/vnd.jupyter.widget-view+json": {
       "model_id": "92b6e699346e4ef8b228832894f39dbe",
       "version_major": 2,
       "version_minor": 0
      },
      "text/plain": [
       "  0%|          | 0/1 [00:00<?, ?it/s]"
      ]
     },
     "metadata": {},
     "output_type": "display_data"
    },
    {
     "name": "stdout",
     "output_type": "stream",
     "text": [
      "{'eval_loss': 1.6536409854888916, 'eval_runtime': 1.0717, 'eval_samples_per_second': 4.665, 'eval_steps_per_second': 0.933, 'epoch': 0.68}\n",
      "{'loss': 1.4293, 'learning_rate': 1.8021825248816124e-05, 'epoch': 0.68}\n"
     ]
    },
    {
     "data": {
      "application/vnd.jupyter.widget-view+json": {
       "model_id": "0aa2f7bfd20f41b9991f748cfb3c3ddd",
       "version_major": 2,
       "version_minor": 0
      },
      "text/plain": [
       "  0%|          | 0/1 [00:00<?, ?it/s]"
      ]
     },
     "metadata": {},
     "output_type": "display_data"
    },
    {
     "name": "stdout",
     "output_type": "stream",
     "text": [
      "{'eval_loss': 1.6572669744491577, 'eval_runtime': 0.9826, 'eval_samples_per_second': 5.089, 'eval_steps_per_second': 1.018, 'epoch': 0.68}\n",
      "{'loss': 1.2952, 'learning_rate': 1.7981598607102895e-05, 'epoch': 0.69}\n"
     ]
    },
    {
     "data": {
      "application/vnd.jupyter.widget-view+json": {
       "model_id": "ce701d163eec4896b700d0b429bd2549",
       "version_major": 2,
       "version_minor": 0
      },
      "text/plain": [
       "  0%|          | 0/1 [00:00<?, ?it/s]"
      ]
     },
     "metadata": {},
     "output_type": "display_data"
    },
    {
     "name": "stdout",
     "output_type": "stream",
     "text": [
      "{'eval_loss': 1.6686570644378662, 'eval_runtime': 1.0913, 'eval_samples_per_second': 4.582, 'eval_steps_per_second': 0.916, 'epoch': 0.69}\n",
      "{'loss': 1.4691, 'learning_rate': 1.7941012915970956e-05, 'epoch': 0.7}\n"
     ]
    },
    {
     "data": {
      "application/vnd.jupyter.widget-view+json": {
       "model_id": "91eee7833cfc46019f1cba77aa139514",
       "version_major": 2,
       "version_minor": 0
      },
      "text/plain": [
       "  0%|          | 0/1 [00:00<?, ?it/s]"
      ]
     },
     "metadata": {},
     "output_type": "display_data"
    },
    {
     "name": "stdout",
     "output_type": "stream",
     "text": [
      "{'eval_loss': 1.682003378868103, 'eval_runtime': 0.9761, 'eval_samples_per_second': 5.123, 'eval_steps_per_second': 1.025, 'epoch': 0.7}\n",
      "{'loss': 1.5472, 'learning_rate': 1.790007000115341e-05, 'epoch': 0.7}\n"
     ]
    },
    {
     "data": {
      "application/vnd.jupyter.widget-view+json": {
       "model_id": "74124eb9d56841f78d8607826a9ad767",
       "version_major": 2,
       "version_minor": 0
      },
      "text/plain": [
       "  0%|          | 0/1 [00:00<?, ?it/s]"
      ]
     },
     "metadata": {},
     "output_type": "display_data"
    },
    {
     "name": "stdout",
     "output_type": "stream",
     "text": [
      "{'eval_loss': 1.691192388534546, 'eval_runtime': 0.9963, 'eval_samples_per_second': 5.019, 'eval_steps_per_second': 1.004, 'epoch': 0.7}\n",
      "{'loss': 1.2394, 'learning_rate': 1.7858771704452955e-05, 'epoch': 0.71}\n"
     ]
    },
    {
     "data": {
      "application/vnd.jupyter.widget-view+json": {
       "model_id": "9051ee5a18d24e2596ec29362a9e42e6",
       "version_major": 2,
       "version_minor": 0
      },
      "text/plain": [
       "  0%|          | 0/1 [00:00<?, ?it/s]"
      ]
     },
     "metadata": {},
     "output_type": "display_data"
    },
    {
     "name": "stdout",
     "output_type": "stream",
     "text": [
      "{'eval_loss': 1.6782310009002686, 'eval_runtime': 1.0948, 'eval_samples_per_second': 4.567, 'eval_steps_per_second': 0.913, 'epoch': 0.71}\n",
      "{'loss': 1.4195, 'learning_rate': 1.7817119883658995e-05, 'epoch': 0.71}\n"
     ]
    },
    {
     "data": {
      "application/vnd.jupyter.widget-view+json": {
       "model_id": "fbf74852eb27472f8e4089f628f5c63a",
       "version_major": 2,
       "version_minor": 0
      },
      "text/plain": [
       "  0%|          | 0/1 [00:00<?, ?it/s]"
      ]
     },
     "metadata": {},
     "output_type": "display_data"
    },
    {
     "name": "stdout",
     "output_type": "stream",
     "text": [
      "{'eval_loss': 1.6646335124969482, 'eval_runtime': 1.0957, 'eval_samples_per_second': 4.563, 'eval_steps_per_second': 0.913, 'epoch': 0.71}\n",
      "{'loss': 1.3744, 'learning_rate': 1.7775116412464116e-05, 'epoch': 0.72}\n"
     ]
    },
    {
     "data": {
      "application/vnd.jupyter.widget-view+json": {
       "model_id": "91965dd679ab40c59e73572556c6f0d2",
       "version_major": 2,
       "version_minor": 0
      },
      "text/plain": [
       "  0%|          | 0/1 [00:00<?, ?it/s]"
      ]
     },
     "metadata": {},
     "output_type": "display_data"
    },
    {
     "name": "stdout",
     "output_type": "stream",
     "text": [
      "{'eval_loss': 1.6571228504180908, 'eval_runtime': 0.9955, 'eval_samples_per_second': 5.022, 'eval_steps_per_second': 1.004, 'epoch': 0.72}\n",
      "{'loss': 1.3335, 'learning_rate': 1.773276318037976e-05, 'epoch': 0.73}\n"
     ]
    },
    {
     "data": {
      "application/vnd.jupyter.widget-view+json": {
       "model_id": "fd5e105eabc144ba8d07c8f981fd3bb9",
       "version_major": 2,
       "version_minor": 0
      },
      "text/plain": [
       "  0%|          | 0/1 [00:00<?, ?it/s]"
      ]
     },
     "metadata": {},
     "output_type": "display_data"
    },
    {
     "name": "stdout",
     "output_type": "stream",
     "text": [
      "{'eval_loss': 1.6551954746246338, 'eval_runtime': 1.0917, 'eval_samples_per_second': 4.58, 'eval_steps_per_second': 0.916, 'epoch': 0.73}\n",
      "{'loss': 1.418, 'learning_rate': 1.7690062092651237e-05, 'epoch': 0.73}\n"
     ]
    },
    {
     "data": {
      "application/vnd.jupyter.widget-view+json": {
       "model_id": "2e0f89d66bc34106bdc9e3b7a8630545",
       "version_major": 2,
       "version_minor": 0
      },
      "text/plain": [
       "  0%|          | 0/1 [00:00<?, ?it/s]"
      ]
     },
     "metadata": {},
     "output_type": "display_data"
    },
    {
     "name": "stdout",
     "output_type": "stream",
     "text": [
      "{'eval_loss': 1.6552705764770508, 'eval_runtime': 1.087, 'eval_samples_per_second': 4.6, 'eval_steps_per_second': 0.92, 'epoch': 0.73}\n",
      "{'loss': 1.7578, 'learning_rate': 1.764701507017203e-05, 'epoch': 0.74}\n"
     ]
    },
    {
     "data": {
      "application/vnd.jupyter.widget-view+json": {
       "model_id": "b1eb9f7fb7154fd5b4d6dd54f798bea3",
       "version_major": 2,
       "version_minor": 0
      },
      "text/plain": [
       "  0%|          | 0/1 [00:00<?, ?it/s]"
      ]
     },
     "metadata": {},
     "output_type": "display_data"
    },
    {
     "name": "stdout",
     "output_type": "stream",
     "text": [
      "{'eval_loss': 1.656011939048767, 'eval_runtime': 1.0844, 'eval_samples_per_second': 4.611, 'eval_steps_per_second': 0.922, 'epoch': 0.74}\n",
      "{'loss': 1.2953, 'learning_rate': 1.7603624049397377e-05, 'epoch': 0.75}\n"
     ]
    },
    {
     "data": {
      "application/vnd.jupyter.widget-view+json": {
       "model_id": "2142ec4fcb124355847d824918bcdd48",
       "version_major": 2,
       "version_minor": 0
      },
      "text/plain": [
       "  0%|          | 0/1 [00:00<?, ?it/s]"
      ]
     },
     "metadata": {},
     "output_type": "display_data"
    },
    {
     "name": "stdout",
     "output_type": "stream",
     "text": [
      "{'eval_loss': 1.652624487876892, 'eval_runtime': 1.0509, 'eval_samples_per_second': 4.758, 'eval_steps_per_second': 0.952, 'epoch': 0.75}\n",
      "{'loss': 1.256, 'learning_rate': 1.7559890982257153e-05, 'epoch': 0.75}\n"
     ]
    },
    {
     "data": {
      "application/vnd.jupyter.widget-view+json": {
       "model_id": "c043daffe310461ca426c42d853d1a71",
       "version_major": 2,
       "version_minor": 0
      },
      "text/plain": [
       "  0%|          | 0/1 [00:00<?, ?it/s]"
      ]
     },
     "metadata": {},
     "output_type": "display_data"
    },
    {
     "name": "stdout",
     "output_type": "stream",
     "text": [
      "{'eval_loss': 1.648772954940796, 'eval_runtime': 0.9827, 'eval_samples_per_second': 5.088, 'eval_steps_per_second': 1.018, 'epoch': 0.75}\n",
      "{'loss': 2.055, 'learning_rate': 1.751581783606807e-05, 'epoch': 0.76}\n"
     ]
    },
    {
     "data": {
      "application/vnd.jupyter.widget-view+json": {
       "model_id": "5b80619aa1c14371a4d626e342391f56",
       "version_major": 2,
       "version_minor": 0
      },
      "text/plain": [
       "  0%|          | 0/1 [00:00<?, ?it/s]"
      ]
     },
     "metadata": {},
     "output_type": "display_data"
    },
    {
     "name": "stdout",
     "output_type": "stream",
     "text": [
      "{'eval_loss': 1.6432838439941406, 'eval_runtime': 1.0792, 'eval_samples_per_second': 4.633, 'eval_steps_per_second': 0.927, 'epoch': 0.76}\n",
      "{'loss': 1.2331, 'learning_rate': 1.7471406593445177e-05, 'epoch': 0.76}\n"
     ]
    },
    {
     "data": {
      "application/vnd.jupyter.widget-view+json": {
       "model_id": "22ef3e3515fc49f7b06dd05b57ae71c3",
       "version_major": 2,
       "version_minor": 0
      },
      "text/plain": [
       "  0%|          | 0/1 [00:00<?, ?it/s]"
      ]
     },
     "metadata": {},
     "output_type": "display_data"
    },
    {
     "name": "stdout",
     "output_type": "stream",
     "text": [
      "{'eval_loss': 1.6445213556289673, 'eval_runtime': 1.024, 'eval_samples_per_second': 4.883, 'eval_steps_per_second': 0.977, 'epoch': 0.76}\n",
      "{'loss': 1.3865, 'learning_rate': 1.7426659252212674e-05, 'epoch': 0.77}\n"
     ]
    },
    {
     "data": {
      "application/vnd.jupyter.widget-view+json": {
       "model_id": "bc743597ae2647aeb79788ee28a1da50",
       "version_major": 2,
       "version_minor": 0
      },
      "text/plain": [
       "  0%|          | 0/1 [00:00<?, ?it/s]"
      ]
     },
     "metadata": {},
     "output_type": "display_data"
    },
    {
     "name": "stdout",
     "output_type": "stream",
     "text": [
      "{'eval_loss': 1.6510207653045654, 'eval_runtime': 1.0929, 'eval_samples_per_second': 4.575, 'eval_steps_per_second': 0.915, 'epoch': 0.77}\n",
      "{'loss': 1.59, 'learning_rate': 1.738157782531404e-05, 'epoch': 0.78}\n"
     ]
    },
    {
     "data": {
      "application/vnd.jupyter.widget-view+json": {
       "model_id": "8cf92d678f2b4b9185cc22779268709e",
       "version_major": 2,
       "version_minor": 0
      },
      "text/plain": [
       "  0%|          | 0/1 [00:00<?, ?it/s]"
      ]
     },
     "metadata": {},
     "output_type": "display_data"
    },
    {
     "name": "stdout",
     "output_type": "stream",
     "text": [
      "{'eval_loss': 1.6480634212493896, 'eval_runtime': 1.0199, 'eval_samples_per_second': 4.903, 'eval_steps_per_second': 0.981, 'epoch': 0.78}\n",
      "{'loss': 1.2692, 'learning_rate': 1.7336164340721476e-05, 'epoch': 0.78}\n"
     ]
    },
    {
     "data": {
      "application/vnd.jupyter.widget-view+json": {
       "model_id": "4ee6812d26344896ae06a73ed8c11b54",
       "version_major": 2,
       "version_minor": 0
      },
      "text/plain": [
       "  0%|          | 0/1 [00:00<?, ?it/s]"
      ]
     },
     "metadata": {},
     "output_type": "display_data"
    },
    {
     "name": "stdout",
     "output_type": "stream",
     "text": [
      "{'eval_loss': 1.6313998699188232, 'eval_runtime': 1.008, 'eval_samples_per_second': 4.96, 'eval_steps_per_second': 0.992, 'epoch': 0.78}\n",
      "{'loss': 1.3702, 'learning_rate': 1.7290420841344692e-05, 'epoch': 0.79}\n"
     ]
    },
    {
     "data": {
      "application/vnd.jupyter.widget-view+json": {
       "model_id": "b36494afd7174542983f9a19296da03b",
       "version_major": 2,
       "version_minor": 0
      },
      "text/plain": [
       "  0%|          | 0/1 [00:00<?, ?it/s]"
      ]
     },
     "metadata": {},
     "output_type": "display_data"
    },
    {
     "name": "stdout",
     "output_type": "stream",
     "text": [
      "{'eval_loss': 1.6084171533584595, 'eval_runtime': 1.0847, 'eval_samples_per_second': 4.609, 'eval_steps_per_second': 0.922, 'epoch': 0.79}\n",
      "{'loss': 1.4938, 'learning_rate': 1.7244349384938986e-05, 'epoch': 0.8}\n"
     ]
    },
    {
     "data": {
      "application/vnd.jupyter.widget-view+json": {
       "model_id": "efbf625735ea4d5caf0217d3a4243ceb",
       "version_major": 2,
       "version_minor": 0
      },
      "text/plain": [
       "  0%|          | 0/1 [00:00<?, ?it/s]"
      ]
     },
     "metadata": {},
     "output_type": "display_data"
    },
    {
     "name": "stdout",
     "output_type": "stream",
     "text": [
      "{'eval_loss': 1.5955030918121338, 'eval_runtime': 0.9719, 'eval_samples_per_second': 5.144, 'eval_steps_per_second': 1.029, 'epoch': 0.8}\n",
      "{'loss': 1.2065, 'learning_rate': 1.7197952044012695e-05, 'epoch': 0.8}\n"
     ]
    },
    {
     "data": {
      "application/vnd.jupyter.widget-view+json": {
       "model_id": "fd9aa5e0ed204598bb2a8d691b0ea0e5",
       "version_major": 2,
       "version_minor": 0
      },
      "text/plain": [
       "  0%|          | 0/1 [00:00<?, ?it/s]"
      ]
     },
     "metadata": {},
     "output_type": "display_data"
    },
    {
     "name": "stdout",
     "output_type": "stream",
     "text": [
      "{'eval_loss': 1.5799518823623657, 'eval_runtime': 1.0334, 'eval_samples_per_second': 4.838, 'eval_steps_per_second': 0.968, 'epoch': 0.8}\n",
      "{'loss': 1.1527, 'learning_rate': 1.7151230905733955e-05, 'epoch': 0.81}\n"
     ]
    },
    {
     "data": {
      "application/vnd.jupyter.widget-view+json": {
       "model_id": "0295f0702d624e1d8a136c61d5ef43e5",
       "version_major": 2,
       "version_minor": 0
      },
      "text/plain": [
       "  0%|          | 0/1 [00:00<?, ?it/s]"
      ]
     },
     "metadata": {},
     "output_type": "display_data"
    },
    {
     "name": "stdout",
     "output_type": "stream",
     "text": [
      "{'eval_loss': 1.5759665966033936, 'eval_runtime': 0.971, 'eval_samples_per_second': 5.15, 'eval_steps_per_second': 1.03, 'epoch': 0.81}\n",
      "{'loss': 1.2793, 'learning_rate': 1.710418807183681e-05, 'epoch': 0.81}\n"
     ]
    },
    {
     "data": {
      "application/vnd.jupyter.widget-view+json": {
       "model_id": "181604a176e94b1b8505a1f56e533dcf",
       "version_major": 2,
       "version_minor": 0
      },
      "text/plain": [
       "  0%|          | 0/1 [00:00<?, ?it/s]"
      ]
     },
     "metadata": {},
     "output_type": "display_data"
    },
    {
     "name": "stdout",
     "output_type": "stream",
     "text": [
      "{'eval_loss': 1.5743463039398193, 'eval_runtime': 1.0728, 'eval_samples_per_second': 4.661, 'eval_steps_per_second': 0.932, 'epoch': 0.81}\n",
      "{'loss': 1.4041, 'learning_rate': 1.7056825658526674e-05, 'epoch': 0.82}\n"
     ]
    },
    {
     "data": {
      "application/vnd.jupyter.widget-view+json": {
       "model_id": "5e9713e957e2495fa6706f123dc908af",
       "version_major": 2,
       "version_minor": 0
      },
      "text/plain": [
       "  0%|          | 0/1 [00:00<?, ?it/s]"
      ]
     },
     "metadata": {},
     "output_type": "display_data"
    },
    {
     "name": "stdout",
     "output_type": "stream",
     "text": [
      "{'eval_loss': 1.5649956464767456, 'eval_runtime': 1.0247, 'eval_samples_per_second': 4.879, 'eval_steps_per_second': 0.976, 'epoch': 0.82}\n",
      "{'loss': 1.5386, 'learning_rate': 1.700914579638513e-05, 'epoch': 0.83}\n"
     ]
    },
    {
     "data": {
      "application/vnd.jupyter.widget-view+json": {
       "model_id": "1eafa5996988407fab47f953b9ded13e",
       "version_major": 2,
       "version_minor": 0
      },
      "text/plain": [
       "  0%|          | 0/1 [00:00<?, ?it/s]"
      ]
     },
     "metadata": {},
     "output_type": "display_data"
    },
    {
     "name": "stdout",
     "output_type": "stream",
     "text": [
      "{'eval_loss': 1.543363332748413, 'eval_runtime': 0.9799, 'eval_samples_per_second': 5.103, 'eval_steps_per_second': 1.021, 'epoch': 0.83}\n",
      "{'loss': 1.3738, 'learning_rate': 1.6961150630274078e-05, 'epoch': 0.83}\n"
     ]
    },
    {
     "data": {
      "application/vnd.jupyter.widget-view+json": {
       "model_id": "f01a8350123d43d88127f30f13a55844",
       "version_major": 2,
       "version_minor": 0
      },
      "text/plain": [
       "  0%|          | 0/1 [00:00<?, ?it/s]"
      ]
     },
     "metadata": {},
     "output_type": "display_data"
    },
    {
     "name": "stdout",
     "output_type": "stream",
     "text": [
      "{'eval_loss': 1.5359852313995361, 'eval_runtime': 1.0186, 'eval_samples_per_second': 4.909, 'eval_steps_per_second': 0.982, 'epoch': 0.83}\n",
      "{'loss': 1.0602, 'learning_rate': 1.691284231923926e-05, 'epoch': 0.84}\n"
     ]
    },
    {
     "data": {
      "application/vnd.jupyter.widget-view+json": {
       "model_id": "1d8e4207027e4ec5a0dd2e7a09eac11a",
       "version_major": 2,
       "version_minor": 0
      },
      "text/plain": [
       "  0%|          | 0/1 [00:00<?, ?it/s]"
      ]
     },
     "metadata": {},
     "output_type": "display_data"
    },
    {
     "name": "stdout",
     "output_type": "stream",
     "text": [
      "{'eval_loss': 1.5322778224945068, 'eval_runtime': 1.0929, 'eval_samples_per_second': 4.575, 'eval_steps_per_second': 0.915, 'epoch': 0.84}\n",
      "{'loss': 1.394, 'learning_rate': 1.6864223036413136e-05, 'epoch': 0.84}\n"
     ]
    },
    {
     "data": {
      "application/vnd.jupyter.widget-view+json": {
       "model_id": "287fe4d878804214a51c90c853aa2895",
       "version_major": 2,
       "version_minor": 0
      },
      "text/plain": [
       "  0%|          | 0/1 [00:00<?, ?it/s]"
      ]
     },
     "metadata": {},
     "output_type": "display_data"
    },
    {
     "name": "stdout",
     "output_type": "stream",
     "text": [
      "{'eval_loss': 1.5330110788345337, 'eval_runtime': 1.0821, 'eval_samples_per_second': 4.621, 'eval_steps_per_second': 0.924, 'epoch': 0.84}\n",
      "{'loss': 1.1428, 'learning_rate': 1.681529496891712e-05, 'epoch': 0.85}\n"
     ]
    },
    {
     "data": {
      "application/vnd.jupyter.widget-view+json": {
       "model_id": "4d4b810f90264ad7915f3c646d622507",
       "version_major": 2,
       "version_minor": 0
      },
      "text/plain": [
       "  0%|          | 0/1 [00:00<?, ?it/s]"
      ]
     },
     "metadata": {},
     "output_type": "display_data"
    },
    {
     "name": "stdout",
     "output_type": "stream",
     "text": [
      "{'eval_loss': 1.5363935232162476, 'eval_runtime': 0.9748, 'eval_samples_per_second': 5.129, 'eval_steps_per_second': 1.026, 'epoch': 0.85}\n",
      "{'loss': 0.9016, 'learning_rate': 1.6766060317763196e-05, 'epoch': 0.86}\n"
     ]
    },
    {
     "data": {
      "application/vnd.jupyter.widget-view+json": {
       "model_id": "d95aabfe632c44afae62115665f189c5",
       "version_major": 2,
       "version_minor": 0
      },
      "text/plain": [
       "  0%|          | 0/1 [00:00<?, ?it/s]"
      ]
     },
     "metadata": {},
     "output_type": "display_data"
    },
    {
     "name": "stdout",
     "output_type": "stream",
     "text": [
      "{'eval_loss': 1.5411089658737183, 'eval_runtime': 1.0068, 'eval_samples_per_second': 4.966, 'eval_steps_per_second': 0.993, 'epoch': 0.86}\n",
      "{'loss': 1.0839, 'learning_rate': 1.671652129775491e-05, 'epoch': 0.86}\n"
     ]
    },
    {
     "data": {
      "application/vnd.jupyter.widget-view+json": {
       "model_id": "404a6ac08a274c5aac2addc497949b2b",
       "version_major": 2,
       "version_minor": 0
      },
      "text/plain": [
       "  0%|          | 0/1 [00:00<?, ?it/s]"
      ]
     },
     "metadata": {},
     "output_type": "display_data"
    },
    {
     "name": "stdout",
     "output_type": "stream",
     "text": [
      "{'eval_loss': 1.5436511039733887, 'eval_runtime': 1.0448, 'eval_samples_per_second': 4.785, 'eval_steps_per_second': 0.957, 'epoch': 0.86}\n",
      "{'loss': 1.2129, 'learning_rate': 1.6666680137387724e-05, 'epoch': 0.87}\n"
     ]
    },
    {
     "data": {
      "application/vnd.jupyter.widget-view+json": {
       "model_id": "d8bb38d77b4d4cc486032a5ffc245b47",
       "version_major": 2,
       "version_minor": 0
      },
      "text/plain": [
       "  0%|          | 0/1 [00:00<?, ?it/s]"
      ]
     },
     "metadata": {},
     "output_type": "display_data"
    },
    {
     "name": "stdout",
     "output_type": "stream",
     "text": [
      "{'eval_loss': 1.5464731454849243, 'eval_runtime': 1.0885, 'eval_samples_per_second': 4.593, 'eval_steps_per_second': 0.919, 'epoch': 0.87}\n",
      "{'loss': 1.4112, 'learning_rate': 1.6616539078748798e-05, 'epoch': 0.88}\n"
     ]
    },
    {
     "data": {
      "application/vnd.jupyter.widget-view+json": {
       "model_id": "283b676d9eea47078a8ccb4db60eff2b",
       "version_major": 2,
       "version_minor": 0
      },
      "text/plain": [
       "  0%|          | 0/1 [00:00<?, ?it/s]"
      ]
     },
     "metadata": {},
     "output_type": "display_data"
    },
    {
     "name": "stdout",
     "output_type": "stream",
     "text": [
      "{'eval_loss': 1.538158655166626, 'eval_runtime': 1.0855, 'eval_samples_per_second': 4.606, 'eval_steps_per_second': 0.921, 'epoch': 0.88}\n",
      "{'loss': 1.1929, 'learning_rate': 1.656610037741609e-05, 'epoch': 0.88}\n"
     ]
    },
    {
     "data": {
      "application/vnd.jupyter.widget-view+json": {
       "model_id": "871957ea771f4b4c91552b43497488a3",
       "version_major": 2,
       "version_minor": 0
      },
      "text/plain": [
       "  0%|          | 0/1 [00:00<?, ?it/s]"
      ]
     },
     "metadata": {},
     "output_type": "display_data"
    },
    {
     "name": "stdout",
     "output_type": "stream",
     "text": [
      "{'eval_loss': 1.5318892002105713, 'eval_runtime': 0.9805, 'eval_samples_per_second': 5.1, 'eval_steps_per_second': 1.02, 'epoch': 0.88}\n",
      "{'loss': 1.0578, 'learning_rate': 1.651536630235692e-05, 'epoch': 0.89}\n"
     ]
    },
    {
     "data": {
      "application/vnd.jupyter.widget-view+json": {
       "model_id": "11fe406c34d443a9a8314fbd6102f623",
       "version_major": 2,
       "version_minor": 0
      },
      "text/plain": [
       "  0%|          | 0/1 [00:00<?, ?it/s]"
      ]
     },
     "metadata": {},
     "output_type": "display_data"
    },
    {
     "name": "stdout",
     "output_type": "stream",
     "text": [
      "{'eval_loss': 1.5377695560455322, 'eval_runtime': 0.9788, 'eval_samples_per_second': 5.108, 'eval_steps_per_second': 1.022, 'epoch': 0.89}\n",
      "{'loss': 0.9349, 'learning_rate': 1.6464339135825895e-05, 'epoch': 0.89}\n"
     ]
    },
    {
     "data": {
      "application/vnd.jupyter.widget-view+json": {
       "model_id": "5574e054ae4d489b90d737441108b513",
       "version_major": 2,
       "version_minor": 0
      },
      "text/plain": [
       "  0%|          | 0/1 [00:00<?, ?it/s]"
      ]
     },
     "metadata": {},
     "output_type": "display_data"
    },
    {
     "name": "stdout",
     "output_type": "stream",
     "text": [
      "{'eval_loss': 1.5383481979370117, 'eval_runtime': 0.9799, 'eval_samples_per_second': 5.103, 'eval_steps_per_second': 1.021, 'epoch': 0.89}\n",
      "{'loss': 1.1202, 'learning_rate': 1.641302117326223e-05, 'epoch': 0.9}\n"
     ]
    },
    {
     "data": {
      "application/vnd.jupyter.widget-view+json": {
       "model_id": "0de32ad1d47d4bd2a7b31da58e9de353",
       "version_major": 2,
       "version_minor": 0
      },
      "text/plain": [
       "  0%|          | 0/1 [00:00<?, ?it/s]"
      ]
     },
     "metadata": {},
     "output_type": "display_data"
    },
    {
     "name": "stdout",
     "output_type": "stream",
     "text": [
      "{'eval_loss': 1.5548624992370605, 'eval_runtime': 1.0987, 'eval_samples_per_second': 4.551, 'eval_steps_per_second': 0.91, 'epoch': 0.9}\n",
      "{'loss': 1.2484, 'learning_rate': 1.6361414723186506e-05, 'epoch': 0.91}\n"
     ]
    },
    {
     "data": {
      "application/vnd.jupyter.widget-view+json": {
       "model_id": "1fbc734975cd4672880188eea2939c28",
       "version_major": 2,
       "version_minor": 0
      },
      "text/plain": [
       "  0%|          | 0/1 [00:00<?, ?it/s]"
      ]
     },
     "metadata": {},
     "output_type": "display_data"
    },
    {
     "name": "stdout",
     "output_type": "stream",
     "text": [
      "{'eval_loss': 1.5638097524642944, 'eval_runtime': 1.0036, 'eval_samples_per_second': 4.982, 'eval_steps_per_second': 0.996, 'epoch': 0.91}\n",
      "{'loss': 1.4358, 'learning_rate': 1.630952210709681e-05, 'epoch': 0.91}\n"
     ]
    },
    {
     "data": {
      "application/vnd.jupyter.widget-view+json": {
       "model_id": "91c932f9986d494dad04cf160e7c5ad6",
       "version_major": 2,
       "version_minor": 0
      },
      "text/plain": [
       "  0%|          | 0/1 [00:00<?, ?it/s]"
      ]
     },
     "metadata": {},
     "output_type": "display_data"
    },
    {
     "name": "stdout",
     "output_type": "stream",
     "text": [
      "{'eval_loss': 1.5506116151809692, 'eval_runtime': 1.0898, 'eval_samples_per_second': 4.588, 'eval_steps_per_second': 0.918, 'epoch': 0.91}\n",
      "{'loss': 1.1894, 'learning_rate': 1.6257345659364308e-05, 'epoch': 0.92}\n"
     ]
    },
    {
     "data": {
      "application/vnd.jupyter.widget-view+json": {
       "model_id": "fb63fc5b7afc4964becee9f6563566f1",
       "version_major": 2,
       "version_minor": 0
      },
      "text/plain": [
       "  0%|          | 0/1 [00:00<?, ?it/s]"
      ]
     },
     "metadata": {},
     "output_type": "display_data"
    },
    {
     "name": "stdout",
     "output_type": "stream",
     "text": [
      "{'eval_loss': 1.5455845594406128, 'eval_runtime': 1.0887, 'eval_samples_per_second': 4.593, 'eval_steps_per_second': 0.919, 'epoch': 0.92}\n",
      "{'loss': 1.1115, 'learning_rate': 1.6204887727128233e-05, 'epoch': 0.93}\n"
     ]
    },
    {
     "data": {
      "application/vnd.jupyter.widget-view+json": {
       "model_id": "983aa812e10847fa8da88d50c32bf3ee",
       "version_major": 2,
       "version_minor": 0
      },
      "text/plain": [
       "  0%|          | 0/1 [00:00<?, ?it/s]"
      ]
     },
     "metadata": {},
     "output_type": "display_data"
    },
    {
     "name": "stdout",
     "output_type": "stream",
     "text": [
      "{'eval_loss': 1.543280005455017, 'eval_runtime': 1.0121, 'eval_samples_per_second': 4.94, 'eval_steps_per_second': 0.988, 'epoch': 0.93}\n",
      "{'loss': 1.4962, 'learning_rate': 1.615215067019029e-05, 'epoch': 0.93}\n"
     ]
    },
    {
     "data": {
      "application/vnd.jupyter.widget-view+json": {
       "model_id": "c034c8e7b8d7496483779979c3ff414f",
       "version_major": 2,
       "version_minor": 0
      },
      "text/plain": [
       "  0%|          | 0/1 [00:00<?, ?it/s]"
      ]
     },
     "metadata": {},
     "output_type": "display_data"
    },
    {
     "name": "stdout",
     "output_type": "stream",
     "text": [
      "{'eval_loss': 1.5399060249328613, 'eval_runtime': 1.0906, 'eval_samples_per_second': 4.585, 'eval_steps_per_second': 0.917, 'epoch': 0.93}\n",
      "{'loss': 1.1677, 'learning_rate': 1.6099136860908538e-05, 'epoch': 0.94}\n"
     ]
    },
    {
     "data": {
      "application/vnd.jupyter.widget-view+json": {
       "model_id": "3035459dd0334b12b834d1957ff5a8ae",
       "version_major": 2,
       "version_minor": 0
      },
      "text/plain": [
       "  0%|          | 0/1 [00:00<?, ?it/s]"
      ]
     },
     "metadata": {},
     "output_type": "display_data"
    },
    {
     "name": "stdout",
     "output_type": "stream",
     "text": [
      "{'eval_loss': 1.5390346050262451, 'eval_runtime': 1.0878, 'eval_samples_per_second': 4.596, 'eval_steps_per_second': 0.919, 'epoch': 0.94}\n",
      "{'loss': 1.3113, 'learning_rate': 1.604584868409061e-05, 'epoch': 0.94}\n"
     ]
    },
    {
     "data": {
      "application/vnd.jupyter.widget-view+json": {
       "model_id": "2b667428c7724007a91e38232600f5fc",
       "version_major": 2,
       "version_minor": 0
      },
      "text/plain": [
       "  0%|          | 0/1 [00:00<?, ?it/s]"
      ]
     },
     "metadata": {},
     "output_type": "display_data"
    },
    {
     "name": "stdout",
     "output_type": "stream",
     "text": [
      "{'eval_loss': 1.5357248783111572, 'eval_runtime': 1.015, 'eval_samples_per_second': 4.926, 'eval_steps_per_second': 0.985, 'epoch': 0.94}\n",
      "{'loss': 1.226, 'learning_rate': 1.599228853688649e-05, 'epoch': 0.95}\n"
     ]
    },
    {
     "data": {
      "application/vnd.jupyter.widget-view+json": {
       "model_id": "dda8459bf1c349d0b9ec2723566e3823",
       "version_major": 2,
       "version_minor": 0
      },
      "text/plain": [
       "  0%|          | 0/1 [00:00<?, ?it/s]"
      ]
     },
     "metadata": {},
     "output_type": "display_data"
    },
    {
     "name": "stdout",
     "output_type": "stream",
     "text": [
      "{'eval_loss': 1.5299360752105713, 'eval_runtime': 0.9874, 'eval_samples_per_second': 5.064, 'eval_steps_per_second': 1.013, 'epoch': 0.95}\n",
      "{'loss': 1.1655, 'learning_rate': 1.5938458828680642e-05, 'epoch': 0.96}\n"
     ]
    },
    {
     "data": {
      "application/vnd.jupyter.widget-view+json": {
       "model_id": "8b347b2a6040485ea2a4e54441722367",
       "version_major": 2,
       "version_minor": 0
      },
      "text/plain": [
       "  0%|          | 0/1 [00:00<?, ?it/s]"
      ]
     },
     "metadata": {},
     "output_type": "display_data"
    },
    {
     "name": "stdout",
     "output_type": "stream",
     "text": [
      "{'eval_loss': 1.528918981552124, 'eval_runtime': 1.094, 'eval_samples_per_second': 4.571, 'eval_steps_per_second': 0.914, 'epoch': 0.96}\n",
      "{'loss': 1.3207, 'learning_rate': 1.5884361980983645e-05, 'epoch': 0.96}\n"
     ]
    },
    {
     "data": {
      "application/vnd.jupyter.widget-view+json": {
       "model_id": "4534207eff1f435cb7e64c502dacacb8",
       "version_major": 2,
       "version_minor": 0
      },
      "text/plain": [
       "  0%|          | 0/1 [00:00<?, ?it/s]"
      ]
     },
     "metadata": {},
     "output_type": "display_data"
    },
    {
     "name": "stdout",
     "output_type": "stream",
     "text": [
      "{'eval_loss': 1.5315684080123901, 'eval_runtime': 1.0223, 'eval_samples_per_second': 4.891, 'eval_steps_per_second': 0.978, 'epoch': 0.96}\n",
      "{'loss': 1.3359, 'learning_rate': 1.5830000427323252e-05, 'epoch': 0.97}\n"
     ]
    },
    {
     "data": {
      "application/vnd.jupyter.widget-view+json": {
       "model_id": "f174fc93e15543acba20c19953dbf3eb",
       "version_major": 2,
       "version_minor": 0
      },
      "text/plain": [
       "  0%|          | 0/1 [00:00<?, ?it/s]"
      ]
     },
     "metadata": {},
     "output_type": "display_data"
    },
    {
     "name": "stdout",
     "output_type": "stream",
     "text": [
      "{'eval_loss': 1.5292631387710571, 'eval_runtime': 1.0852, 'eval_samples_per_second': 4.607, 'eval_steps_per_second': 0.921, 'epoch': 0.97}\n",
      "{'loss': 1.1929, 'learning_rate': 1.5775376613134922e-05, 'epoch': 0.98}\n"
     ]
    },
    {
     "data": {
      "application/vnd.jupyter.widget-view+json": {
       "model_id": "3bed52568b93450dbc9e66c9644b84c8",
       "version_major": 2,
       "version_minor": 0
      },
      "text/plain": [
       "  0%|          | 0/1 [00:00<?, ?it/s]"
      ]
     },
     "metadata": {},
     "output_type": "display_data"
    },
    {
     "name": "stdout",
     "output_type": "stream",
     "text": [
      "{'eval_loss': 1.5282151699066162, 'eval_runtime': 0.9802, 'eval_samples_per_second': 5.101, 'eval_steps_per_second': 1.02, 'epoch': 0.98}\n",
      "{'loss': 1.3694, 'learning_rate': 1.5720492995651804e-05, 'epoch': 0.98}\n"
     ]
    },
    {
     "data": {
      "application/vnd.jupyter.widget-view+json": {
       "model_id": "9652f11e16764637a60034d04d432aa9",
       "version_major": 2,
       "version_minor": 0
      },
      "text/plain": [
       "  0%|          | 0/1 [00:00<?, ?it/s]"
      ]
     },
     "metadata": {},
     "output_type": "display_data"
    },
    {
     "name": "stdout",
     "output_type": "stream",
     "text": [
      "{'eval_loss': 1.5311630964279175, 'eval_runtime': 1.0733, 'eval_samples_per_second': 4.659, 'eval_steps_per_second': 0.932, 'epoch': 0.98}\n",
      "{'loss': 1.417, 'learning_rate': 1.5665352043794222e-05, 'epoch': 0.99}\n"
     ]
    },
    {
     "data": {
      "application/vnd.jupyter.widget-view+json": {
       "model_id": "5f1b7dbc523b4bddaada1973c5757f6f",
       "version_major": 2,
       "version_minor": 0
      },
      "text/plain": [
       "  0%|          | 0/1 [00:00<?, ?it/s]"
      ]
     },
     "metadata": {},
     "output_type": "display_data"
    },
    {
     "name": "stdout",
     "output_type": "stream",
     "text": [
      "{'eval_loss': 1.5379153490066528, 'eval_runtime': 1.0641, 'eval_samples_per_second': 4.699, 'eval_steps_per_second': 0.94, 'epoch': 0.99}\n",
      "{'loss': 1.0495, 'learning_rate': 1.5609956238058584e-05, 'epoch': 0.99}\n"
     ]
    },
    {
     "data": {
      "application/vnd.jupyter.widget-view+json": {
       "model_id": "b7798dbd62c4466cb42013f41a3403c2",
       "version_major": 2,
       "version_minor": 0
      },
      "text/plain": [
       "  0%|          | 0/1 [00:00<?, ?it/s]"
      ]
     },
     "metadata": {},
     "output_type": "display_data"
    },
    {
     "name": "stdout",
     "output_type": "stream",
     "text": [
      "{'eval_loss': 1.5467944145202637, 'eval_runtime': 1.0955, 'eval_samples_per_second': 4.564, 'eval_steps_per_second': 0.913, 'epoch': 0.99}\n",
      "{'loss': 1.5054, 'learning_rate': 1.5554308070405815e-05, 'epoch': 1.0}\n"
     ]
    },
    {
     "data": {
      "application/vnd.jupyter.widget-view+json": {
       "model_id": "5c45b6487b944dbebc591dd9f800b48f",
       "version_major": 2,
       "version_minor": 0
      },
      "text/plain": [
       "  0%|          | 0/1 [00:00<?, ?it/s]"
      ]
     },
     "metadata": {},
     "output_type": "display_data"
    },
    {
     "name": "stdout",
     "output_type": "stream",
     "text": [
      "{'eval_loss': 1.5506576299667358, 'eval_runtime': 1.0689, 'eval_samples_per_second': 4.678, 'eval_steps_per_second': 0.936, 'epoch': 1.0}\n"
     ]
    },
    {
     "name": "stderr",
     "output_type": "stream",
     "text": [
      "/home/pechaut/miniconda3/envs/cairo-llm/lib/python3.9/site-packages/torch/utils/checkpoint.py:429: UserWarning: torch.utils.checkpoint: please pass in use_reentrant=True or use_reentrant=False explicitly. The default value of use_reentrant will be updated to be False in the future. To maintain current behavior, pass use_reentrant=True. It is recommended that you use use_reentrant=False. Refer to docs for more details on the differences between the two variants.\n",
      "  warnings.warn(\n"
     ]
    },
    {
     "name": "stdout",
     "output_type": "stream",
     "text": [
      "{'loss': 0.8766, 'learning_rate': 1.5498410044149252e-05, 'epoch': 1.01}\n"
     ]
    },
    {
     "data": {
      "application/vnd.jupyter.widget-view+json": {
       "model_id": "7fb5b0976840457683db9b846c33c0ba",
       "version_major": 2,
       "version_minor": 0
      },
      "text/plain": [
       "  0%|          | 0/1 [00:00<?, ?it/s]"
      ]
     },
     "metadata": {},
     "output_type": "display_data"
    },
    {
     "name": "stdout",
     "output_type": "stream",
     "text": [
      "{'eval_loss': 1.5557861328125, 'eval_runtime': 1.0786, 'eval_samples_per_second': 4.636, 'eval_steps_per_second': 0.927, 'epoch': 1.01}\n",
      "{'loss': 1.1715, 'learning_rate': 1.5442264673842036e-05, 'epoch': 1.01}\n"
     ]
    },
    {
     "data": {
      "application/vnd.jupyter.widget-view+json": {
       "model_id": "1c1929fef3724fac9478e51ef0b555ef",
       "version_major": 2,
       "version_minor": 0
      },
      "text/plain": [
       "  0%|          | 0/1 [00:00<?, ?it/s]"
      ]
     },
     "metadata": {},
     "output_type": "display_data"
    },
    {
     "name": "stdout",
     "output_type": "stream",
     "text": [
      "{'eval_loss': 1.5584745407104492, 'eval_runtime': 0.9891, 'eval_samples_per_second': 5.055, 'eval_steps_per_second': 1.011, 'epoch': 1.01}\n",
      "{'loss': 1.0015, 'learning_rate': 1.5385874485163992e-05, 'epoch': 1.02}\n"
     ]
    },
    {
     "data": {
      "application/vnd.jupyter.widget-view+json": {
       "model_id": "bb02056e5a6f4c3ca87fb603f3e375ad",
       "version_major": 2,
       "version_minor": 0
      },
      "text/plain": [
       "  0%|          | 0/1 [00:00<?, ?it/s]"
      ]
     },
     "metadata": {},
     "output_type": "display_data"
    },
    {
     "name": "stdout",
     "output_type": "stream",
     "text": [
      "{'eval_loss': 1.5560115575790405, 'eval_runtime': 1.0869, 'eval_samples_per_second': 4.6, 'eval_steps_per_second': 0.92, 'epoch': 1.02}\n",
      "{'loss': 1.2362, 'learning_rate': 1.5329242014808013e-05, 'epoch': 1.02}\n"
     ]
    },
    {
     "data": {
      "application/vnd.jupyter.widget-view+json": {
       "model_id": "23a320d6ed104ee0a402c5a061374f66",
       "version_major": 2,
       "version_minor": 0
      },
      "text/plain": [
       "  0%|          | 0/1 [00:00<?, ?it/s]"
      ]
     },
     "metadata": {},
     "output_type": "display_data"
    },
    {
     "name": "stdout",
     "output_type": "stream",
     "text": [
      "{'eval_loss': 1.5569560527801514, 'eval_runtime': 0.9928, 'eval_samples_per_second': 5.036, 'eval_steps_per_second': 1.007, 'epoch': 1.02}\n",
      "{'loss': 0.8876, 'learning_rate': 1.5272369810365946e-05, 'epoch': 1.03}\n"
     ]
    },
    {
     "data": {
      "application/vnd.jupyter.widget-view+json": {
       "model_id": "95dafb9e825846ad8e5cf92e6da9c75a",
       "version_major": 2,
       "version_minor": 0
      },
      "text/plain": [
       "  0%|          | 0/1 [00:00<?, ?it/s]"
      ]
     },
     "metadata": {},
     "output_type": "display_data"
    },
    {
     "name": "stdout",
     "output_type": "stream",
     "text": [
      "{'eval_loss': 1.5502047538757324, 'eval_runtime': 1.0651, 'eval_samples_per_second': 4.695, 'eval_steps_per_second': 0.939, 'epoch': 1.03}\n",
      "{'loss': 0.9681, 'learning_rate': 1.5215260430214003e-05, 'epoch': 1.04}\n"
     ]
    },
    {
     "data": {
      "application/vnd.jupyter.widget-view+json": {
       "model_id": "fce264ab189d4e33813341110d97e7fe",
       "version_major": 2,
       "version_minor": 0
      },
      "text/plain": [
       "  0%|          | 0/1 [00:00<?, ?it/s]"
      ]
     },
     "metadata": {},
     "output_type": "display_data"
    },
    {
     "name": "stdout",
     "output_type": "stream",
     "text": [
      "{'eval_loss': 1.5372345447540283, 'eval_runtime': 0.9747, 'eval_samples_per_second': 5.13, 'eval_steps_per_second': 1.026, 'epoch': 1.04}\n",
      "{'loss': 0.6658, 'learning_rate': 1.5157916443397644e-05, 'epoch': 1.04}\n"
     ]
    },
    {
     "data": {
      "application/vnd.jupyter.widget-view+json": {
       "model_id": "3ced90be0d3a4952adb7eb4424bbaffd",
       "version_major": 2,
       "version_minor": 0
      },
      "text/plain": [
       "  0%|          | 0/1 [00:00<?, ?it/s]"
      ]
     },
     "metadata": {},
     "output_type": "display_data"
    },
    {
     "name": "stdout",
     "output_type": "stream",
     "text": [
      "{'eval_loss': 1.5276415348052979, 'eval_runtime': 1.0047, 'eval_samples_per_second': 4.977, 'eval_steps_per_second': 0.995, 'epoch': 1.04}\n",
      "{'loss': 1.0693, 'learning_rate': 1.5100340429516046e-05, 'epoch': 1.05}\n"
     ]
    },
    {
     "data": {
      "application/vnd.jupyter.widget-view+json": {
       "model_id": "eeeade2a1fc54a5380edf687d7581258",
       "version_major": 2,
       "version_minor": 0
      },
      "text/plain": [
       "  0%|          | 0/1 [00:00<?, ?it/s]"
      ]
     },
     "metadata": {},
     "output_type": "display_data"
    },
    {
     "name": "stdout",
     "output_type": "stream",
     "text": [
      "{'eval_loss': 1.5245782136917114, 'eval_runtime': 1.0859, 'eval_samples_per_second': 4.604, 'eval_steps_per_second': 0.921, 'epoch': 1.05}\n",
      "{'loss': 0.7984, 'learning_rate': 1.504253497860603e-05, 'epoch': 1.06}\n"
     ]
    },
    {
     "data": {
      "application/vnd.jupyter.widget-view+json": {
       "model_id": "236325ea368348a893bc67ea1b4d0ef7",
       "version_major": 2,
       "version_minor": 0
      },
      "text/plain": [
       "  0%|          | 0/1 [00:00<?, ?it/s]"
      ]
     },
     "metadata": {},
     "output_type": "display_data"
    },
    {
     "name": "stdout",
     "output_type": "stream",
     "text": [
      "{'eval_loss': 1.5187751054763794, 'eval_runtime': 1.0444, 'eval_samples_per_second': 4.788, 'eval_steps_per_second': 0.958, 'epoch': 1.06}\n",
      "{'loss': 0.8178, 'learning_rate': 1.4984502691025566e-05, 'epoch': 1.06}\n"
     ]
    },
    {
     "data": {
      "application/vnd.jupyter.widget-view+json": {
       "model_id": "005d0cc1a69d42dda16ef27091c9cdb8",
       "version_major": 2,
       "version_minor": 0
      },
      "text/plain": [
       "  0%|          | 0/1 [00:00<?, ?it/s]"
      ]
     },
     "metadata": {},
     "output_type": "display_data"
    },
    {
     "name": "stdout",
     "output_type": "stream",
     "text": [
      "{'eval_loss': 1.5191706418991089, 'eval_runtime': 0.9972, 'eval_samples_per_second': 5.014, 'eval_steps_per_second': 1.003, 'epoch': 1.06}\n",
      "{'loss': 1.0403, 'learning_rate': 1.4926246177336792e-05, 'epoch': 1.07}\n"
     ]
    },
    {
     "data": {
      "application/vnd.jupyter.widget-view+json": {
       "model_id": "71a2478f096f418ca45cebce1fdc3a70",
       "version_major": 2,
       "version_minor": 0
      },
      "text/plain": [
       "  0%|          | 0/1 [00:00<?, ?it/s]"
      ]
     },
     "metadata": {},
     "output_type": "display_data"
    },
    {
     "name": "stdout",
     "output_type": "stream",
     "text": [
      "{'eval_loss': 1.5226659774780273, 'eval_runtime': 1.0888, 'eval_samples_per_second': 4.592, 'eval_steps_per_second': 0.918, 'epoch': 1.07}\n",
      "{'loss': 1.2257, 'learning_rate': 1.4867768058188581e-05, 'epoch': 1.07}\n"
     ]
    },
    {
     "data": {
      "application/vnd.jupyter.widget-view+json": {
       "model_id": "89a1974edeec4e479c6eb738882f6c78",
       "version_major": 2,
       "version_minor": 0
      },
      "text/plain": [
       "  0%|          | 0/1 [00:00<?, ?it/s]"
      ]
     },
     "metadata": {},
     "output_type": "display_data"
    },
    {
     "name": "stdout",
     "output_type": "stream",
     "text": [
      "{'eval_loss': 1.525286078453064, 'eval_runtime': 1.0118, 'eval_samples_per_second': 4.942, 'eval_steps_per_second': 0.988, 'epoch': 1.07}\n",
      "{'loss': 0.9451, 'learning_rate': 1.4809070964198644e-05, 'epoch': 1.08}\n"
     ]
    },
    {
     "data": {
      "application/vnd.jupyter.widget-view+json": {
       "model_id": "38561623593246ff8714cafc48fc41ee",
       "version_major": 2,
       "version_minor": 0
      },
      "text/plain": [
       "  0%|          | 0/1 [00:00<?, ?it/s]"
      ]
     },
     "metadata": {},
     "output_type": "display_data"
    },
    {
     "name": "stdout",
     "output_type": "stream",
     "text": [
      "{'eval_loss': 1.5253374576568604, 'eval_runtime': 1.0926, 'eval_samples_per_second': 4.576, 'eval_steps_per_second': 0.915, 'epoch': 1.08}\n",
      "{'loss': 1.1614, 'learning_rate': 1.4750157535835201e-05, 'epoch': 1.09}\n"
     ]
    },
    {
     "data": {
      "application/vnd.jupyter.widget-view+json": {
       "model_id": "3b25d943d58e493298a54d9ceb4ae763",
       "version_major": 2,
       "version_minor": 0
      },
      "text/plain": [
       "  0%|          | 0/1 [00:00<?, ?it/s]"
      ]
     },
     "metadata": {},
     "output_type": "display_data"
    },
    {
     "name": "stdout",
     "output_type": "stream",
     "text": [
      "{'eval_loss': 1.529249668121338, 'eval_runtime': 0.9729, 'eval_samples_per_second': 5.139, 'eval_steps_per_second': 1.028, 'epoch': 1.09}\n",
      "{'loss': 1.2161, 'learning_rate': 1.4691030423298208e-05, 'epoch': 1.09}\n"
     ]
    },
    {
     "data": {
      "application/vnd.jupyter.widget-view+json": {
       "model_id": "861d197987d44ac197db7a0bf380d1ee",
       "version_major": 2,
       "version_minor": 0
      },
      "text/plain": [
       "  0%|          | 0/1 [00:00<?, ?it/s]"
      ]
     },
     "metadata": {},
     "output_type": "display_data"
    },
    {
     "name": "stdout",
     "output_type": "stream",
     "text": [
      "{'eval_loss': 1.5268988609313965, 'eval_runtime': 1.1099, 'eval_samples_per_second': 4.505, 'eval_steps_per_second': 0.901, 'epoch': 1.09}\n",
      "{'loss': 1.1047, 'learning_rate': 1.4631692286400107e-05, 'epoch': 1.1}\n"
     ]
    },
    {
     "data": {
      "application/vnd.jupyter.widget-view+json": {
       "model_id": "44c891d73b73435c8e6ff77e9e5fba23",
       "version_major": 2,
       "version_minor": 0
      },
      "text/plain": [
       "  0%|          | 0/1 [00:00<?, ?it/s]"
      ]
     },
     "metadata": {},
     "output_type": "display_data"
    },
    {
     "name": "stdout",
     "output_type": "stream",
     "text": [
      "{'eval_loss': 1.5269309282302856, 'eval_runtime': 1.0911, 'eval_samples_per_second': 4.582, 'eval_steps_per_second': 0.916, 'epoch': 1.1}\n",
      "{'loss': 1.1248, 'learning_rate': 1.4572145794446222e-05, 'epoch': 1.11}\n"
     ]
    },
    {
     "data": {
      "application/vnd.jupyter.widget-view+json": {
       "model_id": "418a16495b7c467cbde5e9e8c6f21e96",
       "version_major": 2,
       "version_minor": 0
      },
      "text/plain": [
       "  0%|          | 0/1 [00:00<?, ?it/s]"
      ]
     },
     "metadata": {},
     "output_type": "display_data"
    },
    {
     "name": "stdout",
     "output_type": "stream",
     "text": [
      "{'eval_loss': 1.5264365673065186, 'eval_runtime': 1.0967, 'eval_samples_per_second': 4.559, 'eval_steps_per_second': 0.912, 'epoch': 1.11}\n",
      "{'loss': 0.8808, 'learning_rate': 1.4512393626114638e-05, 'epoch': 1.11}\n"
     ]
    },
    {
     "data": {
      "application/vnd.jupyter.widget-view+json": {
       "model_id": "6067f948745246e7964380f8a62491ef",
       "version_major": 2,
       "version_minor": 0
      },
      "text/plain": [
       "  0%|          | 0/1 [00:00<?, ?it/s]"
      ]
     },
     "metadata": {},
     "output_type": "display_data"
    },
    {
     "name": "stdout",
     "output_type": "stream",
     "text": [
      "{'eval_loss': 1.52687406539917, 'eval_runtime': 1.0235, 'eval_samples_per_second': 4.885, 'eval_steps_per_second': 0.977, 'epoch': 1.11}\n",
      "{'loss': 1.1161, 'learning_rate': 1.4452438469335726e-05, 'epoch': 1.12}\n"
     ]
    },
    {
     "data": {
      "application/vnd.jupyter.widget-view+json": {
       "model_id": "d651715a864c4c5a87d6654e9e8a2018",
       "version_major": 2,
       "version_minor": 0
      },
      "text/plain": [
       "  0%|          | 0/1 [00:00<?, ?it/s]"
      ]
     },
     "metadata": {},
     "output_type": "display_data"
    },
    {
     "name": "stdout",
     "output_type": "stream",
     "text": [
      "{'eval_loss': 1.5339560508728027, 'eval_runtime': 1.0036, 'eval_samples_per_second': 4.982, 'eval_steps_per_second': 0.996, 'epoch': 1.12}\n",
      "{'loss': 1.1226, 'learning_rate': 1.4392283021171226e-05, 'epoch': 1.12}\n"
     ]
    },
    {
     "data": {
      "application/vnd.jupyter.widget-view+json": {
       "model_id": "de01d91fe88e444e90f522502d4a669a",
       "version_major": 2,
       "version_minor": 0
      },
      "text/plain": [
       "  0%|          | 0/1 [00:00<?, ?it/s]"
      ]
     },
     "metadata": {},
     "output_type": "display_data"
    },
    {
     "name": "stdout",
     "output_type": "stream",
     "text": [
      "{'eval_loss': 1.5424354076385498, 'eval_runtime': 1.0509, 'eval_samples_per_second': 4.758, 'eval_steps_per_second': 0.952, 'epoch': 1.12}\n",
      "{'loss': 0.9059, 'learning_rate': 1.4331929987692907e-05, 'epoch': 1.13}\n"
     ]
    },
    {
     "data": {
      "application/vnd.jupyter.widget-view+json": {
       "model_id": "e3c8a758e6e64807af822c7179570e80",
       "version_major": 2,
       "version_minor": 0
      },
      "text/plain": [
       "  0%|          | 0/1 [00:00<?, ?it/s]"
      ]
     },
     "metadata": {},
     "output_type": "display_data"
    },
    {
     "name": "stdout",
     "output_type": "stream",
     "text": [
      "{'eval_loss': 1.5483802556991577, 'eval_runtime': 0.9831, 'eval_samples_per_second': 5.086, 'eval_steps_per_second': 1.017, 'epoch': 1.13}\n",
      "{'loss': 1.0149, 'learning_rate': 1.4271382083860847e-05, 'epoch': 1.14}\n"
     ]
    },
    {
     "data": {
      "application/vnd.jupyter.widget-view+json": {
       "model_id": "e297f27294b84f4fab79dec000c7829b",
       "version_major": 2,
       "version_minor": 0
      },
      "text/plain": [
       "  0%|          | 0/1 [00:00<?, ?it/s]"
      ]
     },
     "metadata": {},
     "output_type": "display_data"
    },
    {
     "name": "stdout",
     "output_type": "stream",
     "text": [
      "{'eval_loss': 1.5453850030899048, 'eval_runtime': 1.0988, 'eval_samples_per_second': 4.55, 'eval_steps_per_second': 0.91, 'epoch': 1.14}\n",
      "{'loss': 1.0749, 'learning_rate': 1.4210642033401305e-05, 'epoch': 1.14}\n"
     ]
    },
    {
     "data": {
      "application/vnd.jupyter.widget-view+json": {
       "model_id": "1761a403fb7d44f6834c516a80d5d841",
       "version_major": 2,
       "version_minor": 0
      },
      "text/plain": [
       "  0%|          | 0/1 [00:00<?, ?it/s]"
      ]
     },
     "metadata": {},
     "output_type": "display_data"
    },
    {
     "name": "stdout",
     "output_type": "stream",
     "text": [
      "{'eval_loss': 1.5473790168762207, 'eval_runtime': 0.9898, 'eval_samples_per_second': 5.051, 'eval_steps_per_second': 1.01, 'epoch': 1.14}\n",
      "{'loss': 0.8647, 'learning_rate': 1.4149712568684182e-05, 'epoch': 1.15}\n"
     ]
    },
    {
     "data": {
      "application/vnd.jupyter.widget-view+json": {
       "model_id": "41eeda16247841368147ca61546fddf3",
       "version_major": 2,
       "version_minor": 0
      },
      "text/plain": [
       "  0%|          | 0/1 [00:00<?, ?it/s]"
      ]
     },
     "metadata": {},
     "output_type": "display_data"
    },
    {
     "name": "stdout",
     "output_type": "stream",
     "text": [
      "{'eval_loss': 1.5545125007629395, 'eval_runtime': 1.0954, 'eval_samples_per_second': 4.564, 'eval_steps_per_second': 0.913, 'epoch': 1.15}\n",
      "{'loss': 1.3308, 'learning_rate': 1.408859643060011e-05, 'epoch': 1.16}\n"
     ]
    },
    {
     "data": {
      "application/vnd.jupyter.widget-view+json": {
       "model_id": "5ac369c0b4df4c74b2db65e0d6c490d8",
       "version_major": 2,
       "version_minor": 0
      },
      "text/plain": [
       "  0%|          | 0/1 [00:00<?, ?it/s]"
      ]
     },
     "metadata": {},
     "output_type": "display_data"
    },
    {
     "name": "stdout",
     "output_type": "stream",
     "text": [
      "{'eval_loss': 1.560271143913269, 'eval_runtime': 0.9843, 'eval_samples_per_second': 5.08, 'eval_steps_per_second': 1.016, 'epoch': 1.16}\n",
      "{'loss': 0.9661, 'learning_rate': 1.4027296368437168e-05, 'epoch': 1.16}\n"
     ]
    },
    {
     "data": {
      "application/vnd.jupyter.widget-view+json": {
       "model_id": "864703404cb1470187781a80942c6e0b",
       "version_major": 2,
       "version_minor": 0
      },
      "text/plain": [
       "  0%|          | 0/1 [00:00<?, ?it/s]"
      ]
     },
     "metadata": {},
     "output_type": "display_data"
    },
    {
     "name": "stdout",
     "output_type": "stream",
     "text": [
      "{'eval_loss': 1.5642237663269043, 'eval_runtime': 1.0553, 'eval_samples_per_second': 4.738, 'eval_steps_per_second': 0.948, 'epoch': 1.16}\n",
      "{'loss': 1.038, 'learning_rate': 1.396581513975719e-05, 'epoch': 1.17}\n"
     ]
    },
    {
     "data": {
      "application/vnd.jupyter.widget-view+json": {
       "model_id": "41d547d86a964b3c8397a1978ca785a5",
       "version_major": 2,
       "version_minor": 0
      },
      "text/plain": [
       "  0%|          | 0/1 [00:00<?, ?it/s]"
      ]
     },
     "metadata": {},
     "output_type": "display_data"
    },
    {
     "name": "stdout",
     "output_type": "stream",
     "text": [
      "{'eval_loss': 1.5621440410614014, 'eval_runtime': 1.0574, 'eval_samples_per_second': 4.728, 'eval_steps_per_second': 0.946, 'epoch': 1.17}\n",
      "{'loss': 0.96, 'learning_rate': 1.3904155510271712e-05, 'epoch': 1.17}\n"
     ]
    },
    {
     "data": {
      "application/vnd.jupyter.widget-view+json": {
       "model_id": "cc480713e3454628b18fad74e3dd1d4d",
       "version_major": 2,
       "version_minor": 0
      },
      "text/plain": [
       "  0%|          | 0/1 [00:00<?, ?it/s]"
      ]
     },
     "metadata": {},
     "output_type": "display_data"
    },
    {
     "name": "stdout",
     "output_type": "stream",
     "text": [
      "{'eval_loss': 1.5550427436828613, 'eval_runtime': 0.9767, 'eval_samples_per_second': 5.119, 'eval_steps_per_second': 1.024, 'epoch': 1.17}\n",
      "{'loss': 1.2275, 'learning_rate': 1.3842320253717589e-05, 'epoch': 1.18}\n"
     ]
    },
    {
     "data": {
      "application/vnd.jupyter.widget-view+json": {
       "model_id": "c1aa2690a2114a1e9f02736e6bea73a3",
       "version_major": 2,
       "version_minor": 0
      },
      "text/plain": [
       "  0%|          | 0/1 [00:00<?, ?it/s]"
      ]
     },
     "metadata": {},
     "output_type": "display_data"
    },
    {
     "name": "stdout",
     "output_type": "stream",
     "text": [
      "{'eval_loss': 1.5399024486541748, 'eval_runtime': 1.0328, 'eval_samples_per_second': 4.841, 'eval_steps_per_second': 0.968, 'epoch': 1.18}\n",
      "{'loss': 0.9022, 'learning_rate': 1.3780312151732178e-05, 'epoch': 1.19}\n"
     ]
    },
    {
     "data": {
      "application/vnd.jupyter.widget-view+json": {
       "model_id": "792b5fbd9d594e3eba5e997468498b8e",
       "version_major": 2,
       "version_minor": 0
      },
      "text/plain": [
       "  0%|          | 0/1 [00:00<?, ?it/s]"
      ]
     },
     "metadata": {},
     "output_type": "display_data"
    },
    {
     "name": "stdout",
     "output_type": "stream",
     "text": [
      "{'eval_loss': 1.528873085975647, 'eval_runtime': 1.0894, 'eval_samples_per_second': 4.59, 'eval_steps_per_second': 0.918, 'epoch': 1.19}\n",
      "{'loss': 0.7934, 'learning_rate': 1.3718133993728239e-05, 'epoch': 1.19}\n"
     ]
    },
    {
     "data": {
      "application/vnd.jupyter.widget-view+json": {
       "model_id": "0f7ceb1a12a44e35a45323c657e54050",
       "version_major": 2,
       "version_minor": 0
      },
      "text/plain": [
       "  0%|          | 0/1 [00:00<?, ?it/s]"
      ]
     },
     "metadata": {},
     "output_type": "display_data"
    },
    {
     "name": "stdout",
     "output_type": "stream",
     "text": [
      "{'eval_loss': 1.5261849164962769, 'eval_runtime': 1.0908, 'eval_samples_per_second': 4.584, 'eval_steps_per_second': 0.917, 'epoch': 1.19}\n",
      "{'loss': 1.1376, 'learning_rate': 1.365578857676844e-05, 'epoch': 1.2}\n"
     ]
    },
    {
     "data": {
      "application/vnd.jupyter.widget-view+json": {
       "model_id": "487e316520fd42ccaa2315d37a5ec2c4",
       "version_major": 2,
       "version_minor": 0
      },
      "text/plain": [
       "  0%|          | 0/1 [00:00<?, ?it/s]"
      ]
     },
     "metadata": {},
     "output_type": "display_data"
    },
    {
     "name": "stdout",
     "output_type": "stream",
     "text": [
      "{'eval_loss': 1.524802803993225, 'eval_runtime': 1.0119, 'eval_samples_per_second': 4.941, 'eval_steps_per_second': 0.988, 'epoch': 1.2}\n",
      "{'loss': 1.1455, 'learning_rate': 1.359327870543953e-05, 'epoch': 1.2}\n"
     ]
    },
    {
     "data": {
      "application/vnd.jupyter.widget-view+json": {
       "model_id": "1f0d12210ff948f5ac8314d4afba26c7",
       "version_major": 2,
       "version_minor": 0
      },
      "text/plain": [
       "  0%|          | 0/1 [00:00<?, ?it/s]"
      ]
     },
     "metadata": {},
     "output_type": "display_data"
    },
    {
     "name": "stdout",
     "output_type": "stream",
     "text": [
      "{'eval_loss': 1.5206401348114014, 'eval_runtime': 1.02, 'eval_samples_per_second': 4.902, 'eval_steps_per_second': 0.98, 'epoch': 1.2}\n",
      "{'loss': 1.3663, 'learning_rate': 1.353060719172619e-05, 'epoch': 1.21}\n"
     ]
    },
    {
     "data": {
      "application/vnd.jupyter.widget-view+json": {
       "model_id": "87c26c8877fe4dcebc87dda21f9c8e79",
       "version_major": 2,
       "version_minor": 0
      },
      "text/plain": [
       "  0%|          | 0/1 [00:00<?, ?it/s]"
      ]
     },
     "metadata": {},
     "output_type": "display_data"
    },
    {
     "name": "stdout",
     "output_type": "stream",
     "text": [
      "{'eval_loss': 1.5178329944610596, 'eval_runtime': 1.0184, 'eval_samples_per_second': 4.91, 'eval_steps_per_second': 0.982, 'epoch': 1.21}\n",
      "{'loss': 1.3473, 'learning_rate': 1.3467776854884519e-05, 'epoch': 1.22}\n"
     ]
    },
    {
     "data": {
      "application/vnd.jupyter.widget-view+json": {
       "model_id": "ee2cb1f521fc438792043ae6292cb82f",
       "version_major": 2,
       "version_minor": 0
      },
      "text/plain": [
       "  0%|          | 0/1 [00:00<?, ?it/s]"
      ]
     },
     "metadata": {},
     "output_type": "display_data"
    },
    {
     "name": "stdout",
     "output_type": "stream",
     "text": [
      "{'eval_loss': 1.5169669389724731, 'eval_runtime': 1.0117, 'eval_samples_per_second': 4.942, 'eval_steps_per_second': 0.988, 'epoch': 1.22}\n",
      "{'loss': 0.8251, 'learning_rate': 1.3404790521315211e-05, 'epoch': 1.22}\n"
     ]
    },
    {
     "data": {
      "application/vnd.jupyter.widget-view+json": {
       "model_id": "d7b0f16270d74094b60edf6848176473",
       "version_major": 2,
       "version_minor": 0
      },
      "text/plain": [
       "  0%|          | 0/1 [00:00<?, ?it/s]"
      ]
     },
     "metadata": {},
     "output_type": "display_data"
    },
    {
     "name": "stdout",
     "output_type": "stream",
     "text": [
      "{'eval_loss': 1.5200896263122559, 'eval_runtime': 1.0069, 'eval_samples_per_second': 4.966, 'eval_steps_per_second': 0.993, 'epoch': 1.22}\n",
      "{'loss': 1.2475, 'learning_rate': 1.3341651024436442e-05, 'epoch': 1.23}\n"
     ]
    },
    {
     "data": {
      "application/vnd.jupyter.widget-view+json": {
       "model_id": "724d9ffc4d724f2f800ecb69a0c35326",
       "version_major": 2,
       "version_minor": 0
      },
      "text/plain": [
       "  0%|          | 0/1 [00:00<?, ?it/s]"
      ]
     },
     "metadata": {},
     "output_type": "display_data"
    },
    {
     "name": "stdout",
     "output_type": "stream",
     "text": [
      "{'eval_loss': 1.5232032537460327, 'eval_runtime': 1.0946, 'eval_samples_per_second': 4.568, 'eval_steps_per_second': 0.914, 'epoch': 1.23}\n",
      "{'loss': 0.7259, 'learning_rate': 1.3278361204556364e-05, 'epoch': 1.24}\n"
     ]
    },
    {
     "data": {
      "application/vnd.jupyter.widget-view+json": {
       "model_id": "de34182294404428abea5a34b97ce80e",
       "version_major": 2,
       "version_minor": 0
      },
      "text/plain": [
       "  0%|          | 0/1 [00:00<?, ?it/s]"
      ]
     },
     "metadata": {},
     "output_type": "display_data"
    },
    {
     "name": "stdout",
     "output_type": "stream",
     "text": [
      "{'eval_loss': 1.5230334997177124, 'eval_runtime': 0.9906, 'eval_samples_per_second': 5.047, 'eval_steps_per_second': 1.009, 'epoch': 1.24}\n",
      "{'loss': 0.947, 'learning_rate': 1.3214923908745365e-05, 'epoch': 1.24}\n"
     ]
    },
    {
     "data": {
      "application/vnd.jupyter.widget-view+json": {
       "model_id": "2b77c3f912ab4e0fa05c763e3953908b",
       "version_major": 2,
       "version_minor": 0
      },
      "text/plain": [
       "  0%|          | 0/1 [00:00<?, ?it/s]"
      ]
     },
     "metadata": {},
     "output_type": "display_data"
    },
    {
     "name": "stdout",
     "output_type": "stream",
     "text": [
      "{'eval_loss': 1.5244520902633667, 'eval_runtime': 0.991, 'eval_samples_per_second': 5.045, 'eval_steps_per_second': 1.009, 'epoch': 1.24}\n",
      "{'loss': 0.9272, 'learning_rate': 1.3151341990707988e-05, 'epoch': 1.25}\n"
     ]
    },
    {
     "data": {
      "application/vnd.jupyter.widget-view+json": {
       "model_id": "cfb58cf0e2b44c34ac2668d66671a23b",
       "version_major": 2,
       "version_minor": 0
      },
      "text/plain": [
       "  0%|          | 0/1 [00:00<?, ?it/s]"
      ]
     },
     "metadata": {},
     "output_type": "display_data"
    },
    {
     "name": "stdout",
     "output_type": "stream",
     "text": [
      "{'eval_loss': 1.526963710784912, 'eval_runtime': 1.0288, 'eval_samples_per_second': 4.86, 'eval_steps_per_second': 0.972, 'epoch': 1.25}\n",
      "{'loss': 1.1042, 'learning_rate': 1.3087618310654554e-05, 'epoch': 1.25}\n"
     ]
    },
    {
     "data": {
      "application/vnd.jupyter.widget-view+json": {
       "model_id": "e7afe0fab21b405e9c00f59887a3267d",
       "version_major": 2,
       "version_minor": 0
      },
      "text/plain": [
       "  0%|          | 0/1 [00:00<?, ?it/s]"
      ]
     },
     "metadata": {},
     "output_type": "display_data"
    },
    {
     "name": "stdout",
     "output_type": "stream",
     "text": [
      "{'eval_loss': 1.5285227298736572, 'eval_runtime': 0.9962, 'eval_samples_per_second': 5.019, 'eval_steps_per_second': 1.004, 'epoch': 1.25}\n",
      "{'loss': 0.8819, 'learning_rate': 1.3023755735172491e-05, 'epoch': 1.26}\n"
     ]
    },
    {
     "data": {
      "application/vnd.jupyter.widget-view+json": {
       "model_id": "d53c271f01d24dcd8b0dc5955d27c4fe",
       "version_major": 2,
       "version_minor": 0
      },
      "text/plain": [
       "  0%|          | 0/1 [00:00<?, ?it/s]"
      ]
     },
     "metadata": {},
     "output_type": "display_data"
    },
    {
     "name": "stdout",
     "output_type": "stream",
     "text": [
      "{'eval_loss': 1.5287413597106934, 'eval_runtime': 1.0173, 'eval_samples_per_second': 4.915, 'eval_steps_per_second': 0.983, 'epoch': 1.26}\n",
      "{'loss': 1.31, 'learning_rate': 1.2959757137097409e-05, 'epoch': 1.27}\n"
     ]
    },
    {
     "data": {
      "application/vnd.jupyter.widget-view+json": {
       "model_id": "b68d58f1643448c9bde9088a79419618",
       "version_major": 2,
       "version_minor": 0
      },
      "text/plain": [
       "  0%|          | 0/1 [00:00<?, ?it/s]"
      ]
     },
     "metadata": {},
     "output_type": "display_data"
    },
    {
     "name": "stdout",
     "output_type": "stream",
     "text": [
      "{'eval_loss': 1.5299806594848633, 'eval_runtime': 1.0886, 'eval_samples_per_second': 4.593, 'eval_steps_per_second': 0.919, 'epoch': 1.27}\n",
      "{'loss': 0.8495, 'learning_rate': 1.2895625395383823e-05, 'epoch': 1.27}\n"
     ]
    },
    {
     "data": {
      "application/vnd.jupyter.widget-view+json": {
       "model_id": "9af9652c83594ee6a9bf0124a28fef90",
       "version_major": 2,
       "version_minor": 0
      },
      "text/plain": [
       "  0%|          | 0/1 [00:00<?, ?it/s]"
      ]
     },
     "metadata": {},
     "output_type": "display_data"
    },
    {
     "name": "stdout",
     "output_type": "stream",
     "text": [
      "{'eval_loss': 1.5318371057510376, 'eval_runtime': 1.086, 'eval_samples_per_second': 4.604, 'eval_steps_per_second': 0.921, 'epoch': 1.27}\n",
      "{'loss': 1.1606, 'learning_rate': 1.2831363394975686e-05, 'epoch': 1.28}\n"
     ]
    },
    {
     "data": {
      "application/vnd.jupyter.widget-view+json": {
       "model_id": "877c2c821e8a4e3cbfe2fec76f1b9117",
       "version_major": 2,
       "version_minor": 0
      },
      "text/plain": [
       "  0%|          | 0/1 [00:00<?, ?it/s]"
      ]
     },
     "metadata": {},
     "output_type": "display_data"
    },
    {
     "name": "stdout",
     "output_type": "stream",
     "text": [
      "{'eval_loss': 1.5288714170455933, 'eval_runtime': 0.9805, 'eval_samples_per_second': 5.099, 'eval_steps_per_second': 1.02, 'epoch': 1.28}\n",
      "{'loss': 1.1184, 'learning_rate': 1.2766974026676585e-05, 'epoch': 1.29}\n"
     ]
    },
    {
     "data": {
      "application/vnd.jupyter.widget-view+json": {
       "model_id": "9896552099814eb1a38c3af7bc9354f2",
       "version_major": 2,
       "version_minor": 0
      },
      "text/plain": [
       "  0%|          | 0/1 [00:00<?, ?it/s]"
      ]
     },
     "metadata": {},
     "output_type": "display_data"
    },
    {
     "name": "stdout",
     "output_type": "stream",
     "text": [
      "{'eval_loss': 1.5251197814941406, 'eval_runtime': 1.0007, 'eval_samples_per_second': 4.997, 'eval_steps_per_second': 0.999, 'epoch': 1.29}\n",
      "{'loss': 1.0988, 'learning_rate': 1.2702460187019702e-05, 'epoch': 1.29}\n"
     ]
    },
    {
     "data": {
      "application/vnd.jupyter.widget-view+json": {
       "model_id": "6771bd6246854c828e8f7ca88283a0e4",
       "version_major": 2,
       "version_minor": 0
      },
      "text/plain": [
       "  0%|          | 0/1 [00:00<?, ?it/s]"
      ]
     },
     "metadata": {},
     "output_type": "display_data"
    },
    {
     "name": "stdout",
     "output_type": "stream",
     "text": [
      "{'eval_loss': 1.523463249206543, 'eval_runtime': 1.0059, 'eval_samples_per_second': 4.971, 'eval_steps_per_second': 0.994, 'epoch': 1.29}\n",
      "{'loss': 0.7879, 'learning_rate': 1.2637824778137532e-05, 'epoch': 1.3}\n"
     ]
    },
    {
     "data": {
      "application/vnd.jupyter.widget-view+json": {
       "model_id": "fb48b705e4a8466994f48b3617567f99",
       "version_major": 2,
       "version_minor": 0
      },
      "text/plain": [
       "  0%|          | 0/1 [00:00<?, ?it/s]"
      ]
     },
     "metadata": {},
     "output_type": "display_data"
    },
    {
     "name": "stdout",
     "output_type": "stream",
     "text": [
      "{'eval_loss': 1.526428461074829, 'eval_runtime': 1.0807, 'eval_samples_per_second': 4.627, 'eval_steps_per_second': 0.925, 'epoch': 1.3}\n",
      "{'loss': 1.1713, 'learning_rate': 1.2573070707631314e-05, 'epoch': 1.3}\n"
     ]
    },
    {
     "data": {
      "application/vnd.jupyter.widget-view+json": {
       "model_id": "eac38fbd57b64319804fcc7c0f6f78bc",
       "version_major": 2,
       "version_minor": 0
      },
      "text/plain": [
       "  0%|          | 0/1 [00:00<?, ?it/s]"
      ]
     },
     "metadata": {},
     "output_type": "display_data"
    },
    {
     "name": "stdout",
     "output_type": "stream",
     "text": [
      "{'eval_loss': 1.532978892326355, 'eval_runtime': 1.0236, 'eval_samples_per_second': 4.885, 'eval_steps_per_second': 0.977, 'epoch': 1.3}\n",
      "{'loss': 1.1114, 'learning_rate': 1.2508200888440232e-05, 'epoch': 1.31}\n"
     ]
    },
    {
     "data": {
      "application/vnd.jupyter.widget-view+json": {
       "model_id": "a2b65c628a334968a19654185a265e71",
       "version_major": 2,
       "version_minor": 0
      },
      "text/plain": [
       "  0%|          | 0/1 [00:00<?, ?it/s]"
      ]
     },
     "metadata": {},
     "output_type": "display_data"
    },
    {
     "name": "stdout",
     "output_type": "stream",
     "text": [
      "{'eval_loss': 1.5384104251861572, 'eval_runtime': 1.0147, 'eval_samples_per_second': 4.927, 'eval_steps_per_second': 0.985, 'epoch': 1.31}\n",
      "{'loss': 0.8324, 'learning_rate': 1.2443218238710389e-05, 'epoch': 1.32}\n"
     ]
    },
    {
     "data": {
      "application/vnd.jupyter.widget-view+json": {
       "model_id": "7dd594bf6a93434683a42be7781787b7",
       "version_major": 2,
       "version_minor": 0
      },
      "text/plain": [
       "  0%|          | 0/1 [00:00<?, ?it/s]"
      ]
     },
     "metadata": {},
     "output_type": "display_data"
    },
    {
     "name": "stdout",
     "output_type": "stream",
     "text": [
      "{'eval_loss': 1.5401854515075684, 'eval_runtime': 1.0698, 'eval_samples_per_second': 4.674, 'eval_steps_per_second': 0.935, 'epoch': 1.32}\n",
      "{'loss': 1.166, 'learning_rate': 1.2378125681663535e-05, 'epoch': 1.32}\n"
     ]
    },
    {
     "data": {
      "application/vnd.jupyter.widget-view+json": {
       "model_id": "164b938674c84e62b69a4787c11e9fe9",
       "version_major": 2,
       "version_minor": 0
      },
      "text/plain": [
       "  0%|          | 0/1 [00:00<?, ?it/s]"
      ]
     },
     "metadata": {},
     "output_type": "display_data"
    },
    {
     "name": "stdout",
     "output_type": "stream",
     "text": [
      "{'eval_loss': 1.5358541011810303, 'eval_runtime': 1.087, 'eval_samples_per_second': 4.6, 'eval_steps_per_second': 0.92, 'epoch': 1.32}\n",
      "{'loss': 0.8529, 'learning_rate': 1.2312926145465554e-05, 'epoch': 1.33}\n"
     ]
    },
    {
     "data": {
      "application/vnd.jupyter.widget-view+json": {
       "model_id": "7a93bd618a944b11b11a6113ea7ca44e",
       "version_major": 2,
       "version_minor": 0
      },
      "text/plain": [
       "  0%|          | 0/1 [00:00<?, ?it/s]"
      ]
     },
     "metadata": {},
     "output_type": "display_data"
    },
    {
     "name": "stdout",
     "output_type": "stream",
     "text": [
      "{'eval_loss': 1.5341371297836304, 'eval_runtime': 0.9732, 'eval_samples_per_second': 5.138, 'eval_steps_per_second': 1.028, 'epoch': 1.33}\n",
      "{'loss': 0.9945, 'learning_rate': 1.2247622563094752e-05, 'epoch': 1.34}\n"
     ]
    },
    {
     "data": {
      "application/vnd.jupyter.widget-view+json": {
       "model_id": "c9b57aea71f64660aeec720136b6e5af",
       "version_major": 2,
       "version_minor": 0
      },
      "text/plain": [
       "  0%|          | 0/1 [00:00<?, ?it/s]"
      ]
     },
     "metadata": {},
     "output_type": "display_data"
    },
    {
     "name": "stdout",
     "output_type": "stream",
     "text": [
      "{'eval_loss': 1.5271883010864258, 'eval_runtime': 1.09, 'eval_samples_per_second': 4.587, 'eval_steps_per_second': 0.917, 'epoch': 1.34}\n",
      "{'loss': 0.8763, 'learning_rate': 1.218221787220992e-05, 'epoch': 1.34}\n"
     ]
    },
    {
     "data": {
      "application/vnd.jupyter.widget-view+json": {
       "model_id": "68fedba987a54449bd8dc9d635a8a8f1",
       "version_major": 2,
       "version_minor": 0
      },
      "text/plain": [
       "  0%|          | 0/1 [00:00<?, ?it/s]"
      ]
     },
     "metadata": {},
     "output_type": "display_data"
    },
    {
     "name": "stdout",
     "output_type": "stream",
     "text": [
      "{'eval_loss': 1.5165103673934937, 'eval_runtime': 1.0174, 'eval_samples_per_second': 4.915, 'eval_steps_per_second': 0.983, 'epoch': 1.34}\n",
      "{'loss': 1.0143, 'learning_rate': 1.2116715015018179e-05, 'epoch': 1.35}\n"
     ]
    },
    {
     "data": {
      "application/vnd.jupyter.widget-view+json": {
       "model_id": "cba6e006855046429669abb13929f579",
       "version_major": 2,
       "version_minor": 0
      },
      "text/plain": [
       "  0%|          | 0/1 [00:00<?, ?it/s]"
      ]
     },
     "metadata": {},
     "output_type": "display_data"
    },
    {
     "name": "stdout",
     "output_type": "stream",
     "text": [
      "{'eval_loss': 1.5109026432037354, 'eval_runtime': 0.9868, 'eval_samples_per_second': 5.067, 'eval_steps_per_second': 1.013, 'epoch': 1.35}\n",
      "{'loss': 0.9774, 'learning_rate': 1.2051116938142623e-05, 'epoch': 1.35}\n"
     ]
    },
    {
     "data": {
      "application/vnd.jupyter.widget-view+json": {
       "model_id": "02438dcc26d54d0d935f8924ff2e313a",
       "version_major": 2,
       "version_minor": 0
      },
      "text/plain": [
       "  0%|          | 0/1 [00:00<?, ?it/s]"
      ]
     },
     "metadata": {},
     "output_type": "display_data"
    },
    {
     "name": "stdout",
     "output_type": "stream",
     "text": [
      "{'eval_loss': 1.5055822134017944, 'eval_runtime': 1.0804, 'eval_samples_per_second': 4.628, 'eval_steps_per_second': 0.926, 'epoch': 1.35}\n",
      "{'loss': 0.7308, 'learning_rate': 1.1985426592489767e-05, 'epoch': 1.36}\n"
     ]
    },
    {
     "data": {
      "application/vnd.jupyter.widget-view+json": {
       "model_id": "b4f7410bca6544798093615d25a94c7a",
       "version_major": 2,
       "version_minor": 0
      },
      "text/plain": [
       "  0%|          | 0/1 [00:00<?, ?it/s]"
      ]
     },
     "metadata": {},
     "output_type": "display_data"
    },
    {
     "name": "stdout",
     "output_type": "stream",
     "text": [
      "{'eval_loss': 1.503867268562317, 'eval_runtime': 1.0498, 'eval_samples_per_second': 4.763, 'eval_steps_per_second': 0.953, 'epoch': 1.36}\n",
      "{'loss': 0.996, 'learning_rate': 1.1919646933116817e-05, 'epoch': 1.37}\n"
     ]
    },
    {
     "data": {
      "application/vnd.jupyter.widget-view+json": {
       "model_id": "eac5467172af4fe988c1305a64b61ba0",
       "version_major": 2,
       "version_minor": 0
      },
      "text/plain": [
       "  0%|          | 0/1 [00:00<?, ?it/s]"
      ]
     },
     "metadata": {},
     "output_type": "display_data"
    },
    {
     "name": "stdout",
     "output_type": "stream",
     "text": [
      "{'eval_loss': 1.5089094638824463, 'eval_runtime': 0.9776, 'eval_samples_per_second': 5.114, 'eval_steps_per_second': 1.023, 'epoch': 1.37}\n",
      "{'loss': 0.8008, 'learning_rate': 1.1853780919098714e-05, 'epoch': 1.37}\n"
     ]
    },
    {
     "data": {
      "application/vnd.jupyter.widget-view+json": {
       "model_id": "0eb649ae26d54e858e5511cf5ada83c5",
       "version_major": 2,
       "version_minor": 0
      },
      "text/plain": [
       "  0%|          | 0/1 [00:00<?, ?it/s]"
      ]
     },
     "metadata": {},
     "output_type": "display_data"
    },
    {
     "name": "stdout",
     "output_type": "stream",
     "text": [
      "{'eval_loss': 1.5140308141708374, 'eval_runtime': 1.1014, 'eval_samples_per_second': 4.54, 'eval_steps_per_second': 0.908, 'epoch': 1.37}\n",
      "{'loss': 1.1051, 'learning_rate': 1.1787831513395035e-05, 'epoch': 1.38}\n"
     ]
    },
    {
     "data": {
      "application/vnd.jupyter.widget-view+json": {
       "model_id": "9d40ed7c8c3a4e89a702f07bea314018",
       "version_major": 2,
       "version_minor": 0
      },
      "text/plain": [
       "  0%|          | 0/1 [00:00<?, ?it/s]"
      ]
     },
     "metadata": {},
     "output_type": "display_data"
    },
    {
     "name": "stdout",
     "output_type": "stream",
     "text": [
      "{'eval_loss': 1.5141633749008179, 'eval_runtime': 1.0009, 'eval_samples_per_second': 4.996, 'eval_steps_per_second': 0.999, 'epoch': 1.38}\n",
      "{'loss': 0.897, 'learning_rate': 1.1721801682716714e-05, 'epoch': 1.39}\n"
     ]
    },
    {
     "data": {
      "application/vnd.jupyter.widget-view+json": {
       "model_id": "093648cb61194998a746816db864f70a",
       "version_major": 2,
       "version_minor": 0
      },
      "text/plain": [
       "  0%|          | 0/1 [00:00<?, ?it/s]"
      ]
     },
     "metadata": {},
     "output_type": "display_data"
    },
    {
     "name": "stdout",
     "output_type": "stream",
     "text": [
      "{'eval_loss': 1.512342929840088, 'eval_runtime': 1.0051, 'eval_samples_per_second': 4.974, 'eval_steps_per_second': 0.995, 'epoch': 1.39}\n",
      "{'loss': 1.2073, 'learning_rate': 1.1655694397392552e-05, 'epoch': 1.39}\n"
     ]
    },
    {
     "data": {
      "application/vnd.jupyter.widget-view+json": {
       "model_id": "1b6451480fd149298db4c0416a289c44",
       "version_major": 2,
       "version_minor": 0
      },
      "text/plain": [
       "  0%|          | 0/1 [00:00<?, ?it/s]"
      ]
     },
     "metadata": {},
     "output_type": "display_data"
    },
    {
     "name": "stdout",
     "output_type": "stream",
     "text": [
      "{'eval_loss': 1.496107816696167, 'eval_runtime': 0.9933, 'eval_samples_per_second': 5.034, 'eval_steps_per_second': 1.007, 'epoch': 1.39}\n",
      "{'loss': 1.1065, 'learning_rate': 1.158951263123564e-05, 'epoch': 1.4}\n"
     ]
    },
    {
     "data": {
      "application/vnd.jupyter.widget-view+json": {
       "model_id": "f4ee57504430468a95b2c715476b1b5e",
       "version_major": 2,
       "version_minor": 0
      },
      "text/plain": [
       "  0%|          | 0/1 [00:00<?, ?it/s]"
      ]
     },
     "metadata": {},
     "output_type": "display_data"
    },
    {
     "name": "stdout",
     "output_type": "stream",
     "text": [
      "{'eval_loss': 1.4871606826782227, 'eval_runtime': 1.0931, 'eval_samples_per_second': 4.574, 'eval_steps_per_second': 0.915, 'epoch': 1.4}\n",
      "{'loss': 0.8795, 'learning_rate': 1.1523259361409558e-05, 'epoch': 1.4}\n"
     ]
    },
    {
     "data": {
      "application/vnd.jupyter.widget-view+json": {
       "model_id": "97e20fb034704c2ba637248c18636bed",
       "version_major": 2,
       "version_minor": 0
      },
      "text/plain": [
       "  0%|          | 0/1 [00:00<?, ?it/s]"
      ]
     },
     "metadata": {},
     "output_type": "display_data"
    },
    {
     "name": "stdout",
     "output_type": "stream",
     "text": [
      "{'eval_loss': 1.4779441356658936, 'eval_runtime': 1.0058, 'eval_samples_per_second': 4.971, 'eval_steps_per_second': 0.994, 'epoch': 1.4}\n",
      "{'loss': 1.263, 'learning_rate': 1.1456937568294447e-05, 'epoch': 1.41}\n"
     ]
    },
    {
     "data": {
      "application/vnd.jupyter.widget-view+json": {
       "model_id": "514471fabfcb4b79bc6778c84ab97ecc",
       "version_major": 2,
       "version_minor": 0
      },
      "text/plain": [
       "  0%|          | 0/1 [00:00<?, ?it/s]"
      ]
     },
     "metadata": {},
     "output_type": "display_data"
    },
    {
     "name": "stdout",
     "output_type": "stream",
     "text": [
      "{'eval_loss': 1.4692983627319336, 'eval_runtime': 1.004, 'eval_samples_per_second': 4.98, 'eval_steps_per_second': 0.996, 'epoch': 1.41}\n",
      "{'loss': 1.0561, 'learning_rate': 1.1390550235352948e-05, 'epoch': 1.42}\n"
     ]
    },
    {
     "data": {
      "application/vnd.jupyter.widget-view+json": {
       "model_id": "6b9dfe8afcc240a2b2ba2fd77b2144d6",
       "version_major": 2,
       "version_minor": 0
      },
      "text/plain": [
       "  0%|          | 0/1 [00:00<?, ?it/s]"
      ]
     },
     "metadata": {},
     "output_type": "display_data"
    },
    {
     "name": "stdout",
     "output_type": "stream",
     "text": [
      "{'eval_loss': 1.4605125188827515, 'eval_runtime': 1.0888, 'eval_samples_per_second': 4.592, 'eval_steps_per_second': 0.918, 'epoch': 1.42}\n",
      "{'loss': 1.0662, 'learning_rate': 1.1324100348995994e-05, 'epoch': 1.42}\n"
     ]
    },
    {
     "data": {
      "application/vnd.jupyter.widget-view+json": {
       "model_id": "585af8fce9c445dab3ac3f6b84aa7224",
       "version_major": 2,
       "version_minor": 0
      },
      "text/plain": [
       "  0%|          | 0/1 [00:00<?, ?it/s]"
      ]
     },
     "metadata": {},
     "output_type": "display_data"
    },
    {
     "name": "stdout",
     "output_type": "stream",
     "text": [
      "{'eval_loss': 1.4566149711608887, 'eval_runtime': 1.0824, 'eval_samples_per_second': 4.619, 'eval_steps_per_second': 0.924, 'epoch': 1.42}\n",
      "{'loss': 1.0599, 'learning_rate': 1.125759089844845e-05, 'epoch': 1.43}\n"
     ]
    },
    {
     "data": {
      "application/vnd.jupyter.widget-view+json": {
       "model_id": "ca5f09e332d144138b4a8a00e21e9065",
       "version_major": 2,
       "version_minor": 0
      },
      "text/plain": [
       "  0%|          | 0/1 [00:00<?, ?it/s]"
      ]
     },
     "metadata": {},
     "output_type": "display_data"
    },
    {
     "name": "stdout",
     "output_type": "stream",
     "text": [
      "{'eval_loss': 1.4571419954299927, 'eval_runtime': 1.0771, 'eval_samples_per_second': 4.642, 'eval_steps_per_second': 0.928, 'epoch': 1.43}\n",
      "{'loss': 1.1485, 'learning_rate': 1.1191024875614669e-05, 'epoch': 1.43}\n"
     ]
    },
    {
     "data": {
      "application/vnd.jupyter.widget-view+json": {
       "model_id": "c3d9633b2f044c489f02d3ee930c36eb",
       "version_major": 2,
       "version_minor": 0
      },
      "text/plain": [
       "  0%|          | 0/1 [00:00<?, ?it/s]"
      ]
     },
     "metadata": {},
     "output_type": "display_data"
    },
    {
     "name": "stdout",
     "output_type": "stream",
     "text": [
      "{'eval_loss': 1.4589860439300537, 'eval_runtime': 0.9731, 'eval_samples_per_second': 5.138, 'eval_steps_per_second': 1.028, 'epoch': 1.43}\n",
      "{'loss': 0.8074, 'learning_rate': 1.1124405274943878e-05, 'epoch': 1.44}\n"
     ]
    },
    {
     "data": {
      "application/vnd.jupyter.widget-view+json": {
       "model_id": "c27eb4927a66463fade60893e2fc4b22",
       "version_major": 2,
       "version_minor": 0
      },
      "text/plain": [
       "  0%|          | 0/1 [00:00<?, ?it/s]"
      ]
     },
     "metadata": {},
     "output_type": "display_data"
    },
    {
     "name": "stdout",
     "output_type": "stream",
     "text": [
      "{'eval_loss': 1.4618772268295288, 'eval_runtime': 0.9737, 'eval_samples_per_second': 5.135, 'eval_steps_per_second': 1.027, 'epoch': 1.44}\n",
      "{'loss': 0.7329, 'learning_rate': 1.105773509329548e-05, 'epoch': 1.45}\n"
     ]
    },
    {
     "data": {
      "application/vnd.jupyter.widget-view+json": {
       "model_id": "7eff6e31e2304b9ea46a18913ca0863d",
       "version_major": 2,
       "version_minor": 0
      },
      "text/plain": [
       "  0%|          | 0/1 [00:00<?, ?it/s]"
      ]
     },
     "metadata": {},
     "output_type": "display_data"
    },
    {
     "name": "stdout",
     "output_type": "stream",
     "text": [
      "{'eval_loss': 1.4645063877105713, 'eval_runtime': 1.0398, 'eval_samples_per_second': 4.809, 'eval_steps_per_second': 0.962, 'epoch': 1.45}\n",
      "{'loss': 0.8916, 'learning_rate': 1.0991017329804267e-05, 'epoch': 1.45}\n"
     ]
    },
    {
     "data": {
      "application/vnd.jupyter.widget-view+json": {
       "model_id": "c9d27fd0a1ff488a81c63905efe550f0",
       "version_major": 2,
       "version_minor": 0
      },
      "text/plain": [
       "  0%|          | 0/1 [00:00<?, ?it/s]"
      ]
     },
     "metadata": {},
     "output_type": "display_data"
    },
    {
     "name": "stdout",
     "output_type": "stream",
     "text": [
      "{'eval_loss': 1.4641586542129517, 'eval_runtime': 1.084, 'eval_samples_per_second': 4.613, 'eval_steps_per_second': 0.923, 'epoch': 1.45}\n",
      "{'loss': 1.0222, 'learning_rate': 1.0924254985745462e-05, 'epoch': 1.46}\n"
     ]
    },
    {
     "data": {
      "application/vnd.jupyter.widget-view+json": {
       "model_id": "efb33a85f6694787a80317d45e280916",
       "version_major": 2,
       "version_minor": 0
      },
      "text/plain": [
       "  0%|          | 0/1 [00:00<?, ?it/s]"
      ]
     },
     "metadata": {},
     "output_type": "display_data"
    },
    {
     "name": "stdout",
     "output_type": "stream",
     "text": [
      "{'eval_loss': 1.4618903398513794, 'eval_runtime': 1.0305, 'eval_samples_per_second': 4.852, 'eval_steps_per_second': 0.97, 'epoch': 1.46}\n",
      "{'loss': 1.0245, 'learning_rate': 1.0857451064399729e-05, 'epoch': 1.47}\n"
     ]
    },
    {
     "data": {
      "application/vnd.jupyter.widget-view+json": {
       "model_id": "e42e0e7d36a74c49a1419616e5bfdc14",
       "version_major": 2,
       "version_minor": 0
      },
      "text/plain": [
       "  0%|          | 0/1 [00:00<?, ?it/s]"
      ]
     },
     "metadata": {},
     "output_type": "display_data"
    },
    {
     "name": "stdout",
     "output_type": "stream",
     "text": [
      "{'eval_loss': 1.4607359170913696, 'eval_runtime': 1.0654, 'eval_samples_per_second': 4.693, 'eval_steps_per_second': 0.939, 'epoch': 1.47}\n",
      "{'loss': 0.879, 'learning_rate': 1.0790608570918092e-05, 'epoch': 1.47}\n"
     ]
    },
    {
     "data": {
      "application/vnd.jupyter.widget-view+json": {
       "model_id": "9fe66e79c6644a808ecd8ad016efa106",
       "version_major": 2,
       "version_minor": 0
      },
      "text/plain": [
       "  0%|          | 0/1 [00:00<?, ?it/s]"
      ]
     },
     "metadata": {},
     "output_type": "display_data"
    },
    {
     "name": "stdout",
     "output_type": "stream",
     "text": [
      "{'eval_loss': 1.4631487131118774, 'eval_runtime': 1.0878, 'eval_samples_per_second': 4.597, 'eval_steps_per_second': 0.919, 'epoch': 1.47}\n",
      "{'loss': 1.1893, 'learning_rate': 1.0723730512186712e-05, 'epoch': 1.48}\n"
     ]
    },
    {
     "data": {
      "application/vnd.jupyter.widget-view+json": {
       "model_id": "1cae3e01adfc46f18f1dc290dbffd621",
       "version_major": 2,
       "version_minor": 0
      },
      "text/plain": [
       "  0%|          | 0/1 [00:00<?, ?it/s]"
      ]
     },
     "metadata": {},
     "output_type": "display_data"
    },
    {
     "name": "stdout",
     "output_type": "stream",
     "text": [
      "{'eval_loss': 1.464677095413208, 'eval_runtime': 0.974, 'eval_samples_per_second': 5.134, 'eval_steps_per_second': 1.027, 'epoch': 1.48}\n",
      "{'loss': 0.9292, 'learning_rate': 1.0656819896691644e-05, 'epoch': 1.48}\n"
     ]
    },
    {
     "data": {
      "application/vnd.jupyter.widget-view+json": {
       "model_id": "fa486d36ab6341eba2eee2074177b839",
       "version_major": 2,
       "version_minor": 0
      },
      "text/plain": [
       "  0%|          | 0/1 [00:00<?, ?it/s]"
      ]
     },
     "metadata": {},
     "output_type": "display_data"
    },
    {
     "name": "stdout",
     "output_type": "stream",
     "text": [
      "{'eval_loss': 1.4652906656265259, 'eval_runtime': 1.0926, 'eval_samples_per_second': 4.576, 'eval_steps_per_second': 0.915, 'epoch': 1.48}\n",
      "{'loss': 1.1015, 'learning_rate': 1.0589879734383499e-05, 'epoch': 1.49}\n"
     ]
    },
    {
     "data": {
      "application/vnd.jupyter.widget-view+json": {
       "model_id": "35abc1894f954409ba61e00ae758ccd6",
       "version_major": 2,
       "version_minor": 0
      },
      "text/plain": [
       "  0%|          | 0/1 [00:00<?, ?it/s]"
      ]
     },
     "metadata": {},
     "output_type": "display_data"
    },
    {
     "name": "stdout",
     "output_type": "stream",
     "text": [
      "{'eval_loss': 1.4670722484588623, 'eval_runtime': 1.018, 'eval_samples_per_second': 4.911, 'eval_steps_per_second': 0.982, 'epoch': 1.49}\n",
      "{'loss': 1.0534, 'learning_rate': 1.052291303654204e-05, 'epoch': 1.5}\n"
     ]
    },
    {
     "data": {
      "application/vnd.jupyter.widget-view+json": {
       "model_id": "167af4c94d3b4f59b2d9908487cadab6",
       "version_major": 2,
       "version_minor": 0
      },
      "text/plain": [
       "  0%|          | 0/1 [00:00<?, ?it/s]"
      ]
     },
     "metadata": {},
     "output_type": "display_data"
    },
    {
     "name": "stdout",
     "output_type": "stream",
     "text": [
      "{'eval_loss': 1.447419285774231, 'eval_runtime': 1.0536, 'eval_samples_per_second': 4.746, 'eval_steps_per_second': 0.949, 'epoch': 1.5}\n",
      "{'loss': 0.965, 'learning_rate': 1.0455922815640718e-05, 'epoch': 1.5}\n"
     ]
    },
    {
     "data": {
      "application/vnd.jupyter.widget-view+json": {
       "model_id": "5a496758422b4eaf949c915a791a05b1",
       "version_major": 2,
       "version_minor": 0
      },
      "text/plain": [
       "  0%|          | 0/1 [00:00<?, ?it/s]"
      ]
     },
     "metadata": {},
     "output_type": "display_data"
    },
    {
     "name": "stdout",
     "output_type": "stream",
     "text": [
      "{'eval_loss': 1.4360127449035645, 'eval_runtime': 1.0233, 'eval_samples_per_second': 4.886, 'eval_steps_per_second': 0.977, 'epoch': 1.5}\n",
      "{'loss': 0.9106, 'learning_rate': 1.0388912085211173e-05, 'epoch': 1.51}\n"
     ]
    },
    {
     "data": {
      "application/vnd.jupyter.widget-view+json": {
       "model_id": "d42cae3071d3461292173e42d9be6c26",
       "version_major": 2,
       "version_minor": 0
      },
      "text/plain": [
       "  0%|          | 0/1 [00:00<?, ?it/s]"
      ]
     },
     "metadata": {},
     "output_type": "display_data"
    },
    {
     "name": "stdout",
     "output_type": "stream",
     "text": [
      "{'eval_loss': 1.4301927089691162, 'eval_runtime': 0.9806, 'eval_samples_per_second': 5.099, 'eval_steps_per_second': 1.02, 'epoch': 1.51}\n",
      "{'loss': 1.0588, 'learning_rate': 1.0321883859707647e-05, 'epoch': 1.52}\n"
     ]
    },
    {
     "data": {
      "application/vnd.jupyter.widget-view+json": {
       "model_id": "805d9d4dd2184aa7a22ff932219147f2",
       "version_major": 2,
       "version_minor": 0
      },
      "text/plain": [
       "  0%|          | 0/1 [00:00<?, ?it/s]"
      ]
     },
     "metadata": {},
     "output_type": "display_data"
    },
    {
     "name": "stdout",
     "output_type": "stream",
     "text": [
      "{'eval_loss': 1.4255096912384033, 'eval_runtime': 1.0487, 'eval_samples_per_second': 4.768, 'eval_steps_per_second': 0.954, 'epoch': 1.52}\n",
      "{'loss': 1.1597, 'learning_rate': 1.0254841154371391e-05, 'epoch': 1.52}\n"
     ]
    },
    {
     "data": {
      "application/vnd.jupyter.widget-view+json": {
       "model_id": "2abae24d85fd4f3cba1a353e265fe304",
       "version_major": 2,
       "version_minor": 0
      },
      "text/plain": [
       "  0%|          | 0/1 [00:00<?, ?it/s]"
      ]
     },
     "metadata": {},
     "output_type": "display_data"
    },
    {
     "name": "stdout",
     "output_type": "stream",
     "text": [
      "{'eval_loss': 1.4200654029846191, 'eval_runtime': 1.0057, 'eval_samples_per_second': 4.972, 'eval_steps_per_second': 0.994, 'epoch': 1.52}\n",
      "{'loss': 1.0652, 'learning_rate': 1.0187786985095036e-05, 'epoch': 1.53}\n"
     ]
    },
    {
     "data": {
      "application/vnd.jupyter.widget-view+json": {
       "model_id": "c33b830598e841a3b446f07b8347710e",
       "version_major": 2,
       "version_minor": 0
      },
      "text/plain": [
       "  0%|          | 0/1 [00:00<?, ?it/s]"
      ]
     },
     "metadata": {},
     "output_type": "display_data"
    },
    {
     "name": "stdout",
     "output_type": "stream",
     "text": [
      "{'eval_loss': 1.4181239604949951, 'eval_runtime': 1.0925, 'eval_samples_per_second': 4.577, 'eval_steps_per_second': 0.915, 'epoch': 1.53}\n",
      "{'loss': 0.7934, 'learning_rate': 1.0120724368286907e-05, 'epoch': 1.53}\n"
     ]
    },
    {
     "data": {
      "application/vnd.jupyter.widget-view+json": {
       "model_id": "ab58b96dc9a844ceb223c5afab7d3f89",
       "version_major": 2,
       "version_minor": 0
      },
      "text/plain": [
       "  0%|          | 0/1 [00:00<?, ?it/s]"
      ]
     },
     "metadata": {},
     "output_type": "display_data"
    },
    {
     "name": "stdout",
     "output_type": "stream",
     "text": [
      "{'eval_loss': 1.4181008338928223, 'eval_runtime': 0.9756, 'eval_samples_per_second': 5.125, 'eval_steps_per_second': 1.025, 'epoch': 1.53}\n",
      "{'loss': 0.7962, 'learning_rate': 1.005365632073534e-05, 'epoch': 1.54}\n"
     ]
    },
    {
     "data": {
      "application/vnd.jupyter.widget-view+json": {
       "model_id": "03c1922259214d8b951e5cb8de3906b1",
       "version_major": 2,
       "version_minor": 0
      },
      "text/plain": [
       "  0%|          | 0/1 [00:00<?, ?it/s]"
      ]
     },
     "metadata": {},
     "output_type": "display_data"
    },
    {
     "name": "stdout",
     "output_type": "stream",
     "text": [
      "{'eval_loss': 1.41569185256958, 'eval_runtime': 1.0979, 'eval_samples_per_second': 4.554, 'eval_steps_per_second': 0.911, 'epoch': 1.54}\n",
      "{'loss': 1.0976, 'learning_rate': 9.986585859472972e-06, 'epoch': 1.55}\n"
     ]
    },
    {
     "data": {
      "application/vnd.jupyter.widget-view+json": {
       "model_id": "c310ae563ef845108685fba998c77cb1",
       "version_major": 2,
       "version_minor": 0
      },
      "text/plain": [
       "  0%|          | 0/1 [00:00<?, ?it/s]"
      ]
     },
     "metadata": {},
     "output_type": "display_data"
    },
    {
     "name": "stdout",
     "output_type": "stream",
     "text": [
      "{'eval_loss': 1.4091764688491821, 'eval_runtime': 0.9793, 'eval_samples_per_second': 5.106, 'eval_steps_per_second': 1.021, 'epoch': 1.55}\n",
      "{'loss': 1.1634, 'learning_rate': 9.91951600164102e-06, 'epoch': 1.55}\n"
     ]
    },
    {
     "data": {
      "application/vnd.jupyter.widget-view+json": {
       "model_id": "6c1129dc59b44c7589293dc20e3ae077",
       "version_major": 2,
       "version_minor": 0
      },
      "text/plain": [
       "  0%|          | 0/1 [00:00<?, ?it/s]"
      ]
     },
     "metadata": {},
     "output_type": "display_data"
    },
    {
     "name": "stdout",
     "output_type": "stream",
     "text": [
      "{'eval_loss': 1.4030431509017944, 'eval_runtime': 1.0297, 'eval_samples_per_second': 4.856, 'eval_steps_per_second': 0.971, 'epoch': 1.55}\n",
      "{'loss': 0.8001, 'learning_rate': 9.852449764353553e-06, 'epoch': 1.56}\n"
     ]
    },
    {
     "data": {
      "application/vnd.jupyter.widget-view+json": {
       "model_id": "c16fdb400bde45548ff68de1d8a583ea",
       "version_major": 2,
       "version_minor": 0
      },
      "text/plain": [
       "  0%|          | 0/1 [00:00<?, ?it/s]"
      ]
     },
     "metadata": {},
     "output_type": "display_data"
    },
    {
     "name": "stdout",
     "output_type": "stream",
     "text": [
      "{'eval_loss': 1.4014668464660645, 'eval_runtime': 1.0006, 'eval_samples_per_second': 4.997, 'eval_steps_per_second': 0.999, 'epoch': 1.56}\n",
      "{'loss': 1.2195, 'learning_rate': 9.785390164561773e-06, 'epoch': 1.57}\n"
     ]
    },
    {
     "data": {
      "application/vnd.jupyter.widget-view+json": {
       "model_id": "ee1af3ed35f747239a756ed2096b88e0",
       "version_major": 2,
       "version_minor": 0
      },
      "text/plain": [
       "  0%|          | 0/1 [00:00<?, ?it/s]"
      ]
     },
     "metadata": {},
     "output_type": "display_data"
    },
    {
     "name": "stdout",
     "output_type": "stream",
     "text": [
      "{'eval_loss': 1.4024829864501953, 'eval_runtime': 1.0134, 'eval_samples_per_second': 4.934, 'eval_steps_per_second': 0.987, 'epoch': 1.57}\n",
      "{'loss': 0.7794, 'learning_rate': 9.7183402189183e-06, 'epoch': 1.57}\n"
     ]
    },
    {
     "data": {
      "application/vnd.jupyter.widget-view+json": {
       "model_id": "d8965c307f8940d0b00097ce7600a8e6",
       "version_major": 2,
       "version_minor": 0
      },
      "text/plain": [
       "  0%|          | 0/1 [00:00<?, ?it/s]"
      ]
     },
     "metadata": {},
     "output_type": "display_data"
    },
    {
     "name": "stdout",
     "output_type": "stream",
     "text": [
      "{'eval_loss': 1.4050424098968506, 'eval_runtime': 1.0749, 'eval_samples_per_second': 4.652, 'eval_steps_per_second': 0.93, 'epoch': 1.57}\n",
      "{'loss': 0.8764, 'learning_rate': 9.65130294364146e-06, 'epoch': 1.58}\n"
     ]
    },
    {
     "data": {
      "application/vnd.jupyter.widget-view+json": {
       "model_id": "d7bbc625fcbc47bb8178b8cbe342d582",
       "version_major": 2,
       "version_minor": 0
      },
      "text/plain": [
       "  0%|          | 0/1 [00:00<?, ?it/s]"
      ]
     },
     "metadata": {},
     "output_type": "display_data"
    },
    {
     "name": "stdout",
     "output_type": "stream",
     "text": [
      "{'eval_loss': 1.4085304737091064, 'eval_runtime': 1.0491, 'eval_samples_per_second': 4.766, 'eval_steps_per_second': 0.953, 'epoch': 1.58}\n",
      "{'loss': 0.6804, 'learning_rate': 9.584281354379607e-06, 'epoch': 1.58}\n"
     ]
    },
    {
     "data": {
      "application/vnd.jupyter.widget-view+json": {
       "model_id": "18995b99ffb5444dba7fe5e2f36c23cf",
       "version_major": 2,
       "version_minor": 0
      },
      "text/plain": [
       "  0%|          | 0/1 [00:00<?, ?it/s]"
      ]
     },
     "metadata": {},
     "output_type": "display_data"
    },
    {
     "name": "stdout",
     "output_type": "stream",
     "text": [
      "{'eval_loss': 1.41546630859375, 'eval_runtime': 1.0864, 'eval_samples_per_second': 4.602, 'eval_steps_per_second': 0.92, 'epoch': 1.58}\n",
      "{'loss': 1.0895, 'learning_rate': 9.517278466075474e-06, 'epoch': 1.59}\n"
     ]
    },
    {
     "data": {
      "application/vnd.jupyter.widget-view+json": {
       "model_id": "057dda94817c48dc81b8da0d83e7dee4",
       "version_major": 2,
       "version_minor": 0
      },
      "text/plain": [
       "  0%|          | 0/1 [00:00<?, ?it/s]"
      ]
     },
     "metadata": {},
     "output_type": "display_data"
    },
    {
     "name": "stdout",
     "output_type": "stream",
     "text": [
      "{'eval_loss': 1.418289065361023, 'eval_runtime': 1.0915, 'eval_samples_per_second': 4.581, 'eval_steps_per_second': 0.916, 'epoch': 1.59}\n",
      "{'loss': 1.2551, 'learning_rate': 9.450297292830523e-06, 'epoch': 1.6}\n"
     ]
    },
    {
     "data": {
      "application/vnd.jupyter.widget-view+json": {
       "model_id": "c42c7b18ce9d47808b2450b8aec01c41",
       "version_major": 2,
       "version_minor": 0
      },
      "text/plain": [
       "  0%|          | 0/1 [00:00<?, ?it/s]"
      ]
     },
     "metadata": {},
     "output_type": "display_data"
    },
    {
     "name": "stdout",
     "output_type": "stream",
     "text": [
      "{'eval_loss': 1.4191187620162964, 'eval_runtime': 0.9945, 'eval_samples_per_second': 5.028, 'eval_steps_per_second': 1.006, 'epoch': 1.6}\n",
      "{'loss': 1.0739, 'learning_rate': 9.383340847769383e-06, 'epoch': 1.6}\n"
     ]
    },
    {
     "data": {
      "application/vnd.jupyter.widget-view+json": {
       "model_id": "7e415990d8654c18a2189ee2d4d55e66",
       "version_major": 2,
       "version_minor": 0
      },
      "text/plain": [
       "  0%|          | 0/1 [00:00<?, ?it/s]"
      ]
     },
     "metadata": {},
     "output_type": "display_data"
    },
    {
     "name": "stdout",
     "output_type": "stream",
     "text": [
      "{'eval_loss': 1.41947603225708, 'eval_runtime': 1.0926, 'eval_samples_per_second': 4.576, 'eval_steps_per_second': 0.915, 'epoch': 1.6}\n",
      "{'loss': 1.2041, 'learning_rate': 9.3164121429043e-06, 'epoch': 1.61}\n"
     ]
    },
    {
     "data": {
      "application/vnd.jupyter.widget-view+json": {
       "model_id": "684153bcdacd4ca9a9ffa980f54bbddc",
       "version_major": 2,
       "version_minor": 0
      },
      "text/plain": [
       "  0%|          | 0/1 [00:00<?, ?it/s]"
      ]
     },
     "metadata": {},
     "output_type": "display_data"
    },
    {
     "name": "stdout",
     "output_type": "stream",
     "text": [
      "{'eval_loss': 1.4143977165222168, 'eval_runtime': 0.9824, 'eval_samples_per_second': 5.089, 'eval_steps_per_second': 1.018, 'epoch': 1.61}\n",
      "{'loss': 1.0646, 'learning_rate': 9.249514188999615e-06, 'epoch': 1.61}\n"
     ]
    },
    {
     "data": {
      "application/vnd.jupyter.widget-view+json": {
       "model_id": "b8616d9218264bfc8ef8378ef149cd2a",
       "version_major": 2,
       "version_minor": 0
      },
      "text/plain": [
       "  0%|          | 0/1 [00:00<?, ?it/s]"
      ]
     },
     "metadata": {},
     "output_type": "display_data"
    },
    {
     "name": "stdout",
     "output_type": "stream",
     "text": [
      "{'eval_loss': 1.4086552858352661, 'eval_runtime': 1.0911, 'eval_samples_per_second': 4.582, 'eval_steps_per_second': 0.916, 'epoch': 1.61}\n",
      "{'loss': 1.1827, 'learning_rate': 9.182649995436365e-06, 'epoch': 1.62}\n"
     ]
    },
    {
     "data": {
      "application/vnd.jupyter.widget-view+json": {
       "model_id": "0e32e5d9b7e14b3ebb83716d06396b27",
       "version_major": 2,
       "version_minor": 0
      },
      "text/plain": [
       "  0%|          | 0/1 [00:00<?, ?it/s]"
      ]
     },
     "metadata": {},
     "output_type": "display_data"
    },
    {
     "name": "stdout",
     "output_type": "stream",
     "text": [
      "{'eval_loss': 1.4035686254501343, 'eval_runtime': 1.0865, 'eval_samples_per_second': 4.602, 'eval_steps_per_second': 0.92, 'epoch': 1.62}\n",
      "{'loss': 0.9524, 'learning_rate': 9.115822570076896e-06, 'epoch': 1.63}\n"
     ]
    },
    {
     "data": {
      "application/vnd.jupyter.widget-view+json": {
       "model_id": "3350526adc914321ac00533afb00d004",
       "version_major": 2,
       "version_minor": 0
      },
      "text/plain": [
       "  0%|          | 0/1 [00:00<?, ?it/s]"
      ]
     },
     "metadata": {},
     "output_type": "display_data"
    },
    {
     "name": "stdout",
     "output_type": "stream",
     "text": [
      "{'eval_loss': 1.4000192880630493, 'eval_runtime': 1.0288, 'eval_samples_per_second': 4.86, 'eval_steps_per_second': 0.972, 'epoch': 1.63}\n",
      "{'loss': 0.8674, 'learning_rate': 9.049034919129524e-06, 'epoch': 1.63}\n"
     ]
    },
    {
     "data": {
      "application/vnd.jupyter.widget-view+json": {
       "model_id": "8b5c07524af04d738b6b765771d43895",
       "version_major": 2,
       "version_minor": 0
      },
      "text/plain": [
       "  0%|          | 0/1 [00:00<?, ?it/s]"
      ]
     },
     "metadata": {},
     "output_type": "display_data"
    },
    {
     "name": "stdout",
     "output_type": "stream",
     "text": [
      "{'eval_loss': 1.3936936855316162, 'eval_runtime': 1.0227, 'eval_samples_per_second': 4.889, 'eval_steps_per_second': 0.978, 'epoch': 1.63}\n",
      "{'loss': 0.8317, 'learning_rate': 8.98229004701335e-06, 'epoch': 1.64}\n"
     ]
    },
    {
     "data": {
      "application/vnd.jupyter.widget-view+json": {
       "model_id": "508c4d76d2e94970a6840725830662f7",
       "version_major": 2,
       "version_minor": 0
      },
      "text/plain": [
       "  0%|          | 0/1 [00:00<?, ?it/s]"
      ]
     },
     "metadata": {},
     "output_type": "display_data"
    },
    {
     "name": "stdout",
     "output_type": "stream",
     "text": [
      "{'eval_loss': 1.3891435861587524, 'eval_runtime': 0.976, 'eval_samples_per_second': 5.123, 'eval_steps_per_second': 1.025, 'epoch': 1.64}\n",
      "{'loss': 0.8822, 'learning_rate': 8.915590956223081e-06, 'epoch': 1.65}\n"
     ]
    },
    {
     "data": {
      "application/vnd.jupyter.widget-view+json": {
       "model_id": "2044acd935c5478bbf5c6d2ca761e05e",
       "version_major": 2,
       "version_minor": 0
      },
      "text/plain": [
       "  0%|          | 0/1 [00:00<?, ?it/s]"
      ]
     },
     "metadata": {},
     "output_type": "display_data"
    },
    {
     "name": "stdout",
     "output_type": "stream",
     "text": [
      "{'eval_loss': 1.3874361515045166, 'eval_runtime': 0.9915, 'eval_samples_per_second': 5.043, 'eval_steps_per_second': 1.009, 'epoch': 1.65}\n",
      "{'loss': 0.9407, 'learning_rate': 8.848940647193952e-06, 'epoch': 1.65}\n"
     ]
    },
    {
     "data": {
      "application/vnd.jupyter.widget-view+json": {
       "model_id": "4161ed2dff6b40c780140fa36af1a025",
       "version_major": 2,
       "version_minor": 0
      },
      "text/plain": [
       "  0%|          | 0/1 [00:00<?, ?it/s]"
      ]
     },
     "metadata": {},
     "output_type": "display_data"
    },
    {
     "name": "stdout",
     "output_type": "stream",
     "text": [
      "{'eval_loss': 1.388383150100708, 'eval_runtime': 1.0969, 'eval_samples_per_second': 4.558, 'eval_steps_per_second': 0.912, 'epoch': 1.65}\n",
      "{'loss': 1.1155, 'learning_rate': 8.782342118166784e-06, 'epoch': 1.66}\n"
     ]
    },
    {
     "data": {
      "application/vnd.jupyter.widget-view+json": {
       "model_id": "65a045e28e604c4f91132f8b220d2189",
       "version_major": 2,
       "version_minor": 0
      },
      "text/plain": [
       "  0%|          | 0/1 [00:00<?, ?it/s]"
      ]
     },
     "metadata": {},
     "output_type": "display_data"
    },
    {
     "name": "stdout",
     "output_type": "stream",
     "text": [
      "{'eval_loss': 1.3890262842178345, 'eval_runtime': 0.9803, 'eval_samples_per_second': 5.1, 'eval_steps_per_second': 1.02, 'epoch': 1.66}\n",
      "{'loss': 1.0777, 'learning_rate': 8.71579836505309e-06, 'epoch': 1.66}\n"
     ]
    },
    {
     "data": {
      "application/vnd.jupyter.widget-view+json": {
       "model_id": "e109cd05812f4b78b49fc25730d9b49e",
       "version_major": 2,
       "version_minor": 0
      },
      "text/plain": [
       "  0%|          | 0/1 [00:00<?, ?it/s]"
      ]
     },
     "metadata": {},
     "output_type": "display_data"
    },
    {
     "name": "stdout",
     "output_type": "stream",
     "text": [
      "{'eval_loss': 1.3900648355484009, 'eval_runtime': 1.0769, 'eval_samples_per_second': 4.643, 'eval_steps_per_second': 0.929, 'epoch': 1.66}\n",
      "{'loss': 0.7964, 'learning_rate': 8.649312381300297e-06, 'epoch': 1.67}\n"
     ]
    },
    {
     "data": {
      "application/vnd.jupyter.widget-view+json": {
       "model_id": "53431cfc933f4ba1a6e2bf1cc2534cbb",
       "version_major": 2,
       "version_minor": 0
      },
      "text/plain": [
       "  0%|          | 0/1 [00:00<?, ?it/s]"
      ]
     },
     "metadata": {},
     "output_type": "display_data"
    },
    {
     "name": "stdout",
     "output_type": "stream",
     "text": [
      "{'eval_loss': 1.3916683197021484, 'eval_runtime': 0.9744, 'eval_samples_per_second': 5.131, 'eval_steps_per_second': 1.026, 'epoch': 1.67}\n",
      "{'loss': 0.9459, 'learning_rate': 8.58288715775711e-06, 'epoch': 1.68}\n"
     ]
    },
    {
     "data": {
      "application/vnd.jupyter.widget-view+json": {
       "model_id": "8c9d8bf3657c451abd36117817409e1a",
       "version_major": 2,
       "version_minor": 0
      },
      "text/plain": [
       "  0%|          | 0/1 [00:00<?, ?it/s]"
      ]
     },
     "metadata": {},
     "output_type": "display_data"
    },
    {
     "name": "stdout",
     "output_type": "stream",
     "text": [
      "{'eval_loss': 1.396971583366394, 'eval_runtime': 1.0901, 'eval_samples_per_second': 4.587, 'eval_steps_per_second': 0.917, 'epoch': 1.68}\n",
      "{'loss': 1.1347, 'learning_rate': 8.516525682538951e-06, 'epoch': 1.68}\n"
     ]
    },
    {
     "data": {
      "application/vnd.jupyter.widget-view+json": {
       "model_id": "c03b5cbcb23c4ffba2d0785ca6e1cd9b",
       "version_major": 2,
       "version_minor": 0
      },
      "text/plain": [
       "  0%|          | 0/1 [00:00<?, ?it/s]"
      ]
     },
     "metadata": {},
     "output_type": "display_data"
    },
    {
     "name": "stdout",
     "output_type": "stream",
     "text": [
      "{'eval_loss': 1.4000415802001953, 'eval_runtime': 1.0227, 'eval_samples_per_second': 4.889, 'eval_steps_per_second': 0.978, 'epoch': 1.68}\n",
      "{'loss': 1.1125, 'learning_rate': 8.450230940893549e-06, 'epoch': 1.69}\n"
     ]
    },
    {
     "data": {
      "application/vnd.jupyter.widget-view+json": {
       "model_id": "979ce6cce6ed42caa2c76171789ff85a",
       "version_major": 2,
       "version_minor": 0
      },
      "text/plain": [
       "  0%|          | 0/1 [00:00<?, ?it/s]"
      ]
     },
     "metadata": {},
     "output_type": "display_data"
    },
    {
     "name": "stdout",
     "output_type": "stream",
     "text": [
      "{'eval_loss': 1.4026038646697998, 'eval_runtime': 1.081, 'eval_samples_per_second': 4.625, 'eval_steps_per_second': 0.925, 'epoch': 1.69}\n",
      "{'loss': 0.8664, 'learning_rate': 8.384005915066642e-06, 'epoch': 1.7}\n"
     ]
    },
    {
     "data": {
      "application/vnd.jupyter.widget-view+json": {
       "model_id": "980a1c4398974ec8b23870501b7199dc",
       "version_major": 2,
       "version_minor": 0
      },
      "text/plain": [
       "  0%|          | 0/1 [00:00<?, ?it/s]"
      ]
     },
     "metadata": {},
     "output_type": "display_data"
    },
    {
     "name": "stdout",
     "output_type": "stream",
     "text": [
      "{'eval_loss': 1.403929352760315, 'eval_runtime': 1.0694, 'eval_samples_per_second': 4.676, 'eval_steps_per_second': 0.935, 'epoch': 1.7}\n",
      "{'loss': 0.9891, 'learning_rate': 8.317853584167833e-06, 'epoch': 1.7}\n"
     ]
    },
    {
     "data": {
      "application/vnd.jupyter.widget-view+json": {
       "model_id": "a64de202486e49dbb4a381977197ca7c",
       "version_major": 2,
       "version_minor": 0
      },
      "text/plain": [
       "  0%|          | 0/1 [00:00<?, ?it/s]"
      ]
     },
     "metadata": {},
     "output_type": "display_data"
    },
    {
     "name": "stdout",
     "output_type": "stream",
     "text": [
      "{'eval_loss': 1.4046827554702759, 'eval_runtime': 0.9779, 'eval_samples_per_second': 5.113, 'eval_steps_per_second': 1.023, 'epoch': 1.7}\n",
      "{'loss': 0.7963, 'learning_rate': 8.25177692403656e-06, 'epoch': 1.71}\n"
     ]
    },
    {
     "data": {
      "application/vnd.jupyter.widget-view+json": {
       "model_id": "c01c739cb53d4e5d8810d39684b921fe",
       "version_major": 2,
       "version_minor": 0
      },
      "text/plain": [
       "  0%|          | 0/1 [00:00<?, ?it/s]"
      ]
     },
     "metadata": {},
     "output_type": "display_data"
    },
    {
     "name": "stdout",
     "output_type": "stream",
     "text": [
      "{'eval_loss': 1.4058372974395752, 'eval_runtime': 1.0919, 'eval_samples_per_second': 4.579, 'eval_steps_per_second': 0.916, 'epoch': 1.71}\n",
      "{'loss': 0.7781, 'learning_rate': 8.185778907108248e-06, 'epoch': 1.71}\n"
     ]
    },
    {
     "data": {
      "application/vnd.jupyter.widget-view+json": {
       "model_id": "eb3470978c5344cd830deb2eaa5a5aed",
       "version_major": 2,
       "version_minor": 0
      },
      "text/plain": [
       "  0%|          | 0/1 [00:00<?, ?it/s]"
      ]
     },
     "metadata": {},
     "output_type": "display_data"
    },
    {
     "name": "stdout",
     "output_type": "stream",
     "text": [
      "{'eval_loss': 1.4077239036560059, 'eval_runtime': 1.0807, 'eval_samples_per_second': 4.627, 'eval_steps_per_second': 0.925, 'epoch': 1.71}\n",
      "{'loss': 1.0027, 'learning_rate': 8.11986250228058e-06, 'epoch': 1.72}\n"
     ]
    },
    {
     "data": {
      "application/vnd.jupyter.widget-view+json": {
       "model_id": "6324925459e84f8eb76ff4fcc74ff5e1",
       "version_major": 2,
       "version_minor": 0
      },
      "text/plain": [
       "  0%|          | 0/1 [00:00<?, ?it/s]"
      ]
     },
     "metadata": {},
     "output_type": "display_data"
    },
    {
     "name": "stdout",
     "output_type": "stream",
     "text": [
      "{'eval_loss': 1.4114809036254883, 'eval_runtime': 1.0191, 'eval_samples_per_second': 4.906, 'eval_steps_per_second': 0.981, 'epoch': 1.72}\n",
      "{'loss': 1.2933, 'learning_rate': 8.054030674779942e-06, 'epoch': 1.73}\n"
     ]
    },
    {
     "data": {
      "application/vnd.jupyter.widget-view+json": {
       "model_id": "4a292fbc2601418cb73990cac95fbcd1",
       "version_major": 2,
       "version_minor": 0
      },
      "text/plain": [
       "  0%|          | 0/1 [00:00<?, ?it/s]"
      ]
     },
     "metadata": {},
     "output_type": "display_data"
    },
    {
     "name": "stdout",
     "output_type": "stream",
     "text": [
      "{'eval_loss': 1.4139294624328613, 'eval_runtime': 0.986, 'eval_samples_per_second': 5.071, 'eval_steps_per_second': 1.014, 'epoch': 1.73}\n",
      "{'loss': 1.1318, 'learning_rate': 7.98828638602805e-06, 'epoch': 1.73}\n"
     ]
    },
    {
     "data": {
      "application/vnd.jupyter.widget-view+json": {
       "model_id": "6e703ebe9b17468bb9585c54b7b24159",
       "version_major": 2,
       "version_minor": 0
      },
      "text/plain": [
       "  0%|          | 0/1 [00:00<?, ?it/s]"
      ]
     },
     "metadata": {},
     "output_type": "display_data"
    },
    {
     "name": "stdout",
     "output_type": "stream",
     "text": [
      "{'eval_loss': 1.4172484874725342, 'eval_runtime': 1.0885, 'eval_samples_per_second': 4.593, 'eval_steps_per_second': 0.919, 'epoch': 1.73}\n",
      "{'loss': 0.7032, 'learning_rate': 7.922632593508714e-06, 'epoch': 1.74}\n"
     ]
    },
    {
     "data": {
      "application/vnd.jupyter.widget-view+json": {
       "model_id": "899f189e60d84ab9b7ea09060ef0e00c",
       "version_major": 2,
       "version_minor": 0
      },
      "text/plain": [
       "  0%|          | 0/1 [00:00<?, ?it/s]"
      ]
     },
     "metadata": {},
     "output_type": "display_data"
    },
    {
     "name": "stdout",
     "output_type": "stream",
     "text": [
      "{'eval_loss': 1.4205299615859985, 'eval_runtime': 0.9948, 'eval_samples_per_second': 5.026, 'eval_steps_per_second': 1.005, 'epoch': 1.74}\n",
      "{'loss': 1.0389, 'learning_rate': 7.857072250634799e-06, 'epoch': 1.75}\n"
     ]
    },
    {
     "data": {
      "application/vnd.jupyter.widget-view+json": {
       "model_id": "fd028e9e65cd4e12bf5a2bd584439566",
       "version_major": 2,
       "version_minor": 0
      },
      "text/plain": [
       "  0%|          | 0/1 [00:00<?, ?it/s]"
      ]
     },
     "metadata": {},
     "output_type": "display_data"
    },
    {
     "name": "stdout",
     "output_type": "stream",
     "text": [
      "{'eval_loss': 1.4193096160888672, 'eval_runtime': 1.0351, 'eval_samples_per_second': 4.83, 'eval_steps_per_second': 0.966, 'epoch': 1.75}\n",
      "{'loss': 1.1092, 'learning_rate': 7.791608306615377e-06, 'epoch': 1.75}\n"
     ]
    },
    {
     "data": {
      "application/vnd.jupyter.widget-view+json": {
       "model_id": "272b9358df6e43989dc4b601f8cc297a",
       "version_major": 2,
       "version_minor": 0
      },
      "text/plain": [
       "  0%|          | 0/1 [00:00<?, ?it/s]"
      ]
     },
     "metadata": {},
     "output_type": "display_data"
    },
    {
     "name": "stdout",
     "output_type": "stream",
     "text": [
      "{'eval_loss': 1.416553258895874, 'eval_runtime': 0.9822, 'eval_samples_per_second': 5.091, 'eval_steps_per_second': 1.018, 'epoch': 1.75}\n",
      "{'loss': 0.9949, 'learning_rate': 7.72624370632305e-06, 'epoch': 1.76}\n"
     ]
    },
    {
     "data": {
      "application/vnd.jupyter.widget-view+json": {
       "model_id": "efca4d25378f48b49e5fa2afb33597bc",
       "version_major": 2,
       "version_minor": 0
      },
      "text/plain": [
       "  0%|          | 0/1 [00:00<?, ?it/s]"
      ]
     },
     "metadata": {},
     "output_type": "display_data"
    },
    {
     "name": "stdout",
     "output_type": "stream",
     "text": [
      "{'eval_loss': 1.4166232347488403, 'eval_runtime': 1.0882, 'eval_samples_per_second': 4.595, 'eval_steps_per_second': 0.919, 'epoch': 1.76}\n",
      "{'loss': 1.0366, 'learning_rate': 7.660981390161471e-06, 'epoch': 1.76}\n"
     ]
    },
    {
     "data": {
      "application/vnd.jupyter.widget-view+json": {
       "model_id": "c8036551457742d28343587fba1fdff7",
       "version_major": 2,
       "version_minor": 0
      },
      "text/plain": [
       "  0%|          | 0/1 [00:00<?, ?it/s]"
      ]
     },
     "metadata": {},
     "output_type": "display_data"
    },
    {
     "name": "stdout",
     "output_type": "stream",
     "text": [
      "{'eval_loss': 1.4166637659072876, 'eval_runtime': 1.0957, 'eval_samples_per_second': 4.563, 'eval_steps_per_second': 0.913, 'epoch': 1.76}\n",
      "{'loss': 0.7156, 'learning_rate': 7.595824293933085e-06, 'epoch': 1.77}\n"
     ]
    },
    {
     "data": {
      "application/vnd.jupyter.widget-view+json": {
       "model_id": "b4210c2a919a459fa7e025cb36335e88",
       "version_major": 2,
       "version_minor": 0
      },
      "text/plain": [
       "  0%|          | 0/1 [00:00<?, ?it/s]"
      ]
     },
     "metadata": {},
     "output_type": "display_data"
    },
    {
     "name": "stdout",
     "output_type": "stream",
     "text": [
      "{'eval_loss': 1.4130487442016602, 'eval_runtime': 1.0044, 'eval_samples_per_second': 4.978, 'eval_steps_per_second': 0.996, 'epoch': 1.77}\n",
      "{'loss': 0.9926, 'learning_rate': 7.530775348707055e-06, 'epoch': 1.78}\n"
     ]
    },
    {
     "data": {
      "application/vnd.jupyter.widget-view+json": {
       "model_id": "3ba1212d6920472cb48b68b1fb671613",
       "version_major": 2,
       "version_minor": 0
      },
      "text/plain": [
       "  0%|          | 0/1 [00:00<?, ?it/s]"
      ]
     },
     "metadata": {},
     "output_type": "display_data"
    },
    {
     "name": "stdout",
     "output_type": "stream",
     "text": [
      "{'eval_loss': 1.408982753753662, 'eval_runtime': 0.9947, 'eval_samples_per_second': 5.027, 'eval_steps_per_second': 1.005, 'epoch': 1.78}\n",
      "{'loss': 0.9607, 'learning_rate': 7.465837480687399e-06, 'epoch': 1.78}\n"
     ]
    },
    {
     "data": {
      "application/vnd.jupyter.widget-view+json": {
       "model_id": "497dcb8594ab415a98e151a510bec47c",
       "version_major": 2,
       "version_minor": 0
      },
      "text/plain": [
       "  0%|          | 0/1 [00:00<?, ?it/s]"
      ]
     },
     "metadata": {},
     "output_type": "display_data"
    },
    {
     "name": "stdout",
     "output_type": "stream",
     "text": [
      "{'eval_loss': 1.404409408569336, 'eval_runtime': 1.0382, 'eval_samples_per_second': 4.816, 'eval_steps_per_second': 0.963, 'epoch': 1.78}\n",
      "{'loss': 1.0713, 'learning_rate': 7.401013611081378e-06, 'epoch': 1.79}\n"
     ]
    },
    {
     "data": {
      "application/vnd.jupyter.widget-view+json": {
       "model_id": "c8ae298d324c48d089091e23bf4cfd0c",
       "version_major": 2,
       "version_minor": 0
      },
      "text/plain": [
       "  0%|          | 0/1 [00:00<?, ?it/s]"
      ]
     },
     "metadata": {},
     "output_type": "display_data"
    },
    {
     "name": "stdout",
     "output_type": "stream",
     "text": [
      "{'eval_loss': 1.402556300163269, 'eval_runtime': 1.0608, 'eval_samples_per_second': 4.713, 'eval_steps_per_second': 0.943, 'epoch': 1.79}\n",
      "{'loss': 1.1619, 'learning_rate': 7.336306655968069e-06, 'epoch': 1.8}\n"
     ]
    },
    {
     "data": {
      "application/vnd.jupyter.widget-view+json": {
       "model_id": "2dc17fa400234ed28bb69710ce87a086",
       "version_major": 2,
       "version_minor": 0
      },
      "text/plain": [
       "  0%|          | 0/1 [00:00<?, ?it/s]"
      ]
     },
     "metadata": {},
     "output_type": "display_data"
    },
    {
     "name": "stdout",
     "output_type": "stream",
     "text": [
      "{'eval_loss': 1.4017138481140137, 'eval_runtime': 1.079, 'eval_samples_per_second': 4.634, 'eval_steps_per_second': 0.927, 'epoch': 1.8}\n",
      "{'loss': 0.8559, 'learning_rate': 7.271719526167189e-06, 'epoch': 1.8}\n"
     ]
    },
    {
     "data": {
      "application/vnd.jupyter.widget-view+json": {
       "model_id": "7b3ce2d47d72498280c37b2c81e1277b",
       "version_major": 2,
       "version_minor": 0
      },
      "text/plain": [
       "  0%|          | 0/1 [00:00<?, ?it/s]"
      ]
     },
     "metadata": {},
     "output_type": "display_data"
    },
    {
     "name": "stdout",
     "output_type": "stream",
     "text": [
      "{'eval_loss': 1.405207872390747, 'eval_runtime': 1.0237, 'eval_samples_per_second': 4.884, 'eval_steps_per_second': 0.977, 'epoch': 1.8}\n",
      "{'loss': 1.1135, 'learning_rate': 7.207255127108159e-06, 'epoch': 1.81}\n"
     ]
    },
    {
     "data": {
      "application/vnd.jupyter.widget-view+json": {
       "model_id": "7304c15da46c4be7980ad6873c977550",
       "version_major": 2,
       "version_minor": 0
      },
      "text/plain": [
       "  0%|          | 0/1 [00:00<?, ?it/s]"
      ]
     },
     "metadata": {},
     "output_type": "display_data"
    },
    {
     "name": "stdout",
     "output_type": "stream",
     "text": [
      "{'eval_loss': 1.4075253009796143, 'eval_runtime': 1.0777, 'eval_samples_per_second': 4.64, 'eval_steps_per_second': 0.928, 'epoch': 1.81}\n",
      "{'loss': 0.8101, 'learning_rate': 7.142916358699404e-06, 'epoch': 1.81}\n"
     ]
    },
    {
     "data": {
      "application/vnd.jupyter.widget-view+json": {
       "model_id": "8a45d0fa4f17474083440e69792ad431",
       "version_major": 2,
       "version_minor": 0
      },
      "text/plain": [
       "  0%|          | 0/1 [00:00<?, ?it/s]"
      ]
     },
     "metadata": {},
     "output_type": "display_data"
    },
    {
     "name": "stdout",
     "output_type": "stream",
     "text": [
      "{'eval_loss': 1.409855842590332, 'eval_runtime': 0.9719, 'eval_samples_per_second': 5.145, 'eval_steps_per_second': 1.029, 'epoch': 1.81}\n",
      "{'loss': 1.26, 'learning_rate': 7.0787061151978855e-06, 'epoch': 1.82}\n"
     ]
    },
    {
     "data": {
      "application/vnd.jupyter.widget-view+json": {
       "model_id": "7d1475ac8f344e1f9659276f2ee782c4",
       "version_major": 2,
       "version_minor": 0
      },
      "text/plain": [
       "  0%|          | 0/1 [00:00<?, ?it/s]"
      ]
     },
     "metadata": {},
     "output_type": "display_data"
    },
    {
     "name": "stdout",
     "output_type": "stream",
     "text": [
      "{'eval_loss': 1.4110848903656006, 'eval_runtime': 1.0794, 'eval_samples_per_second': 4.632, 'eval_steps_per_second': 0.926, 'epoch': 1.82}\n",
      "{'loss': 0.9592, 'learning_rate': 7.014627285078928e-06, 'epoch': 1.83}\n"
     ]
    },
    {
     "data": {
      "application/vnd.jupyter.widget-view+json": {
       "model_id": "b4ae0d299f2d468e8af69d832e902c12",
       "version_major": 2,
       "version_minor": 0
      },
      "text/plain": [
       "  0%|          | 0/1 [00:00<?, ?it/s]"
      ]
     },
     "metadata": {},
     "output_type": "display_data"
    },
    {
     "name": "stdout",
     "output_type": "stream",
     "text": [
      "{'eval_loss': 1.4125028848648071, 'eval_runtime': 1.0333, 'eval_samples_per_second': 4.839, 'eval_steps_per_second': 0.968, 'epoch': 1.83}\n",
      "{'loss': 0.8096, 'learning_rate': 6.950682750906275e-06, 'epoch': 1.83}\n"
     ]
    },
    {
     "data": {
      "application/vnd.jupyter.widget-view+json": {
       "model_id": "e318c1c4242444fa8b652faaa94df050",
       "version_major": 2,
       "version_minor": 0
      },
      "text/plain": [
       "  0%|          | 0/1 [00:00<?, ?it/s]"
      ]
     },
     "metadata": {},
     "output_type": "display_data"
    },
    {
     "name": "stdout",
     "output_type": "stream",
     "text": [
      "{'eval_loss': 1.4118257761001587, 'eval_runtime': 1.0836, 'eval_samples_per_second': 4.614, 'eval_steps_per_second': 0.923, 'epoch': 1.83}\n",
      "{'loss': 1.0516, 'learning_rate': 6.886875389202399e-06, 'epoch': 1.84}\n"
     ]
    },
    {
     "data": {
      "application/vnd.jupyter.widget-view+json": {
       "model_id": "80ba3ca5ae364bbb97dc68380ffa6e19",
       "version_major": 2,
       "version_minor": 0
      },
      "text/plain": [
       "  0%|          | 0/1 [00:00<?, ?it/s]"
      ]
     },
     "metadata": {},
     "output_type": "display_data"
    },
    {
     "name": "stdout",
     "output_type": "stream",
     "text": [
      "{'eval_loss': 1.4100087881088257, 'eval_runtime': 1.0954, 'eval_samples_per_second': 4.565, 'eval_steps_per_second': 0.913, 'epoch': 1.84}\n",
      "{'loss': 1.1262, 'learning_rate': 6.823208070319124e-06, 'epoch': 1.84}\n"
     ]
    },
    {
     "data": {
      "application/vnd.jupyter.widget-view+json": {
       "model_id": "d3aa5753e193409cbed53b586fa1ab73",
       "version_major": 2,
       "version_minor": 0
      },
      "text/plain": [
       "  0%|          | 0/1 [00:00<?, ?it/s]"
      ]
     },
     "metadata": {},
     "output_type": "display_data"
    },
    {
     "name": "stdout",
     "output_type": "stream",
     "text": [
      "{'eval_loss': 1.408296823501587, 'eval_runtime': 1.0913, 'eval_samples_per_second': 4.582, 'eval_steps_per_second': 0.916, 'epoch': 1.84}\n",
      "{'loss': 1.0242, 'learning_rate': 6.759683658308509e-06, 'epoch': 1.85}\n"
     ]
    },
    {
     "data": {
      "application/vnd.jupyter.widget-view+json": {
       "model_id": "5a84cc58587e4734abb49793cf5b3ebb",
       "version_major": 2,
       "version_minor": 0
      },
      "text/plain": [
       "  0%|          | 0/1 [00:00<?, ?it/s]"
      ]
     },
     "metadata": {},
     "output_type": "display_data"
    },
    {
     "name": "stdout",
     "output_type": "stream",
     "text": [
      "{'eval_loss': 1.4044864177703857, 'eval_runtime': 0.9732, 'eval_samples_per_second': 5.138, 'eval_steps_per_second': 1.028, 'epoch': 1.85}\n",
      "{'loss': 0.6799, 'learning_rate': 6.6963050107939705e-06, 'epoch': 1.86}\n"
     ]
    },
    {
     "data": {
      "application/vnd.jupyter.widget-view+json": {
       "model_id": "da134cd2e1a94eadb84cc83762354c4e",
       "version_major": 2,
       "version_minor": 0
      },
      "text/plain": [
       "  0%|          | 0/1 [00:00<?, ?it/s]"
      ]
     },
     "metadata": {},
     "output_type": "display_data"
    },
    {
     "name": "stdout",
     "output_type": "stream",
     "text": [
      "{'eval_loss': 1.4025285243988037, 'eval_runtime': 1.0866, 'eval_samples_per_second': 4.602, 'eval_steps_per_second': 0.92, 'epoch': 1.86}\n",
      "{'loss': 1.0506, 'learning_rate': 6.633074978841788e-06, 'epoch': 1.86}\n"
     ]
    },
    {
     "data": {
      "application/vnd.jupyter.widget-view+json": {
       "model_id": "11476269996c4e2abe1e0b802ddbd5dc",
       "version_major": 2,
       "version_minor": 0
      },
      "text/plain": [
       "  0%|          | 0/1 [00:00<?, ?it/s]"
      ]
     },
     "metadata": {},
     "output_type": "display_data"
    },
    {
     "name": "stdout",
     "output_type": "stream",
     "text": [
      "{'eval_loss': 1.403306007385254, 'eval_runtime': 1.0022, 'eval_samples_per_second': 4.989, 'eval_steps_per_second': 0.998, 'epoch': 1.86}\n",
      "{'loss': 0.992, 'learning_rate': 6.56999640683281e-06, 'epoch': 1.87}\n"
     ]
    },
    {
     "data": {
      "application/vnd.jupyter.widget-view+json": {
       "model_id": "54ba9c9852be4a16a78960cd82f9290e",
       "version_major": 2,
       "version_minor": 0
      },
      "text/plain": [
       "  0%|          | 0/1 [00:00<?, ?it/s]"
      ]
     },
     "metadata": {},
     "output_type": "display_data"
    },
    {
     "name": "stdout",
     "output_type": "stream",
     "text": [
      "{'eval_loss': 1.4057178497314453, 'eval_runtime': 1.0778, 'eval_samples_per_second': 4.639, 'eval_steps_per_second': 0.928, 'epoch': 1.87}\n",
      "{'loss': 0.7451, 'learning_rate': 6.507072132334502e-06, 'epoch': 1.88}\n"
     ]
    },
    {
     "data": {
      "application/vnd.jupyter.widget-view+json": {
       "model_id": "d24bc0b3c7204e2eb0fc8497b1c9bb45",
       "version_major": 2,
       "version_minor": 0
      },
      "text/plain": [
       "  0%|          | 0/1 [00:00<?, ?it/s]"
      ]
     },
     "metadata": {},
     "output_type": "display_data"
    },
    {
     "name": "stdout",
     "output_type": "stream",
     "text": [
      "{'eval_loss': 1.4075323343276978, 'eval_runtime': 1.0645, 'eval_samples_per_second': 4.697, 'eval_steps_per_second': 0.939, 'epoch': 1.88}\n",
      "{'loss': 0.7043, 'learning_rate': 6.444304985973329e-06, 'epoch': 1.88}\n"
     ]
    },
    {
     "data": {
      "application/vnd.jupyter.widget-view+json": {
       "model_id": "ccbae06260e64076b7330dcaaf2b77c3",
       "version_major": 2,
       "version_minor": 0
      },
      "text/plain": [
       "  0%|          | 0/1 [00:00<?, ?it/s]"
      ]
     },
     "metadata": {},
     "output_type": "display_data"
    },
    {
     "name": "stdout",
     "output_type": "stream",
     "text": [
      "{'eval_loss': 1.4082764387130737, 'eval_runtime': 0.9663, 'eval_samples_per_second': 5.175, 'eval_steps_per_second': 1.035, 'epoch': 1.88}\n",
      "{'loss': 0.9484, 'learning_rate': 6.381697791307394e-06, 'epoch': 1.89}\n"
     ]
    },
    {
     "data": {
      "application/vnd.jupyter.widget-view+json": {
       "model_id": "0001c84feadf48f495eee56e15b742a8",
       "version_major": 2,
       "version_minor": 0
      },
      "text/plain": [
       "  0%|          | 0/1 [00:00<?, ?it/s]"
      ]
     },
     "metadata": {},
     "output_type": "display_data"
    },
    {
     "name": "stdout",
     "output_type": "stream",
     "text": [
      "{'eval_loss': 1.4102715253829956, 'eval_runtime': 0.9796, 'eval_samples_per_second': 5.104, 'eval_steps_per_second': 1.021, 'epoch': 1.89}\n",
      "{'loss': 1.1098, 'learning_rate': 6.319253364699419e-06, 'epoch': 1.89}\n"
     ]
    },
    {
     "data": {
      "application/vnd.jupyter.widget-view+json": {
       "model_id": "7bdac46105c44c938ac5f98230a3c688",
       "version_major": 2,
       "version_minor": 0
      },
      "text/plain": [
       "  0%|          | 0/1 [00:00<?, ?it/s]"
      ]
     },
     "metadata": {},
     "output_type": "display_data"
    },
    {
     "name": "stdout",
     "output_type": "stream",
     "text": [
      "{'eval_loss': 1.4110969305038452, 'eval_runtime': 1.0971, 'eval_samples_per_second': 4.557, 'eval_steps_per_second': 0.911, 'epoch': 1.89}\n",
      "{'loss': 1.1356, 'learning_rate': 6.25697451519008e-06, 'epoch': 1.9}\n"
     ]
    },
    {
     "data": {
      "application/vnd.jupyter.widget-view+json": {
       "model_id": "53dd8763c84f44d382179186bd8cd6f3",
       "version_major": 2,
       "version_minor": 0
      },
      "text/plain": [
       "  0%|          | 0/1 [00:00<?, ?it/s]"
      ]
     },
     "metadata": {},
     "output_type": "display_data"
    },
    {
     "name": "stdout",
     "output_type": "stream",
     "text": [
      "{'eval_loss': 1.4106968641281128, 'eval_runtime': 1.0728, 'eval_samples_per_second': 4.661, 'eval_steps_per_second': 0.932, 'epoch': 1.9}\n",
      "{'loss': 0.7968, 'learning_rate': 6.194864044371614e-06, 'epoch': 1.91}\n"
     ]
    },
    {
     "data": {
      "application/vnd.jupyter.widget-view+json": {
       "model_id": "485fc37088ac49be80fb24f303e10f0e",
       "version_major": 2,
       "version_minor": 0
      },
      "text/plain": [
       "  0%|          | 0/1 [00:00<?, ?it/s]"
      ]
     },
     "metadata": {},
     "output_type": "display_data"
    },
    {
     "name": "stdout",
     "output_type": "stream",
     "text": [
      "{'eval_loss': 1.4106745719909668, 'eval_runtime': 1.0654, 'eval_samples_per_second': 4.693, 'eval_steps_per_second': 0.939, 'epoch': 1.91}\n",
      "{'loss': 1.2059, 'learning_rate': 6.132924746261802e-06, 'epoch': 1.91}\n"
     ]
    },
    {
     "data": {
      "application/vnd.jupyter.widget-view+json": {
       "model_id": "0d7a0ad086c74b008abe341f40713dde",
       "version_major": 2,
       "version_minor": 0
      },
      "text/plain": [
       "  0%|          | 0/1 [00:00<?, ?it/s]"
      ]
     },
     "metadata": {},
     "output_type": "display_data"
    },
    {
     "name": "stdout",
     "output_type": "stream",
     "text": [
      "{'eval_loss': 1.410481572151184, 'eval_runtime': 0.9973, 'eval_samples_per_second': 5.013, 'eval_steps_per_second': 1.003, 'epoch': 1.91}\n",
      "{'loss': 1.1356, 'learning_rate': 6.071159407178282e-06, 'epoch': 1.92}\n"
     ]
    },
    {
     "data": {
      "application/vnd.jupyter.widget-view+json": {
       "model_id": "8a8e9c36b2ef4789a2b933aa569344a0",
       "version_major": 2,
       "version_minor": 0
      },
      "text/plain": [
       "  0%|          | 0/1 [00:00<?, ?it/s]"
      ]
     },
     "metadata": {},
     "output_type": "display_data"
    },
    {
     "name": "stdout",
     "output_type": "stream",
     "text": [
      "{'eval_loss': 1.4111816883087158, 'eval_runtime': 1.0463, 'eval_samples_per_second': 4.779, 'eval_steps_per_second': 0.956, 'epoch': 1.92}\n",
      "{'loss': 1.0667, 'learning_rate': 6.009570805613211e-06, 'epoch': 1.93}\n"
     ]
    },
    {
     "data": {
      "application/vnd.jupyter.widget-view+json": {
       "model_id": "44e26309e4364cbfb4febd3b9e34005c",
       "version_major": 2,
       "version_minor": 0
      },
      "text/plain": [
       "  0%|          | 0/1 [00:00<?, ?it/s]"
      ]
     },
     "metadata": {},
     "output_type": "display_data"
    },
    {
     "name": "stdout",
     "output_type": "stream",
     "text": [
      "{'eval_loss': 1.4098402261734009, 'eval_runtime': 0.9996, 'eval_samples_per_second': 5.002, 'eval_steps_per_second': 1.0, 'epoch': 1.93}\n",
      "{'loss': 1.1734, 'learning_rate': 5.94816171210826e-06, 'epoch': 1.93}\n"
     ]
    },
    {
     "data": {
      "application/vnd.jupyter.widget-view+json": {
       "model_id": "c2adaa187b694e5480b717c78d5de6e7",
       "version_major": 2,
       "version_minor": 0
      },
      "text/plain": [
       "  0%|          | 0/1 [00:00<?, ?it/s]"
      ]
     },
     "metadata": {},
     "output_type": "display_data"
    },
    {
     "name": "stdout",
     "output_type": "stream",
     "text": [
      "{'eval_loss': 1.4074913263320923, 'eval_runtime': 0.9884, 'eval_samples_per_second': 5.059, 'eval_steps_per_second': 1.012, 'epoch': 1.93}\n",
      "{'loss': 0.9053, 'learning_rate': 5.886934889130003e-06, 'epoch': 1.94}\n"
     ]
    },
    {
     "data": {
      "application/vnd.jupyter.widget-view+json": {
       "model_id": "094bda1ec92c407187a0286ab1e8c313",
       "version_major": 2,
       "version_minor": 0
      },
      "text/plain": [
       "  0%|          | 0/1 [00:00<?, ?it/s]"
      ]
     },
     "metadata": {},
     "output_type": "display_data"
    },
    {
     "name": "stdout",
     "output_type": "stream",
     "text": [
      "{'eval_loss': 1.407052993774414, 'eval_runtime': 1.0399, 'eval_samples_per_second': 4.808, 'eval_steps_per_second': 0.962, 'epoch': 1.94}\n",
      "{'loss': 1.3082, 'learning_rate': 5.825893090945636e-06, 'epoch': 1.94}\n"
     ]
    },
    {
     "data": {
      "application/vnd.jupyter.widget-view+json": {
       "model_id": "86cc82fa791e4bb19b2356f8e44f717a",
       "version_major": 2,
       "version_minor": 0
      },
      "text/plain": [
       "  0%|          | 0/1 [00:00<?, ?it/s]"
      ]
     },
     "metadata": {},
     "output_type": "display_data"
    },
    {
     "name": "stdout",
     "output_type": "stream",
     "text": [
      "{'eval_loss': 1.4061154127120972, 'eval_runtime': 0.9814, 'eval_samples_per_second': 5.095, 'eval_steps_per_second': 1.019, 'epoch': 1.94}\n",
      "{'loss': 0.9878, 'learning_rate': 5.765039063499067e-06, 'epoch': 1.95}\n"
     ]
    },
    {
     "data": {
      "application/vnd.jupyter.widget-view+json": {
       "model_id": "eca9bdc4fe6046a4bc26a3b0378e454c",
       "version_major": 2,
       "version_minor": 0
      },
      "text/plain": [
       "  0%|          | 0/1 [00:00<?, ?it/s]"
      ]
     },
     "metadata": {},
     "output_type": "display_data"
    },
    {
     "name": "stdout",
     "output_type": "stream",
     "text": [
      "{'eval_loss': 1.4042011499404907, 'eval_runtime': 0.9816, 'eval_samples_per_second': 5.094, 'eval_steps_per_second': 1.019, 'epoch': 1.95}\n",
      "{'loss': 0.903, 'learning_rate': 5.704375544287424e-06, 'epoch': 1.96}\n"
     ]
    },
    {
     "data": {
      "application/vnd.jupyter.widget-view+json": {
       "model_id": "f8288be0aeb24e469ed3eb57e1860bbe",
       "version_major": 2,
       "version_minor": 0
      },
      "text/plain": [
       "  0%|          | 0/1 [00:00<?, ?it/s]"
      ]
     },
     "metadata": {},
     "output_type": "display_data"
    },
    {
     "name": "stdout",
     "output_type": "stream",
     "text": [
      "{'eval_loss': 1.401579737663269, 'eval_runtime': 1.0873, 'eval_samples_per_second': 4.598, 'eval_steps_per_second': 0.92, 'epoch': 1.96}\n",
      "{'loss': 1.0473, 'learning_rate': 5.643905262237881e-06, 'epoch': 1.96}\n"
     ]
    },
    {
     "data": {
      "application/vnd.jupyter.widget-view+json": {
       "model_id": "b46afd91f41f4613ae8d4b6ad2e63ce8",
       "version_major": 2,
       "version_minor": 0
      },
      "text/plain": [
       "  0%|          | 0/1 [00:00<?, ?it/s]"
      ]
     },
     "metadata": {},
     "output_type": "display_data"
    },
    {
     "name": "stdout",
     "output_type": "stream",
     "text": [
      "{'eval_loss': 1.3993839025497437, 'eval_runtime': 0.9747, 'eval_samples_per_second': 5.13, 'eval_steps_per_second': 1.026, 'epoch': 1.96}\n",
      "{'loss': 0.8369, 'learning_rate': 5.58363093758489e-06, 'epoch': 1.97}\n"
     ]
    },
    {
     "data": {
      "application/vnd.jupyter.widget-view+json": {
       "model_id": "a9d1c3130339444ca4e88bf566e29f48",
       "version_major": 2,
       "version_minor": 0
      },
      "text/plain": [
       "  0%|          | 0/1 [00:00<?, ?it/s]"
      ]
     },
     "metadata": {},
     "output_type": "display_data"
    },
    {
     "name": "stdout",
     "output_type": "stream",
     "text": [
      "{'eval_loss': 1.3987492322921753, 'eval_runtime': 1.0927, 'eval_samples_per_second': 4.576, 'eval_steps_per_second': 0.915, 'epoch': 1.97}\n",
      "{'loss': 0.7455, 'learning_rate': 5.52355528174785e-06, 'epoch': 1.98}\n"
     ]
    },
    {
     "data": {
      "application/vnd.jupyter.widget-view+json": {
       "model_id": "c5f804b0b4804e72ba2f88846312e095",
       "version_major": 2,
       "version_minor": 0
      },
      "text/plain": [
       "  0%|          | 0/1 [00:00<?, ?it/s]"
      ]
     },
     "metadata": {},
     "output_type": "display_data"
    },
    {
     "name": "stdout",
     "output_type": "stream",
     "text": [
      "{'eval_loss': 1.399860143661499, 'eval_runtime': 0.9757, 'eval_samples_per_second': 5.125, 'eval_steps_per_second': 1.025, 'epoch': 1.98}\n",
      "{'loss': 0.8768, 'learning_rate': 5.46368099720911e-06, 'epoch': 1.98}\n"
     ]
    },
    {
     "data": {
      "application/vnd.jupyter.widget-view+json": {
       "model_id": "cafe014081c94b93afff48956db46865",
       "version_major": 2,
       "version_minor": 0
      },
      "text/plain": [
       "  0%|          | 0/1 [00:00<?, ?it/s]"
      ]
     },
     "metadata": {},
     "output_type": "display_data"
    },
    {
     "name": "stdout",
     "output_type": "stream",
     "text": [
      "{'eval_loss': 1.401487112045288, 'eval_runtime': 0.9712, 'eval_samples_per_second': 5.148, 'eval_steps_per_second': 1.03, 'epoch': 1.98}\n",
      "{'loss': 0.889, 'learning_rate': 5.404010777392381e-06, 'epoch': 1.99}\n"
     ]
    },
    {
     "data": {
      "application/vnd.jupyter.widget-view+json": {
       "model_id": "2d9dc45aff3244bf8e726b9b8524182c",
       "version_major": 2,
       "version_minor": 0
      },
      "text/plain": [
       "  0%|          | 0/1 [00:00<?, ?it/s]"
      ]
     },
     "metadata": {},
     "output_type": "display_data"
    },
    {
     "name": "stdout",
     "output_type": "stream",
     "text": [
      "{'eval_loss': 1.4021739959716797, 'eval_runtime': 1.0208, 'eval_samples_per_second': 4.898, 'eval_steps_per_second': 0.98, 'epoch': 1.99}\n",
      "{'loss': 1.0272, 'learning_rate': 5.344547306541619e-06, 'epoch': 1.99}\n"
     ]
    },
    {
     "data": {
      "application/vnd.jupyter.widget-view+json": {
       "model_id": "a2d4283d13704b9d9cb4da4afd0b8f43",
       "version_major": 2,
       "version_minor": 0
      },
      "text/plain": [
       "  0%|          | 0/1 [00:00<?, ?it/s]"
      ]
     },
     "metadata": {},
     "output_type": "display_data"
    },
    {
     "name": "stdout",
     "output_type": "stream",
     "text": [
      "{'eval_loss': 1.403574824333191, 'eval_runtime': 0.9927, 'eval_samples_per_second': 5.037, 'eval_steps_per_second': 1.007, 'epoch': 1.99}\n",
      "{'loss': 1.1686, 'learning_rate': 5.285293259600243e-06, 'epoch': 2.0}\n"
     ]
    },
    {
     "data": {
      "application/vnd.jupyter.widget-view+json": {
       "model_id": "615183853f7f4cb0b470ed91b9e01d7a",
       "version_major": 2,
       "version_minor": 0
      },
      "text/plain": [
       "  0%|          | 0/1 [00:00<?, ?it/s]"
      ]
     },
     "metadata": {},
     "output_type": "display_data"
    },
    {
     "name": "stdout",
     "output_type": "stream",
     "text": [
      "{'eval_loss': 1.4060789346694946, 'eval_runtime': 1.0797, 'eval_samples_per_second': 4.631, 'eval_steps_per_second': 0.926, 'epoch': 2.0}\n"
     ]
    },
    {
     "name": "stderr",
     "output_type": "stream",
     "text": [
      "/home/pechaut/miniconda3/envs/cairo-llm/lib/python3.9/site-packages/torch/utils/checkpoint.py:429: UserWarning: torch.utils.checkpoint: please pass in use_reentrant=True or use_reentrant=False explicitly. The default value of use_reentrant will be updated to be False in the future. To maintain current behavior, pass use_reentrant=True. It is recommended that you use use_reentrant=False. Refer to docs for more details on the differences between the two variants.\n",
      "  warnings.warn(\n"
     ]
    },
    {
     "name": "stdout",
     "output_type": "stream",
     "text": [
      "{'loss': 0.8942, 'learning_rate': 5.226251302090797e-06, 'epoch': 2.01}\n"
     ]
    },
    {
     "data": {
      "application/vnd.jupyter.widget-view+json": {
       "model_id": "f499cf29ed2a44498d2a9451a328bdf2",
       "version_major": 2,
       "version_minor": 0
      },
      "text/plain": [
       "  0%|          | 0/1 [00:00<?, ?it/s]"
      ]
     },
     "metadata": {},
     "output_type": "display_data"
    },
    {
     "name": "stdout",
     "output_type": "stream",
     "text": [
      "{'eval_loss': 1.4076279401779175, 'eval_runtime': 0.9764, 'eval_samples_per_second': 5.121, 'eval_steps_per_second': 1.024, 'epoch': 2.01}\n",
      "{'loss': 0.6767, 'learning_rate': 5.167424089995073e-06, 'epoch': 2.01}\n"
     ]
    },
    {
     "data": {
      "application/vnd.jupyter.widget-view+json": {
       "model_id": "612f4f6085a746548af78cc1d6b0513b",
       "version_major": 2,
       "version_minor": 0
      },
      "text/plain": [
       "  0%|          | 0/1 [00:00<?, ?it/s]"
      ]
     },
     "metadata": {},
     "output_type": "display_data"
    },
    {
     "name": "stdout",
     "output_type": "stream",
     "text": [
      "{'eval_loss': 1.408293604850769, 'eval_runtime': 1.0876, 'eval_samples_per_second': 4.597, 'eval_steps_per_second': 0.919, 'epoch': 2.01}\n",
      "{'loss': 0.5968, 'learning_rate': 5.1088142696346124e-06, 'epoch': 2.02}\n"
     ]
    },
    {
     "data": {
      "application/vnd.jupyter.widget-view+json": {
       "model_id": "8be3d6177b1547839ceb70a62a42f80b",
       "version_major": 2,
       "version_minor": 0
      },
      "text/plain": [
       "  0%|          | 0/1 [00:00<?, ?it/s]"
      ]
     },
     "metadata": {},
     "output_type": "display_data"
    },
    {
     "name": "stdout",
     "output_type": "stream",
     "text": [
      "{'eval_loss': 1.4082757234573364, 'eval_runtime': 1.0757, 'eval_samples_per_second': 4.648, 'eval_steps_per_second': 0.93, 'epoch': 2.02}\n",
      "{'loss': 0.8588, 'learning_rate': 5.0504244775516596e-06, 'epoch': 2.02}\n"
     ]
    },
    {
     "data": {
      "application/vnd.jupyter.widget-view+json": {
       "model_id": "dd12874fa77e4c9ea253a86296deb462",
       "version_major": 2,
       "version_minor": 0
      },
      "text/plain": [
       "  0%|          | 0/1 [00:00<?, ?it/s]"
      ]
     },
     "metadata": {},
     "output_type": "display_data"
    },
    {
     "name": "stdout",
     "output_type": "stream",
     "text": [
      "{'eval_loss': 1.4084057807922363, 'eval_runtime': 1.025, 'eval_samples_per_second': 4.878, 'eval_steps_per_second': 0.976, 'epoch': 2.02}\n",
      "{'loss': 0.8567, 'learning_rate': 4.992257340390564e-06, 'epoch': 2.03}\n"
     ]
    },
    {
     "data": {
      "application/vnd.jupyter.widget-view+json": {
       "model_id": "a829cf7f03344914a7fe464941415d0b",
       "version_major": 2,
       "version_minor": 0
      },
      "text/plain": [
       "  0%|          | 0/1 [00:00<?, ?it/s]"
      ]
     },
     "metadata": {},
     "output_type": "display_data"
    },
    {
     "name": "stdout",
     "output_type": "stream",
     "text": [
      "{'eval_loss': 1.4102401733398438, 'eval_runtime': 0.987, 'eval_samples_per_second': 5.066, 'eval_steps_per_second': 1.013, 'epoch': 2.03}\n",
      "{'loss': 0.5956, 'learning_rate': 4.9343154747796315e-06, 'epoch': 2.04}\n"
     ]
    },
    {
     "data": {
      "application/vnd.jupyter.widget-view+json": {
       "model_id": "998db29da23a44cbbda6cfa40b3c9fc7",
       "version_major": 2,
       "version_minor": 0
      },
      "text/plain": [
       "  0%|          | 0/1 [00:00<?, ?it/s]"
      ]
     },
     "metadata": {},
     "output_type": "display_data"
    },
    {
     "name": "stdout",
     "output_type": "stream",
     "text": [
      "{'eval_loss': 1.4135726690292358, 'eval_runtime': 1.0531, 'eval_samples_per_second': 4.748, 'eval_steps_per_second': 0.95, 'epoch': 2.04}\n",
      "{'loss': 0.757, 'learning_rate': 4.876601487213397e-06, 'epoch': 2.04}\n"
     ]
    },
    {
     "data": {
      "application/vnd.jupyter.widget-view+json": {
       "model_id": "c316c2026ddc443eb9220797ee0a394c",
       "version_major": 2,
       "version_minor": 0
      },
      "text/plain": [
       "  0%|          | 0/1 [00:00<?, ?it/s]"
      ]
     },
     "metadata": {},
     "output_type": "display_data"
    },
    {
     "name": "stdout",
     "output_type": "stream",
     "text": [
      "{'eval_loss': 1.4168967008590698, 'eval_runtime': 0.9811, 'eval_samples_per_second': 5.096, 'eval_steps_per_second': 1.019, 'epoch': 2.04}\n",
      "{'loss': 0.862, 'learning_rate': 4.819117973935377e-06, 'epoch': 2.05}\n"
     ]
    },
    {
     "data": {
      "application/vnd.jupyter.widget-view+json": {
       "model_id": "fd657c85bc36462babcbf997a89071fd",
       "version_major": 2,
       "version_minor": 0
      },
      "text/plain": [
       "  0%|          | 0/1 [00:00<?, ?it/s]"
      ]
     },
     "metadata": {},
     "output_type": "display_data"
    },
    {
     "name": "stdout",
     "output_type": "stream",
     "text": [
      "{'eval_loss': 1.4160550832748413, 'eval_runtime': 0.9699, 'eval_samples_per_second': 5.155, 'eval_steps_per_second': 1.031, 'epoch': 2.05}\n",
      "{'loss': 0.6203, 'learning_rate': 4.761867520821298e-06, 'epoch': 2.06}\n"
     ]
    },
    {
     "data": {
      "application/vnd.jupyter.widget-view+json": {
       "model_id": "c246b783e6b1493087716ae2f0970d5c",
       "version_major": 2,
       "version_minor": 0
      },
      "text/plain": [
       "  0%|          | 0/1 [00:00<?, ?it/s]"
      ]
     },
     "metadata": {},
     "output_type": "display_data"
    },
    {
     "name": "stdout",
     "output_type": "stream",
     "text": [
      "{'eval_loss': 1.415329933166504, 'eval_runtime': 1.089, 'eval_samples_per_second': 4.591, 'eval_steps_per_second': 0.918, 'epoch': 2.06}\n",
      "{'loss': 0.9204, 'learning_rate': 4.704852703262746e-06, 'epoch': 2.06}\n"
     ]
    },
    {
     "data": {
      "application/vnd.jupyter.widget-view+json": {
       "model_id": "2c5f529063ab4a5e8ffbb2abf57b8d35",
       "version_major": 2,
       "version_minor": 0
      },
      "text/plain": [
       "  0%|          | 0/1 [00:00<?, ?it/s]"
      ]
     },
     "metadata": {},
     "output_type": "display_data"
    },
    {
     "name": "stdout",
     "output_type": "stream",
     "text": [
      "{'eval_loss': 1.414621353149414, 'eval_runtime': 1.0897, 'eval_samples_per_second': 4.588, 'eval_steps_per_second': 0.918, 'epoch': 2.06}\n",
      "{'loss': 0.7921, 'learning_rate': 4.648076086051319e-06, 'epoch': 2.07}\n"
     ]
    },
    {
     "data": {
      "application/vnd.jupyter.widget-view+json": {
       "model_id": "f899c839240f4963b0a94213a6bd7812",
       "version_major": 2,
       "version_minor": 0
      },
      "text/plain": [
       "  0%|          | 0/1 [00:00<?, ?it/s]"
      ]
     },
     "metadata": {},
     "output_type": "display_data"
    },
    {
     "name": "stdout",
     "output_type": "stream",
     "text": [
      "{'eval_loss': 1.4122353792190552, 'eval_runtime': 1.0972, 'eval_samples_per_second': 4.557, 'eval_steps_per_second': 0.911, 'epoch': 2.07}\n",
      "{'loss': 0.6917, 'learning_rate': 4.591540223263272e-06, 'epoch': 2.07}\n"
     ]
    },
    {
     "data": {
      "application/vnd.jupyter.widget-view+json": {
       "model_id": "65f865cccbcd41c2bb9a1e64ae8a69c6",
       "version_major": 2,
       "version_minor": 0
      },
      "text/plain": [
       "  0%|          | 0/1 [00:00<?, ?it/s]"
      ]
     },
     "metadata": {},
     "output_type": "display_data"
    },
    {
     "name": "stdout",
     "output_type": "stream",
     "text": [
      "{'eval_loss': 1.4074933528900146, 'eval_runtime': 1.0704, 'eval_samples_per_second': 4.671, 'eval_steps_per_second': 0.934, 'epoch': 2.07}\n",
      "{'loss': 0.5652, 'learning_rate': 4.5352476581445945e-06, 'epoch': 2.08}\n"
     ]
    },
    {
     "data": {
      "application/vnd.jupyter.widget-view+json": {
       "model_id": "6b9be5ede6b34492b27aa41424be0264",
       "version_major": 2,
       "version_minor": 0
      },
      "text/plain": [
       "  0%|          | 0/1 [00:00<?, ?it/s]"
      ]
     },
     "metadata": {},
     "output_type": "display_data"
    },
    {
     "name": "stdout",
     "output_type": "stream",
     "text": [
      "{'eval_loss': 1.4044829607009888, 'eval_runtime': 1.0772, 'eval_samples_per_second': 4.642, 'eval_steps_per_second': 0.928, 'epoch': 2.08}\n",
      "{'loss': 0.8806, 'learning_rate': 4.479200922996614e-06, 'epoch': 2.09}\n"
     ]
    },
    {
     "data": {
      "application/vnd.jupyter.widget-view+json": {
       "model_id": "539a4f7c66714cb7a16fcbffc6f6431b",
       "version_major": 2,
       "version_minor": 0
      },
      "text/plain": [
       "  0%|          | 0/1 [00:00<?, ?it/s]"
      ]
     },
     "metadata": {},
     "output_type": "display_data"
    },
    {
     "name": "stdout",
     "output_type": "stream",
     "text": [
      "{'eval_loss': 1.400391697883606, 'eval_runtime': 1.0595, 'eval_samples_per_second': 4.719, 'eval_steps_per_second': 0.944, 'epoch': 2.09}\n",
      "{'loss': 0.7212, 'learning_rate': 4.423402539062094e-06, 'epoch': 2.09}\n"
     ]
    },
    {
     "data": {
      "application/vnd.jupyter.widget-view+json": {
       "model_id": "2d3dd40fd6134307be02d939475c143e",
       "version_major": 2,
       "version_minor": 0
      },
      "text/plain": [
       "  0%|          | 0/1 [00:00<?, ?it/s]"
      ]
     },
     "metadata": {},
     "output_type": "display_data"
    },
    {
     "name": "stdout",
     "output_type": "stream",
     "text": [
      "{'eval_loss': 1.3974095582962036, 'eval_runtime': 1.0093, 'eval_samples_per_second': 4.954, 'eval_steps_per_second': 0.991, 'epoch': 2.09}\n",
      "{'loss': 0.8111, 'learning_rate': 4.367855016411795e-06, 'epoch': 2.1}\n"
     ]
    },
    {
     "data": {
      "application/vnd.jupyter.widget-view+json": {
       "model_id": "7b6d1390ed3d4f6e8b4c78308d45b899",
       "version_major": 2,
       "version_minor": 0
      },
      "text/plain": [
       "  0%|          | 0/1 [00:00<?, ?it/s]"
      ]
     },
     "metadata": {},
     "output_type": "display_data"
    },
    {
     "name": "stdout",
     "output_type": "stream",
     "text": [
      "{'eval_loss': 1.395443081855774, 'eval_runtime': 1.0264, 'eval_samples_per_second': 4.871, 'eval_steps_per_second': 0.974, 'epoch': 2.1}\n",
      "{'loss': 0.6394, 'learning_rate': 4.312560853831572e-06, 'epoch': 2.11}\n"
     ]
    },
    {
     "data": {
      "application/vnd.jupyter.widget-view+json": {
       "model_id": "5613665982b34b8895ef4ae11a64b4b8",
       "version_major": 2,
       "version_minor": 0
      },
      "text/plain": [
       "  0%|          | 0/1 [00:00<?, ?it/s]"
      ]
     },
     "metadata": {},
     "output_type": "display_data"
    },
    {
     "name": "stdout",
     "output_type": "stream",
     "text": [
      "{'eval_loss': 1.3931056261062622, 'eval_runtime': 1.0918, 'eval_samples_per_second': 4.58, 'eval_steps_per_second': 0.916, 'epoch': 2.11}\n",
      "{'loss': 0.9279, 'learning_rate': 4.257522538709975e-06, 'epoch': 2.11}\n"
     ]
    },
    {
     "data": {
      "application/vnd.jupyter.widget-view+json": {
       "model_id": "a823aa3a07404613ba386c276f5fc395",
       "version_major": 2,
       "version_minor": 0
      },
      "text/plain": [
       "  0%|          | 0/1 [00:00<?, ?it/s]"
      ]
     },
     "metadata": {},
     "output_type": "display_data"
    },
    {
     "name": "stdout",
     "output_type": "stream",
     "text": [
      "{'eval_loss': 1.3904080390930176, 'eval_runtime': 1.0369, 'eval_samples_per_second': 4.822, 'eval_steps_per_second': 0.964, 'epoch': 2.11}\n",
      "{'loss': 0.619, 'learning_rate': 4.202742546926335e-06, 'epoch': 2.12}\n"
     ]
    },
    {
     "data": {
      "application/vnd.jupyter.widget-view+json": {
       "model_id": "5c7c3edbad014b52872fe62abeeb956c",
       "version_major": 2,
       "version_minor": 0
      },
      "text/plain": [
       "  0%|          | 0/1 [00:00<?, ?it/s]"
      ]
     },
     "metadata": {},
     "output_type": "display_data"
    },
    {
     "name": "stdout",
     "output_type": "stream",
     "text": [
      "{'eval_loss': 1.3882348537445068, 'eval_runtime': 1.0357, 'eval_samples_per_second': 4.828, 'eval_steps_per_second': 0.966, 'epoch': 2.12}\n",
      "{'loss': 0.8465, 'learning_rate': 4.1482233427393985e-06, 'epoch': 2.12}\n"
     ]
    },
    {
     "data": {
      "application/vnd.jupyter.widget-view+json": {
       "model_id": "e2369177a8b348ffa156d17d115a67c7",
       "version_major": 2,
       "version_minor": 0
      },
      "text/plain": [
       "  0%|          | 0/1 [00:00<?, ?it/s]"
      ]
     },
     "metadata": {},
     "output_type": "display_data"
    },
    {
     "name": "stdout",
     "output_type": "stream",
     "text": [
      "{'eval_loss': 1.3864129781723022, 'eval_runtime': 1.0761, 'eval_samples_per_second': 4.647, 'eval_steps_per_second': 0.929, 'epoch': 2.12}\n",
      "{'loss': 0.6146, 'learning_rate': 4.093967378676485e-06, 'epoch': 2.13}\n"
     ]
    },
    {
     "data": {
      "application/vnd.jupyter.widget-view+json": {
       "model_id": "60f39ff0dc3c4205a03061867d35c2ea",
       "version_major": 2,
       "version_minor": 0
      },
      "text/plain": [
       "  0%|          | 0/1 [00:00<?, ?it/s]"
      ]
     },
     "metadata": {},
     "output_type": "display_data"
    },
    {
     "name": "stdout",
     "output_type": "stream",
     "text": [
      "{'eval_loss': 1.3875218629837036, 'eval_runtime': 0.9979, 'eval_samples_per_second': 5.01, 'eval_steps_per_second': 1.002, 'epoch': 2.13}\n",
      "{'loss': 0.795, 'learning_rate': 4.039977095423134e-06, 'epoch': 2.14}\n"
     ]
    },
    {
     "data": {
      "application/vnd.jupyter.widget-view+json": {
       "model_id": "6022984db47041f38528eca974aad958",
       "version_major": 2,
       "version_minor": 0
      },
      "text/plain": [
       "  0%|          | 0/1 [00:00<?, ?it/s]"
      ]
     },
     "metadata": {},
     "output_type": "display_data"
    },
    {
     "name": "stdout",
     "output_type": "stream",
     "text": [
      "{'eval_loss': 1.3885136842727661, 'eval_runtime': 1.0847, 'eval_samples_per_second': 4.61, 'eval_steps_per_second': 0.922, 'epoch': 2.14}\n",
      "{'loss': 0.9125, 'learning_rate': 3.986254921713335e-06, 'epoch': 2.14}\n"
     ]
    },
    {
     "data": {
      "application/vnd.jupyter.widget-view+json": {
       "model_id": "a7f93aa40ff546e39ff083365a63a087",
       "version_major": 2,
       "version_minor": 0
      },
      "text/plain": [
       "  0%|          | 0/1 [00:00<?, ?it/s]"
      ]
     },
     "metadata": {},
     "output_type": "display_data"
    },
    {
     "name": "stdout",
     "output_type": "stream",
     "text": [
      "{'eval_loss': 1.3903658390045166, 'eval_runtime': 1.0961, 'eval_samples_per_second': 4.562, 'eval_steps_per_second': 0.912, 'epoch': 2.14}\n",
      "{'loss': 0.5573, 'learning_rate': 3.932803274220266e-06, 'epoch': 2.15}\n"
     ]
    },
    {
     "data": {
      "application/vnd.jupyter.widget-view+json": {
       "model_id": "29ae8816c1d74290bd33f257cd44adbe",
       "version_major": 2,
       "version_minor": 0
      },
      "text/plain": [
       "  0%|          | 0/1 [00:00<?, ?it/s]"
      ]
     },
     "metadata": {},
     "output_type": "display_data"
    },
    {
     "name": "stdout",
     "output_type": "stream",
     "text": [
      "{'eval_loss': 1.3912466764450073, 'eval_runtime': 1.0125, 'eval_samples_per_second': 4.938, 'eval_steps_per_second': 0.988, 'epoch': 2.15}\n",
      "{'loss': 0.6867, 'learning_rate': 3.879624557447573e-06, 'epoch': 2.16}\n"
     ]
    },
    {
     "data": {
      "application/vnd.jupyter.widget-view+json": {
       "model_id": "4f47efac76b04d899523a095fa50198c",
       "version_major": 2,
       "version_minor": 0
      },
      "text/plain": [
       "  0%|          | 0/1 [00:00<?, ?it/s]"
      ]
     },
     "metadata": {},
     "output_type": "display_data"
    },
    {
     "name": "stdout",
     "output_type": "stream",
     "text": [
      "{'eval_loss': 1.3931418657302856, 'eval_runtime': 1.0886, 'eval_samples_per_second': 4.593, 'eval_steps_per_second': 0.919, 'epoch': 2.16}\n",
      "{'loss': 0.6366, 'learning_rate': 3.8267211636212054e-06, 'epoch': 2.16}\n"
     ]
    },
    {
     "data": {
      "application/vnd.jupyter.widget-view+json": {
       "model_id": "ece5f46fe59a4ce5887e7ea54a6d96a8",
       "version_major": 2,
       "version_minor": 0
      },
      "text/plain": [
       "  0%|          | 0/1 [00:00<?, ?it/s]"
      ]
     },
     "metadata": {},
     "output_type": "display_data"
    },
    {
     "name": "stdout",
     "output_type": "stream",
     "text": [
      "{'eval_loss': 1.3943567276000977, 'eval_runtime': 1.0142, 'eval_samples_per_second': 4.93, 'eval_steps_per_second': 0.986, 'epoch': 2.16}\n",
      "{'loss': 0.6824, 'learning_rate': 3.774095472581818e-06, 'epoch': 2.17}\n"
     ]
    },
    {
     "data": {
      "application/vnd.jupyter.widget-view+json": {
       "model_id": "fe14bc7da6d742df91aacbd8413a40c2",
       "version_major": 2,
       "version_minor": 0
      },
      "text/plain": [
       "  0%|          | 0/1 [00:00<?, ?it/s]"
      ]
     },
     "metadata": {},
     "output_type": "display_data"
    },
    {
     "name": "stdout",
     "output_type": "stream",
     "text": [
      "{'eval_loss': 1.3952370882034302, 'eval_runtime': 0.9735, 'eval_samples_per_second': 5.136, 'eval_steps_per_second': 1.027, 'epoch': 2.17}\n",
      "{'loss': 0.8181, 'learning_rate': 3.721749851677693e-06, 'epoch': 2.17}\n"
     ]
    },
    {
     "data": {
      "application/vnd.jupyter.widget-view+json": {
       "model_id": "6478dabf8acc4d428f400d8e4e014f6d",
       "version_major": 2,
       "version_minor": 0
      },
      "text/plain": [
       "  0%|          | 0/1 [00:00<?, ?it/s]"
      ]
     },
     "metadata": {},
     "output_type": "display_data"
    },
    {
     "name": "stdout",
     "output_type": "stream",
     "text": [
      "{'eval_loss': 1.3946666717529297, 'eval_runtime': 1.0591, 'eval_samples_per_second': 4.721, 'eval_steps_per_second': 0.944, 'epoch': 2.17}\n",
      "{'loss': 0.5716, 'learning_rate': 3.6696866556582557e-06, 'epoch': 2.18}\n"
     ]
    },
    {
     "data": {
      "application/vnd.jupyter.widget-view+json": {
       "model_id": "275378370cef4f42b2c485d5f1c7541a",
       "version_major": 2,
       "version_minor": 0
      },
      "text/plain": [
       "  0%|          | 0/1 [00:00<?, ?it/s]"
      ]
     },
     "metadata": {},
     "output_type": "display_data"
    },
    {
     "name": "stdout",
     "output_type": "stream",
     "text": [
      "{'eval_loss': 1.3941539525985718, 'eval_runtime': 0.9822, 'eval_samples_per_second': 5.09, 'eval_steps_per_second': 1.018, 'epoch': 2.18}\n",
      "{'loss': 0.5816, 'learning_rate': 3.6179082265681563e-06, 'epoch': 2.19}\n"
     ]
    },
    {
     "data": {
      "application/vnd.jupyter.widget-view+json": {
       "model_id": "cbe45d89a401422c969de9ef7d0e0af1",
       "version_major": 2,
       "version_minor": 0
      },
      "text/plain": [
       "  0%|          | 0/1 [00:00<?, ?it/s]"
      ]
     },
     "metadata": {},
     "output_type": "display_data"
    },
    {
     "name": "stdout",
     "output_type": "stream",
     "text": [
      "{'eval_loss': 1.3944365978240967, 'eval_runtime': 1.0088, 'eval_samples_per_second': 4.956, 'eval_steps_per_second': 0.991, 'epoch': 2.19}\n",
      "{'loss': 0.9485, 'learning_rate': 3.566416893641891e-06, 'epoch': 2.19}\n"
     ]
    },
    {
     "data": {
      "application/vnd.jupyter.widget-view+json": {
       "model_id": "329ba2ea3a9c4b88bf02d21809b84b72",
       "version_major": 2,
       "version_minor": 0
      },
      "text/plain": [
       "  0%|          | 0/1 [00:00<?, ?it/s]"
      ]
     },
     "metadata": {},
     "output_type": "display_data"
    },
    {
     "name": "stdout",
     "output_type": "stream",
     "text": [
      "{'eval_loss': 1.3939166069030762, 'eval_runtime': 1.0086, 'eval_samples_per_second': 4.957, 'eval_steps_per_second': 0.991, 'epoch': 2.19}\n",
      "{'loss': 0.7967, 'learning_rate': 3.5152149731990504e-06, 'epoch': 2.2}\n"
     ]
    },
    {
     "data": {
      "application/vnd.jupyter.widget-view+json": {
       "model_id": "bd5c0aae09654afe9f1d852d947a057f",
       "version_major": 2,
       "version_minor": 0
      },
      "text/plain": [
       "  0%|          | 0/1 [00:00<?, ?it/s]"
      ]
     },
     "metadata": {},
     "output_type": "display_data"
    },
    {
     "name": "stdout",
     "output_type": "stream",
     "text": [
      "{'eval_loss': 1.3937489986419678, 'eval_runtime': 0.9696, 'eval_samples_per_second': 5.157, 'eval_steps_per_second': 1.031, 'epoch': 2.2}\n",
      "{'loss': 0.9598, 'learning_rate': 3.4643047685400944e-06, 'epoch': 2.2}\n"
     ]
    },
    {
     "data": {
      "application/vnd.jupyter.widget-view+json": {
       "model_id": "947542a2b87e420d8cd55ca51b6b5862",
       "version_major": 2,
       "version_minor": 0
      },
      "text/plain": [
       "  0%|          | 0/1 [00:00<?, ?it/s]"
      ]
     },
     "metadata": {},
     "output_type": "display_data"
    },
    {
     "name": "stdout",
     "output_type": "stream",
     "text": [
      "{'eval_loss': 1.3940595388412476, 'eval_runtime': 0.981, 'eval_samples_per_second': 5.097, 'eval_steps_per_second': 1.019, 'epoch': 2.2}\n",
      "{'loss': 0.6564, 'learning_rate': 3.4136885698427503e-06, 'epoch': 2.21}\n"
     ]
    },
    {
     "data": {
      "application/vnd.jupyter.widget-view+json": {
       "model_id": "d1ed88e3937c4c31acaaf748cfdaaec4",
       "version_major": 2,
       "version_minor": 0
      },
      "text/plain": [
       "  0%|          | 0/1 [00:00<?, ?it/s]"
      ]
     },
     "metadata": {},
     "output_type": "display_data"
    },
    {
     "name": "stdout",
     "output_type": "stream",
     "text": [
      "{'eval_loss': 1.393999457359314, 'eval_runtime': 1.0869, 'eval_samples_per_second': 4.6, 'eval_steps_per_second': 0.92, 'epoch': 2.21}\n",
      "{'loss': 0.6725, 'learning_rate': 3.3633686540590004e-06, 'epoch': 2.22}\n"
     ]
    },
    {
     "data": {
      "application/vnd.jupyter.widget-view+json": {
       "model_id": "3e5e918696124552a79a1aa5d8910bfc",
       "version_major": 2,
       "version_minor": 0
      },
      "text/plain": [
       "  0%|          | 0/1 [00:00<?, ?it/s]"
      ]
     },
     "metadata": {},
     "output_type": "display_data"
    },
    {
     "name": "stdout",
     "output_type": "stream",
     "text": [
      "{'eval_loss': 1.3943543434143066, 'eval_runtime': 1.0355, 'eval_samples_per_second': 4.828, 'eval_steps_per_second': 0.966, 'epoch': 2.22}\n",
      "{'loss': 0.8079, 'learning_rate': 3.3133472848126346e-06, 'epoch': 2.22}\n"
     ]
    },
    {
     "data": {
      "application/vnd.jupyter.widget-view+json": {
       "model_id": "1283a437efaf492f9884b70ca4ce7d94",
       "version_major": 2,
       "version_minor": 0
      },
      "text/plain": [
       "  0%|          | 0/1 [00:00<?, ?it/s]"
      ]
     },
     "metadata": {},
     "output_type": "display_data"
    },
    {
     "name": "stdout",
     "output_type": "stream",
     "text": [
      "{'eval_loss': 1.3949272632598877, 'eval_runtime': 0.975, 'eval_samples_per_second': 5.128, 'eval_steps_per_second': 1.026, 'epoch': 2.22}\n",
      "{'loss': 0.9235, 'learning_rate': 3.263626712297431e-06, 'epoch': 2.23}\n"
     ]
    },
    {
     "data": {
      "application/vnd.jupyter.widget-view+json": {
       "model_id": "333747b620104fe29a47ce122c996e47",
       "version_major": 2,
       "version_minor": 0
      },
      "text/plain": [
       "  0%|          | 0/1 [00:00<?, ?it/s]"
      ]
     },
     "metadata": {},
     "output_type": "display_data"
    },
    {
     "name": "stdout",
     "output_type": "stream",
     "text": [
      "{'eval_loss': 1.395322561264038, 'eval_runtime': 1.0934, 'eval_samples_per_second': 4.573, 'eval_steps_per_second': 0.915, 'epoch': 2.23}\n",
      "{'loss': 0.7717, 'learning_rate': 3.214209173175943e-06, 'epoch': 2.24}\n"
     ]
    },
    {
     "data": {
      "application/vnd.jupyter.widget-view+json": {
       "model_id": "6004f63b2da14cb4922b195fa5e3e645",
       "version_major": 2,
       "version_minor": 0
      },
      "text/plain": [
       "  0%|          | 0/1 [00:00<?, ?it/s]"
      ]
     },
     "metadata": {},
     "output_type": "display_data"
    },
    {
     "name": "stdout",
     "output_type": "stream",
     "text": [
      "{'eval_loss': 1.3949023485183716, 'eval_runtime': 0.9691, 'eval_samples_per_second': 5.159, 'eval_steps_per_second': 1.032, 'epoch': 2.24}\n",
      "{'loss': 0.8211, 'learning_rate': 3.1650968904788594e-06, 'epoch': 2.24}\n"
     ]
    },
    {
     "data": {
      "application/vnd.jupyter.widget-view+json": {
       "model_id": "a83b36a13e854218a28fd805de64c878",
       "version_major": 2,
       "version_minor": 0
      },
      "text/plain": [
       "  0%|          | 0/1 [00:00<?, ?it/s]"
      ]
     },
     "metadata": {},
     "output_type": "display_data"
    },
    {
     "name": "stdout",
     "output_type": "stream",
     "text": [
      "{'eval_loss': 1.393385648727417, 'eval_runtime': 1.0605, 'eval_samples_per_second': 4.715, 'eval_steps_per_second': 0.943, 'epoch': 2.24}\n",
      "{'loss': 0.6028, 'learning_rate': 3.1162920735050206e-06, 'epoch': 2.25}\n"
     ]
    },
    {
     "data": {
      "application/vnd.jupyter.widget-view+json": {
       "model_id": "3fe0284b680d4b9f990c44fa7ee099b5",
       "version_major": 2,
       "version_minor": 0
      },
      "text/plain": [
       "  0%|          | 0/1 [00:00<?, ?it/s]"
      ]
     },
     "metadata": {},
     "output_type": "display_data"
    },
    {
     "name": "stdout",
     "output_type": "stream",
     "text": [
      "{'eval_loss': 1.3924421072006226, 'eval_runtime': 1.0437, 'eval_samples_per_second': 4.791, 'eval_steps_per_second': 0.958, 'epoch': 2.25}\n",
      "{'loss': 0.789, 'learning_rate': 3.0677969177220344e-06, 'epoch': 2.25}\n"
     ]
    },
    {
     "data": {
      "application/vnd.jupyter.widget-view+json": {
       "model_id": "34c080a8efe644cabc082fe7f66e27aa",
       "version_major": 2,
       "version_minor": 0
      },
      "text/plain": [
       "  0%|          | 0/1 [00:00<?, ?it/s]"
      ]
     },
     "metadata": {},
     "output_type": "display_data"
    },
    {
     "name": "stdout",
     "output_type": "stream",
     "text": [
      "{'eval_loss': 1.3913921117782593, 'eval_runtime': 1.0431, 'eval_samples_per_second': 4.793, 'eval_steps_per_second': 0.959, 'epoch': 2.25}\n",
      "{'loss': 0.6252, 'learning_rate': 3.0196136046675027e-06, 'epoch': 2.26}\n"
     ]
    },
    {
     "data": {
      "application/vnd.jupyter.widget-view+json": {
       "model_id": "6f505ac511f641648c89684e39ac2db3",
       "version_major": 2,
       "version_minor": 0
      },
      "text/plain": [
       "  0%|          | 0/1 [00:00<?, ?it/s]"
      ]
     },
     "metadata": {},
     "output_type": "display_data"
    },
    {
     "name": "stdout",
     "output_type": "stream",
     "text": [
      "{'eval_loss': 1.3904385566711426, 'eval_runtime': 0.976, 'eval_samples_per_second': 5.123, 'eval_steps_per_second': 1.025, 'epoch': 2.26}\n",
      "{'loss': 0.6481, 'learning_rate': 2.9717443018508873e-06, 'epoch': 2.27}\n"
     ]
    },
    {
     "data": {
      "application/vnd.jupyter.widget-view+json": {
       "model_id": "04238dc09e8b450694988cd2d113c075",
       "version_major": 2,
       "version_minor": 0
      },
      "text/plain": [
       "  0%|          | 0/1 [00:00<?, ?it/s]"
      ]
     },
     "metadata": {},
     "output_type": "display_data"
    },
    {
     "name": "stdout",
     "output_type": "stream",
     "text": [
      "{'eval_loss': 1.3902541399002075, 'eval_runtime': 0.9708, 'eval_samples_per_second': 5.15, 'eval_steps_per_second': 1.03, 'epoch': 2.27}\n",
      "{'loss': 0.6745, 'learning_rate': 2.9241911626560226e-06, 'epoch': 2.27}\n"
     ]
    },
    {
     "data": {
      "application/vnd.jupyter.widget-view+json": {
       "model_id": "d28ff5c4e0dd481b98d0841857c1a456",
       "version_major": 2,
       "version_minor": 0
      },
      "text/plain": [
       "  0%|          | 0/1 [00:00<?, ?it/s]"
      ]
     },
     "metadata": {},
     "output_type": "display_data"
    },
    {
     "name": "stdout",
     "output_type": "stream",
     "text": [
      "{'eval_loss': 1.3920315504074097, 'eval_runtime': 1.0903, 'eval_samples_per_second': 4.586, 'eval_steps_per_second': 0.917, 'epoch': 2.27}\n",
      "{'loss': 0.7478, 'learning_rate': 2.8769563262442224e-06, 'epoch': 2.28}\n"
     ]
    },
    {
     "data": {
      "application/vnd.jupyter.widget-view+json": {
       "model_id": "751d7b61bb85487b99bb832f5a29bc42",
       "version_major": 2,
       "version_minor": 0
      },
      "text/plain": [
       "  0%|          | 0/1 [00:00<?, ?it/s]"
      ]
     },
     "metadata": {},
     "output_type": "display_data"
    },
    {
     "name": "stdout",
     "output_type": "stream",
     "text": [
      "{'eval_loss': 1.393359661102295, 'eval_runtime': 1.0005, 'eval_samples_per_second': 4.998, 'eval_steps_per_second': 1.0, 'epoch': 2.28}\n",
      "{'loss': 0.6099, 'learning_rate': 2.8300419174580597e-06, 'epoch': 2.29}\n"
     ]
    },
    {
     "data": {
      "application/vnd.jupyter.widget-view+json": {
       "model_id": "ce72b627cfd940498fe7eddf9ab84b97",
       "version_major": 2,
       "version_minor": 0
      },
      "text/plain": [
       "  0%|          | 0/1 [00:00<?, ?it/s]"
      ]
     },
     "metadata": {},
     "output_type": "display_data"
    },
    {
     "name": "stdout",
     "output_type": "stream",
     "text": [
      "{'eval_loss': 1.3941717147827148, 'eval_runtime': 1.0148, 'eval_samples_per_second': 4.927, 'eval_steps_per_second': 0.985, 'epoch': 2.29}\n",
      "{'loss': 0.7457, 'learning_rate': 2.783450046725794e-06, 'epoch': 2.29}\n"
     ]
    },
    {
     "data": {
      "application/vnd.jupyter.widget-view+json": {
       "model_id": "27cec00a51a24a75a8adc92932f89b54",
       "version_major": 2,
       "version_minor": 0
      },
      "text/plain": [
       "  0%|          | 0/1 [00:00<?, ?it/s]"
      ]
     },
     "metadata": {},
     "output_type": "display_data"
    },
    {
     "name": "stdout",
     "output_type": "stream",
     "text": [
      "{'eval_loss': 1.3951934576034546, 'eval_runtime': 1.0589, 'eval_samples_per_second': 4.722, 'eval_steps_per_second': 0.944, 'epoch': 2.29}\n",
      "{'loss': 0.7358, 'learning_rate': 2.7371828099664142e-06, 'epoch': 2.3}\n"
     ]
    },
    {
     "data": {
      "application/vnd.jupyter.widget-view+json": {
       "model_id": "2ea29c634d7e4f2da1df82a11fe2e786",
       "version_major": 2,
       "version_minor": 0
      },
      "text/plain": [
       "  0%|          | 0/1 [00:00<?, ?it/s]"
      ]
     },
     "metadata": {},
     "output_type": "display_data"
    },
    {
     "name": "stdout",
     "output_type": "stream",
     "text": [
      "{'eval_loss': 1.3960233926773071, 'eval_runtime': 1.0682, 'eval_samples_per_second': 4.681, 'eval_steps_per_second': 0.936, 'epoch': 2.3}\n",
      "{'loss': 0.7607, 'learning_rate': 2.6912422884953625e-06, 'epoch': 2.3}\n"
     ]
    },
    {
     "data": {
      "application/vnd.jupyter.widget-view+json": {
       "model_id": "921d27fc97ad4c9d85b370d03dfb86ba",
       "version_major": 2,
       "version_minor": 0
      },
      "text/plain": [
       "  0%|          | 0/1 [00:00<?, ?it/s]"
      ]
     },
     "metadata": {},
     "output_type": "display_data"
    },
    {
     "name": "stdout",
     "output_type": "stream",
     "text": [
      "{'eval_loss': 1.3964647054672241, 'eval_runtime': 0.985, 'eval_samples_per_second': 5.076, 'eval_steps_per_second': 1.015, 'epoch': 2.3}\n",
      "{'loss': 0.6915, 'learning_rate': 2.645630548930919e-06, 'epoch': 2.31}\n"
     ]
    },
    {
     "data": {
      "application/vnd.jupyter.widget-view+json": {
       "model_id": "90efd5c8ad814a4599d905400370bc46",
       "version_major": 2,
       "version_minor": 0
      },
      "text/plain": [
       "  0%|          | 0/1 [00:00<?, ?it/s]"
      ]
     },
     "metadata": {},
     "output_type": "display_data"
    },
    {
     "name": "stdout",
     "output_type": "stream",
     "text": [
      "{'eval_loss': 1.3961141109466553, 'eval_runtime': 1.0773, 'eval_samples_per_second': 4.641, 'eval_steps_per_second': 0.928, 'epoch': 2.31}\n",
      "{'loss': 0.6381, 'learning_rate': 2.6003496431012133e-06, 'epoch': 2.32}\n"
     ]
    },
    {
     "data": {
      "application/vnd.jupyter.widget-view+json": {
       "model_id": "280b33bb288d421794ccc3caf4ce358a",
       "version_major": 2,
       "version_minor": 0
      },
      "text/plain": [
       "  0%|          | 0/1 [00:00<?, ?it/s]"
      ]
     },
     "metadata": {},
     "output_type": "display_data"
    },
    {
     "name": "stdout",
     "output_type": "stream",
     "text": [
      "{'eval_loss': 1.3962520360946655, 'eval_runtime': 1.032, 'eval_samples_per_second': 4.845, 'eval_steps_per_second': 0.969, 'epoch': 2.32}\n",
      "{'loss': 0.9491, 'learning_rate': 2.5554016079519373e-06, 'epoch': 2.32}\n"
     ]
    },
    {
     "data": {
      "application/vnd.jupyter.widget-view+json": {
       "model_id": "432916aeb1534310b70566d7f3ac5ea1",
       "version_major": 2,
       "version_minor": 0
      },
      "text/plain": [
       "  0%|          | 0/1 [00:00<?, ?it/s]"
      ]
     },
     "metadata": {},
     "output_type": "display_data"
    },
    {
     "name": "stdout",
     "output_type": "stream",
     "text": [
      "{'eval_loss': 1.3965317010879517, 'eval_runtime': 1.026, 'eval_samples_per_second': 4.873, 'eval_steps_per_second': 0.975, 'epoch': 2.32}\n",
      "{'loss': 0.9499, 'learning_rate': 2.510788465454721e-06, 'epoch': 2.33}\n"
     ]
    },
    {
     "data": {
      "application/vnd.jupyter.widget-view+json": {
       "model_id": "0feef46ff9d245be9de93190a0dbfef6",
       "version_major": 2,
       "version_minor": 0
      },
      "text/plain": [
       "  0%|          | 0/1 [00:00<?, ?it/s]"
      ]
     },
     "metadata": {},
     "output_type": "display_data"
    },
    {
     "name": "stdout",
     "output_type": "stream",
     "text": [
      "{'eval_loss': 1.3975390195846558, 'eval_runtime': 0.9685, 'eval_samples_per_second': 5.163, 'eval_steps_per_second': 1.033, 'epoch': 2.33}\n",
      "{'loss': 0.7074, 'learning_rate': 2.4665122225161553e-06, 'epoch': 2.34}\n"
     ]
    },
    {
     "data": {
      "application/vnd.jupyter.widget-view+json": {
       "model_id": "13e5138ff07e4ac79f2af7bbb6b71e1f",
       "version_major": 2,
       "version_minor": 0
      },
      "text/plain": [
       "  0%|          | 0/1 [00:00<?, ?it/s]"
      ]
     },
     "metadata": {},
     "output_type": "display_data"
    },
    {
     "name": "stdout",
     "output_type": "stream",
     "text": [
      "{'eval_loss': 1.3985168933868408, 'eval_runtime': 1.025, 'eval_samples_per_second': 4.878, 'eval_steps_per_second': 0.976, 'epoch': 2.34}\n",
      "{'loss': 1.1003, 'learning_rate': 2.422574870887523e-06, 'epoch': 2.34}\n"
     ]
    },
    {
     "data": {
      "application/vnd.jupyter.widget-view+json": {
       "model_id": "6e3ad8c8fa374d71ab574ce49983f23e",
       "version_major": 2,
       "version_minor": 0
      },
      "text/plain": [
       "  0%|          | 0/1 [00:00<?, ?it/s]"
      ]
     },
     "metadata": {},
     "output_type": "display_data"
    },
    {
     "name": "stdout",
     "output_type": "stream",
     "text": [
      "{'eval_loss': 1.398653507232666, 'eval_runtime': 1.0737, 'eval_samples_per_second': 4.657, 'eval_steps_per_second': 0.931, 'epoch': 2.34}\n",
      "{'loss': 0.5827, 'learning_rate': 2.3789783870752102e-06, 'epoch': 2.35}\n"
     ]
    },
    {
     "data": {
      "application/vnd.jupyter.widget-view+json": {
       "model_id": "af323fa7e35449ca9e643ffd14dc0a03",
       "version_major": 2,
       "version_minor": 0
      },
      "text/plain": [
       "  0%|          | 0/1 [00:00<?, ?it/s]"
      ]
     },
     "metadata": {},
     "output_type": "display_data"
    },
    {
     "name": "stdout",
     "output_type": "stream",
     "text": [
      "{'eval_loss': 1.3987693786621094, 'eval_runtime': 1.0796, 'eval_samples_per_second': 4.632, 'eval_steps_per_second': 0.926, 'epoch': 2.35}\n",
      "{'loss': 0.6399, 'learning_rate': 2.3357247322517728e-06, 'epoch': 2.35}\n"
     ]
    },
    {
     "data": {
      "application/vnd.jupyter.widget-view+json": {
       "model_id": "856defd61f2740f78563b2869584d138",
       "version_major": 2,
       "version_minor": 0
      },
      "text/plain": [
       "  0%|          | 0/1 [00:00<?, ?it/s]"
      ]
     },
     "metadata": {},
     "output_type": "display_data"
    },
    {
     "name": "stdout",
     "output_type": "stream",
     "text": [
      "{'eval_loss': 1.3990591764450073, 'eval_runtime': 1.0831, 'eval_samples_per_second': 4.616, 'eval_steps_per_second': 0.923, 'epoch': 2.35}\n",
      "{'loss': 0.7142, 'learning_rate': 2.292815852167726e-06, 'epoch': 2.36}\n"
     ]
    },
    {
     "data": {
      "application/vnd.jupyter.widget-view+json": {
       "model_id": "0900487bed9047bd8b0a41ce16730aa5",
       "version_major": 2,
       "version_minor": 0
      },
      "text/plain": [
       "  0%|          | 0/1 [00:00<?, ?it/s]"
      ]
     },
     "metadata": {},
     "output_type": "display_data"
    },
    {
     "name": "stdout",
     "output_type": "stream",
     "text": [
      "{'eval_loss': 1.3994929790496826, 'eval_runtime': 1.0304, 'eval_samples_per_second': 4.853, 'eval_steps_per_second': 0.971, 'epoch': 2.36}\n",
      "{'loss': 0.5856, 'learning_rate': 2.250253677064018e-06, 'epoch': 2.37}\n"
     ]
    },
    {
     "data": {
      "application/vnd.jupyter.widget-view+json": {
       "model_id": "3598c32d3a7e453e8e6de286412f1dbe",
       "version_major": 2,
       "version_minor": 0
      },
      "text/plain": [
       "  0%|          | 0/1 [00:00<?, ?it/s]"
      ]
     },
     "metadata": {},
     "output_type": "display_data"
    },
    {
     "name": "stdout",
     "output_type": "stream",
     "text": [
      "{'eval_loss': 1.3982336521148682, 'eval_runtime': 1.0692, 'eval_samples_per_second': 4.676, 'eval_steps_per_second': 0.935, 'epoch': 2.37}\n",
      "{'loss': 0.6575, 'learning_rate': 2.208040121585201e-06, 'epoch': 2.37}\n"
     ]
    },
    {
     "data": {
      "application/vnd.jupyter.widget-view+json": {
       "model_id": "5518f21244da4d8dac245cd14585038f",
       "version_major": 2,
       "version_minor": 0
      },
      "text/plain": [
       "  0%|          | 0/1 [00:00<?, ?it/s]"
      ]
     },
     "metadata": {},
     "output_type": "display_data"
    },
    {
     "name": "stdout",
     "output_type": "stream",
     "text": [
      "{'eval_loss': 1.396020531654358, 'eval_runtime': 0.9771, 'eval_samples_per_second': 5.117, 'eval_steps_per_second': 1.023, 'epoch': 2.37}\n",
      "{'loss': 0.78, 'learning_rate': 2.166177084693276e-06, 'epoch': 2.38}\n"
     ]
    },
    {
     "data": {
      "application/vnd.jupyter.widget-view+json": {
       "model_id": "15bd13cb15174482af2d715f8cfe2a2b",
       "version_major": 2,
       "version_minor": 0
      },
      "text/plain": [
       "  0%|          | 0/1 [00:00<?, ?it/s]"
      ]
     },
     "metadata": {},
     "output_type": "display_data"
    },
    {
     "name": "stdout",
     "output_type": "stream",
     "text": [
      "{'eval_loss': 1.3949834108352661, 'eval_runtime': 0.9977, 'eval_samples_per_second': 5.012, 'eval_steps_per_second': 1.002, 'epoch': 2.38}\n",
      "{'loss': 0.7159, 'learning_rate': 2.1246664495823046e-06, 'epoch': 2.39}\n"
     ]
    },
    {
     "data": {
      "application/vnd.jupyter.widget-view+json": {
       "model_id": "af20e7a8cadd46c88fc0db5abefdc5e3",
       "version_major": 2,
       "version_minor": 0
      },
      "text/plain": [
       "  0%|          | 0/1 [00:00<?, ?it/s]"
      ]
     },
     "metadata": {},
     "output_type": "display_data"
    },
    {
     "name": "stdout",
     "output_type": "stream",
     "text": [
      "{'eval_loss': 1.3944823741912842, 'eval_runtime': 1.0193, 'eval_samples_per_second': 4.905, 'eval_steps_per_second': 0.981, 'epoch': 2.39}\n",
      "{'loss': 0.9519, 'learning_rate': 2.0835100835936785e-06, 'epoch': 2.39}\n"
     ]
    },
    {
     "data": {
      "application/vnd.jupyter.widget-view+json": {
       "model_id": "2aa057a01aa0494c9da857a6583909a5",
       "version_major": 2,
       "version_minor": 0
      },
      "text/plain": [
       "  0%|          | 0/1 [00:00<?, ?it/s]"
      ]
     },
     "metadata": {},
     "output_type": "display_data"
    },
    {
     "name": "stdout",
     "output_type": "stream",
     "text": [
      "{'eval_loss': 1.3941943645477295, 'eval_runtime': 0.9686, 'eval_samples_per_second': 5.162, 'eval_steps_per_second': 1.032, 'epoch': 2.39}\n",
      "{'loss': 0.6286, 'learning_rate': 2.042709838132101e-06, 'epoch': 2.4}\n"
     ]
    },
    {
     "data": {
      "application/vnd.jupyter.widget-view+json": {
       "model_id": "df02a2caed4445f3938e86396d7723c3",
       "version_major": 2,
       "version_minor": 0
      },
      "text/plain": [
       "  0%|          | 0/1 [00:00<?, ?it/s]"
      ]
     },
     "metadata": {},
     "output_type": "display_data"
    },
    {
     "name": "stdout",
     "output_type": "stream",
     "text": [
      "{'eval_loss': 1.3938854932785034, 'eval_runtime': 1.0561, 'eval_samples_per_second': 4.734, 'eval_steps_per_second': 0.947, 'epoch': 2.4}\n",
      "{'loss': 1.0793, 'learning_rate': 2.002267548582335e-06, 'epoch': 2.4}\n"
     ]
    },
    {
     "data": {
      "application/vnd.jupyter.widget-view+json": {
       "model_id": "1da04b4b9dc547c0a7a487a109d42014",
       "version_major": 2,
       "version_minor": 0
      },
      "text/plain": [
       "  0%|          | 0/1 [00:00<?, ?it/s]"
      ]
     },
     "metadata": {},
     "output_type": "display_data"
    },
    {
     "name": "stdout",
     "output_type": "stream",
     "text": [
      "{'eval_loss': 1.3930014371871948, 'eval_runtime': 1.0935, 'eval_samples_per_second': 4.573, 'eval_steps_per_second': 0.915, 'epoch': 2.4}\n",
      "{'loss': 0.7853, 'learning_rate': 1.962185034226619e-06, 'epoch': 2.41}\n"
     ]
    },
    {
     "data": {
      "application/vnd.jupyter.widget-view+json": {
       "model_id": "30d96118f67b4459b2ed37d6a095c7ef",
       "version_major": 2,
       "version_minor": 0
      },
      "text/plain": [
       "  0%|          | 0/1 [00:00<?, ?it/s]"
      ]
     },
     "metadata": {},
     "output_type": "display_data"
    },
    {
     "name": "stdout",
     "output_type": "stream",
     "text": [
      "{'eval_loss': 1.3925325870513916, 'eval_runtime': 1.0456, 'eval_samples_per_second': 4.782, 'eval_steps_per_second': 0.956, 'epoch': 2.41}\n",
      "{'loss': 0.6497, 'learning_rate': 1.9224640981628186e-06, 'epoch': 2.42}\n"
     ]
    },
    {
     "data": {
      "application/vnd.jupyter.widget-view+json": {
       "model_id": "a14139b8c00b40d8b185d4e0c33d5d4a",
       "version_major": 2,
       "version_minor": 0
      },
      "text/plain": [
       "  0%|          | 0/1 [00:00<?, ?it/s]"
      ]
     },
     "metadata": {},
     "output_type": "display_data"
    },
    {
     "name": "stdout",
     "output_type": "stream",
     "text": [
      "{'eval_loss': 1.3922550678253174, 'eval_runtime': 1.0161, 'eval_samples_per_second': 4.921, 'eval_steps_per_second': 0.984, 'epoch': 2.42}\n",
      "{'loss': 0.4736, 'learning_rate': 1.8831065272233373e-06, 'epoch': 2.42}\n"
     ]
    },
    {
     "data": {
      "application/vnd.jupyter.widget-view+json": {
       "model_id": "9e2d3459f6b8481ea630f493f2df2b99",
       "version_major": 2,
       "version_minor": 0
      },
      "text/plain": [
       "  0%|          | 0/1 [00:00<?, ?it/s]"
      ]
     },
     "metadata": {},
     "output_type": "display_data"
    },
    {
     "name": "stdout",
     "output_type": "stream",
     "text": [
      "{'eval_loss': 1.3920106887817383, 'eval_runtime': 1.0763, 'eval_samples_per_second': 4.645, 'eval_steps_per_second': 0.929, 'epoch': 2.42}\n",
      "{'loss': 0.657, 'learning_rate': 1.844114091894732e-06, 'epoch': 2.43}\n"
     ]
    },
    {
     "data": {
      "application/vnd.jupyter.widget-view+json": {
       "model_id": "332b49df6c95414fb77f61a3bbbcda98",
       "version_major": 2,
       "version_minor": 0
      },
      "text/plain": [
       "  0%|          | 0/1 [00:00<?, ?it/s]"
      ]
     },
     "metadata": {},
     "output_type": "display_data"
    },
    {
     "name": "stdout",
     "output_type": "stream",
     "text": [
      "{'eval_loss': 1.3923872709274292, 'eval_runtime': 1.0059, 'eval_samples_per_second': 4.971, 'eval_steps_per_second': 0.994, 'epoch': 2.43}\n",
      "{'loss': 0.908, 'learning_rate': 1.80548854623804e-06, 'epoch': 2.43}\n"
     ]
    },
    {
     "data": {
      "application/vnd.jupyter.widget-view+json": {
       "model_id": "5b166dce836a4b668f76d9a3f4252e62",
       "version_major": 2,
       "version_minor": 0
      },
      "text/plain": [
       "  0%|          | 0/1 [00:00<?, ?it/s]"
      ]
     },
     "metadata": {},
     "output_type": "display_data"
    },
    {
     "name": "stdout",
     "output_type": "stream",
     "text": [
      "{'eval_loss': 1.3886948823928833, 'eval_runtime': 0.9741, 'eval_samples_per_second': 5.133, 'eval_steps_per_second': 1.027, 'epoch': 2.43}\n",
      "{'loss': 0.597, 'learning_rate': 1.7672316278099167e-06, 'epoch': 2.44}\n"
     ]
    },
    {
     "data": {
      "application/vnd.jupyter.widget-view+json": {
       "model_id": "0ac9e8eac5ac49bbb773d52a2490e2f2",
       "version_major": 2,
       "version_minor": 0
      },
      "text/plain": [
       "  0%|          | 0/1 [00:00<?, ?it/s]"
      ]
     },
     "metadata": {},
     "output_type": "display_data"
    },
    {
     "name": "stdout",
     "output_type": "stream",
     "text": [
      "{'eval_loss': 1.3870669603347778, 'eval_runtime': 1.0563, 'eval_samples_per_second': 4.733, 'eval_steps_per_second': 0.947, 'epoch': 2.44}\n",
      "{'loss': 0.8178, 'learning_rate': 1.7293450575844417e-06, 'epoch': 2.45}\n"
     ]
    },
    {
     "data": {
      "application/vnd.jupyter.widget-view+json": {
       "model_id": "f313f02e6c12463a923651fbbb886b52",
       "version_major": 2,
       "version_minor": 0
      },
      "text/plain": [
       "  0%|          | 0/1 [00:00<?, ?it/s]"
      ]
     },
     "metadata": {},
     "output_type": "display_data"
    },
    {
     "name": "stdout",
     "output_type": "stream",
     "text": [
      "{'eval_loss': 1.3859232664108276, 'eval_runtime': 0.9974, 'eval_samples_per_second': 5.013, 'eval_steps_per_second': 1.003, 'epoch': 2.45}\n",
      "{'loss': 0.5872, 'learning_rate': 1.6918305398757118e-06, 'epoch': 2.45}\n"
     ]
    },
    {
     "data": {
      "application/vnd.jupyter.widget-view+json": {
       "model_id": "84b189d09f5e4ddcb90b3d735565c8e3",
       "version_major": 2,
       "version_minor": 0
      },
      "text/plain": [
       "  0%|          | 0/1 [00:00<?, ?it/s]"
      ]
     },
     "metadata": {},
     "output_type": "display_data"
    },
    {
     "name": "stdout",
     "output_type": "stream",
     "text": [
      "{'eval_loss': 1.3857296705245972, 'eval_runtime': 1.0856, 'eval_samples_per_second': 4.606, 'eval_steps_per_second': 0.921, 'epoch': 2.45}\n",
      "{'loss': 0.8146, 'learning_rate': 1.6546897622611658e-06, 'epoch': 2.46}\n"
     ]
    },
    {
     "data": {
      "application/vnd.jupyter.widget-view+json": {
       "model_id": "72312b1e9f814890a067744cb95f63e9",
       "version_major": 2,
       "version_minor": 0
      },
      "text/plain": [
       "  0%|          | 0/1 [00:00<?, ?it/s]"
      ]
     },
     "metadata": {},
     "output_type": "display_data"
    },
    {
     "name": "stdout",
     "output_type": "stream",
     "text": [
      "{'eval_loss': 1.3859739303588867, 'eval_runtime': 0.99, 'eval_samples_per_second': 5.051, 'eval_steps_per_second': 1.01, 'epoch': 2.46}\n",
      "{'loss': 0.4944, 'learning_rate': 1.6179243955056879e-06, 'epoch': 2.47}\n"
     ]
    },
    {
     "data": {
      "application/vnd.jupyter.widget-view+json": {
       "model_id": "84c921ccfbc14657a096e9a05e392c9f",
       "version_major": 2,
       "version_minor": 0
      },
      "text/plain": [
       "  0%|          | 0/1 [00:00<?, ?it/s]"
      ]
     },
     "metadata": {},
     "output_type": "display_data"
    },
    {
     "name": "stdout",
     "output_type": "stream",
     "text": [
      "{'eval_loss': 1.3857879638671875, 'eval_runtime': 1.0064, 'eval_samples_per_second': 4.968, 'eval_steps_per_second': 0.994, 'epoch': 2.47}\n",
      "{'loss': 1.0914, 'learning_rate': 1.5815360934864243e-06, 'epoch': 2.47}\n"
     ]
    },
    {
     "data": {
      "application/vnd.jupyter.widget-view+json": {
       "model_id": "88390873f7b2415d93dd345514336597",
       "version_major": 2,
       "version_minor": 0
      },
      "text/plain": [
       "  0%|          | 0/1 [00:00<?, ?it/s]"
      ]
     },
     "metadata": {},
     "output_type": "display_data"
    },
    {
     "name": "stdout",
     "output_type": "stream",
     "text": [
      "{'eval_loss': 1.3860331773757935, 'eval_runtime': 1.093, 'eval_samples_per_second': 4.575, 'eval_steps_per_second': 0.915, 'epoch': 2.47}\n",
      "{'loss': 0.9455, 'learning_rate': 1.5455264931183988e-06, 'epoch': 2.48}\n"
     ]
    },
    {
     "data": {
      "application/vnd.jupyter.widget-view+json": {
       "model_id": "06748d70555a48d98a29f10948708caf",
       "version_major": 2,
       "version_minor": 0
      },
      "text/plain": [
       "  0%|          | 0/1 [00:00<?, ?it/s]"
      ]
     },
     "metadata": {},
     "output_type": "display_data"
    },
    {
     "name": "stdout",
     "output_type": "stream",
     "text": [
      "{'eval_loss': 1.3860489130020142, 'eval_runtime': 1.0349, 'eval_samples_per_second': 4.832, 'eval_steps_per_second': 0.966, 'epoch': 2.48}\n",
      "{'loss': 1.1623, 'learning_rate': 1.509897214280881e-06, 'epoch': 2.48}\n"
     ]
    },
    {
     "data": {
      "application/vnd.jupyter.widget-view+json": {
       "model_id": "7192744a913949d98fd4128102dd0897",
       "version_major": 2,
       "version_minor": 0
      },
      "text/plain": [
       "  0%|          | 0/1 [00:00<?, ?it/s]"
      ]
     },
     "metadata": {},
     "output_type": "display_data"
    },
    {
     "name": "stdout",
     "output_type": "stream",
     "text": [
      "{'eval_loss': 1.3855500221252441, 'eval_runtime': 1.0751, 'eval_samples_per_second': 4.651, 'eval_steps_per_second': 0.93, 'epoch': 2.48}\n",
      "{'loss': 0.6237, 'learning_rate': 1.4746498597445015e-06, 'epoch': 2.49}\n"
     ]
    },
    {
     "data": {
      "application/vnd.jupyter.widget-view+json": {
       "model_id": "4bd786b86c3b4d47beb80bcc9d0bffa5",
       "version_major": 2,
       "version_minor": 0
      },
      "text/plain": [
       "  0%|          | 0/1 [00:00<?, ?it/s]"
      ]
     },
     "metadata": {},
     "output_type": "display_data"
    },
    {
     "name": "stdout",
     "output_type": "stream",
     "text": [
      "{'eval_loss': 1.385473370552063, 'eval_runtime': 1.0159, 'eval_samples_per_second': 4.922, 'eval_steps_per_second': 0.984, 'epoch': 2.49}\n",
      "{'loss': 0.679, 'learning_rate': 1.4397860150991604e-06, 'epoch': 2.5}\n"
     ]
    },
    {
     "data": {
      "application/vnd.jupyter.widget-view+json": {
       "model_id": "2e038ab6483e482390c1128c36d2bfbd",
       "version_major": 2,
       "version_minor": 0
      },
      "text/plain": [
       "  0%|          | 0/1 [00:00<?, ?it/s]"
      ]
     },
     "metadata": {},
     "output_type": "display_data"
    },
    {
     "name": "stdout",
     "output_type": "stream",
     "text": [
      "{'eval_loss': 1.3851712942123413, 'eval_runtime': 0.9974, 'eval_samples_per_second': 5.013, 'eval_steps_per_second': 1.003, 'epoch': 2.5}\n",
      "{'loss': 0.649, 'learning_rate': 1.4053072486827079e-06, 'epoch': 2.5}\n"
     ]
    },
    {
     "data": {
      "application/vnd.jupyter.widget-view+json": {
       "model_id": "658c1468ce6046ee880b8e966884680a",
       "version_major": 2,
       "version_minor": 0
      },
      "text/plain": [
       "  0%|          | 0/1 [00:00<?, ?it/s]"
      ]
     },
     "metadata": {},
     "output_type": "display_data"
    },
    {
     "name": "stdout",
     "output_type": "stream",
     "text": [
      "{'eval_loss': 1.3851433992385864, 'eval_runtime': 0.9918, 'eval_samples_per_second': 5.041, 'eval_steps_per_second': 1.008, 'epoch': 2.5}\n",
      "{'loss': 0.5921, 'learning_rate': 1.3712151115103744e-06, 'epoch': 2.51}\n"
     ]
    },
    {
     "data": {
      "application/vnd.jupyter.widget-view+json": {
       "model_id": "936fa65db9be4f1691a20f8174d23d0b",
       "version_major": 2,
       "version_minor": 0
      },
      "text/plain": [
       "  0%|          | 0/1 [00:00<?, ?it/s]"
      ]
     },
     "metadata": {},
     "output_type": "display_data"
    },
    {
     "name": "stdout",
     "output_type": "stream",
     "text": [
      "{'eval_loss': 1.3846049308776855, 'eval_runtime': 1.0272, 'eval_samples_per_second': 4.868, 'eval_steps_per_second': 0.974, 'epoch': 2.51}\n",
      "{'loss': 1.0773, 'learning_rate': 1.3375111372050143e-06, 'epoch': 2.52}\n"
     ]
    },
    {
     "data": {
      "application/vnd.jupyter.widget-view+json": {
       "model_id": "ac7c2c5440604da7ab5d8d1110eefab4",
       "version_major": 2,
       "version_minor": 0
      },
      "text/plain": [
       "  0%|          | 0/1 [00:00<?, ?it/s]"
      ]
     },
     "metadata": {},
     "output_type": "display_data"
    },
    {
     "name": "stdout",
     "output_type": "stream",
     "text": [
      "{'eval_loss': 1.3840011358261108, 'eval_runtime': 1.0812, 'eval_samples_per_second': 4.624, 'eval_steps_per_second': 0.925, 'epoch': 2.52}\n",
      "{'loss': 0.6607, 'learning_rate': 1.3041968419281127e-06, 'epoch': 2.52}\n"
     ]
    },
    {
     "data": {
      "application/vnd.jupyter.widget-view+json": {
       "model_id": "c329a07e93224ec986f108c9be1551d7",
       "version_major": 2,
       "version_minor": 0
      },
      "text/plain": [
       "  0%|          | 0/1 [00:00<?, ?it/s]"
      ]
     },
     "metadata": {},
     "output_type": "display_data"
    },
    {
     "name": "stdout",
     "output_type": "stream",
     "text": [
      "{'eval_loss': 1.3838449716567993, 'eval_runtime': 1.0179, 'eval_samples_per_second': 4.912, 'eval_steps_per_second': 0.982, 'epoch': 2.52}\n",
      "{'loss': 0.9613, 'learning_rate': 1.2712737243115768e-06, 'epoch': 2.53}\n"
     ]
    },
    {
     "data": {
      "application/vnd.jupyter.widget-view+json": {
       "model_id": "41da4e8679ab4c39a8f9eeefd7f1d22d",
       "version_major": 2,
       "version_minor": 0
      },
      "text/plain": [
       "  0%|          | 0/1 [00:00<?, ?it/s]"
      ]
     },
     "metadata": {},
     "output_type": "display_data"
    },
    {
     "name": "stdout",
     "output_type": "stream",
     "text": [
      "{'eval_loss': 1.3839726448059082, 'eval_runtime': 1.0855, 'eval_samples_per_second': 4.606, 'eval_steps_per_second': 0.921, 'epoch': 2.53}\n",
      "{'loss': 0.794, 'learning_rate': 1.2387432653903242e-06, 'epoch': 2.53}\n"
     ]
    },
    {
     "data": {
      "application/vnd.jupyter.widget-view+json": {
       "model_id": "bc069000e4b1448e911db75803673c13",
       "version_major": 2,
       "version_minor": 0
      },
      "text/plain": [
       "  0%|          | 0/1 [00:00<?, ?it/s]"
      ]
     },
     "metadata": {},
     "output_type": "display_data"
    },
    {
     "name": "stdout",
     "output_type": "stream",
     "text": [
      "{'eval_loss': 1.3840677738189697, 'eval_runtime': 1.0787, 'eval_samples_per_second': 4.635, 'eval_steps_per_second': 0.927, 'epoch': 2.53}\n",
      "{'loss': 0.6393, 'learning_rate': 1.2066069285356596e-06, 'epoch': 2.54}\n"
     ]
    },
    {
     "data": {
      "application/vnd.jupyter.widget-view+json": {
       "model_id": "5d6fa2f4cf0b4e1593caf852ba57f938",
       "version_major": 2,
       "version_minor": 0
      },
      "text/plain": [
       "  0%|          | 0/1 [00:00<?, ?it/s]"
      ]
     },
     "metadata": {},
     "output_type": "display_data"
    },
    {
     "name": "stdout",
     "output_type": "stream",
     "text": [
      "{'eval_loss': 1.3839677572250366, 'eval_runtime': 1.0799, 'eval_samples_per_second': 4.63, 'eval_steps_per_second': 0.926, 'epoch': 2.54}\n",
      "{'loss': 0.7945, 'learning_rate': 1.1748661593894506e-06, 'epoch': 2.55}\n"
     ]
    },
    {
     "data": {
      "application/vnd.jupyter.widget-view+json": {
       "model_id": "80d1a571e0f5468ebda680a822f8fcd0",
       "version_major": 2,
       "version_minor": 0
      },
      "text/plain": [
       "  0%|          | 0/1 [00:00<?, ?it/s]"
      ]
     },
     "metadata": {},
     "output_type": "display_data"
    },
    {
     "name": "stdout",
     "output_type": "stream",
     "text": [
      "{'eval_loss': 1.384163737297058, 'eval_runtime': 1.0875, 'eval_samples_per_second': 4.598, 'eval_steps_per_second': 0.92, 'epoch': 2.55}\n",
      "{'loss': 0.7556, 'learning_rate': 1.143522385799074e-06, 'epoch': 2.55}\n"
     ]
    },
    {
     "data": {
      "application/vnd.jupyter.widget-view+json": {
       "model_id": "7159b129792741c890499a5a4e164699",
       "version_major": 2,
       "version_minor": 0
      },
      "text/plain": [
       "  0%|          | 0/1 [00:00<?, ?it/s]"
      ]
     },
     "metadata": {},
     "output_type": "display_data"
    },
    {
     "name": "stdout",
     "output_type": "stream",
     "text": [
      "{'eval_loss': 1.3843492269515991, 'eval_runtime': 1.0854, 'eval_samples_per_second': 4.607, 'eval_steps_per_second': 0.921, 'epoch': 2.55}\n",
      "{'loss': 0.7464, 'learning_rate': 1.1125770177532136e-06, 'epoch': 2.56}\n"
     ]
    },
    {
     "data": {
      "application/vnd.jupyter.widget-view+json": {
       "model_id": "09dd1b1178fb4ababbd2a6dc9cf8bb9c",
       "version_major": 2,
       "version_minor": 0
      },
      "text/plain": [
       "  0%|          | 0/1 [00:00<?, ?it/s]"
      ]
     },
     "metadata": {},
     "output_type": "display_data"
    },
    {
     "name": "stdout",
     "output_type": "stream",
     "text": [
      "{'eval_loss': 1.3847498893737793, 'eval_runtime': 1.0804, 'eval_samples_per_second': 4.628, 'eval_steps_per_second': 0.926, 'epoch': 2.56}\n",
      "{'loss': 0.6802, 'learning_rate': 1.0820314473184224e-06, 'epoch': 2.57}\n"
     ]
    },
    {
     "data": {
      "application/vnd.jupyter.widget-view+json": {
       "model_id": "79d6af7004ba47ed947b331d7d67f832",
       "version_major": 2,
       "version_minor": 0
      },
      "text/plain": [
       "  0%|          | 0/1 [00:00<?, ?it/s]"
      ]
     },
     "metadata": {},
     "output_type": "display_data"
    },
    {
     "name": "stdout",
     "output_type": "stream",
     "text": [
      "{'eval_loss': 1.3848944902420044, 'eval_runtime': 1.0175, 'eval_samples_per_second': 4.914, 'eval_steps_per_second': 0.983, 'epoch': 2.57}\n",
      "{'loss': 0.6375, 'learning_rate': 1.051887048576481e-06, 'epoch': 2.57}\n"
     ]
    },
    {
     "data": {
      "application/vnd.jupyter.widget-view+json": {
       "model_id": "103ee7c0ab01446981379bb4ff5b1637",
       "version_major": 2,
       "version_minor": 0
      },
      "text/plain": [
       "  0%|          | 0/1 [00:00<?, ?it/s]"
      ]
     },
     "metadata": {},
     "output_type": "display_data"
    },
    {
     "name": "stdout",
     "output_type": "stream",
     "text": [
      "{'eval_loss': 1.3848495483398438, 'eval_runtime': 0.9736, 'eval_samples_per_second': 5.135, 'eval_steps_per_second': 1.027, 'epoch': 2.57}\n",
      "{'loss': 0.6056, 'learning_rate': 1.022145177562618e-06, 'epoch': 2.58}\n"
     ]
    },
    {
     "data": {
      "application/vnd.jupyter.widget-view+json": {
       "model_id": "f0f32692bd76418fa434b0cce4e48099",
       "version_major": 2,
       "version_minor": 0
      },
      "text/plain": [
       "  0%|          | 0/1 [00:00<?, ?it/s]"
      ]
     },
     "metadata": {},
     "output_type": "display_data"
    },
    {
     "name": "stdout",
     "output_type": "stream",
     "text": [
      "{'eval_loss': 1.38498055934906, 'eval_runtime': 1.0891, 'eval_samples_per_second': 4.591, 'eval_steps_per_second': 0.918, 'epoch': 2.58}\n",
      "{'loss': 0.666, 'learning_rate': 9.928071722044897e-07, 'epoch': 2.58}\n"
     ]
    },
    {
     "data": {
      "application/vnd.jupyter.widget-view+json": {
       "model_id": "28f3c92d1d2f4fa4b85a7e12f1e62cdc",
       "version_major": 2,
       "version_minor": 0
      },
      "text/plain": [
       "  0%|          | 0/1 [00:00<?, ?it/s]"
      ]
     },
     "metadata": {},
     "output_type": "display_data"
    },
    {
     "name": "stdout",
     "output_type": "stream",
     "text": [
      "{'eval_loss': 1.3853120803833008, 'eval_runtime': 0.978, 'eval_samples_per_second': 5.112, 'eval_steps_per_second': 1.022, 'epoch': 2.58}\n",
      "{'loss': 0.8134, 'learning_rate': 9.638743522619876e-07, 'epoch': 2.59}\n"
     ]
    },
    {
     "data": {
      "application/vnd.jupyter.widget-view+json": {
       "model_id": "35b3cab8929d46dca28dcd79cb22bd19",
       "version_major": 2,
       "version_minor": 0
      },
      "text/plain": [
       "  0%|          | 0/1 [00:00<?, ?it/s]"
      ]
     },
     "metadata": {},
     "output_type": "display_data"
    },
    {
     "name": "stdout",
     "output_type": "stream",
     "text": [
      "{'eval_loss': 1.3852458000183105, 'eval_runtime': 0.9854, 'eval_samples_per_second': 5.074, 'eval_steps_per_second': 1.015, 'epoch': 2.59}\n",
      "{'loss': 0.6919, 'learning_rate': 9.35348019267891e-07, 'epoch': 2.6}\n"
     ]
    },
    {
     "data": {
      "application/vnd.jupyter.widget-view+json": {
       "model_id": "75bce019004240c4ad51ef2181d9c655",
       "version_major": 2,
       "version_minor": 0
      },
      "text/plain": [
       "  0%|          | 0/1 [00:00<?, ?it/s]"
      ]
     },
     "metadata": {},
     "output_type": "display_data"
    },
    {
     "name": "stdout",
     "output_type": "stream",
     "text": [
      "{'eval_loss': 1.385074257850647, 'eval_runtime': 1.0847, 'eval_samples_per_second': 4.609, 'eval_steps_per_second': 0.922, 'epoch': 2.6}\n",
      "{'loss': 0.4644, 'learning_rate': 9.072294564693041e-07, 'epoch': 2.6}\n"
     ]
    },
    {
     "data": {
      "application/vnd.jupyter.widget-view+json": {
       "model_id": "8272c0f321934abd956d983df880fe8b",
       "version_major": 2,
       "version_minor": 0
      },
      "text/plain": [
       "  0%|          | 0/1 [00:00<?, ?it/s]"
      ]
     },
     "metadata": {},
     "output_type": "display_data"
    },
    {
     "name": "stdout",
     "output_type": "stream",
     "text": [
      "{'eval_loss': 1.3851649761199951, 'eval_runtime': 1.0856, 'eval_samples_per_second': 4.606, 'eval_steps_per_second': 0.921, 'epoch': 2.6}\n",
      "{'loss': 0.4804, 'learning_rate': 8.79519928769923e-07, 'epoch': 2.61}\n"
     ]
    },
    {
     "data": {
      "application/vnd.jupyter.widget-view+json": {
       "model_id": "b25ae8f260d345478d66bf367da94bf1",
       "version_major": 2,
       "version_minor": 0
      },
      "text/plain": [
       "  0%|          | 0/1 [00:00<?, ?it/s]"
      ]
     },
     "metadata": {},
     "output_type": "display_data"
    },
    {
     "name": "stdout",
     "output_type": "stream",
     "text": [
      "{'eval_loss': 1.3849847316741943, 'eval_runtime': 1.0172, 'eval_samples_per_second': 4.916, 'eval_steps_per_second': 0.983, 'epoch': 2.61}\n",
      "{'loss': 0.614, 'learning_rate': 8.522206826731516e-07, 'epoch': 2.61}\n"
     ]
    },
    {
     "data": {
      "application/vnd.jupyter.widget-view+json": {
       "model_id": "58911371ca9648b2a018ebc4ffb7cc96",
       "version_major": 2,
       "version_minor": 0
      },
      "text/plain": [
       "  0%|          | 0/1 [00:00<?, ?it/s]"
      ]
     },
     "metadata": {},
     "output_type": "display_data"
    },
    {
     "name": "stdout",
     "output_type": "stream",
     "text": [
      "{'eval_loss': 1.3846338987350464, 'eval_runtime': 1.0124, 'eval_samples_per_second': 4.939, 'eval_steps_per_second': 0.988, 'epoch': 2.61}\n",
      "{'loss': 0.6064, 'learning_rate': 8.253329462260207e-07, 'epoch': 2.62}\n"
     ]
    },
    {
     "data": {
      "application/vnd.jupyter.widget-view+json": {
       "model_id": "c26eb7d9369b42fa9d3acef953c5da27",
       "version_major": 2,
       "version_minor": 0
      },
      "text/plain": [
       "  0%|          | 0/1 [00:00<?, ?it/s]"
      ]
     },
     "metadata": {},
     "output_type": "display_data"
    },
    {
     "name": "stdout",
     "output_type": "stream",
     "text": [
      "{'eval_loss': 1.384263277053833, 'eval_runtime': 1.0492, 'eval_samples_per_second': 4.765, 'eval_steps_per_second': 0.953, 'epoch': 2.62}\n",
      "{'loss': 0.7512, 'learning_rate': 7.988579289639365e-07, 'epoch': 2.63}\n"
     ]
    },
    {
     "data": {
      "application/vnd.jupyter.widget-view+json": {
       "model_id": "8f22d0d6d756427a9128785bed9a2838",
       "version_major": 2,
       "version_minor": 0
      },
      "text/plain": [
       "  0%|          | 0/1 [00:00<?, ?it/s]"
      ]
     },
     "metadata": {},
     "output_type": "display_data"
    },
    {
     "name": "stdout",
     "output_type": "stream",
     "text": [
      "{'eval_loss': 1.3838021755218506, 'eval_runtime': 0.9857, 'eval_samples_per_second': 5.072, 'eval_steps_per_second': 1.014, 'epoch': 2.63}\n",
      "{'loss': 0.8527, 'learning_rate': 7.727968218562798e-07, 'epoch': 2.63}\n"
     ]
    },
    {
     "data": {
      "application/vnd.jupyter.widget-view+json": {
       "model_id": "e44d09176c6f452b85500599b6b5432b",
       "version_major": 2,
       "version_minor": 0
      },
      "text/plain": [
       "  0%|          | 0/1 [00:00<?, ?it/s]"
      ]
     },
     "metadata": {},
     "output_type": "display_data"
    },
    {
     "name": "stdout",
     "output_type": "stream",
     "text": [
      "{'eval_loss': 1.3834104537963867, 'eval_runtime': 0.9849, 'eval_samples_per_second': 5.076, 'eval_steps_per_second': 1.015, 'epoch': 2.63}\n",
      "{'loss': 0.7765, 'learning_rate': 7.471507972528325e-07, 'epoch': 2.64}\n"
     ]
    },
    {
     "data": {
      "application/vnd.jupyter.widget-view+json": {
       "model_id": "7ea1030fc80f416fb2025b81317d9595",
       "version_major": 2,
       "version_minor": 0
      },
      "text/plain": [
       "  0%|          | 0/1 [00:00<?, ?it/s]"
      ]
     },
     "metadata": {},
     "output_type": "display_data"
    },
    {
     "name": "stdout",
     "output_type": "stream",
     "text": [
      "{'eval_loss': 1.3829768896102905, 'eval_runtime': 1.0111, 'eval_samples_per_second': 4.945, 'eval_steps_per_second': 0.989, 'epoch': 2.64}\n",
      "{'loss': 0.9656, 'learning_rate': 7.219210088310291e-07, 'epoch': 2.65}\n"
     ]
    },
    {
     "data": {
      "application/vnd.jupyter.widget-view+json": {
       "model_id": "5ce606d054514e67a1ba73c2e5d1aac8",
       "version_major": 2,
       "version_minor": 0
      },
      "text/plain": [
       "  0%|          | 0/1 [00:00<?, ?it/s]"
      ]
     },
     "metadata": {},
     "output_type": "display_data"
    },
    {
     "name": "stdout",
     "output_type": "stream",
     "text": [
      "{'eval_loss': 1.3828803300857544, 'eval_runtime': 1.0188, 'eval_samples_per_second': 4.908, 'eval_steps_per_second': 0.982, 'epoch': 2.65}\n",
      "{'loss': 0.622, 'learning_rate': 6.971085915440679e-07, 'epoch': 2.65}\n"
     ]
    },
    {
     "data": {
      "application/vnd.jupyter.widget-view+json": {
       "model_id": "f85c6b3ab3fc430a9a99bfea422517b5",
       "version_major": 2,
       "version_minor": 0
      },
      "text/plain": [
       "  0%|          | 0/1 [00:00<?, ?it/s]"
      ]
     },
     "metadata": {},
     "output_type": "display_data"
    },
    {
     "name": "stdout",
     "output_type": "stream",
     "text": [
      "{'eval_loss': 1.3827247619628906, 'eval_runtime': 1.082, 'eval_samples_per_second': 4.621, 'eval_steps_per_second': 0.924, 'epoch': 2.65}\n",
      "{'loss': 0.8135, 'learning_rate': 6.727146615698555e-07, 'epoch': 2.66}\n"
     ]
    },
    {
     "data": {
      "application/vnd.jupyter.widget-view+json": {
       "model_id": "7ffc4ee2add3460aa340146658624db8",
       "version_major": 2,
       "version_minor": 0
      },
      "text/plain": [
       "  0%|          | 0/1 [00:00<?, ?it/s]"
      ]
     },
     "metadata": {},
     "output_type": "display_data"
    },
    {
     "name": "stdout",
     "output_type": "stream",
     "text": [
      "{'eval_loss': 1.3823875188827515, 'eval_runtime': 0.9696, 'eval_samples_per_second': 5.157, 'eval_steps_per_second': 1.031, 'epoch': 2.66}\n",
      "{'loss': 0.8374, 'learning_rate': 6.487403162607875e-07, 'epoch': 2.66}\n"
     ]
    },
    {
     "data": {
      "application/vnd.jupyter.widget-view+json": {
       "model_id": "393cf7c44c1346e1bd87a910b5f48345",
       "version_major": 2,
       "version_minor": 0
      },
      "text/plain": [
       "  0%|          | 0/1 [00:00<?, ?it/s]"
      ]
     },
     "metadata": {},
     "output_type": "display_data"
    },
    {
     "name": "stdout",
     "output_type": "stream",
     "text": [
      "{'eval_loss': 1.3821152448654175, 'eval_runtime': 1.0956, 'eval_samples_per_second': 4.564, 'eval_steps_per_second': 0.913, 'epoch': 2.66}\n",
      "{'loss': 0.7105, 'learning_rate': 6.251866340943946e-07, 'epoch': 2.67}\n"
     ]
    },
    {
     "data": {
      "application/vnd.jupyter.widget-view+json": {
       "model_id": "1ebb3fcb620d43e492e6141b82dda146",
       "version_major": 2,
       "version_minor": 0
      },
      "text/plain": [
       "  0%|          | 0/1 [00:00<?, ?it/s]"
      ]
     },
     "metadata": {},
     "output_type": "display_data"
    },
    {
     "name": "stdout",
     "output_type": "stream",
     "text": [
      "{'eval_loss': 1.38202702999115, 'eval_runtime': 1.0802, 'eval_samples_per_second': 4.629, 'eval_steps_per_second': 0.926, 'epoch': 2.67}\n",
      "{'loss': 0.5934, 'learning_rate': 6.020546746248224e-07, 'epoch': 2.68}\n"
     ]
    },
    {
     "data": {
      "application/vnd.jupyter.widget-view+json": {
       "model_id": "06ee5e2173034d628956c7a96884b503",
       "version_major": 2,
       "version_minor": 0
      },
      "text/plain": [
       "  0%|          | 0/1 [00:00<?, ?it/s]"
      ]
     },
     "metadata": {},
     "output_type": "display_data"
    },
    {
     "name": "stdout",
     "output_type": "stream",
     "text": [
      "{'eval_loss': 1.3818461894989014, 'eval_runtime': 0.9905, 'eval_samples_per_second': 5.048, 'eval_steps_per_second': 1.01, 'epoch': 2.68}\n",
      "{'loss': 0.9445, 'learning_rate': 5.793454784351693e-07, 'epoch': 2.68}\n"
     ]
    },
    {
     "data": {
      "application/vnd.jupyter.widget-view+json": {
       "model_id": "976ca3d550784126a87eb59d680e1ff7",
       "version_major": 2,
       "version_minor": 0
      },
      "text/plain": [
       "  0%|          | 0/1 [00:00<?, ?it/s]"
      ]
     },
     "metadata": {},
     "output_type": "display_data"
    },
    {
     "name": "stdout",
     "output_type": "stream",
     "text": [
      "{'eval_loss': 1.3816282749176025, 'eval_runtime': 1.0452, 'eval_samples_per_second': 4.784, 'eval_steps_per_second': 0.957, 'epoch': 2.68}\n",
      "{'loss': 0.605, 'learning_rate': 5.570600670906712e-07, 'epoch': 2.69}\n"
     ]
    },
    {
     "data": {
      "application/vnd.jupyter.widget-view+json": {
       "model_id": "bcd2374a20f64a7b90308ccc61a789a2",
       "version_major": 2,
       "version_minor": 0
      },
      "text/plain": [
       "  0%|          | 0/1 [00:00<?, ?it/s]"
      ]
     },
     "metadata": {},
     "output_type": "display_data"
    },
    {
     "name": "stdout",
     "output_type": "stream",
     "text": [
      "{'eval_loss': 1.3811533451080322, 'eval_runtime': 0.9988, 'eval_samples_per_second': 5.006, 'eval_steps_per_second': 1.001, 'epoch': 2.69}\n",
      "{'loss': 0.8405, 'learning_rate': 5.351994430927588e-07, 'epoch': 2.7}\n"
     ]
    },
    {
     "data": {
      "application/vnd.jupyter.widget-view+json": {
       "model_id": "2e365505bd704d1db77120df3c42232c",
       "version_major": 2,
       "version_minor": 0
      },
      "text/plain": [
       "  0%|          | 0/1 [00:00<?, ?it/s]"
      ]
     },
     "metadata": {},
     "output_type": "display_data"
    },
    {
     "name": "stdout",
     "output_type": "stream",
     "text": [
      "{'eval_loss': 1.3803166151046753, 'eval_runtime': 1.0883, 'eval_samples_per_second': 4.594, 'eval_steps_per_second': 0.919, 'epoch': 2.7}\n",
      "{'loss': 0.7281, 'learning_rate': 5.137645898339472e-07, 'epoch': 2.7}\n"
     ]
    },
    {
     "data": {
      "application/vnd.jupyter.widget-view+json": {
       "model_id": "c5bdd275b1a64661bb662bd7d50f2fa9",
       "version_major": 2,
       "version_minor": 0
      },
      "text/plain": [
       "  0%|          | 0/1 [00:00<?, ?it/s]"
      ]
     },
     "metadata": {},
     "output_type": "display_data"
    },
    {
     "name": "stdout",
     "output_type": "stream",
     "text": [
      "{'eval_loss': 1.3798474073410034, 'eval_runtime': 0.9936, 'eval_samples_per_second': 5.032, 'eval_steps_per_second': 1.006, 'epoch': 2.7}\n",
      "{'loss': 0.7559, 'learning_rate': 4.927564715536015e-07, 'epoch': 2.71}\n"
     ]
    },
    {
     "data": {
      "application/vnd.jupyter.widget-view+json": {
       "model_id": "b65d5597b9ed4f6bab4719d5963669b6",
       "version_major": 2,
       "version_minor": 0
      },
      "text/plain": [
       "  0%|          | 0/1 [00:00<?, ?it/s]"
      ]
     },
     "metadata": {},
     "output_type": "display_data"
    },
    {
     "name": "stdout",
     "output_type": "stream",
     "text": [
      "{'eval_loss': 1.3797167539596558, 'eval_runtime': 1.0123, 'eval_samples_per_second': 4.939, 'eval_steps_per_second': 0.988, 'epoch': 2.71}\n",
      "{'loss': 0.5854, 'learning_rate': 4.721760332945724e-07, 'epoch': 2.71}\n"
     ]
    },
    {
     "data": {
      "application/vnd.jupyter.widget-view+json": {
       "model_id": "3b7e7fbfd8ca4e6d8df30665ef5118a3",
       "version_major": 2,
       "version_minor": 0
      },
      "text/plain": [
       "  0%|          | 0/1 [00:00<?, ?it/s]"
      ]
     },
     "metadata": {},
     "output_type": "display_data"
    },
    {
     "name": "stdout",
     "output_type": "stream",
     "text": [
      "{'eval_loss': 1.3796675205230713, 'eval_runtime': 1.0867, 'eval_samples_per_second': 4.601, 'eval_steps_per_second': 0.92, 'epoch': 2.71}\n",
      "{'loss': 0.7068, 'learning_rate': 4.5202420086066566e-07, 'epoch': 2.72}\n"
     ]
    },
    {
     "data": {
      "application/vnd.jupyter.widget-view+json": {
       "model_id": "6368ac43d12244afa943edea1e024239",
       "version_major": 2,
       "version_minor": 0
      },
      "text/plain": [
       "  0%|          | 0/1 [00:00<?, ?it/s]"
      ]
     },
     "metadata": {},
     "output_type": "display_data"
    },
    {
     "name": "stdout",
     "output_type": "stream",
     "text": [
      "{'eval_loss': 1.3796354532241821, 'eval_runtime': 1.0948, 'eval_samples_per_second': 4.567, 'eval_steps_per_second': 0.913, 'epoch': 2.72}\n",
      "{'loss': 0.8, 'learning_rate': 4.323018807750079e-07, 'epoch': 2.73}\n"
     ]
    },
    {
     "data": {
      "application/vnd.jupyter.widget-view+json": {
       "model_id": "240795dda9454240a3a1ed4337f06919",
       "version_major": 2,
       "version_minor": 0
      },
      "text/plain": [
       "  0%|          | 0/1 [00:00<?, ?it/s]"
      ]
     },
     "metadata": {},
     "output_type": "display_data"
    },
    {
     "name": "stdout",
     "output_type": "stream",
     "text": [
      "{'eval_loss': 1.3796699047088623, 'eval_runtime': 1.0046, 'eval_samples_per_second': 4.977, 'eval_steps_per_second': 0.995, 'epoch': 2.73}\n",
      "{'loss': 0.7997, 'learning_rate': 4.1300996023926344e-07, 'epoch': 2.73}\n"
     ]
    },
    {
     "data": {
      "application/vnd.jupyter.widget-view+json": {
       "model_id": "0b9f0d654db94b4da5dd83009f4656dc",
       "version_major": 2,
       "version_minor": 0
      },
      "text/plain": [
       "  0%|          | 0/1 [00:00<?, ?it/s]"
      ]
     },
     "metadata": {},
     "output_type": "display_data"
    },
    {
     "name": "stdout",
     "output_type": "stream",
     "text": [
      "{'eval_loss': 1.3795286417007446, 'eval_runtime': 1.0804, 'eval_samples_per_second': 4.628, 'eval_steps_per_second': 0.926, 'epoch': 2.73}\n",
      "{'loss': 0.5858, 'learning_rate': 3.9414930709372414e-07, 'epoch': 2.74}\n"
     ]
    },
    {
     "data": {
      "application/vnd.jupyter.widget-view+json": {
       "model_id": "63e2cb078ad54cf5961ea77fcf0e3afc",
       "version_major": 2,
       "version_minor": 0
      },
      "text/plain": [
       "  0%|          | 0/1 [00:00<?, ?it/s]"
      ]
     },
     "metadata": {},
     "output_type": "display_data"
    },
    {
     "name": "stdout",
     "output_type": "stream",
     "text": [
      "{'eval_loss': 1.3792821168899536, 'eval_runtime': 0.9797, 'eval_samples_per_second': 5.104, 'eval_steps_per_second': 1.021, 'epoch': 2.74}\n",
      "{'loss': 0.648, 'learning_rate': 3.757207697782639e-07, 'epoch': 2.75}\n"
     ]
    },
    {
     "data": {
      "application/vnd.jupyter.widget-view+json": {
       "model_id": "3f9dbabb91284f3ab6c594a27b1bf427",
       "version_major": 2,
       "version_minor": 0
      },
      "text/plain": [
       "  0%|          | 0/1 [00:00<?, ?it/s]"
      ]
     },
     "metadata": {},
     "output_type": "display_data"
    },
    {
     "name": "stdout",
     "output_type": "stream",
     "text": [
      "{'eval_loss': 1.3785005807876587, 'eval_runtime': 1.0955, 'eval_samples_per_second': 4.564, 'eval_steps_per_second': 0.913, 'epoch': 2.75}\n",
      "{'loss': 0.8049, 'learning_rate': 3.5772517729418475e-07, 'epoch': 2.75}\n"
     ]
    },
    {
     "data": {
      "application/vnd.jupyter.widget-view+json": {
       "model_id": "8d44afc0694d425ba8c7e3e823a9018f",
       "version_major": 2,
       "version_minor": 0
      },
      "text/plain": [
       "  0%|          | 0/1 [00:00<?, ?it/s]"
      ]
     },
     "metadata": {},
     "output_type": "display_data"
    },
    {
     "name": "stdout",
     "output_type": "stream",
     "text": [
      "{'eval_loss': 1.3782371282577515, 'eval_runtime': 1.0205, 'eval_samples_per_second': 4.899, 'eval_steps_per_second': 0.98, 'epoch': 2.75}\n",
      "{'loss': 0.5493, 'learning_rate': 3.4016333916691344e-07, 'epoch': 2.76}\n"
     ]
    },
    {
     "data": {
      "application/vnd.jupyter.widget-view+json": {
       "model_id": "158d88f1941a4d7a972651abf60cdf38",
       "version_major": 2,
       "version_minor": 0
      },
      "text/plain": [
       "  0%|          | 0/1 [00:00<?, ?it/s]"
      ]
     },
     "metadata": {},
     "output_type": "display_data"
    },
    {
     "name": "stdout",
     "output_type": "stream",
     "text": [
      "{'eval_loss': 1.3780090808868408, 'eval_runtime': 1.0376, 'eval_samples_per_second': 4.819, 'eval_steps_per_second': 0.964, 'epoch': 2.76}\n",
      "{'loss': 0.7989, 'learning_rate': 3.230360454095871e-07, 'epoch': 2.76}\n"
     ]
    },
    {
     "data": {
      "application/vnd.jupyter.widget-view+json": {
       "model_id": "e75b880ae774433dafbb925a4e2113a5",
       "version_major": 2,
       "version_minor": 0
      },
      "text/plain": [
       "  0%|          | 0/1 [00:00<?, ?it/s]"
      ]
     },
     "metadata": {},
     "output_type": "display_data"
    },
    {
     "name": "stdout",
     "output_type": "stream",
     "text": [
      "{'eval_loss': 1.3778949975967407, 'eval_runtime': 0.9653, 'eval_samples_per_second': 5.18, 'eval_steps_per_second': 1.036, 'epoch': 2.76}\n",
      "{'loss': 0.6234, 'learning_rate': 3.063440664875217e-07, 'epoch': 2.77}\n"
     ]
    },
    {
     "data": {
      "application/vnd.jupyter.widget-view+json": {
       "model_id": "42692ae887194a018ef5ac7f9f53e103",
       "version_major": 2,
       "version_minor": 0
      },
      "text/plain": [
       "  0%|          | 0/1 [00:00<?, ?it/s]"
      ]
     },
     "metadata": {},
     "output_type": "display_data"
    },
    {
     "name": "stdout",
     "output_type": "stream",
     "text": [
      "{'eval_loss': 1.3779195547103882, 'eval_runtime': 1.0744, 'eval_samples_per_second': 4.654, 'eval_steps_per_second': 0.931, 'epoch': 2.77}\n",
      "{'loss': 0.7596, 'learning_rate': 2.90088153283542e-07, 'epoch': 2.78}\n"
     ]
    },
    {
     "data": {
      "application/vnd.jupyter.widget-view+json": {
       "model_id": "609aab225382406fbe9166742e3c5ec2",
       "version_major": 2,
       "version_minor": 0
      },
      "text/plain": [
       "  0%|          | 0/1 [00:00<?, ?it/s]"
      ]
     },
     "metadata": {},
     "output_type": "display_data"
    },
    {
     "name": "stdout",
     "output_type": "stream",
     "text": [
      "{'eval_loss': 1.377978801727295, 'eval_runtime': 1.0658, 'eval_samples_per_second': 4.691, 'eval_steps_per_second': 0.938, 'epoch': 2.78}\n",
      "{'loss': 0.5708, 'learning_rate': 2.7426903706421207e-07, 'epoch': 2.78}\n"
     ]
    },
    {
     "data": {
      "application/vnd.jupyter.widget-view+json": {
       "model_id": "667d1c24f88f4c1590b3261a69895073",
       "version_major": 2,
       "version_minor": 0
      },
      "text/plain": [
       "  0%|          | 0/1 [00:00<?, ?it/s]"
      ]
     },
     "metadata": {},
     "output_type": "display_data"
    },
    {
     "name": "stdout",
     "output_type": "stream",
     "text": [
      "{'eval_loss': 1.3780144453048706, 'eval_runtime': 0.9848, 'eval_samples_per_second': 5.077, 'eval_steps_per_second': 1.015, 'epoch': 2.78}\n",
      "{'loss': 0.9401, 'learning_rate': 2.588874294469368e-07, 'epoch': 2.79}\n"
     ]
    },
    {
     "data": {
      "application/vnd.jupyter.widget-view+json": {
       "model_id": "82761727eada4c5c86f2687d53fc5c8d",
       "version_major": 2,
       "version_minor": 0
      },
      "text/plain": [
       "  0%|          | 0/1 [00:00<?, ?it/s]"
      ]
     },
     "metadata": {},
     "output_type": "display_data"
    },
    {
     "name": "stdout",
     "output_type": "stream",
     "text": [
      "{'eval_loss': 1.3780722618103027, 'eval_runtime': 1.0683, 'eval_samples_per_second': 4.68, 'eval_steps_per_second': 0.936, 'epoch': 2.79}\n",
      "{'loss': 0.676, 'learning_rate': 2.43944022367949e-07, 'epoch': 2.8}\n"
     ]
    },
    {
     "data": {
      "application/vnd.jupyter.widget-view+json": {
       "model_id": "68af29befb08475486f67ca69c5e3294",
       "version_major": 2,
       "version_minor": 0
      },
      "text/plain": [
       "  0%|          | 0/1 [00:00<?, ?it/s]"
      ]
     },
     "metadata": {},
     "output_type": "display_data"
    },
    {
     "name": "stdout",
     "output_type": "stream",
     "text": [
      "{'eval_loss': 1.3781332969665527, 'eval_runtime': 1.015, 'eval_samples_per_second': 4.926, 'eval_steps_per_second': 0.985, 'epoch': 2.8}\n",
      "{'loss': 0.7896, 'learning_rate': 2.294394880511852e-07, 'epoch': 2.8}\n"
     ]
    },
    {
     "data": {
      "application/vnd.jupyter.widget-view+json": {
       "model_id": "7bb640b1c6a84ba6b2eed75a8ec45cd4",
       "version_major": 2,
       "version_minor": 0
      },
      "text/plain": [
       "  0%|          | 0/1 [00:00<?, ?it/s]"
      ]
     },
     "metadata": {},
     "output_type": "display_data"
    },
    {
     "name": "stdout",
     "output_type": "stream",
     "text": [
      "{'eval_loss': 1.3782211542129517, 'eval_runtime': 0.9874, 'eval_samples_per_second': 5.064, 'eval_steps_per_second': 1.013, 'epoch': 2.8}\n",
      "{'loss': 0.8766, 'learning_rate': 2.153744789780421e-07, 'epoch': 2.81}\n"
     ]
    },
    {
     "data": {
      "application/vnd.jupyter.widget-view+json": {
       "model_id": "cbbf0b1b9c1e4cd6811038a0a9791d28",
       "version_major": 2,
       "version_minor": 0
      },
      "text/plain": [
       "  0%|          | 0/1 [00:00<?, ?it/s]"
      ]
     },
     "metadata": {},
     "output_type": "display_data"
    },
    {
     "name": "stdout",
     "output_type": "stream",
     "text": [
      "{'eval_loss': 1.3782110214233398, 'eval_runtime': 1.0037, 'eval_samples_per_second': 4.982, 'eval_steps_per_second': 0.996, 'epoch': 2.81}\n",
      "{'loss': 0.9507, 'learning_rate': 2.0174962785802665e-07, 'epoch': 2.81}\n"
     ]
    },
    {
     "data": {
      "application/vnd.jupyter.widget-view+json": {
       "model_id": "3532788ba3154be48155d34f34bdf9cb",
       "version_major": 2,
       "version_minor": 0
      },
      "text/plain": [
       "  0%|          | 0/1 [00:00<?, ?it/s]"
      ]
     },
     "metadata": {},
     "output_type": "display_data"
    },
    {
     "name": "stdout",
     "output_type": "stream",
     "text": [
      "{'eval_loss': 1.3781801462173462, 'eval_runtime': 1.0578, 'eval_samples_per_second': 4.727, 'eval_steps_per_second': 0.945, 'epoch': 2.81}\n",
      "{'loss': 0.7748, 'learning_rate': 1.8856554760029788e-07, 'epoch': 2.82}\n"
     ]
    },
    {
     "data": {
      "application/vnd.jupyter.widget-view+json": {
       "model_id": "7a4394c03801441eb6d51b9dae442c68",
       "version_major": 2,
       "version_minor": 0
      },
      "text/plain": [
       "  0%|          | 0/1 [00:00<?, ?it/s]"
      ]
     },
     "metadata": {},
     "output_type": "display_data"
    },
    {
     "name": "stdout",
     "output_type": "stream",
     "text": [
      "{'eval_loss': 1.3781421184539795, 'eval_runtime': 1.085, 'eval_samples_per_second': 4.608, 'eval_steps_per_second': 0.922, 'epoch': 2.82}\n",
      "{'loss': 1.0402, 'learning_rate': 1.758228312860899e-07, 'epoch': 2.83}\n"
     ]
    },
    {
     "data": {
      "application/vnd.jupyter.widget-view+json": {
       "model_id": "3ada8d88b8634586a2d35d516559e4ec",
       "version_major": 2,
       "version_minor": 0
      },
      "text/plain": [
       "  0%|          | 0/1 [00:00<?, ?it/s]"
      ]
     },
     "metadata": {},
     "output_type": "display_data"
    },
    {
     "name": "stdout",
     "output_type": "stream",
     "text": [
      "{'eval_loss': 1.3781309127807617, 'eval_runtime': 0.9805, 'eval_samples_per_second': 5.1, 'eval_steps_per_second': 1.02, 'epoch': 2.83}\n",
      "{'loss': 0.8382, 'learning_rate': 1.6352205214203332e-07, 'epoch': 2.83}\n"
     ]
    },
    {
     "data": {
      "application/vnd.jupyter.widget-view+json": {
       "model_id": "769f27beffbf42d9b1328d8b94f6a186",
       "version_major": 2,
       "version_minor": 0
      },
      "text/plain": [
       "  0%|          | 0/1 [00:00<?, ?it/s]"
      ]
     },
     "metadata": {},
     "output_type": "display_data"
    },
    {
     "name": "stdout",
     "output_type": "stream",
     "text": [
      "{'eval_loss': 1.378152847290039, 'eval_runtime': 1.0912, 'eval_samples_per_second': 4.582, 'eval_steps_per_second': 0.916, 'epoch': 2.83}\n",
      "{'loss': 0.7858, 'learning_rate': 1.516637635143725e-07, 'epoch': 2.84}\n"
     ]
    },
    {
     "data": {
      "application/vnd.jupyter.widget-view+json": {
       "model_id": "5bbb114f2efd4a6781de7722800fa858",
       "version_major": 2,
       "version_minor": 0
      },
      "text/plain": [
       "  0%|          | 0/1 [00:00<?, ?it/s]"
      ]
     },
     "metadata": {},
     "output_type": "display_data"
    },
    {
     "name": "stdout",
     "output_type": "stream",
     "text": [
      "{'eval_loss': 1.3781901597976685, 'eval_runtime': 0.9758, 'eval_samples_per_second': 5.124, 'eval_steps_per_second': 1.025, 'epoch': 2.84}\n",
      "{'loss': 0.6741, 'learning_rate': 1.402484988440689e-07, 'epoch': 2.84}\n"
     ]
    },
    {
     "data": {
      "application/vnd.jupyter.widget-view+json": {
       "model_id": "a696ae6576154654b8a8c3242e0fc753",
       "version_major": 2,
       "version_minor": 0
      },
      "text/plain": [
       "  0%|          | 0/1 [00:00<?, ?it/s]"
      ]
     },
     "metadata": {},
     "output_type": "display_data"
    },
    {
     "name": "stdout",
     "output_type": "stream",
     "text": [
      "{'eval_loss': 1.3781920671463013, 'eval_runtime': 1.0766, 'eval_samples_per_second': 4.644, 'eval_steps_per_second': 0.929, 'epoch': 2.84}\n",
      "{'loss': 0.5981, 'learning_rate': 1.2927677164280562e-07, 'epoch': 2.85}\n"
     ]
    },
    {
     "data": {
      "application/vnd.jupyter.widget-view+json": {
       "model_id": "1e8c8c00416949a79280caacbb813a77",
       "version_major": 2,
       "version_minor": 0
      },
      "text/plain": [
       "  0%|          | 0/1 [00:00<?, ?it/s]"
      ]
     },
     "metadata": {},
     "output_type": "display_data"
    },
    {
     "name": "stdout",
     "output_type": "stream",
     "text": [
      "{'eval_loss': 1.3781449794769287, 'eval_runtime': 1.0164, 'eval_samples_per_second': 4.919, 'eval_steps_per_second': 0.984, 'epoch': 2.85}\n",
      "{'loss': 0.6955, 'learning_rate': 1.1874907546989057e-07, 'epoch': 2.86}\n"
     ]
    },
    {
     "data": {
      "application/vnd.jupyter.widget-view+json": {
       "model_id": "3603f55717b64932bdf4e5a89a22dd93",
       "version_major": 2,
       "version_minor": 0
      },
      "text/plain": [
       "  0%|          | 0/1 [00:00<?, ?it/s]"
      ]
     },
     "metadata": {},
     "output_type": "display_data"
    },
    {
     "name": "stdout",
     "output_type": "stream",
     "text": [
      "{'eval_loss': 1.3780920505523682, 'eval_runtime': 1.088, 'eval_samples_per_second': 4.595, 'eval_steps_per_second': 0.919, 'epoch': 2.86}\n",
      "{'loss': 0.7908, 'learning_rate': 1.0866588391004962e-07, 'epoch': 2.86}\n"
     ]
    },
    {
     "data": {
      "application/vnd.jupyter.widget-view+json": {
       "model_id": "dc7964519ba349deb425fab9e86a1e1e",
       "version_major": 2,
       "version_minor": 0
      },
      "text/plain": [
       "  0%|          | 0/1 [00:00<?, ?it/s]"
      ]
     },
     "metadata": {},
     "output_type": "display_data"
    },
    {
     "name": "stdout",
     "output_type": "stream",
     "text": [
      "{'eval_loss': 1.3780628442764282, 'eval_runtime': 0.9935, 'eval_samples_per_second': 5.033, 'eval_steps_per_second': 1.007, 'epoch': 2.86}\n",
      "{'loss': 0.5134, 'learning_rate': 9.902765055212483e-08, 'epoch': 2.87}\n"
     ]
    },
    {
     "data": {
      "application/vnd.jupyter.widget-view+json": {
       "model_id": "b4fff8a2c0da4eff9d6a323ada51bfc9",
       "version_major": 2,
       "version_minor": 0
      },
      "text/plain": [
       "  0%|          | 0/1 [00:00<?, ?it/s]"
      ]
     },
     "metadata": {},
     "output_type": "display_data"
    },
    {
     "name": "stdout",
     "output_type": "stream",
     "text": [
      "{'eval_loss': 1.3780561685562134, 'eval_runtime': 1.0775, 'eval_samples_per_second': 4.641, 'eval_steps_per_second': 0.928, 'epoch': 2.87}\n",
      "{'loss': 0.5937, 'learning_rate': 8.983480896866847e-08, 'epoch': 2.88}\n"
     ]
    },
    {
     "data": {
      "application/vnd.jupyter.widget-view+json": {
       "model_id": "dcf4498e19554d5ead6e4b301616d729",
       "version_major": 2,
       "version_minor": 0
      },
      "text/plain": [
       "  0%|          | 0/1 [00:00<?, ?it/s]"
      ]
     },
     "metadata": {},
     "output_type": "display_data"
    },
    {
     "name": "stdout",
     "output_type": "stream",
     "text": [
      "{'eval_loss': 1.3780620098114014, 'eval_runtime': 1.0849, 'eval_samples_per_second': 4.609, 'eval_steps_per_second': 0.922, 'epoch': 2.88}\n",
      "{'loss': 0.7548, 'learning_rate': 8.108777269644097e-08, 'epoch': 2.88}\n"
     ]
    },
    {
     "data": {
      "application/vnd.jupyter.widget-view+json": {
       "model_id": "435c5d0fc48b45bcb08dbc18fb57513a",
       "version_major": 2,
       "version_minor": 0
      },
      "text/plain": [
       "  0%|          | 0/1 [00:00<?, ?it/s]"
      ]
     },
     "metadata": {},
     "output_type": "display_data"
    },
    {
     "name": "stdout",
     "output_type": "stream",
     "text": [
      "{'eval_loss': 1.3780748844146729, 'eval_runtime': 1.0249, 'eval_samples_per_second': 4.879, 'eval_steps_per_second': 0.976, 'epoch': 2.88}\n",
      "{'loss': 0.7145, 'learning_rate': 7.278693521780566e-08, 'epoch': 2.89}\n"
     ]
    },
    {
     "data": {
      "application/vnd.jupyter.widget-view+json": {
       "model_id": "0859ee0cbf964d50b8a6ff006978ce6e",
       "version_major": 2,
       "version_minor": 0
      },
      "text/plain": [
       "  0%|          | 0/1 [00:00<?, ?it/s]"
      ]
     },
     "metadata": {},
     "output_type": "display_data"
    },
    {
     "name": "stdout",
     "output_type": "stream",
     "text": [
      "{'eval_loss': 1.3780843019485474, 'eval_runtime': 0.976, 'eval_samples_per_second': 5.123, 'eval_steps_per_second': 1.025, 'epoch': 2.89}\n",
      "{'loss': 0.5834, 'learning_rate': 6.493266994303082e-08, 'epoch': 2.89}\n"
     ]
    },
    {
     "data": {
      "application/vnd.jupyter.widget-view+json": {
       "model_id": "06e3051373864189aba6699cd95c7726",
       "version_major": 2,
       "version_minor": 0
      },
      "text/plain": [
       "  0%|          | 0/1 [00:00<?, ?it/s]"
      ]
     },
     "metadata": {},
     "output_type": "display_data"
    },
    {
     "name": "stdout",
     "output_type": "stream",
     "text": [
      "{'eval_loss': 1.378085732460022, 'eval_runtime': 1.0292, 'eval_samples_per_second': 4.858, 'eval_steps_per_second': 0.972, 'epoch': 2.89}\n",
      "{'loss': 0.4265, 'learning_rate': 5.7525330193489715e-08, 'epoch': 2.9}\n"
     ]
    },
    {
     "data": {
      "application/vnd.jupyter.widget-view+json": {
       "model_id": "d1d79a79ee424c3a85e4f34c9e326f28",
       "version_major": 2,
       "version_minor": 0
      },
      "text/plain": [
       "  0%|          | 0/1 [00:00<?, ?it/s]"
      ]
     },
     "metadata": {},
     "output_type": "display_data"
    },
    {
     "name": "stdout",
     "output_type": "stream",
     "text": [
      "{'eval_loss': 1.378101110458374, 'eval_runtime': 0.9935, 'eval_samples_per_second': 5.033, 'eval_steps_per_second': 1.007, 'epoch': 2.9}\n",
      "{'loss': 0.6834, 'learning_rate': 5.056524918576777e-08, 'epoch': 2.91}\n"
     ]
    },
    {
     "data": {
      "application/vnd.jupyter.widget-view+json": {
       "model_id": "99e931224c644028ac25b165b024adf3",
       "version_major": 2,
       "version_minor": 0
      },
      "text/plain": [
       "  0%|          | 0/1 [00:00<?, ?it/s]"
      ]
     },
     "metadata": {},
     "output_type": "display_data"
    },
    {
     "name": "stdout",
     "output_type": "stream",
     "text": [
      "{'eval_loss': 1.3780971765518188, 'eval_runtime': 1.0924, 'eval_samples_per_second': 4.577, 'eval_steps_per_second': 0.915, 'epoch': 2.91}\n",
      "{'loss': 0.6806, 'learning_rate': 4.405274001667126e-08, 'epoch': 2.91}\n"
     ]
    },
    {
     "data": {
      "application/vnd.jupyter.widget-view+json": {
       "model_id": "1248cd87f0594cd198b9cea37147012e",
       "version_major": 2,
       "version_minor": 0
      },
      "text/plain": [
       "  0%|          | 0/1 [00:00<?, ?it/s]"
      ]
     },
     "metadata": {},
     "output_type": "display_data"
    },
    {
     "name": "stdout",
     "output_type": "stream",
     "text": [
      "{'eval_loss': 1.3780922889709473, 'eval_runtime': 0.9996, 'eval_samples_per_second': 5.002, 'eval_steps_per_second': 1.0, 'epoch': 2.91}\n",
      "{'loss': 0.6396, 'learning_rate': 3.7988095649146294e-08, 'epoch': 2.92}\n"
     ]
    },
    {
     "data": {
      "application/vnd.jupyter.widget-view+json": {
       "model_id": "266f5abd386546558de266e9476d536e",
       "version_major": 2,
       "version_minor": 0
      },
      "text/plain": [
       "  0%|          | 0/1 [00:00<?, ?it/s]"
      ]
     },
     "metadata": {},
     "output_type": "display_data"
    },
    {
     "name": "stdout",
     "output_type": "stream",
     "text": [
      "{'eval_loss': 1.378089427947998, 'eval_runtime': 1.0622, 'eval_samples_per_second': 4.707, 'eval_steps_per_second': 0.941, 'epoch': 2.92}\n",
      "{'loss': 0.5687, 'learning_rate': 3.237158889909386e-08, 'epoch': 2.93}\n"
     ]
    },
    {
     "data": {
      "application/vnd.jupyter.widget-view+json": {
       "model_id": "6e3a5e27e1214c34b0a276c931e6c142",
       "version_major": 2,
       "version_minor": 0
      },
      "text/plain": [
       "  0%|          | 0/1 [00:00<?, ?it/s]"
      ]
     },
     "metadata": {},
     "output_type": "display_data"
    },
    {
     "name": "stdout",
     "output_type": "stream",
     "text": [
      "{'eval_loss': 1.3780953884124756, 'eval_runtime': 1.0859, 'eval_samples_per_second': 4.604, 'eval_steps_per_second': 0.921, 'epoch': 2.93}\n",
      "{'loss': 0.5708, 'learning_rate': 2.7203472423106282e-08, 'epoch': 2.93}\n"
     ]
    },
    {
     "data": {
      "application/vnd.jupyter.widget-view+json": {
       "model_id": "b22cbda89694450db1520a19ebbc85fa",
       "version_major": 2,
       "version_minor": 0
      },
      "text/plain": [
       "  0%|          | 0/1 [00:00<?, ?it/s]"
      ]
     },
     "metadata": {},
     "output_type": "display_data"
    },
    {
     "name": "stdout",
     "output_type": "stream",
     "text": [
      "{'eval_loss': 1.3780986070632935, 'eval_runtime': 1.0087, 'eval_samples_per_second': 4.957, 'eval_steps_per_second': 0.991, 'epoch': 2.93}\n",
      "{'loss': 0.8792, 'learning_rate': 2.2483978707091846e-08, 'epoch': 2.94}\n"
     ]
    },
    {
     "data": {
      "application/vnd.jupyter.widget-view+json": {
       "model_id": "f9fd77bec62649c9899acc83fcd6aeae",
       "version_major": 2,
       "version_minor": 0
      },
      "text/plain": [
       "  0%|          | 0/1 [00:00<?, ?it/s]"
      ]
     },
     "metadata": {},
     "output_type": "display_data"
    },
    {
     "name": "stdout",
     "output_type": "stream",
     "text": [
      "{'eval_loss': 1.378091812133789, 'eval_runtime': 1.0785, 'eval_samples_per_second': 4.636, 'eval_steps_per_second': 0.927, 'epoch': 2.94}\n",
      "{'loss': 0.9435, 'learning_rate': 1.8213320055824324e-08, 'epoch': 2.94}\n"
     ]
    },
    {
     "data": {
      "application/vnd.jupyter.widget-view+json": {
       "model_id": "84fb16c78ebf46e198b870a2f7f3bb17",
       "version_major": 2,
       "version_minor": 0
      },
      "text/plain": [
       "  0%|          | 0/1 [00:00<?, ?it/s]"
      ]
     },
     "metadata": {},
     "output_type": "display_data"
    },
    {
     "name": "stdout",
     "output_type": "stream",
     "text": [
      "{'eval_loss': 1.3780773878097534, 'eval_runtime': 1.0001, 'eval_samples_per_second': 4.999, 'eval_steps_per_second': 1.0, 'epoch': 2.94}\n",
      "{'loss': 0.5223, 'learning_rate': 1.4391688583386133e-08, 'epoch': 2.95}\n"
     ]
    },
    {
     "data": {
      "application/vnd.jupyter.widget-view+json": {
       "model_id": "42bf7a91e3ac4804bb6d06fb6a29f0ba",
       "version_major": 2,
       "version_minor": 0
      },
      "text/plain": [
       "  0%|          | 0/1 [00:00<?, ?it/s]"
      ]
     },
     "metadata": {},
     "output_type": "display_data"
    },
    {
     "name": "stdout",
     "output_type": "stream",
     "text": [
      "{'eval_loss': 1.3780698776245117, 'eval_runtime': 0.9771, 'eval_samples_per_second': 5.117, 'eval_steps_per_second': 1.023, 'epoch': 2.95}\n",
      "{'loss': 0.7868, 'learning_rate': 1.1019256204533036e-08, 'epoch': 2.96}\n"
     ]
    },
    {
     "data": {
      "application/vnd.jupyter.widget-view+json": {
       "model_id": "0265559d2e6b438abb312a72939ba7c3",
       "version_major": 2,
       "version_minor": 0
      },
      "text/plain": [
       "  0%|          | 0/1 [00:00<?, ?it/s]"
      ]
     },
     "metadata": {},
     "output_type": "display_data"
    },
    {
     "name": "stdout",
     "output_type": "stream",
     "text": [
      "{'eval_loss': 1.3780648708343506, 'eval_runtime': 1.0164, 'eval_samples_per_second': 4.919, 'eval_steps_per_second': 0.984, 'epoch': 2.96}\n",
      "{'loss': 0.5674, 'learning_rate': 8.096174626952558e-09, 'epoch': 2.96}\n"
     ]
    },
    {
     "data": {
      "application/vnd.jupyter.widget-view+json": {
       "model_id": "1b9bc132af62438ab31671a6c88610e3",
       "version_major": 2,
       "version_minor": 0
      },
      "text/plain": [
       "  0%|          | 0/1 [00:00<?, ?it/s]"
      ]
     },
     "metadata": {},
     "output_type": "display_data"
    },
    {
     "name": "stdout",
     "output_type": "stream",
     "text": [
      "{'eval_loss': 1.3780648708343506, 'eval_runtime': 1.0242, 'eval_samples_per_second': 4.882, 'eval_steps_per_second': 0.976, 'epoch': 2.96}\n",
      "{'loss': 0.6398, 'learning_rate': 5.622575344448322e-09, 'epoch': 2.97}\n"
     ]
    },
    {
     "data": {
      "application/vnd.jupyter.widget-view+json": {
       "model_id": "d134355f36d64e59b6adc9e9f77fd6e2",
       "version_major": 2,
       "version_minor": 0
      },
      "text/plain": [
       "  0%|          | 0/1 [00:00<?, ?it/s]"
      ]
     },
     "metadata": {},
     "output_type": "display_data"
    },
    {
     "name": "stdout",
     "output_type": "stream",
     "text": [
      "{'eval_loss': 1.3780649900436401, 'eval_runtime': 0.9969, 'eval_samples_per_second': 5.015, 'eval_steps_per_second': 1.003, 'epoch': 2.97}\n",
      "{'loss': 0.4459, 'learning_rate': 3.5985696310159024e-09, 'epoch': 2.98}\n"
     ]
    },
    {
     "data": {
      "application/vnd.jupyter.widget-view+json": {
       "model_id": "8973e92c55e04ef7acbb0d0b786364f2",
       "version_major": 2,
       "version_minor": 0
      },
      "text/plain": [
       "  0%|          | 0/1 [00:00<?, ?it/s]"
      ]
     },
     "metadata": {},
     "output_type": "display_data"
    },
    {
     "name": "stdout",
     "output_type": "stream",
     "text": [
      "{'eval_loss': 1.378064751625061, 'eval_runtime': 0.986, 'eval_samples_per_second': 5.071, 'eval_steps_per_second': 1.014, 'epoch': 2.98}\n",
      "{'loss': 0.6396, 'learning_rate': 2.0242485358445974e-09, 'epoch': 2.98}\n"
     ]
    },
    {
     "data": {
      "application/vnd.jupyter.widget-view+json": {
       "model_id": "2d4540b09f9944eeb2033ba38bf081f0",
       "version_major": 2,
       "version_minor": 0
      },
      "text/plain": [
       "  0%|          | 0/1 [00:00<?, ?it/s]"
      ]
     },
     "metadata": {},
     "output_type": "display_data"
    },
    {
     "name": "stdout",
     "output_type": "stream",
     "text": [
      "{'eval_loss': 1.3780651092529297, 'eval_runtime': 1.0441, 'eval_samples_per_second': 4.789, 'eval_steps_per_second': 0.958, 'epoch': 2.98}\n",
      "{'loss': 0.8958, 'learning_rate': 8.996828792184886e-10, 'epoch': 2.99}\n"
     ]
    },
    {
     "data": {
      "application/vnd.jupyter.widget-view+json": {
       "model_id": "625d36040968480d8ae88bdff86486b2",
       "version_major": 2,
       "version_minor": 0
      },
      "text/plain": [
       "  0%|          | 0/1 [00:00<?, ?it/s]"
      ]
     },
     "metadata": {},
     "output_type": "display_data"
    },
    {
     "name": "stdout",
     "output_type": "stream",
     "text": [
      "{'eval_loss': 1.3780642747879028, 'eval_runtime': 0.9774, 'eval_samples_per_second': 5.116, 'eval_steps_per_second': 1.023, 'epoch': 2.99}\n",
      "{'loss': 0.5641, 'learning_rate': 2.2492324932787968e-10, 'epoch': 2.99}\n"
     ]
    },
    {
     "data": {
      "application/vnd.jupyter.widget-view+json": {
       "model_id": "4283e12cbb3b47c190677ae382449fee",
       "version_major": 2,
       "version_minor": 0
      },
      "text/plain": [
       "  0%|          | 0/1 [00:00<?, ?it/s]"
      ]
     },
     "metadata": {},
     "output_type": "display_data"
    },
    {
     "name": "stdout",
     "output_type": "stream",
     "text": [
      "{'eval_loss': 1.3780640363693237, 'eval_runtime': 1.0232, 'eval_samples_per_second': 4.887, 'eval_steps_per_second': 0.977, 'epoch': 2.99}\n",
      "{'loss': 0.7367, 'learning_rate': 0.0, 'epoch': 3.0}\n"
     ]
    },
    {
     "data": {
      "application/vnd.jupyter.widget-view+json": {
       "model_id": "a6698bd327e644728687ee70a6f83d4f",
       "version_major": 2,
       "version_minor": 0
      },
      "text/plain": [
       "  0%|          | 0/1 [00:00<?, ?it/s]"
      ]
     },
     "metadata": {},
     "output_type": "display_data"
    },
    {
     "name": "stdout",
     "output_type": "stream",
     "text": [
      "{'eval_loss': 1.3780639171600342, 'eval_runtime': 1.0988, 'eval_samples_per_second': 4.551, 'eval_steps_per_second': 0.91, 'epoch': 3.0}\n",
      "{'train_runtime': 4477.1981, 'train_samples_per_second': 0.539, 'train_steps_per_second': 0.539, 'train_loss': 1.1731945971771303, 'epoch': 3.0}\n"
     ]
    },
    {
     "data": {
      "application/vnd.jupyter.widget-view+json": {
       "model_id": "6f4453730fd94ca9a087b98b98e77353",
       "version_major": 2,
       "version_minor": 0
      },
      "text/plain": [
       "adapter_model.bin:   0%|          | 0.00/170M [00:00<?, ?B/s]"
      ]
     },
     "metadata": {},
     "output_type": "display_data"
    },
    {
     "data": {
      "text/plain": [
       "CommitInfo(commit_url='https://huggingface.co/StarkWizard/Mistral-7b-instruct-cairo-PEFT/commit/0ba48a99f126d5d3ddc56b4c73e8aac835ecc5f3', commit_message='Upload model', commit_description='', oid='0ba48a99f126d5d3ddc56b4c73e8aac835ecc5f3', pr_url=None, pr_revision=None, pr_num=None)"
      ]
     },
     "execution_count": 6,
     "metadata": {},
     "output_type": "execute_result"
    }
   ],
   "source": [
    "\n",
    "trainer.train()\n",
    "trainer.model.push_to_hub(new_model)"
   ]
  }
 ],
 "metadata": {
  "kernelspec": {
   "display_name": "cairo-code",
   "language": "python",
   "name": "python3"
  },
  "language_info": {
   "codemirror_mode": {
    "name": "ipython",
    "version": 3
   },
   "file_extension": ".py",
   "mimetype": "text/x-python",
   "name": "python",
   "nbconvert_exporter": "python",
   "pygments_lexer": "ipython3",
   "version": "3.9.18"
  }
 },
 "nbformat": 4,
 "nbformat_minor": 2
}
