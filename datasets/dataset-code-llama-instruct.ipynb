{
 "cells": [
  {
   "cell_type": "markdown",
   "metadata": {},
   "source": [
    "Login is required to push to HFace"
   ]
  },
  {
   "cell_type": "code",
   "execution_count": 1,
   "metadata": {},
   "outputs": [
    {
     "data": {
      "application/vnd.jupyter.widget-view+json": {
       "model_id": "b688407512a94d8c84170ac9121be265",
       "version_major": 2,
       "version_minor": 0
      },
      "text/plain": [
       "VBox(children=(HTML(value='<center> <img\\nsrc=https://huggingface.co/front/assets/huggingface_logo-noborder.sv…"
      ]
     },
     "metadata": {},
     "output_type": "display_data"
    }
   ],
   "source": [
    "from huggingface_hub import notebook_login\n",
    "notebook_login()"
   ]
  },
  {
   "cell_type": "markdown",
   "metadata": {},
   "source": [
    "Loads the CSV in corpus and format for code Llama Instruct"
   ]
  },
  {
   "cell_type": "code",
   "execution_count": 6,
   "metadata": {},
   "outputs": [
    {
     "name": "stderr",
     "output_type": "stream",
     "text": [
      "Processing subdirectories: 100%|██████████| 2/2 [00:00<00:00, 24.49it/s]\n"
     ]
    },
    {
     "name": "stdout",
     "output_type": "stream",
     "text": [
      "Number of dataframes created: 2\n",
      "Number of CSV files read for 'train' dataframe: 68\n",
      "Number of CSV files read for 'eval' dataframe: 1\n",
      "Generating prompt for dataset 'train':\n",
      "Generating prompt for dataset 'eval':\n"
     ]
    },
    {
     "data": {
      "application/vnd.jupyter.widget-view+json": {
       "model_id": "972bbbb47f8440638f70e19931eae7ad",
       "version_major": 2,
       "version_minor": 0
      },
      "text/plain": [
       "Pushing dataset shards to the dataset hub:   0%|          | 0/1 [00:00<?, ?it/s]"
      ]
     },
     "metadata": {},
     "output_type": "display_data"
    },
    {
     "data": {
      "application/vnd.jupyter.widget-view+json": {
       "model_id": "14e9ed8baafc4371be254d39e714dca2",
       "version_major": 2,
       "version_minor": 0
      },
      "text/plain": [
       "Creating parquet from Arrow format:   0%|          | 0/4 [00:00<?, ?ba/s]"
      ]
     },
     "metadata": {},
     "output_type": "display_data"
    },
    {
     "data": {
      "application/vnd.jupyter.widget-view+json": {
       "model_id": "57e5aa9ffcef4185855bace0c9317d9f",
       "version_major": 2,
       "version_minor": 0
      },
      "text/plain": [
       "Deleting unused files from dataset repository:   0%|          | 0/1 [00:00<?, ?it/s]"
      ]
     },
     "metadata": {},
     "output_type": "display_data"
    },
    {
     "name": "stdout",
     "output_type": "stream",
     "text": [
      "Error: Invalid arguments provided.\n"
     ]
    }
   ],
   "source": [
    "from neowGen import datasetGenerator\n",
    "\n",
    "dg = datasetGenerator(\"code llama instruct\")\n",
    "#we add a context to each line in order to specify we're working in Cairo\n",
    "dg.setlocalContext(\"In Cairo: \")\n",
    "if dg.generate_from_corpus(\"../corpus_src\"):\n",
    "    dg.generate_dataset()\n",
    "    dg.push_to_hub(\"StarkWizard/cairo-instruct\")\n",
    "\n"
   ]
  },
  {
   "cell_type": "markdown",
   "metadata": {},
   "source": [
    "To make sure it is properly working, we can display the training data"
   ]
  },
  {
   "cell_type": "code",
   "execution_count": 7,
   "metadata": {},
   "outputs": [
    {
     "data": {
      "text/html": [
       "<div>\n",
       "<style scoped>\n",
       "    .dataframe tbody tr th:only-of-type {\n",
       "        vertical-align: middle;\n",
       "    }\n",
       "\n",
       "    .dataframe tbody tr th {\n",
       "        vertical-align: top;\n",
       "    }\n",
       "\n",
       "    .dataframe thead th {\n",
       "        text-align: right;\n",
       "    }\n",
       "</style>\n",
       "<table border=\"1\" class=\"dataframe\">\n",
       "  <thead>\n",
       "    <tr style=\"text-align: right;\">\n",
       "      <th></th>\n",
       "      <th>text</th>\n",
       "    </tr>\n",
       "  </thead>\n",
       "  <tbody>\n",
       "    <tr>\n",
       "      <th>0</th>\n",
       "      <td>&lt;s&gt;[INST]In Cairo:  How is functionality bluep...</td>\n",
       "    </tr>\n",
       "    <tr>\n",
       "      <th>1</th>\n",
       "      <td>&lt;s&gt;[INST]In Cairo:  How do you define a trait ...</td>\n",
       "    </tr>\n",
       "    <tr>\n",
       "      <th>2</th>\n",
       "      <td>&lt;s&gt;[INST]In Cairo:  How do you implement a tra...</td>\n",
       "    </tr>\n",
       "    <tr>\n",
       "      <th>3</th>\n",
       "      <td>&lt;s&gt;[INST]In Cairo:  Can you provide an example...</td>\n",
       "    </tr>\n",
       "    <tr>\n",
       "      <th>4</th>\n",
       "      <td>&lt;s&gt;[INST]In Cairo:  What does the #[generate_t...</td>\n",
       "    </tr>\n",
       "    <tr>\n",
       "      <th>...</th>\n",
       "      <td>...</td>\n",
       "    </tr>\n",
       "    <tr>\n",
       "      <th>3257</th>\n",
       "      <td>&lt;s&gt;[INST]In Cairo:  What would be the output i...</td>\n",
       "    </tr>\n",
       "    <tr>\n",
       "      <th>3258</th>\n",
       "      <td>&lt;s&gt;[INST]In Cairo:  How does a series of `if` ...</td>\n",
       "    </tr>\n",
       "    <tr>\n",
       "      <th>3259</th>\n",
       "      <td>&lt;s&gt;[INST]In Cairo:  Why might it be beneficial...</td>\n",
       "    </tr>\n",
       "    <tr>\n",
       "      <th>3260</th>\n",
       "      <td>&lt;s&gt;[INST]In Cairo:  How can you specify a bloc...</td>\n",
       "    </tr>\n",
       "    <tr>\n",
       "      <th>3261</th>\n",
       "      <td>&lt;s&gt;[INST]In Cairo:  How do I get the caller ad...</td>\n",
       "    </tr>\n",
       "  </tbody>\n",
       "</table>\n",
       "<p>3262 rows × 1 columns</p>\n",
       "</div>"
      ],
      "text/plain": [
       "                                                   text\n",
       "0     <s>[INST]In Cairo:  How is functionality bluep...\n",
       "1     <s>[INST]In Cairo:  How do you define a trait ...\n",
       "2     <s>[INST]In Cairo:  How do you implement a tra...\n",
       "3     <s>[INST]In Cairo:  Can you provide an example...\n",
       "4     <s>[INST]In Cairo:  What does the #[generate_t...\n",
       "...                                                 ...\n",
       "3257  <s>[INST]In Cairo:  What would be the output i...\n",
       "3258  <s>[INST]In Cairo:  How does a series of `if` ...\n",
       "3259  <s>[INST]In Cairo:  Why might it be beneficial...\n",
       "3260  <s>[INST]In Cairo:  How can you specify a bloc...\n",
       "3261  <s>[INST]In Cairo:  How do I get the caller ad...\n",
       "\n",
       "[3262 rows x 1 columns]"
      ]
     },
     "metadata": {},
     "output_type": "display_data"
    }
   ],
   "source": [
    "display(dg.dataframes[\"train\"])"
   ]
  }
 ],
 "metadata": {
  "kernelspec": {
   "display_name": "cairo-code",
   "language": "python",
   "name": "python3"
  },
  "language_info": {
   "codemirror_mode": {
    "name": "ipython",
    "version": 3
   },
   "file_extension": ".py",
   "mimetype": "text/x-python",
   "name": "python",
   "nbconvert_exporter": "python",
   "pygments_lexer": "ipython3",
   "version": "3.9.18"
  }
 },
 "nbformat": 4,
 "nbformat_minor": 2
}
